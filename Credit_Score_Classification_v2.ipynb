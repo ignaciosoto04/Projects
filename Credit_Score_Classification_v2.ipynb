{
  "nbformat": 4,
  "nbformat_minor": 0,
  "metadata": {
    "colab": {
      "name": "Credit_Score_Classification_v2.ipynb",
      "provenance": [],
      "collapsed_sections": [],
      "authorship_tag": "ABX9TyMxc9HEDgM3ZJekVhS9ewKi",
      "include_colab_link": true
    },
    "kernelspec": {
      "name": "python3",
      "display_name": "Python 3"
    },
    "language_info": {
      "name": "python"
    }
  },
  "cells": [
    {
      "cell_type": "markdown",
      "metadata": {
        "id": "view-in-github",
        "colab_type": "text"
      },
      "source": [
        "<a href=\"https://colab.research.google.com/github/ignaciosoto04/Projects/blob/main/Credit_Score_Classification_v2.ipynb\" target=\"_parent\"><img src=\"https://colab.research.google.com/assets/colab-badge.svg\" alt=\"Open In Colab\"/></a>"
      ]
    },
    {
      "cell_type": "markdown",
      "source": [
        "Import Libraries"
      ],
      "metadata": {
        "id": "Kck3cVKXCydD"
      }
    },
    {
      "cell_type": "code",
      "execution_count": 87,
      "metadata": {
        "id": "B_wfhJY5z4XV"
      },
      "outputs": [],
      "source": [
        "import numpy as np\n",
        "import pandas as pd"
      ]
    },
    {
      "cell_type": "markdown",
      "source": [
        "Read the data"
      ],
      "metadata": {
        "id": "ALtEiOOMC1x-"
      }
    },
    {
      "cell_type": "code",
      "source": [
        "credit_info = pd.read_csv('CreditInformation.csv')\n",
        "credit_info.head()"
      ],
      "metadata": {
        "colab": {
          "base_uri": "https://localhost:8080/",
          "height": 508
        },
        "id": "yKLwV15Kz9m1",
        "outputId": "286b12af-e524-4739-df97-7e4ecf7328da"
      },
      "execution_count": 88,
      "outputs": [
        {
          "output_type": "stream",
          "name": "stderr",
          "text": [
            "/usr/local/lib/python3.7/dist-packages/IPython/core/interactiveshell.py:2882: DtypeWarning: Columns (26) have mixed types.Specify dtype option on import or set low_memory=False.\n",
            "  exec(code_obj, self.user_global_ns, self.user_ns)\n"
          ]
        },
        {
          "output_type": "execute_result",
          "data": {
            "text/plain": [
              "       ID Customer_ID     Month           Name   Age          SSN Occupation  \\\n",
              "0  0x1602   CUS_0xd40   January  Aaron Maashoh    23  821-00-0265  Scientist   \n",
              "1  0x1603   CUS_0xd40  February  Aaron Maashoh    23  821-00-0265  Scientist   \n",
              "2  0x1604   CUS_0xd40     March  Aaron Maashoh  -500  821-00-0265  Scientist   \n",
              "3  0x1605   CUS_0xd40     April  Aaron Maashoh    23  821-00-0265  Scientist   \n",
              "4  0x1606   CUS_0xd40       May  Aaron Maashoh    23  821-00-0265  Scientist   \n",
              "\n",
              "  Annual_Income  Monthly_Inhand_Salary  Num_Bank_Accounts  ...  Credit_Mix  \\\n",
              "0      19114.12            1824.843333                  3  ...           _   \n",
              "1      19114.12                    NaN                  3  ...        Good   \n",
              "2      19114.12                    NaN                  3  ...        Good   \n",
              "3      19114.12                    NaN                  3  ...        Good   \n",
              "4      19114.12            1824.843333                  3  ...        Good   \n",
              "\n",
              "   Outstanding_Debt Credit_Utilization_Ratio     Credit_History_Age  \\\n",
              "0            809.98                26.822620  22 Years and 1 Months   \n",
              "1            809.98                31.944960                    NaN   \n",
              "2            809.98                28.609352  22 Years and 3 Months   \n",
              "3            809.98                31.377862  22 Years and 4 Months   \n",
              "4            809.98                24.797347  22 Years and 5 Months   \n",
              "\n",
              "   Payment_of_Min_Amount Total_EMI_per_month Amount_invested_monthly  \\\n",
              "0                     No           49.574949             80.41529544   \n",
              "1                     No           49.574949             118.2802216   \n",
              "2                     No           49.574949             81.69952126   \n",
              "3                     No           49.574949             199.4580744   \n",
              "4                     No           49.574949             41.42015309   \n",
              "\n",
              "                  Payment_Behaviour Monthly_Balance Credit_Score  \n",
              "0   High_spent_Small_value_payments     312.4940887         Good  \n",
              "1    Low_spent_Large_value_payments     284.6291625         Good  \n",
              "2   Low_spent_Medium_value_payments     331.2098629         Good  \n",
              "3    Low_spent_Small_value_payments     223.4513097         Good  \n",
              "4  High_spent_Medium_value_payments      341.489231         Good  \n",
              "\n",
              "[5 rows x 28 columns]"
            ],
            "text/html": [
              "\n",
              "  <div id=\"df-b024da8c-55a6-40db-8b29-1685f82cf95e\">\n",
              "    <div class=\"colab-df-container\">\n",
              "      <div>\n",
              "<style scoped>\n",
              "    .dataframe tbody tr th:only-of-type {\n",
              "        vertical-align: middle;\n",
              "    }\n",
              "\n",
              "    .dataframe tbody tr th {\n",
              "        vertical-align: top;\n",
              "    }\n",
              "\n",
              "    .dataframe thead th {\n",
              "        text-align: right;\n",
              "    }\n",
              "</style>\n",
              "<table border=\"1\" class=\"dataframe\">\n",
              "  <thead>\n",
              "    <tr style=\"text-align: right;\">\n",
              "      <th></th>\n",
              "      <th>ID</th>\n",
              "      <th>Customer_ID</th>\n",
              "      <th>Month</th>\n",
              "      <th>Name</th>\n",
              "      <th>Age</th>\n",
              "      <th>SSN</th>\n",
              "      <th>Occupation</th>\n",
              "      <th>Annual_Income</th>\n",
              "      <th>Monthly_Inhand_Salary</th>\n",
              "      <th>Num_Bank_Accounts</th>\n",
              "      <th>...</th>\n",
              "      <th>Credit_Mix</th>\n",
              "      <th>Outstanding_Debt</th>\n",
              "      <th>Credit_Utilization_Ratio</th>\n",
              "      <th>Credit_History_Age</th>\n",
              "      <th>Payment_of_Min_Amount</th>\n",
              "      <th>Total_EMI_per_month</th>\n",
              "      <th>Amount_invested_monthly</th>\n",
              "      <th>Payment_Behaviour</th>\n",
              "      <th>Monthly_Balance</th>\n",
              "      <th>Credit_Score</th>\n",
              "    </tr>\n",
              "  </thead>\n",
              "  <tbody>\n",
              "    <tr>\n",
              "      <th>0</th>\n",
              "      <td>0x1602</td>\n",
              "      <td>CUS_0xd40</td>\n",
              "      <td>January</td>\n",
              "      <td>Aaron Maashoh</td>\n",
              "      <td>23</td>\n",
              "      <td>821-00-0265</td>\n",
              "      <td>Scientist</td>\n",
              "      <td>19114.12</td>\n",
              "      <td>1824.843333</td>\n",
              "      <td>3</td>\n",
              "      <td>...</td>\n",
              "      <td>_</td>\n",
              "      <td>809.98</td>\n",
              "      <td>26.822620</td>\n",
              "      <td>22 Years and 1 Months</td>\n",
              "      <td>No</td>\n",
              "      <td>49.574949</td>\n",
              "      <td>80.41529544</td>\n",
              "      <td>High_spent_Small_value_payments</td>\n",
              "      <td>312.4940887</td>\n",
              "      <td>Good</td>\n",
              "    </tr>\n",
              "    <tr>\n",
              "      <th>1</th>\n",
              "      <td>0x1603</td>\n",
              "      <td>CUS_0xd40</td>\n",
              "      <td>February</td>\n",
              "      <td>Aaron Maashoh</td>\n",
              "      <td>23</td>\n",
              "      <td>821-00-0265</td>\n",
              "      <td>Scientist</td>\n",
              "      <td>19114.12</td>\n",
              "      <td>NaN</td>\n",
              "      <td>3</td>\n",
              "      <td>...</td>\n",
              "      <td>Good</td>\n",
              "      <td>809.98</td>\n",
              "      <td>31.944960</td>\n",
              "      <td>NaN</td>\n",
              "      <td>No</td>\n",
              "      <td>49.574949</td>\n",
              "      <td>118.2802216</td>\n",
              "      <td>Low_spent_Large_value_payments</td>\n",
              "      <td>284.6291625</td>\n",
              "      <td>Good</td>\n",
              "    </tr>\n",
              "    <tr>\n",
              "      <th>2</th>\n",
              "      <td>0x1604</td>\n",
              "      <td>CUS_0xd40</td>\n",
              "      <td>March</td>\n",
              "      <td>Aaron Maashoh</td>\n",
              "      <td>-500</td>\n",
              "      <td>821-00-0265</td>\n",
              "      <td>Scientist</td>\n",
              "      <td>19114.12</td>\n",
              "      <td>NaN</td>\n",
              "      <td>3</td>\n",
              "      <td>...</td>\n",
              "      <td>Good</td>\n",
              "      <td>809.98</td>\n",
              "      <td>28.609352</td>\n",
              "      <td>22 Years and 3 Months</td>\n",
              "      <td>No</td>\n",
              "      <td>49.574949</td>\n",
              "      <td>81.69952126</td>\n",
              "      <td>Low_spent_Medium_value_payments</td>\n",
              "      <td>331.2098629</td>\n",
              "      <td>Good</td>\n",
              "    </tr>\n",
              "    <tr>\n",
              "      <th>3</th>\n",
              "      <td>0x1605</td>\n",
              "      <td>CUS_0xd40</td>\n",
              "      <td>April</td>\n",
              "      <td>Aaron Maashoh</td>\n",
              "      <td>23</td>\n",
              "      <td>821-00-0265</td>\n",
              "      <td>Scientist</td>\n",
              "      <td>19114.12</td>\n",
              "      <td>NaN</td>\n",
              "      <td>3</td>\n",
              "      <td>...</td>\n",
              "      <td>Good</td>\n",
              "      <td>809.98</td>\n",
              "      <td>31.377862</td>\n",
              "      <td>22 Years and 4 Months</td>\n",
              "      <td>No</td>\n",
              "      <td>49.574949</td>\n",
              "      <td>199.4580744</td>\n",
              "      <td>Low_spent_Small_value_payments</td>\n",
              "      <td>223.4513097</td>\n",
              "      <td>Good</td>\n",
              "    </tr>\n",
              "    <tr>\n",
              "      <th>4</th>\n",
              "      <td>0x1606</td>\n",
              "      <td>CUS_0xd40</td>\n",
              "      <td>May</td>\n",
              "      <td>Aaron Maashoh</td>\n",
              "      <td>23</td>\n",
              "      <td>821-00-0265</td>\n",
              "      <td>Scientist</td>\n",
              "      <td>19114.12</td>\n",
              "      <td>1824.843333</td>\n",
              "      <td>3</td>\n",
              "      <td>...</td>\n",
              "      <td>Good</td>\n",
              "      <td>809.98</td>\n",
              "      <td>24.797347</td>\n",
              "      <td>22 Years and 5 Months</td>\n",
              "      <td>No</td>\n",
              "      <td>49.574949</td>\n",
              "      <td>41.42015309</td>\n",
              "      <td>High_spent_Medium_value_payments</td>\n",
              "      <td>341.489231</td>\n",
              "      <td>Good</td>\n",
              "    </tr>\n",
              "  </tbody>\n",
              "</table>\n",
              "<p>5 rows × 28 columns</p>\n",
              "</div>\n",
              "      <button class=\"colab-df-convert\" onclick=\"convertToInteractive('df-b024da8c-55a6-40db-8b29-1685f82cf95e')\"\n",
              "              title=\"Convert this dataframe to an interactive table.\"\n",
              "              style=\"display:none;\">\n",
              "        \n",
              "  <svg xmlns=\"http://www.w3.org/2000/svg\" height=\"24px\"viewBox=\"0 0 24 24\"\n",
              "       width=\"24px\">\n",
              "    <path d=\"M0 0h24v24H0V0z\" fill=\"none\"/>\n",
              "    <path d=\"M18.56 5.44l.94 2.06.94-2.06 2.06-.94-2.06-.94-.94-2.06-.94 2.06-2.06.94zm-11 1L8.5 8.5l.94-2.06 2.06-.94-2.06-.94L8.5 2.5l-.94 2.06-2.06.94zm10 10l.94 2.06.94-2.06 2.06-.94-2.06-.94-.94-2.06-.94 2.06-2.06.94z\"/><path d=\"M17.41 7.96l-1.37-1.37c-.4-.4-.92-.59-1.43-.59-.52 0-1.04.2-1.43.59L10.3 9.45l-7.72 7.72c-.78.78-.78 2.05 0 2.83L4 21.41c.39.39.9.59 1.41.59.51 0 1.02-.2 1.41-.59l7.78-7.78 2.81-2.81c.8-.78.8-2.07 0-2.86zM5.41 20L4 18.59l7.72-7.72 1.47 1.35L5.41 20z\"/>\n",
              "  </svg>\n",
              "      </button>\n",
              "      \n",
              "  <style>\n",
              "    .colab-df-container {\n",
              "      display:flex;\n",
              "      flex-wrap:wrap;\n",
              "      gap: 12px;\n",
              "    }\n",
              "\n",
              "    .colab-df-convert {\n",
              "      background-color: #E8F0FE;\n",
              "      border: none;\n",
              "      border-radius: 50%;\n",
              "      cursor: pointer;\n",
              "      display: none;\n",
              "      fill: #1967D2;\n",
              "      height: 32px;\n",
              "      padding: 0 0 0 0;\n",
              "      width: 32px;\n",
              "    }\n",
              "\n",
              "    .colab-df-convert:hover {\n",
              "      background-color: #E2EBFA;\n",
              "      box-shadow: 0px 1px 2px rgba(60, 64, 67, 0.3), 0px 1px 3px 1px rgba(60, 64, 67, 0.15);\n",
              "      fill: #174EA6;\n",
              "    }\n",
              "\n",
              "    [theme=dark] .colab-df-convert {\n",
              "      background-color: #3B4455;\n",
              "      fill: #D2E3FC;\n",
              "    }\n",
              "\n",
              "    [theme=dark] .colab-df-convert:hover {\n",
              "      background-color: #434B5C;\n",
              "      box-shadow: 0px 1px 3px 1px rgba(0, 0, 0, 0.15);\n",
              "      filter: drop-shadow(0px 1px 2px rgba(0, 0, 0, 0.3));\n",
              "      fill: #FFFFFF;\n",
              "    }\n",
              "  </style>\n",
              "\n",
              "      <script>\n",
              "        const buttonEl =\n",
              "          document.querySelector('#df-b024da8c-55a6-40db-8b29-1685f82cf95e button.colab-df-convert');\n",
              "        buttonEl.style.display =\n",
              "          google.colab.kernel.accessAllowed ? 'block' : 'none';\n",
              "\n",
              "        async function convertToInteractive(key) {\n",
              "          const element = document.querySelector('#df-b024da8c-55a6-40db-8b29-1685f82cf95e');\n",
              "          const dataTable =\n",
              "            await google.colab.kernel.invokeFunction('convertToInteractive',\n",
              "                                                     [key], {});\n",
              "          if (!dataTable) return;\n",
              "\n",
              "          const docLinkHtml = 'Like what you see? Visit the ' +\n",
              "            '<a target=\"_blank\" href=https://colab.research.google.com/notebooks/data_table.ipynb>data table notebook</a>'\n",
              "            + ' to learn more about interactive tables.';\n",
              "          element.innerHTML = '';\n",
              "          dataTable['output_type'] = 'display_data';\n",
              "          await google.colab.output.renderOutput(dataTable, element);\n",
              "          const docLink = document.createElement('div');\n",
              "          docLink.innerHTML = docLinkHtml;\n",
              "          element.appendChild(docLink);\n",
              "        }\n",
              "      </script>\n",
              "    </div>\n",
              "  </div>\n",
              "  "
            ]
          },
          "metadata": {},
          "execution_count": 88
        }
      ]
    },
    {
      "cell_type": "markdown",
      "source": [
        "Check columns"
      ],
      "metadata": {
        "id": "MOK2XCPeHBGI"
      }
    },
    {
      "cell_type": "code",
      "source": [
        "credit_info.columns"
      ],
      "metadata": {
        "colab": {
          "base_uri": "https://localhost:8080/"
        },
        "id": "_BMQMTr53Mff",
        "outputId": "9b326065-fe35-4fe6-aa03-218f6ed3be54"
      },
      "execution_count": 89,
      "outputs": [
        {
          "output_type": "execute_result",
          "data": {
            "text/plain": [
              "Index(['ID', 'Customer_ID', 'Month', 'Name', 'Age', 'SSN', 'Occupation',\n",
              "       'Annual_Income', 'Monthly_Inhand_Salary', 'Num_Bank_Accounts',\n",
              "       'Num_Credit_Card', 'Interest_Rate', 'Num_of_Loan', 'Type_of_Loan',\n",
              "       'Delay_from_due_date', 'Num_of_Delayed_Payment', 'Changed_Credit_Limit',\n",
              "       'Num_Credit_Inquiries', 'Credit_Mix', 'Outstanding_Debt',\n",
              "       'Credit_Utilization_Ratio', 'Credit_History_Age',\n",
              "       'Payment_of_Min_Amount', 'Total_EMI_per_month',\n",
              "       'Amount_invested_monthly', 'Payment_Behaviour', 'Monthly_Balance',\n",
              "       'Credit_Score'],\n",
              "      dtype='object')"
            ]
          },
          "metadata": {},
          "execution_count": 89
        }
      ]
    },
    {
      "cell_type": "markdown",
      "source": [
        "Delete unnecesary columns"
      ],
      "metadata": {
        "id": "jYRBwrMtDDC9"
      }
    },
    {
      "cell_type": "code",
      "source": [
        "credit_info.drop(columns=['Name', 'SSN'], inplace = True)"
      ],
      "metadata": {
        "id": "sJwGYM6A3N7c"
      },
      "execution_count": 90,
      "outputs": []
    },
    {
      "cell_type": "markdown",
      "source": [
        "Set ID as index"
      ],
      "metadata": {
        "id": "0CYWRA2dDEw9"
      }
    },
    {
      "cell_type": "code",
      "source": [
        "credit_info.set_index('ID', inplace = True)"
      ],
      "metadata": {
        "id": "xdbFoT924mir"
      },
      "execution_count": 91,
      "outputs": []
    },
    {
      "cell_type": "markdown",
      "source": [
        "Concise summary of the dataframe"
      ],
      "metadata": {
        "id": "vuk1bYNqC-dK"
      }
    },
    {
      "cell_type": "code",
      "source": [
        "credit_info.info()"
      ],
      "metadata": {
        "colab": {
          "base_uri": "https://localhost:8080/"
        },
        "id": "nd14hVzb4pxE",
        "outputId": "8e3c89ce-13fb-4aba-c60f-b7fa0f512b99"
      },
      "execution_count": 92,
      "outputs": [
        {
          "output_type": "stream",
          "name": "stdout",
          "text": [
            "<class 'pandas.core.frame.DataFrame'>\n",
            "Index: 100000 entries, 0x1602 to 0x25fed\n",
            "Data columns (total 25 columns):\n",
            " #   Column                    Non-Null Count   Dtype  \n",
            "---  ------                    --------------   -----  \n",
            " 0   Customer_ID               100000 non-null  object \n",
            " 1   Month                     100000 non-null  object \n",
            " 2   Age                       100000 non-null  object \n",
            " 3   Occupation                100000 non-null  object \n",
            " 4   Annual_Income             100000 non-null  object \n",
            " 5   Monthly_Inhand_Salary     84998 non-null   float64\n",
            " 6   Num_Bank_Accounts         100000 non-null  int64  \n",
            " 7   Num_Credit_Card           100000 non-null  int64  \n",
            " 8   Interest_Rate             100000 non-null  int64  \n",
            " 9   Num_of_Loan               100000 non-null  object \n",
            " 10  Type_of_Loan              88592 non-null   object \n",
            " 11  Delay_from_due_date       100000 non-null  int64  \n",
            " 12  Num_of_Delayed_Payment    92998 non-null   object \n",
            " 13  Changed_Credit_Limit      100000 non-null  object \n",
            " 14  Num_Credit_Inquiries      98035 non-null   float64\n",
            " 15  Credit_Mix                100000 non-null  object \n",
            " 16  Outstanding_Debt          100000 non-null  object \n",
            " 17  Credit_Utilization_Ratio  100000 non-null  float64\n",
            " 18  Credit_History_Age        90970 non-null   object \n",
            " 19  Payment_of_Min_Amount     100000 non-null  object \n",
            " 20  Total_EMI_per_month       100000 non-null  float64\n",
            " 21  Amount_invested_monthly   95521 non-null   object \n",
            " 22  Payment_Behaviour         100000 non-null  object \n",
            " 23  Monthly_Balance           98800 non-null   object \n",
            " 24  Credit_Score              100000 non-null  object \n",
            "dtypes: float64(4), int64(4), object(17)\n",
            "memory usage: 19.8+ MB\n"
          ]
        }
      ]
    },
    {
      "cell_type": "markdown",
      "source": [
        "Unique values"
      ],
      "metadata": {
        "id": "7gdEYD_IieNR"
      }
    },
    {
      "cell_type": "code",
      "source": [
        "for i in credit_info:\n",
        "  print({i})\n",
        "  print(credit_info[i].unique())\n",
        "  print()"
      ],
      "metadata": {
        "colab": {
          "base_uri": "https://localhost:8080/"
        },
        "id": "QTMB3JStDu6n",
        "outputId": "ee15b471-158a-43e7-cff1-bc2b70c9f8f9"
      },
      "execution_count": 93,
      "outputs": [
        {
          "output_type": "stream",
          "name": "stdout",
          "text": [
            "{'Customer_ID'}\n",
            "['CUS_0xd40' 'CUS_0x21b1' 'CUS_0x2dbc' ... 'CUS_0xaf61' 'CUS_0x8600'\n",
            " 'CUS_0x942c']\n",
            "\n",
            "{'Month'}\n",
            "['January' 'February' 'March' 'April' 'May' 'June' 'July' 'August']\n",
            "\n",
            "{'Age'}\n",
            "['23' '-500' '28_' ... '4808_' '2263' '1342']\n",
            "\n",
            "{'Occupation'}\n",
            "['Scientist' '_______' 'Teacher' 'Engineer' 'Entrepreneur' 'Developer'\n",
            " 'Lawyer' 'Media_Manager' 'Doctor' 'Journalist' 'Manager' 'Accountant'\n",
            " 'Musician' 'Mechanic' 'Writer' 'Architect']\n",
            "\n",
            "{'Annual_Income'}\n",
            "['19114.12' '34847.84' '34847.84_' ... '20002.88' '39628.99' '39628.99_']\n",
            "\n",
            "{'Monthly_Inhand_Salary'}\n",
            "[1824.843333         nan 3037.986667 ... 3097.008333 1929.906667\n",
            " 3359.415833]\n",
            "\n",
            "{'Num_Bank_Accounts'}\n",
            "[   3    2    1    7    4    0    8    5    6    9   10 1414 1231   67\n",
            "  572 1488   91  528 1647 1696 1338  649  889 1668  685  857  975 1496\n",
            " 1534 1620   37 1388 1429 1332 1588  120 1777 1096  803  494  744 1139\n",
            "  831 1613  741  121  665 1748 1644  823 1356 1651   87  711  450  210\n",
            " 1671 1722  648  672 1662 1495  510  666  429 1131 1434  980 1026  526\n",
            "  718 1300 1312 1315  501 1566  480 1042  322  628 1016  333 1265  791\n",
            "  427  563  905 1190 1036 1611   38  619  555 1769  280  752 1201  812\n",
            " 1487  222  212 1019 1222  610 1714 1308  525 1158 1115 1616  754 1601\n",
            "  797 1577  521  703  933  959  809 1089 1656 1113 1715  964 1533 1789\n",
            "  871  434 1295  565 1724  603  677  541  698 1101  464 1539 1462 1011\n",
            " 1257 1727   45  244 1266  897  535  484  331  675  826  946 1675  105\n",
            " 1327  845  549  473  710  527  908   68 1628  371  445 1168  868  687\n",
            "  455 1003   26 1526  618  598  351 1342 1783  683 1557 1335  416 1747\n",
            "  137 1475  373  338  942  170  973 1605 1478  386 1448 1033 1225  596\n",
            " 1731 1214 1481 1105  580  347  108  148 1001 1467 1114 1000  632  246\n",
            " 1032 1394  689  482 1303  720  574  588 1358  650  708  179  844 1140\n",
            "  335   60  732 1494 1436  820   28 1576  818  794  731  534  556  691\n",
            " 1197 1155 1255 1763  769 1124  819  318 1418  882   61  264  194 1798\n",
            "  611  840  505 1110  719 1065  195  584  550 1014 1022  903  976   31\n",
            "  417 1423 1148  616  786 1424   55 1061 1293  342   43 1540  488 1122\n",
            " 1274 1075  722 1268   41  814 1564 1390 1141  497  224 1135  441  374\n",
            "   74  314 1408  475 1015  681 1236   59 1425 1637 1240  299 1657 1123\n",
            " 1091 1264 1561 1632 1562  305 1318 1217 1699 1070  864 1391  112  860\n",
            "  595  229 1624 1051  821 1794 1565  397 1368 1353  508 1725 1413 1239\n",
            "  847 1317  570   -1  302  456  198  122  832  167 1547 1666 1241  275\n",
            "  566 1779  201  334 1169  834 1174 1040  530 1676 1468 1093  706  489\n",
            " 1592  688  830 1784 1543 1600 1178  228  483 1501  950  548  870 1211\n",
            "  604  804  129  540 1702 1636 1680 1443 1252  499  180  702  885 1652\n",
            "  795  938  833 1654 1793  303 1621 1516 1138   32  160 1491   83  423\n",
            "  928  339  931  243 1756  583 1695  274  955  430 1247  490  726  987\n",
            "   42 1626 1470 1739  887  211  385 1221  753  324  406 1677 1567  785\n",
            "  182 1079  184 1771 1048 1069  561  589 1634   70 1371  647 1153  239\n",
            "  801 1279 1287  425 1589  929 1511 1765 1047 1005 1337  981 1766  805\n",
            " 1574 1638  186   99  288 1650  974  996 1595 1594  865  203 1440  448\n",
            "  285   94  875  916 1733  240  330   79   82  135 1043  142 1235 1569\n",
            " 1741 1461  560 1551  409  418 1017  892  354  124  935  313 1363  232\n",
            " 1200 1184 1432 1479 1407 1080 1719 1024  970  761  158  312 1060  684\n",
            "  696 1520 1352 1502  936  485  350 1560 1166 1013   34 1691  715 1570\n",
            " 1751 1503 1194 1558  411  298  260  308  796 1442  912 1256  746  435\n",
            "  620 1774 1181 1323  837  307 1430   53 1447  259  921  328 1034  353\n",
            "  822  654  829  609  166  136  172 1306 1028  808  270 1072  514  156\n",
            " 1331 1630  462 1310 1210  265   50 1355  394 1393  226  991  368 1018\n",
            " 1037  627 1744  523  894  944 1730 1076 1094 1617  449  678 1164   30\n",
            "  817 1568  607  709 1230  606 1480   29 1522 1670   49  626 1641 1712\n",
            " 1370 1782  119 1137 1277   35  947  851 1041 1583 1536  575  196  143\n",
            "   33  383   57  621  230  162  352 1504 1250   39  511 1364  918 1665\n",
            "  734 1320  316  771  705 1435  304  116 1553  424  493 1530 1195 1604\n",
            "  624 1599  782 1606 1622 1285  657 1275 1291 1402  420  932  468  442\n",
            " 1145   93 1218  283  292  927 1711 1422  364 1398  594  789 1350  676\n",
            "  216 1012 1426  717 1095 1786  850  777  375  356  701 1325  290 1775\n",
            "  467 1365 1549  848 1453   84 1458  888  770 1591  582   40 1261 1764\n",
            " 1067  145  471  476 1128  967  622  641  539  858  295 1395 1517 1297\n",
            " 1126  926  157 1377  993  125  340  271 1669  272  979  707  564  997\n",
            "  447 1578 1465  415  714 1276   18 1316  587  245  446  978 1002 1631\n",
            "  341 1307  524 1267  103  242 1378 1328 1294 1309  724  197  999  547\n",
            " 1100 1456   77 1506 1472  460   11 1420  218 1253  392  670 1321  100\n",
            " 1205  443   92  811  774  159 1770  972 1157 1102  217  358 1473  440\n",
            "  140 1361  481  512 1117  300 1263 1581  901 1298  310  637  758 1734\n",
            " 1288  326 1678 1444 1344 1379  828  982  104  317 1529 1627  115  645\n",
            " 1404  940 1305 1049 1645 1466  175 1165 1419 1031  581 1580  854  725\n",
            " 1655 1134  569 1387 1381 1760  360 1735 1146 1411  969 1281  591  327\n",
            "  466  667  147  109  784 1396 1349  839 1284  802   97  281 1382 1039\n",
            " 1483  376 1249 1207 1213 1219 1345 1523  949 1063  983  886 1151  992\n",
            " 1107 1314  151   69 1489  695  738  444 1525  825  506  518 1077 1354\n",
            "  713  690  861 1389  968  421  907  205  856   72  651  161  867  971\n",
            " 1078   64 1701  546 1216   27 1709  193 1528  957  577  346 1416  396\n",
            " 1182  652 1083 1778  680 1754 1544 1703  636  472  453  463   75  756\n",
            "  296  891  813  474  697]\n",
            "\n",
            "{'Num_Credit_Card'}\n",
            "[   4 1385    5 ...  955 1430  679]\n",
            "\n",
            "{'Interest_Rate'}\n",
            "[   3    6    8 ... 1347  387 5729]\n",
            "\n",
            "{'Num_of_Loan'}\n",
            "['4' '1' '3' '967' '-100' '0' '0_' '2' '3_' '2_' '7' '5' '5_' '6' '8' '8_'\n",
            " '9' '9_' '4_' '7_' '1_' '1464' '6_' '622' '352' '472' '1017' '945' '146'\n",
            " '563' '341' '444' '720' '1485' '49' '737' '1106' '466' '728' '313' '843'\n",
            " '597_' '617' '119' '663' '640' '92_' '1019' '501' '1302' '39' '716' '848'\n",
            " '931' '1214' '186' '424' '1001' '1110' '1152' '457' '1433' '1187' '52'\n",
            " '1480' '1047' '1035' '1347_' '33' '193' '699' '329' '1451' '484' '132'\n",
            " '649' '995' '545' '684' '1135' '1094' '1204' '654' '58' '348' '614'\n",
            " '1363' '323' '1406' '1348' '430' '153' '1461' '905' '1312' '1424' '1154'\n",
            " '95' '1353' '1228' '819' '1006' '795' '359' '1209' '590' '696' '1185_'\n",
            " '1465' '911' '1181' '70' '816' '1369' '143' '1416' '455' '55' '1096'\n",
            " '1474' '420' '1131' '904' '89' '1259' '527' '1241' '449' '983' '418'\n",
            " '319' '23' '238' '638' '138' '235_' '280' '1070' '1484' '274' '494'\n",
            " '1459_' '404' '1354' '1495' '1391' '601' '1313' '1319' '898' '231' '752'\n",
            " '174' '961' '1046' '834' '284' '438' '288' '1463' '1151' '719' '198'\n",
            " '1015' '855' '841' '392' '1444' '103' '1320_' '745' '172' '252' '630_'\n",
            " '241' '31' '405' '1217' '1030' '1257' '137' '157' '164' '1088' '1236'\n",
            " '777' '1048' '613' '330' '1439' '321' '661' '952' '939' '562' '1202'\n",
            " '302' '943' '394' '955' '1318' '936' '781' '100' '1329' '1365' '860'\n",
            " '217' '191' '32' '282' '351' '1387' '757' '416' '833' '359_' '292'\n",
            " '1225_' '1227' '639' '859' '243' '267' '510' '332' '996' '597' '311'\n",
            " '492' '820' '336' '123' '540' '131_' '1311_' '1441' '895' '891' '50'\n",
            " '940' '935' '596' '29' '1182' '1129_' '1014' '251' '365' '291' '1447'\n",
            " '742' '1085' '148' '462' '832' '881' '1225' '1412' '785_' '1127' '910'\n",
            " '538' '999' '733' '101' '237' '87' '659' '633' '387' '447' '629' '831'\n",
            " '1384' '773' '621' '1419' '289' '143_' '285' '1393' '1131_' '27_' '1359'\n",
            " '1482' '1189' '1294' '201' '579' '814' '141' '1320' '581' '1171_' '295'\n",
            " '290' '433' '679' '1040' '1054' '1430' '1023' '1077' '1457' '1150' '701'\n",
            " '1382' '889' '437' '372' '1222' '126' '1159' '868' '19' '1297' '227_'\n",
            " '190' '809' '1216' '1074' '571' '520' '1274' '1340' '991' '316' '697'\n",
            " '926' '873' '1002' '378_' '65' '875' '867' '548' '652' '1372' '606'\n",
            " '1036' '1300' '17' '1178' '802' '1219_' '1271' '1137' '1496' '439' '196'\n",
            " '636' '192' '228' '1053' '229' '753' '1296' '1371' '254' '863' '464'\n",
            " '515' '838' '1160' '1289' '1298' '799' '182' '574' '527_' '242' '415'\n",
            " '869' '958' '54' '1265' '656' '275' '778' '208' '147' '350' '507' '463'\n",
            " '497' '1129' '927' '653' '662' '529' '635' '1027_' '897' '1039' '227'\n",
            " '1345' '924' '696_' '1279' '546' '1112' '1210' '526' '300' '1103' '504'\n",
            " '136' '1400' '78' '686' '1091' '344' '215' '84' '628' '1470' '968' '1478'\n",
            " '83' '1196' '1307' '1132_' '1008' '917' '657' '56' '18' '41' '801' '978'\n",
            " '216' '349' '966']\n",
            "\n",
            "{'Type_of_Loan'}\n",
            "['Auto Loan, Credit-Builder Loan, Personal Loan, and Home Equity Loan'\n",
            " 'Credit-Builder Loan' 'Auto Loan, Auto Loan, and Not Specified' ...\n",
            " 'Home Equity Loan, Auto Loan, Auto Loan, and Auto Loan'\n",
            " 'Payday Loan, Student Loan, Mortgage Loan, and Not Specified'\n",
            " 'Personal Loan, Auto Loan, Mortgage Loan, Student Loan, and Student Loan']\n",
            "\n",
            "{'Delay_from_due_date'}\n",
            "[ 3 -1  5  6  8  7 13 10  0  4  9  1 12 11 30 31 34 27 14  2 -2 16 17 15\n",
            " 23 22 21 18 19 52 51 48 53 26 43 28 25 20 47 46 49 24 61 29 50 58 45 59\n",
            " 55 56 57 54 62 65 64 67 36 41 33 32 39 44 42 60 35 38 -3 63 40 37 -5 -4\n",
            " 66]\n",
            "\n",
            "{'Num_of_Delayed_Payment'}\n",
            "['7' nan '4' '8_' '6' '1' '-1' '3_' '0' '8' '5' '3' '9' '12' '15' '17'\n",
            " '10' '2' '2_' '11' '14' '20' '22' '13' '13_' '14_' '16' '12_' '18' '19'\n",
            " '23' '24' '21' '3318' '3083' '22_' '1338' '4_' '26' '11_' '3104' '21_'\n",
            " '25' '10_' '183_' '9_' '1106' '834' '19_' '24_' '17_' '23_' '2672' '20_'\n",
            " '2008' '-3' '538' '6_' '1_' '16_' '27' '-2' '3478' '2420' '15_' '707'\n",
            " '708' '26_' '18_' '3815' '28' '5_' '1867' '2250' '1463' '25_' '7_' '4126'\n",
            " '2882' '1941' '2655' '2628' '132' '3069' '306' '0_' '3539' '3684' '1823'\n",
            " '4128' '1946' '827' '2297' '2566' '904' '182' '929' '3568' '2503' '1552'\n",
            " '2812' '1697' '3764' '851' '3905' '923' '88' '1668' '3253' '808' '2689'\n",
            " '3858' '642' '3457' '1402' '1732' '3154' '847' '3037' '2204' '3103'\n",
            " '1063' '2056' '1282' '1841' '2569_' '211' '793' '3484' '411' '3491'\n",
            " '2072' '3050' '1049' '2162' '3402' '2753' '27_' '1718' '1014' '3260'\n",
            " '3855' '84' '2311' '3251' '1832' '4069' '3010' '733' '4241' '166' '2461'\n",
            " '1749' '3200' '663_' '2185' '4161' '3009' '359' '2015' '1523' '594'\n",
            " '1079' '1199' '186' '1015' '1989' '281' '559' '2165' '1509' '3545' '779'\n",
            " '192' '4311' '-2_' '2323' '1471' '1538' '3529' '439' '3456' '3040' '2697'\n",
            " '3179' '1332' '3175' '3112' '829' '4022' '3870' '4023' '531' '1511'\n",
            " '3092' '3191' '2400' '3621' '3536' '544' '1864' '28_' '142' '2300' '264'\n",
            " '72' '497' '398' '2222' '3960' '1473' '3043' '4216' '2903' '2658' '-1_'\n",
            " '4042' '1323_' '2184' '921' '1328' '3404' '2438' '809' '47' '1996' '4164'\n",
            " '1370' '1204' '2167' '4011' '2590' '2594' '2533' '1663' '1018' '2919'\n",
            " '3458' '3316' '2589' '2801' '3355' '2529' '2488' '4266' '1243' '739'\n",
            " '845' '4107' '1884' '337' '2660' '290' '674' '2450' '3738' '1792' '2823'\n",
            " '2570' '775' '960' '482' '1706' '2493' '3623' '3031' '2794_' '2219_'\n",
            " '758_' '1849' '3559' '4096' '3726' '1953' '2657' '4043' '2938' '4384'\n",
            " '1647' '2694' '3533' '519' '2677' '2413' '-3_' '4139' '2609' '4326'\n",
            " '4211' '823' '3011' '1608' '2860' '4219' '4047' '1531' '742' '52' '4024'\n",
            " '1673' '49' '2243' '1685' '1869' '2587' '3489' '749' '1164' '2616' '848_'\n",
            " '4134' '1530' '1502' '4075' '3845' '1060' '2573' '2128' '328' '640'\n",
            " '2585' '2230' '1795' '1180' '1534' '3739' '3313' '4191' '996' '372'\n",
            " '3340' '3177' '602' '787' '4135' '3878' '4059' '1218' '4051' '1766'\n",
            " '1359' '3107' '585' '1263' '2511' '709' '3632' '4077' '2943' '2793'\n",
            " '3245' '2317' '1640' '2237_' '3819' '252' '3978' '1498' '1833' '2737'\n",
            " '1192' '1481' '700' '271' '2286' '273' '1215' '3944' '2070' '1478' '3749'\n",
            " '871' '2508' '2959' '130' '294' '3097_' '3511' '415' '2196' '2138' '2149'\n",
            " '1874' '1553' '3847' '3222' '1222' '2907' '3051' '98' '1598' '416' '2314'\n",
            " '2955' '1691' '1450' '2021' '1636' '80' '3708' '195' '320' '2945' '1911'\n",
            " '3416' '3796' '4159' '2255' '938' '4397' '3776' '2148' '1994' '853'\n",
            " '1178' '1633' '196' '3864' '714' '1687' '1034' '468' '1337' '2044' '1541'\n",
            " '3661' '1211' '2645' '2007' '102' '1891' '3162' '3142' '2566_' '2766'\n",
            " '3881' '2728' '2671' '1952' '3580' '2705' '4251' '3840_' '972' '3119'\n",
            " '3502' '4185' '2954' '683' '1614' '1572' '4302' '3447' '1852' '2131'\n",
            " '1900' '1699' '133' '2018' '2127' '508' '210' '577' '1664' '2604' '1411'\n",
            " '2351' '867' '1371' '2352' '1191' '905' '4053' '3869' '933' '3660' '3300'\n",
            " '3629' '3208' '2142' '2521' '450' '583' '876' '121' '3919' '2560' '2578'\n",
            " '2060' '813' '1236' '1489' '4360' '1154' '2544' '4172' '2924' '426'\n",
            " '4270' '2768' '3909' '3951' '2712' '2498' '3171' '1750' '197' '2569'\n",
            " '265' '4293' '887' '2707' '2397' '4337' '4249' '2751' '2950' '1859' '107'\n",
            " '2348' '2506' '2810' '2873' '1301' '2262' '1890' '3078' '3865' '3268'\n",
            " '2777' '3105' '1278' '3793' '2276' '2879' '4298' '2141' '223' '2239'\n",
            " '846' '1862' '2756' '1181' '1184' '2617' '3972' '2334' '3900' '2759'\n",
            " '4169' '2280' '2492' '2729' '3750' '1825' '309' '2431' '3099' '2080'\n",
            " '2279' '2666' '3722' '1976' '529' '1985' '3060' '4278' '3212' '46' '3148'\n",
            " '3467' '4231' '3790' '473' '1536' '3955' '2324' '2381' '1177' '371'\n",
            " '2896' '3880' '2991' '4319' '1061' '662' '4144' '693' '2006' '3115'\n",
            " '2278_' '3751' '1861' '4262' '2913' '2615' '3492' '800' '3766' '384'\n",
            " '3407' '1087' '3329' '1086' '2216' '1087_' '2457' '3522' '3274' '3488'\n",
            " '2854' '238' '351' '3706' '4280' '4095' '2926' '1329' '3370' '283' '1392'\n",
            " '1743' '2429' '974' '3156' '1133' '4388' '3243' '4282' '2523' '4281'\n",
            " '3415' '2001' '441' '94' '3499' '969' '3368' '106' '1004' '2638' '3946'\n",
            " '2956' '4324' '85' '4113' '819' '615' '1172' '2553' '1765' '3495' '2820'\n",
            " '4239' '4340' '1295_' '2636' '4295' '1653' '1325' '1879' '1096' '1735'\n",
            " '3584' '1073' '1975' '3827' '2552' '3754' '2378' '532' '926' '2376'\n",
            " '3636' '3763' '778' '2621' '804' '754' '2418' '4019' '3926' '3861_'\n",
            " '3574' '175' '162' '2834' '3765' '2354' '523' '2274' '1606' '1443' '1354'\n",
            " '2142_' '1422' '2278' '1045' '4106' '3155' '666' '659' '3229' '1216'\n",
            " '2076' '1473_' '2384' '1954' '719' '2534' '4002' '541' '2875' '4344'\n",
            " '2081' '3894' '1256' '676' '4178' '399' '86' '1571' '4037' '1967' '4005'\n",
            " '3216' '1150' '2591' '1801' '3721' '1775' '2260' '3707' '4292' '1820'\n",
            " '145' '1480' '1850' '430' '217' '3920_' '1389' '1579' '3391' '2385'\n",
            " '3336' '3392' '3688' '221' '2047']\n",
            "\n",
            "{'Changed_Credit_Limit'}\n",
            "['11.27' '_' '6.27' ... '27.38' '25.16' '21.17']\n",
            "\n",
            "{'Num_Credit_Inquiries'}\n",
            "[   4.    2.    3. ... 1361.  310.   74.]\n",
            "\n",
            "{'Credit_Mix'}\n",
            "['_' 'Good' 'Standard' 'Bad']\n",
            "\n",
            "{'Outstanding_Debt'}\n",
            "['809.98' '605.03' '1303.01' ... '3571.7_' '3571.7' '502.38']\n",
            "\n",
            "{'Credit_Utilization_Ratio'}\n",
            "[26.82261962 31.94496006 28.60935202 ... 41.25552226 33.63820798\n",
            " 34.19246265]\n",
            "\n",
            "{'Credit_History_Age'}\n",
            "['22 Years and 1 Months' nan '22 Years and 3 Months'\n",
            " '22 Years and 4 Months' '22 Years and 5 Months' '22 Years and 6 Months'\n",
            " '22 Years and 7 Months' '26 Years and 7 Months' '26 Years and 8 Months'\n",
            " '26 Years and 9 Months' '26 Years and 10 Months' '26 Years and 11 Months'\n",
            " '27 Years and 0 Months' '27 Years and 1 Months' '27 Years and 2 Months'\n",
            " '17 Years and 9 Months' '17 Years and 10 Months' '17 Years and 11 Months'\n",
            " '18 Years and 1 Months' '18 Years and 2 Months' '18 Years and 3 Months'\n",
            " '18 Years and 4 Months' '17 Years and 3 Months' '17 Years and 4 Months'\n",
            " '17 Years and 5 Months' '17 Years and 6 Months' '17 Years and 7 Months'\n",
            " '17 Years and 8 Months' '30 Years and 8 Months' '30 Years and 9 Months'\n",
            " '30 Years and 10 Months' '30 Years and 11 Months' '31 Years and 0 Months'\n",
            " '31 Years and 1 Months' '31 Years and 2 Months' '31 Years and 3 Months'\n",
            " '32 Years and 0 Months' '32 Years and 2 Months' '32 Years and 3 Months'\n",
            " '32 Years and 5 Months' '32 Years and 6 Months' '30 Years and 7 Months'\n",
            " '14 Years and 8 Months' '14 Years and 9 Months' '14 Years and 10 Months'\n",
            " '14 Years and 11 Months' '15 Years and 0 Months' '15 Years and 1 Months'\n",
            " '15 Years and 2 Months' '21 Years and 4 Months' '21 Years and 5 Months'\n",
            " '21 Years and 6 Months' '21 Years and 7 Months' '21 Years and 8 Months'\n",
            " '21 Years and 9 Months' '21 Years and 10 Months' '21 Years and 11 Months'\n",
            " '26 Years and 6 Months' '19 Years and 2 Months' '19 Years and 3 Months'\n",
            " '19 Years and 4 Months' '19 Years and 5 Months' '19 Years and 6 Months'\n",
            " '19 Years and 7 Months' '19 Years and 8 Months' '25 Years and 5 Months'\n",
            " '25 Years and 6 Months' '25 Years and 7 Months' '25 Years and 8 Months'\n",
            " '25 Years and 9 Months' '25 Years and 10 Months' '25 Years and 11 Months'\n",
            " '26 Years and 0 Months' '27 Years and 3 Months' '27 Years and 4 Months'\n",
            " '27 Years and 5 Months' '8 Years and 11 Months' '9 Years and 0 Months'\n",
            " '9 Years and 1 Months' '9 Years and 2 Months' '9 Years and 3 Months'\n",
            " '9 Years and 4 Months' '9 Years and 6 Months' '18 Years and 5 Months'\n",
            " '18 Years and 6 Months' '18 Years and 8 Months' '18 Years and 9 Months'\n",
            " '16 Years and 10 Months' '16 Years and 11 Months' '17 Years and 0 Months'\n",
            " '17 Years and 1 Months' '17 Years and 2 Months' '29 Years and 2 Months'\n",
            " '29 Years and 3 Months' '29 Years and 4 Months' '29 Years and 6 Months'\n",
            " '29 Years and 8 Months' '29 Years and 9 Months' '6 Years and 5 Months'\n",
            " '6 Years and 6 Months' '6 Years and 7 Months' '6 Years and 8 Months'\n",
            " '6 Years and 9 Months' '6 Years and 10 Months' '6 Years and 11 Months'\n",
            " '7 Years and 0 Months' '27 Years and 6 Months' '27 Years and 7 Months'\n",
            " '27 Years and 8 Months' '27 Years and 9 Months' '18 Years and 7 Months'\n",
            " '19 Years and 9 Months' '19 Years and 10 Months' '10 Years and 1 Months'\n",
            " '10 Years and 2 Months' '10 Years and 3 Months' '10 Years and 4 Months'\n",
            " '10 Years and 5 Months' '10 Years and 6 Months' '10 Years and 7 Months'\n",
            " '10 Years and 8 Months' '32 Years and 9 Months' '32 Years and 10 Months'\n",
            " '32 Years and 11 Months' '33 Years and 0 Months' '33 Years and 1 Months'\n",
            " '33 Years and 4 Months' '12 Years and 3 Months' '12 Years and 4 Months'\n",
            " '12 Years and 5 Months' '12 Years and 6 Months' '12 Years and 7 Months'\n",
            " '12 Years and 8 Months' '12 Years and 10 Months' '12 Years and 9 Months'\n",
            " '13 Years and 8 Months' '13 Years and 11 Months' '14 Years and 0 Months'\n",
            " '14 Years and 1 Months' '14 Years and 2 Months' '14 Years and 3 Months'\n",
            " '30 Years and 3 Months' '30 Years and 4 Months' '30 Years and 5 Months'\n",
            " '30 Years and 6 Months' '8 Years and 9 Months' '8 Years and 10 Months'\n",
            " '18 Years and 10 Months' '18 Years and 11 Months' '19 Years and 0 Months'\n",
            " '19 Years and 1 Months' '8 Years and 8 Months' '13 Years and 1 Months'\n",
            " '13 Years and 2 Months' '13 Years and 3 Months' '13 Years and 5 Months'\n",
            " '13 Years and 6 Months' '13 Years and 7 Months' '22 Years and 0 Months'\n",
            " '26 Years and 1 Months' '26 Years and 2 Months' '13 Years and 4 Months'\n",
            " '13 Years and 9 Months' '27 Years and 11 Months' '28 Years and 0 Months'\n",
            " '28 Years and 1 Months' '28 Years and 2 Months' '28 Years and 3 Months'\n",
            " '28 Years and 4 Months' '28 Years and 5 Months' '28 Years and 6 Months'\n",
            " '7 Years and 10 Months' '7 Years and 11 Months' '8 Years and 0 Months'\n",
            " '8 Years and 1 Months' '8 Years and 2 Months' '8 Years and 3 Months'\n",
            " '8 Years and 4 Months' '8 Years and 5 Months' '24 Years and 3 Months'\n",
            " '24 Years and 4 Months' '24 Years and 5 Months' '24 Years and 6 Months'\n",
            " '24 Years and 7 Months' '24 Years and 8 Months' '24 Years and 9 Months'\n",
            " '1 Years and 2 Months' '1 Years and 3 Months' '1 Years and 4 Months'\n",
            " '1 Years and 5 Months' '1 Years and 6 Months' '1 Years and 7 Months'\n",
            " '1 Years and 8 Months' '10 Years and 11 Months' '11 Years and 0 Months'\n",
            " '11 Years and 1 Months' '11 Years and 2 Months' '11 Years and 3 Months'\n",
            " '11 Years and 4 Months' '11 Years and 5 Months' '11 Years and 6 Months'\n",
            " '19 Years and 11 Months' '20 Years and 0 Months' '20 Years and 1 Months'\n",
            " '10 Years and 9 Months' '10 Years and 10 Months' '14 Years and 4 Months'\n",
            " '14 Years and 5 Months' '14 Years and 6 Months' '20 Years and 8 Months'\n",
            " '20 Years and 9 Months' '20 Years and 10 Months' '20 Years and 11 Months'\n",
            " '21 Years and 0 Months' '21 Years and 1 Months' '21 Years and 2 Months'\n",
            " '21 Years and 3 Months' '0 Years and 4 Months' '0 Years and 5 Months'\n",
            " '0 Years and 6 Months' '0 Years and 8 Months' '0 Years and 9 Months'\n",
            " '0 Years and 10 Months' '31 Years and 7 Months' '31 Years and 8 Months'\n",
            " '31 Years and 9 Months' '31 Years and 10 Months' '31 Years and 11 Months'\n",
            " '32 Years and 1 Months' '12 Years and 11 Months' '13 Years and 0 Months'\n",
            " '27 Years and 10 Months' '11 Years and 7 Months' '11 Years and 8 Months'\n",
            " '11 Years and 9 Months' '11 Years and 10 Months' '24 Years and 10 Months'\n",
            " '24 Years and 11 Months' '25 Years and 0 Months' '25 Years and 1 Months'\n",
            " '25 Years and 2 Months' '25 Years and 3 Months' '18 Years and 0 Months'\n",
            " '31 Years and 4 Months' '31 Years and 5 Months' '31 Years and 6 Months'\n",
            " '5 Years and 2 Months' '5 Years and 3 Months' '5 Years and 4 Months'\n",
            " '5 Years and 5 Months' '5 Years and 6 Months' '5 Years and 7 Months'\n",
            " '5 Years and 8 Months' '5 Years and 9 Months' '2 Years and 11 Months'\n",
            " '3 Years and 0 Months' '3 Years and 1 Months' '3 Years and 2 Months'\n",
            " '3 Years and 3 Months' '3 Years and 4 Months' '3 Years and 5 Months'\n",
            " '3 Years and 6 Months' '16 Years and 4 Months' '16 Years and 5 Months'\n",
            " '16 Years and 6 Months' '16 Years and 7 Months' '16 Years and 8 Months'\n",
            " '16 Years and 9 Months' '22 Years and 11 Months' '23 Years and 0 Months'\n",
            " '23 Years and 2 Months' '23 Years and 3 Months' '23 Years and 4 Months'\n",
            " '23 Years and 5 Months' '23 Years and 6 Months' '8 Years and 6 Months'\n",
            " '8 Years and 7 Months' '4 Years and 5 Months' '4 Years and 6 Months'\n",
            " '4 Years and 7 Months' '4 Years and 8 Months' '4 Years and 9 Months'\n",
            " '4 Years and 10 Months' '4 Years and 11 Months' '5 Years and 0 Months'\n",
            " '32 Years and 8 Months' '33 Years and 2 Months' '33 Years and 3 Months'\n",
            " '12 Years and 2 Months' '32 Years and 4 Months' '29 Years and 11 Months'\n",
            " '30 Years and 0 Months' '30 Years and 2 Months' '26 Years and 3 Months'\n",
            " '26 Years and 4 Months' '26 Years and 5 Months' '7 Years and 6 Months'\n",
            " '7 Years and 7 Months' '7 Years and 8 Months' '7 Years and 9 Months'\n",
            " '28 Years and 7 Months' '28 Years and 8 Months' '28 Years and 9 Months'\n",
            " '28 Years and 10 Months' '29 Years and 5 Months' '29 Years and 7 Months'\n",
            " '20 Years and 2 Months' '20 Years and 3 Months' '20 Years and 4 Months'\n",
            " '20 Years and 5 Months' '20 Years and 6 Months' '20 Years and 7 Months'\n",
            " '28 Years and 11 Months' '29 Years and 0 Months' '13 Years and 10 Months'\n",
            " '1 Years and 9 Months' '1 Years and 10 Months' '1 Years and 11 Months'\n",
            " '33 Years and 5 Months' '33 Years and 6 Months' '33 Years and 7 Months'\n",
            " '33 Years and 8 Months' '29 Years and 1 Months' '5 Years and 1 Months'\n",
            " '5 Years and 10 Months' '5 Years and 11 Months' '6 Years and 0 Months'\n",
            " '6 Years and 1 Months' '6 Years and 2 Months' '6 Years and 3 Months'\n",
            " '22 Years and 9 Months' '22 Years and 10 Months' '23 Years and 1 Months'\n",
            " '22 Years and 2 Months' '15 Years and 4 Months' '15 Years and 5 Months'\n",
            " '15 Years and 6 Months' '15 Years and 7 Months' '15 Years and 8 Months'\n",
            " '15 Years and 9 Months' '15 Years and 10 Months' '15 Years and 11 Months'\n",
            " '2 Years and 3 Months' '2 Years and 4 Months' '2 Years and 5 Months'\n",
            " '2 Years and 6 Months' '2 Years and 7 Months' '2 Years and 8 Months'\n",
            " '2 Years and 9 Months' '2 Years and 10 Months' '2 Years and 0 Months'\n",
            " '16 Years and 2 Months' '16 Years and 3 Months' '22 Years and 8 Months'\n",
            " '9 Years and 5 Months' '9 Years and 7 Months' '9 Years and 8 Months'\n",
            " '9 Years and 9 Months' '11 Years and 11 Months' '12 Years and 0 Months'\n",
            " '12 Years and 1 Months' '24 Years and 2 Months' '16 Years and 0 Months'\n",
            " '16 Years and 1 Months' '14 Years and 7 Months' '25 Years and 4 Months'\n",
            " '15 Years and 3 Months' '7 Years and 1 Months' '7 Years and 2 Months'\n",
            " '7 Years and 3 Months' '7 Years and 4 Months' '7 Years and 5 Months'\n",
            " '23 Years and 7 Months' '23 Years and 8 Months' '23 Years and 9 Months'\n",
            " '30 Years and 1 Months' '29 Years and 10 Months' '9 Years and 10 Months'\n",
            " '9 Years and 11 Months' '10 Years and 0 Months' '2 Years and 2 Months'\n",
            " '23 Years and 10 Months' '23 Years and 11 Months' '24 Years and 0 Months'\n",
            " '24 Years and 1 Months' '6 Years and 4 Months' '0 Years and 1 Months'\n",
            " '0 Years and 2 Months' '0 Years and 3 Months' '0 Years and 7 Months'\n",
            " '3 Years and 8 Months' '32 Years and 7 Months' '3 Years and 7 Months'\n",
            " '3 Years and 9 Months' '3 Years and 10 Months' '0 Years and 11 Months'\n",
            " '1 Years and 0 Months' '1 Years and 1 Months' '4 Years and 4 Months'\n",
            " '3 Years and 11 Months' '4 Years and 0 Months' '4 Years and 1 Months'\n",
            " '4 Years and 2 Months' '4 Years and 3 Months' '2 Years and 1 Months']\n",
            "\n",
            "{'Payment_of_Min_Amount'}\n",
            "['No' 'NM' 'Yes']\n",
            "\n",
            "{'Total_EMI_per_month'}\n",
            "[4.95749492e+01 1.88162146e+01 2.46992320e+02 ... 1.21120000e+04\n",
            " 3.51040226e+01 5.86380000e+04]\n",
            "\n",
            "{'Amount_invested_monthly'}\n",
            "['80.41529544' '118.2802216' '81.69952126' ... '24.02847745' '251.6725822'\n",
            " '167.1638652']\n",
            "\n",
            "{'Payment_Behaviour'}\n",
            "['High_spent_Small_value_payments' 'Low_spent_Large_value_payments'\n",
            " 'Low_spent_Medium_value_payments' 'Low_spent_Small_value_payments'\n",
            " 'High_spent_Medium_value_payments' '!@9#%8'\n",
            " 'High_spent_Large_value_payments']\n",
            "\n",
            "{'Monthly_Balance'}\n",
            "['312.4940887' '284.6291625' '331.2098629' ... 516.8090833 319.1649785\n",
            " 393.6736956]\n",
            "\n",
            "{'Credit_Score'}\n",
            "['Good' 'Standard' 'Poor']\n",
            "\n"
          ]
        }
      ]
    },
    {
      "cell_type": "markdown",
      "source": [
        "I am going to fix all the issues for each column."
      ],
      "metadata": {
        "id": "OQCkzcG1i_l-"
      }
    },
    {
      "cell_type": "markdown",
      "source": [
        "Customer_ID and Month are ok.\n",
        "\n",
        "Next column is Age. It has errors."
      ],
      "metadata": {
        "id": "1-jRTDbBHTg8"
      }
    },
    {
      "cell_type": "markdown",
      "source": [
        "# Age"
      ],
      "metadata": {
        "id": "2V_aFq2vbFf8"
      }
    },
    {
      "cell_type": "code",
      "source": [
        "credit_info['Age'].describe()"
      ],
      "metadata": {
        "colab": {
          "base_uri": "https://localhost:8080/"
        },
        "id": "v-sco91BHQYP",
        "outputId": "39b1c110-147e-4c5e-b03a-b3cf372447f6"
      },
      "execution_count": 94,
      "outputs": [
        {
          "output_type": "execute_result",
          "data": {
            "text/plain": [
              "count     100000\n",
              "unique      1788\n",
              "top           38\n",
              "freq        2833\n",
              "Name: Age, dtype: object"
            ]
          },
          "metadata": {},
          "execution_count": 94
        }
      ]
    },
    {
      "cell_type": "markdown",
      "source": [
        "Before converting it to float, first I have to fix the values that have \"_\""
      ],
      "metadata": {
        "id": "IHiZ3xTRLhFT"
      }
    },
    {
      "cell_type": "code",
      "source": [
        "credit_info['Age'] = credit_info['Age'].str.strip('_')"
      ],
      "metadata": {
        "id": "8Ho6SU6XLgLN"
      },
      "execution_count": 95,
      "outputs": []
    },
    {
      "cell_type": "code",
      "source": [
        "credit_info['Age'] = credit_info['Age'].astype('float')"
      ],
      "metadata": {
        "id": "TzT7T20nOX6Q"
      },
      "execution_count": 96,
      "outputs": []
    },
    {
      "cell_type": "markdown",
      "source": [
        "Now, I am only consider the ages between 18 and 65, since I assume that these are the ages where people work"
      ],
      "metadata": {
        "id": "2dUX5AD7hYGX"
      }
    },
    {
      "cell_type": "code",
      "source": [
        "credit_info['Age'].describe()"
      ],
      "metadata": {
        "colab": {
          "base_uri": "https://localhost:8080/"
        },
        "id": "GfrVXWbCObqu",
        "outputId": "b6ccb544-7db5-4c64-eaaf-e6b2e9e51bf8"
      },
      "execution_count": 97,
      "outputs": [
        {
          "output_type": "execute_result",
          "data": {
            "text/plain": [
              "count    100000.000000\n",
              "mean        110.649700\n",
              "std         686.244717\n",
              "min        -500.000000\n",
              "25%          24.000000\n",
              "50%          33.000000\n",
              "75%          42.000000\n",
              "max        8698.000000\n",
              "Name: Age, dtype: float64"
            ]
          },
          "metadata": {},
          "execution_count": 97
        }
      ]
    },
    {
      "cell_type": "code",
      "source": [
        "# List1 is created to find the ages not between 18 and 65 inclusive\n",
        "list1 = []\n",
        "for i in credit_info['Age']:\n",
        "  if i < 18 or i > 65:\n",
        "    list1.append(i)\n",
        "print(list1)"
      ],
      "metadata": {
        "colab": {
          "base_uri": "https://localhost:8080/"
        },
        "id": "j_Xq4EV6OtTA",
        "outputId": "e2a39060-33f2-47ae-f7f6-a5ccc5dda253"
      },
      "execution_count": 98,
      "outputs": [
        {
          "output_type": "stream",
          "name": "stdout",
          "text": [
            "[-500.0, 7580.0, -500.0, 181.0, 995.0, 5079.0, 6409.0, -500.0, 16.0, 16.0, 16.0, 16.0, 16.0, 16.0, 7080.0, 849.0, -500.0, 3885.0, 15.0, 15.0, 15.0, 15.0, 16.0, 16.0, 16.0, 16.0, 3052.0, 14.0, 14.0, 14.0, 14.0, 14.0, 14.0, 14.0, 14.0, 5342.0, 16.0, 16.0, 16.0, 16.0, 16.0, 16.0, 16.0, 16.0, 17.0, 17.0, 17.0, 4431.0, -500.0, 2657.0, 2111.0, 1032.0, 15.0, 15.0, 16.0, 16.0, 16.0, 16.0, 16.0, -500.0, 456.0, 5717.0, 17.0, 17.0, 17.0, 17.0, 17.0, 17.0, 17.0, 17.0, -500.0, -500.0, -500.0, 3169.0, 1191.0, -500.0, 17.0, 17.0, 17.0, 17.0, 17.0, 17.0, 17.0, 7140.0, -500.0, 14.0, 14.0, 14.0, 15.0, 15.0, 15.0, 15.0, 15.0, -500.0, 8233.0, 6955.0, -500.0, 2534.0, 3115.0, 7657.0, 5112.0, -500.0, 6452.0, 15.0, 15.0, 16.0, 16.0, 16.0, 16.0, 16.0, 16.0, 2744.0, -500.0, 17.0, 17.0, 17.0, 17.0, 17.0, 17.0, 17.0, 17.0, 1439.0, 5795.0, 4872.0, -500.0, 1772.0, 15.0, 15.0, 15.0, 15.0, 15.0, 15.0, 15.0, 15.0, 15.0, 15.0, 15.0, 15.0, 15.0, 15.0, 15.0, 15.0, 1383.0, 5657.0, -500.0, 1934.0, -500.0, 8352.0, -500.0, 3734.0, -500.0, 14.0, 14.0, 14.0, 14.0, 15.0, 15.0, 15.0, 15.0, 14.0, 14.0, 14.0, 14.0, 14.0, 14.0, 14.0, 14.0, 2056.0, -500.0, 7508.0, 2339.0, 16.0, 16.0, 16.0, 16.0, 16.0, 16.0, 16.0, 16.0, 14.0, 14.0, 14.0, 14.0, 14.0, 15.0, 15.0, 15.0, 17.0, 17.0, 17.0, 17.0, 17.0, 17.0, 8406.0, 14.0, 14.0, 14.0, 14.0, 14.0, 14.0, 14.0, 14.0, 16.0, 16.0, 16.0, 16.0, 16.0, 17.0, 17.0, 17.0, 1424.0, -500.0, -500.0, 15.0, 15.0, 15.0, 15.0, 15.0, 15.0, 15.0, 16.0, -500.0, -500.0, 6953.0, 5626.0, 4471.0, 548.0, 14.0, 14.0, 14.0, 14.0, 14.0, 14.0, 14.0, 14.0, -500.0, -500.0, -500.0, -500.0, 16.0, 16.0, 16.0, 16.0, 769.0, 16.0, 17.0, 17.0, -500.0, -500.0, -500.0, 5490.0, 525.0, 4202.0, 14.0, 14.0, 14.0, 14.0, 14.0, 14.0, 14.0, 14.0, 3665.0, 7670.0, -500.0, 4670.0, 3616.0, 6922.0, 6619.0, 1808.0, 15.0, 15.0, 15.0, 15.0, 15.0, 15.0, 15.0, 15.0, 7992.0, 15.0, 15.0, 16.0, 16.0, 16.0, 16.0, 16.0, 16.0, 223.0, 1232.0, 4659.0, 6895.0, 395.0, 7099.0, -500.0, 6048.0, 3936.0, -500.0, 3512.0, 123.0, 14.0, 14.0, 14.0, 15.0, 15.0, 15.0, 15.0, -500.0, 5639.0, 471.0, -500.0, 7359.0, 4049.0, 17.0, 17.0, 17.0, 17.0, 17.0, 17.0, 5053.0, 2109.0, 7183.0, 16.0, 16.0, 16.0, 16.0, 5604.0, 16.0, 16.0, 16.0, 1206.0, 6835.0, 17.0, 17.0, 17.0, 17.0, 17.0, 17.0, 17.0, 17.0, -500.0, 4067.0, 1812.0, 1170.0, 3625.0, -500.0, 6354.0, 16.0, 16.0, 17.0, 17.0, 17.0, 17.0, 17.0, 17.0, 3724.0, 480.0, 15.0, 15.0, 15.0, 15.0, 15.0, 15.0, 15.0, 16.0, -500.0, -500.0, -500.0, 5610.0, 15.0, 16.0, 16.0, 16.0, 16.0, 16.0, 16.0, 4710.0, -500.0, 4351.0, 15.0, 15.0, 15.0, 15.0, 16.0, 16.0, 16.0, 16.0, 5784.0, 3937.0, 3542.0, 15.0, 15.0, 2239.0, 15.0, 15.0, 15.0, 15.0, 16.0, 15.0, 15.0, 15.0, 15.0, 15.0, 15.0, 15.0, 15.0, 17.0, 17.0, 17.0, 17.0, 17.0, 17.0, 17.0, 17.0, 5645.0, -500.0, 17.0, 17.0, 17.0, 17.0, 17.0, 17.0, 17.0, 17.0, 16.0, 16.0, 16.0, 17.0, 17.0, 17.0, 17.0, 17.0, 7425.0, 7851.0, -500.0, 2027.0, 6306.0, 835.0, 3513.0, 14.0, 14.0, 14.0, 14.0, 14.0, 15.0, 15.0, 15.0, 6846.0, 6868.0, 7805.0, -500.0, 7274.0, -500.0, 831.0, 8394.0, -500.0, 2751.0, 733.0, -500.0, 783.0, 16.0, 16.0, 16.0, 16.0, 16.0, 16.0, 16.0, 16.0, 2455.0, -500.0, 5612.0, 14.0, 14.0, 15.0, 15.0, -500.0, 15.0, 15.0, 15.0, 2402.0, -500.0, 16.0, 16.0, 16.0, 16.0, 16.0, 16.0, 16.0, 16.0, 4119.0, 4645.0, 15.0, 15.0, 15.0, 15.0, 15.0, 15.0, 16.0, 8105.0, 1400.0, 7431.0, 15.0, 15.0, 15.0, 15.0, 15.0, 15.0, 15.0, 15.0, 17.0, 17.0, 17.0, 17.0, 17.0, 3666.0, 17.0, 17.0, 14.0, 14.0, 14.0, 14.0, 14.0, 14.0, 14.0, 14.0, 2350.0, -500.0, 491.0, 1116.0, -500.0, 692.0, 5429.0, 4745.0, 16.0, 17.0, 17.0, 17.0, 17.0, 17.0, 17.0, 17.0, -500.0, 4017.0, 3279.0, 651.0, 15.0, 5611.0, 15.0, 5769.0, 16.0, 16.0, 16.0, 16.0, 6586.0, 7699.0, 919.0, -500.0, 15.0, 15.0, 15.0, 15.0, 16.0, 16.0, 16.0, 16.0, -500.0, 6765.0, 5376.0, 2546.0, 112.0, 15.0, 15.0, 15.0, 16.0, 16.0, 16.0, 16.0, 16.0, 3909.0, 5054.0, 8655.0, 4383.0, 2824.0, 7865.0, 2823.0, 16.0, 16.0, 16.0, 16.0, 16.0, 16.0, 16.0, 16.0, 16.0, 17.0, 17.0, 17.0, 17.0, 17.0, 17.0, 17.0, 6365.0, -500.0, -500.0, -500.0, 5688.0, -500.0, 15.0, 15.0, 15.0, 15.0, 16.0, 16.0, 16.0, 16.0, 16.0, 16.0, 16.0, 16.0, 16.0, 16.0, 16.0, 16.0, 6178.0, 15.0, 15.0, 15.0, 15.0, 15.0, 15.0, 15.0, 15.0, -500.0, 886.0, 3353.0, 8562.0, 7750.0, -500.0, 5186.0, -500.0, 15.0, 15.0, 15.0, 15.0, 15.0, 15.0, 15.0, 16.0, 14.0, 14.0, 14.0, 14.0, 14.0, 14.0, 14.0, 14.0, 17.0, 17.0, 17.0, 17.0, 17.0, 17.0, 17.0, 17.0, 8080.0, 3553.0, 17.0, 17.0, 17.0, 17.0, 17.0, 17.0, 17.0, 17.0, 5537.0, -500.0, -500.0, 3967.0, -500.0, 6520.0, 15.0, 15.0, 15.0, 15.0, 15.0, 15.0, 15.0, 15.0, -500.0, 14.0, 14.0, 14.0, 14.0, 14.0, 14.0, 14.0, 14.0, 2650.0, 1335.0, 2054.0, 7068.0, 6100.0, 2636.0, 1753.0, -500.0, 17.0, 17.0, 17.0, 17.0, 17.0, 17.0, 17.0, 17.0, -500.0, -500.0, -500.0, -500.0, 6389.0, -500.0, 2419.0, 14.0, 14.0, 14.0, 14.0, 14.0, 14.0, 14.0, 14.0, -500.0, 181.0, 2033.0, 2961.0, -500.0, 3307.0, 5504.0, 4060.0, 17.0, 17.0, 17.0, -500.0, 14.0, 14.0, 14.0, 14.0, 14.0, 15.0, 15.0, 15.0, 16.0, 16.0, 16.0, 16.0, 16.0, 16.0, 16.0, 16.0, 5237.0, 16.0, 16.0, 17.0, 17.0, 17.0, 17.0, 17.0, 17.0, 16.0, 16.0, 17.0, 17.0, 17.0, 17.0, 17.0, 17.0, -500.0, 2297.0, -500.0, 5583.0, 15.0, 15.0, 15.0, 15.0, 15.0, 15.0, 16.0, 16.0, 4958.0, 6395.0, 3319.0, 7705.0, 17.0, 17.0, 17.0, 17.0, 17.0, 17.0, 17.0, 17.0, 4820.0, 2456.0, 5194.0, 5154.0, 4155.0, 7336.0, -500.0, 7195.0, -500.0, 8005.0, 5165.0, -500.0, 14.0, 14.0, 14.0, 3861.0, 14.0, 14.0, 14.0, 15.0, 2584.0, 2563.0, 5592.0, 16.0, 3771.0, 17.0, 17.0, 1188.0, 17.0, 17.0, 17.0, -500.0, 5017.0, 8034.0, 5256.0, 8173.0, 2419.0, 16.0, 16.0, 16.0, 17.0, 17.0, 17.0, 17.0, 17.0, 14.0, 14.0, 14.0, 14.0, 6962.0, 14.0, 15.0, 15.0, -500.0, -500.0, 3578.0, 7805.0, 4572.0, 5589.0, 328.0, -500.0, 1678.0, 1512.0, 6868.0, 6556.0, -500.0, -500.0, -500.0, 5430.0, 8442.0, -500.0, 16.0, 16.0, 16.0, 16.0, 16.0, 16.0, 16.0, 16.0, 4517.0, -500.0, 7525.0, -500.0, 16.0, 16.0, 16.0, 16.0, 16.0, 16.0, 16.0, 1203.0, 4260.0, -500.0, -500.0, -500.0, 17.0, 17.0, 17.0, 17.0, 17.0, 17.0, 17.0, 17.0, 7980.0, 7153.0, 16.0, 16.0, 16.0, 16.0, 16.0, 16.0, 2400.0, 16.0, 6331.0, 3715.0, -500.0, 17.0, 17.0, 17.0, 17.0, 17.0, 17.0, 17.0, 17.0, 17.0, 17.0, 17.0, 17.0, 17.0, 17.0, 17.0, 17.0, 3285.0, 8043.0, 14.0, 14.0, 14.0, 14.0, 14.0, 14.0, 15.0, 15.0, -500.0, 8250.0, -500.0, 14.0, 14.0, 15.0, 15.0, 15.0, 15.0, 15.0, 15.0, 8628.0, -500.0, 8608.0, 14.0, 14.0, 14.0, 14.0, 14.0, 14.0, 14.0, 15.0, 16.0, 17.0, 17.0, 17.0, 7016.0, 17.0, 17.0, 17.0, -500.0, -500.0, -500.0, 989.0, 359.0, 8155.0, 2090.0, 4126.0, 14.0, 14.0, 14.0, 14.0, 14.0, 14.0, 15.0, -500.0, 3791.0, 16.0, 16.0, 16.0, 16.0, 16.0, 16.0, 16.0, 16.0, 5782.0, 6292.0, 8662.0, -500.0, 16.0, 16.0, 17.0, 17.0, 17.0, 17.0, 17.0, 17.0, 1681.0, 1338.0, 8000.0, 7935.0, 5608.0, 1006.0, -500.0, 1451.0, -500.0, 622.0, 4857.0, -500.0, 2369.0, 8216.0, 16.0, 17.0, 17.0, 17.0, 17.0, 17.0, 17.0, 17.0, 16.0, 16.0, 16.0, 16.0, 16.0, 17.0, 17.0, 17.0, -500.0, 7330.0, 7289.0, -500.0, 15.0, 16.0, 16.0, 16.0, 16.0, 16.0, 16.0, 16.0, 3601.0, 4127.0, 236.0, 6707.0, 493.0, -500.0, 4682.0, 14.0, 14.0, 14.0, 14.0, 14.0, 14.0, 14.0, 14.0, 287.0, 375.0, 5195.0, 1969.0, 14.0, 14.0, 14.0, 14.0, 14.0, 15.0, 15.0, 15.0, 493.0, 5788.0, -500.0, 6413.0, -500.0, 16.0, 16.0, 16.0, 16.0, 16.0, 16.0, 16.0, 16.0, 2388.0, 5152.0, -500.0, 17.0, 17.0, 17.0, 17.0, 17.0, 17.0, 3986.0, 1715.0, 8200.0, 17.0, 17.0, 17.0, 17.0, 17.0, -500.0, 4336.0, 8299.0, 1308.0, -500.0, 3888.0, 15.0, 15.0, 15.0, 15.0, 15.0, 15.0, 16.0, 16.0, 1051.0, 17.0, 17.0, 17.0, 17.0, 17.0, 17.0, 17.0, 17.0, 15.0, 15.0, 15.0, 15.0, 15.0, 15.0, 15.0, 15.0, -500.0, 134.0, 14.0, 14.0, 14.0, 14.0, 14.0, 14.0, 14.0, 14.0, -500.0, 5897.0, -500.0, 6350.0, 2379.0, 3197.0, 15.0, 15.0, 3341.0, 15.0, 15.0, 15.0, 15.0, 15.0, 14.0, 14.0, 14.0, 14.0, 14.0, 14.0, 14.0, 14.0, 8674.0, 7123.0, 15.0, 15.0, 556.0, 15.0, 15.0, 16.0, 16.0, 16.0, 14.0, 14.0, 14.0, 14.0, 14.0, 14.0, 15.0, 15.0, 1083.0, 14.0, 14.0, 14.0, 15.0, 15.0, 15.0, 15.0, 15.0, -500.0, -500.0, 1447.0, 14.0, 14.0, 14.0, 14.0, 14.0, 14.0, 14.0, 14.0, 7032.0, 5579.0, 1692.0, 4204.0, -500.0, 15.0, 15.0, 15.0, 15.0, 15.0, 16.0, 16.0, 16.0, 7968.0, 17.0, 17.0, 17.0, 17.0, 17.0, 17.0, -500.0, 17.0, 1148.0, 2980.0, 4626.0, 3492.0, 17.0, 17.0, 17.0, 17.0, 17.0, 17.0, 17.0, 17.0, 1323.0, -500.0, 2799.0, 14.0, 14.0, 14.0, 14.0, 14.0, 14.0, 14.0, 14.0, 6426.0, 2388.0, 186.0, 5498.0, -500.0, 16.0, 16.0, 16.0, 16.0, 17.0, 17.0, 17.0, 17.0, 7060.0, 1752.0, 1816.0, 17.0, 17.0, 17.0, 609.0, 17.0, 17.0, 17.0, 17.0, -500.0, 2514.0, 6276.0, 4365.0, 1692.0, 8421.0, 8153.0, 4609.0, 1625.0, -500.0, 14.0, 14.0, 14.0, 14.0, 14.0, 14.0, 14.0, 14.0, -500.0, 15.0, 15.0, 15.0, 15.0, 15.0, 15.0, 15.0, 15.0, 2614.0, -500.0, 14.0, 14.0, -500.0, 14.0, 14.0, 14.0, 15.0, 15.0, 4603.0, -500.0, -500.0, 7026.0, -500.0, -500.0, 4010.0, 15.0, 15.0, 15.0, 624.0, 15.0, 15.0, 15.0, 15.0, 1143.0, -500.0, 5870.0, 3607.0, 14.0, 14.0, 651.0, 14.0, 14.0, 14.0, 14.0, 15.0, 1206.0, 8505.0, 528.0, -500.0, 14.0, 14.0, 14.0, 14.0, 14.0, 14.0, 14.0, 14.0, 14.0, 15.0, 15.0, 15.0, 15.0, 15.0, 15.0, 15.0, 15.0, 15.0, 15.0, 16.0, 16.0, 16.0, 16.0, 16.0, 16.0, 16.0, 16.0, 16.0, 16.0, 16.0, 16.0, 16.0, 1578.0, 4404.0, 4414.0, -500.0, 16.0, 16.0, 16.0, 16.0, 16.0, 16.0, 16.0, 16.0, 6704.0, -500.0, 2509.0, -500.0, -500.0, 15.0, 15.0, 15.0, 15.0, 15.0, 16.0, 16.0, 16.0, -500.0, -500.0, -500.0, 7456.0, 7353.0, -500.0, 3075.0, 2081.0, 925.0, -500.0, -500.0, 4021.0, 16.0, 16.0, 16.0, 16.0, 16.0, 16.0, 16.0, 16.0, 3602.0, 15.0, 15.0, 15.0, 15.0, 15.0, 15.0, 15.0, 15.0, -500.0, 5930.0, 14.0, 14.0, 14.0, 14.0, 14.0, 14.0, 14.0, 14.0, -500.0, -500.0, 306.0, 7197.0, -500.0, 1066.0, 4527.0, 6510.0, -500.0, 1062.0, 14.0, 14.0, 14.0, 14.0, 15.0, 15.0, 15.0, 15.0, 5221.0, 7166.0, 4391.0, 14.0, 14.0, 14.0, 14.0, 14.0, 14.0, 14.0, 14.0, 16.0, 16.0, 16.0, 16.0, 16.0, 16.0, 16.0, 16.0, 6651.0, 1227.0, 7112.0, 3214.0, 8472.0, 17.0, 17.0, 17.0, 17.0, 17.0, 17.0, 17.0, 17.0, 836.0, -500.0, 7553.0, 7504.0, 1357.0, 3284.0, 15.0, 15.0, 15.0, 15.0, 15.0, 15.0, 16.0, 16.0, 2721.0, 6385.0, 2997.0, -500.0, 14.0, 15.0, 15.0, 15.0, 15.0, 15.0, 15.0, 15.0, -500.0, 17.0, 17.0, 17.0, 17.0, 17.0, 17.0, 17.0, 17.0, 2451.0, 3480.0, 3357.0, -500.0, 711.0, 8632.0, 1388.0, 5696.0, -500.0, -500.0, -500.0, -500.0, 15.0, 15.0, 15.0, 15.0, 15.0, 15.0, 15.0, 15.0, 5524.0, 16.0, 16.0, 16.0, 16.0, 16.0, 16.0, 17.0, 17.0, 356.0, 6608.0, 5705.0, 15.0, 15.0, 15.0, 15.0, 15.0, -500.0, 16.0, 16.0, 14.0, 14.0, 8567.0, 14.0, 14.0, 15.0, 15.0, 15.0, 3132.0, 1433.0, 15.0, 15.0, 15.0, 15.0, 15.0, 15.0, 15.0, 16.0, 15.0, 15.0, 15.0, 15.0, 15.0, 15.0, 16.0, 16.0, 1695.0, 17.0, 17.0, 8639.0, 17.0, 8582.0, 17.0, 17.0, 17.0, 17.0, 17.0, 17.0, 17.0, 14.0, 14.0, 14.0, 14.0, 14.0, 14.0, 14.0, 14.0, 15.0, 15.0, 15.0, 15.0, 15.0, 15.0, 15.0, 15.0, 2275.0, 4959.0, 16.0, 17.0, 17.0, 17.0, 17.0, 17.0, 17.0, 17.0, 14.0, 14.0, 14.0, 15.0, 15.0, 15.0, 15.0, 15.0, -500.0, -500.0, -500.0, 3834.0, 623.0, 7295.0, -500.0, 4670.0, 3345.0, -500.0, -500.0, 3493.0, 182.0, 16.0, 16.0, 17.0, 17.0, 17.0, 17.0, 17.0, 17.0, 15.0, 16.0, 16.0, 16.0, 16.0, 16.0, 16.0, 16.0, 126.0, 6744.0, 4390.0, -500.0, -500.0, 7715.0, -500.0, -500.0, -500.0, 6130.0, -500.0, -500.0, 16.0, 16.0, 16.0, 16.0, 16.0, 16.0, 16.0, 16.0, 6471.0, 7723.0, -500.0, 3768.0, 14.0, 14.0, 14.0, 15.0, 15.0, 15.0, 15.0, 15.0, 4178.0, 4630.0, 16.0, 17.0, 17.0, 17.0, 17.0, 17.0, 17.0, 17.0, 1420.0, 6417.0, -500.0, 2560.0, 3985.0, 3750.0, -500.0, 4444.0, 234.0, -500.0, 15.0, 15.0, 15.0, 15.0, 16.0, 16.0, 16.0, 16.0, 3795.0, 637.0, -500.0, 6649.0, -500.0, 4380.0, 5714.0, -500.0, 15.0, 15.0, 15.0, 16.0, 16.0, 16.0, 16.0, 16.0, 7693.0, -500.0, 2174.0, -500.0, 15.0, 2366.0, 5781.0, 15.0, 15.0, 15.0, 16.0, 16.0, 17.0, 17.0, 17.0, 17.0, 17.0, 17.0, 17.0, 17.0, 17.0, -500.0, 15.0, 15.0, 15.0, 15.0, 15.0, 15.0, 16.0, 16.0, 5677.0, -500.0, 3038.0, -500.0, 4897.0, -500.0, 7937.0, 365.0, -500.0, 14.0, 14.0, 14.0, 14.0, 14.0, 7640.0, 14.0, 14.0, 6408.0, -500.0, 1112.0, 3546.0, 8424.0, 16.0, 16.0, 16.0, 16.0, 16.0, 16.0, 17.0, 17.0, 14.0, 14.0, 14.0, 14.0, -500.0, 14.0, 14.0, 14.0, 124.0, -500.0, 14.0, 15.0, 15.0, 15.0, 15.0, 3502.0, 5747.0, 15.0, 8082.0, 7564.0, 1436.0, 15.0, 15.0, 15.0, 15.0, 15.0, 15.0, 15.0, 15.0, 14.0, 14.0, 14.0, 15.0, 15.0, 15.0, 15.0, 15.0, -500.0, -500.0, 17.0, 17.0, 17.0, -500.0, -500.0, 15.0, 15.0, 15.0, 15.0, 15.0, 15.0, 3519.0, 16.0, 6175.0, 2091.0, 16.0, 16.0, 16.0, 16.0, 16.0, 16.0, 16.0, 16.0, 8249.0, -500.0, 7316.0, 2578.0, 15.0, 15.0, 16.0, 16.0, 16.0, 16.0, 16.0, 16.0, -500.0, 4687.0, 4163.0, 5796.0, 5123.0, 6943.0, 17.0, -500.0, -500.0, 4517.0, 8338.0, -500.0, 16.0, 16.0, 16.0, 16.0, 16.0, 17.0, 17.0, 17.0, 7525.0, 6345.0, 1364.0, -500.0, 6777.0, 17.0, 17.0, 4782.0, 15.0, 15.0, 15.0, 15.0, 15.0, 15.0, 16.0, 16.0, 15.0, 16.0, 16.0, 16.0, 16.0, 16.0, 16.0, 5981.0, 963.0, 5907.0, 17.0, 17.0, 17.0, 6978.0, 673.0, 17.0, 17.0, 17.0, 16.0, 16.0, 16.0, 17.0, 17.0, 17.0, 17.0, 17.0, -500.0, -500.0, 8639.0, -500.0, 16.0, 16.0, 16.0, 16.0, 16.0, 16.0, 16.0, 16.0, -500.0, 14.0, 14.0, 14.0, 14.0, 14.0, 14.0, 14.0, 14.0, 14.0, 14.0, 14.0, 14.0, 14.0, 14.0, 14.0, 14.0, -500.0, -500.0, 6322.0, 6384.0, 3036.0, 16.0, 16.0, 16.0, 16.0, 16.0, 16.0, 16.0, 16.0, 1270.0, 16.0, 16.0, 16.0, 16.0, 16.0, 16.0, 16.0, 16.0, -500.0, 16.0, 16.0, 16.0, 16.0, 17.0, 17.0, 17.0, 17.0, 8561.0, -500.0, -500.0, 634.0, -500.0, 2352.0, 6800.0, 118.0, -500.0, 14.0, 14.0, 15.0, 15.0, 15.0, 15.0, 15.0, 15.0, 14.0, 14.0, 14.0, 14.0, 14.0, 14.0, 14.0, 14.0, 1010.0, 1692.0, 15.0, 15.0, 15.0, 15.0, 15.0, 15.0, 15.0, 15.0, 2395.0, 16.0, 16.0, 16.0, 16.0, 16.0, 17.0, 17.0, 17.0, 15.0, 15.0, 15.0, 15.0, 16.0, 16.0, 16.0, 16.0, 15.0, 15.0, 15.0, 15.0, 15.0, 15.0, 15.0, 15.0, -500.0, 6781.0, 5520.0, -500.0, 7042.0, 8592.0, 1868.0, -500.0, 1436.0, 4307.0, 16.0, 16.0, 17.0, 17.0, 17.0, 17.0, 17.0, 17.0, 2764.0, 15.0, 15.0, 15.0, 15.0, 15.0, 15.0, 16.0, 16.0, -500.0, 6796.0, 6646.0, 142.0, 16.0, 16.0, 16.0, 16.0, 16.0, 16.0, 16.0, 17.0, 14.0, 14.0, 14.0, 14.0, 14.0, 14.0, 14.0, 14.0, 6141.0, 1852.0, 4416.0, 8466.0, 4576.0, 17.0, 17.0, 17.0, 3410.0, 17.0, 8151.0, 890.0, 3581.0, 6925.0, 5479.0, -500.0, -500.0, 1102.0, 8669.0, 5074.0, 2463.0, -500.0, -500.0, -500.0, 15.0, 15.0, 15.0, 15.0, 15.0, 15.0, 15.0, 16.0, -500.0, -500.0, 14.0, 14.0, 14.0, 14.0, 14.0, 14.0, 14.0, 15.0, 3940.0, 5508.0, 14.0, 14.0, 14.0, 14.0, 14.0, 14.0, 14.0, 14.0, -500.0, 1788.0, 14.0, 14.0, 14.0, 14.0, 14.0, 15.0, 15.0, 15.0, 216.0, -500.0, 17.0, 17.0, 15.0, 16.0, 16.0, 5173.0, 16.0, 16.0, 16.0, 16.0, -500.0, 16.0, 16.0, -500.0, 16.0, 16.0, 16.0, 16.0, 16.0, 17.0, 17.0, 17.0, 17.0, 17.0, 17.0, 17.0, 17.0, 7965.0, -500.0, 7987.0, 14.0, 14.0, -500.0, 14.0, 14.0, 14.0, 14.0, 14.0, 6666.0, 921.0, 4719.0, 14.0, 14.0, 14.0, 14.0, 14.0, 14.0, 14.0, 14.0, 14.0, 14.0, 14.0, 14.0, 14.0, 14.0, 14.0, 14.0, -500.0, 16.0, 16.0, 16.0, 16.0, 16.0, 16.0, -500.0, 16.0, 17.0, 17.0, 17.0, 17.0, 7092.0, 1657.0, 5738.0, 349.0, -500.0, 15.0, 15.0, 15.0, 15.0, 15.0, 15.0, 15.0, 15.0, 6995.0, -500.0, -500.0, -500.0, 7441.0, -500.0, 16.0, 17.0, 17.0, 17.0, 17.0, 17.0, 17.0, 17.0, 14.0, 14.0, 14.0, 14.0, 14.0, 14.0, 14.0, 14.0, 5976.0, -500.0, -500.0, 762.0, 17.0, 17.0, 17.0, 17.0, 17.0, 17.0, 17.0, 17.0, -500.0, -500.0, 6485.0, 7702.0, -500.0, -500.0, 5708.0, 946.0, 16.0, 16.0, 16.0, 16.0, 17.0, 17.0, 17.0, -500.0, -500.0, 4564.0, 3093.0, -500.0, 16.0, 16.0, 16.0, 16.0, 16.0, 16.0, 16.0, 17.0, 6767.0, 16.0, 16.0, 16.0, 17.0, 17.0, 17.0, 17.0, 17.0, -500.0, 15.0, 15.0, 16.0, 16.0, 16.0, 16.0, 16.0, 16.0, -500.0, 5195.0, -500.0, 3933.0, 16.0, 17.0, 17.0, 17.0, 17.0, 17.0, 17.0, 17.0, -500.0, 3458.0, 14.0, 14.0, 14.0, 14.0, 1300.0, 14.0, 14.0, 14.0, 5851.0, 774.0, 2577.0, 17.0, 17.0, 17.0, 17.0, 17.0, 17.0, 17.0, 17.0, 2400.0, 1811.0, -500.0, 15.0, 16.0, 16.0, 16.0, 16.0, 16.0, 16.0, 16.0, -500.0, 7480.0, 7113.0, 6273.0, 7235.0, 1452.0, 5788.0, -500.0, 4058.0, 7520.0, 7414.0, 4370.0, 16.0, 16.0, 17.0, 17.0, 17.0, 17.0, 17.0, 17.0, 1853.0, 4649.0, 7845.0, -500.0, -500.0, 2864.0, -500.0, -500.0, 15.0, 15.0, 15.0, 15.0, 15.0, 15.0, 15.0, 15.0, -500.0, 7925.0, 5550.0, 14.0, 15.0, 15.0, 15.0, 15.0, 15.0, 15.0, 15.0, 4165.0, 6411.0, 14.0, 14.0, 14.0, 14.0, 14.0, 14.0, 14.0, 14.0, 4063.0, 3215.0, 169.0, 16.0, 16.0, 16.0, 16.0, 16.0, 16.0, 16.0, 16.0, 99.0, 16.0, 16.0, -500.0, 16.0, 16.0, 16.0, 16.0, 16.0, 6331.0, 14.0, 14.0, 14.0, 14.0, 14.0, 15.0, 15.0, 15.0, 3055.0, -500.0, 1248.0, 586.0, -500.0, 16.0, 16.0, 16.0, 16.0, 16.0, 16.0, 16.0, 17.0, -500.0, 16.0, 16.0, 2386.0, 16.0, 16.0, 16.0, 16.0, 16.0, -500.0, 5649.0, -500.0, 8520.0, 14.0, 14.0, 14.0, 14.0, 14.0, 14.0, 14.0, 14.0, 16.0, 16.0, 16.0, 16.0, 16.0, 17.0, 17.0, 17.0, -500.0, 100.0, -500.0, 3978.0, 3244.0, 3778.0, 879.0, 1024.0, 15.0, 15.0, 15.0, 15.0, 15.0, 15.0, 15.0, 16.0, 15.0, 16.0, 16.0, 16.0, 16.0, 16.0, 16.0, 16.0, 423.0, 3938.0, -500.0, 15.0, 15.0, 15.0, 16.0, 16.0, 16.0, 16.0, 16.0, 2882.0, 1083.0, -500.0, 6036.0, 6037.0, 1484.0, 4643.0, 14.0, 14.0, 14.0, 14.0, 14.0, 14.0, 14.0, 14.0, 14.0, 14.0, 14.0, 4510.0, 15.0, 15.0, 15.0, 15.0, 3146.0, 8514.0, 15.0, 15.0, 15.0, 15.0, 15.0, 15.0, 16.0, 16.0, 14.0, 2220.0, 14.0, 14.0, 14.0, 14.0, 15.0, 15.0, -500.0, 16.0, 16.0, 16.0, 16.0, 16.0, 16.0, 17.0, 17.0, -500.0, 6360.0, 362.0, 5996.0, 6892.0, 14.0, 14.0, 14.0, 14.0, 14.0, 14.0, 14.0, 14.0, 2159.0, 5001.0, 16.0, 17.0, 17.0, 17.0, 17.0, 17.0, 17.0, 17.0, 17.0, 17.0, 576.0, 14.0, 14.0, 14.0, 14.0, 14.0, 14.0, 14.0, 14.0, 5018.0, 387.0, 16.0, 16.0, 16.0, 16.0, 16.0, 16.0, 16.0, 16.0, -500.0, -500.0, 17.0, 17.0, 17.0, 17.0, 17.0, 17.0, 17.0, 17.0, 17.0, 17.0, 4890.0, 5507.0, -500.0, 4661.0, -500.0, 16.0, 16.0, 16.0, 16.0, 16.0, 16.0, 16.0, 16.0, 1386.0, 330.0, -500.0, 6074.0, 6970.0, 8592.0, 14.0, 14.0, 14.0, 14.0, 14.0, 14.0, 14.0, 14.0, 15.0, 15.0, 15.0, 15.0, 15.0, 15.0, 15.0, 15.0, 102.0, 5906.0, 203.0, 15.0, 15.0, 15.0, 16.0, 16.0, 16.0, 16.0, 16.0, -500.0, 3640.0, 8124.0, 4484.0, -500.0, 17.0, 17.0, 17.0, 17.0, 17.0, 2778.0, -500.0, -500.0, -500.0, 2434.0, -500.0, 742.0, 7794.0, 4177.0, -500.0, 4246.0, 14.0, 14.0, 14.0, 14.0, 14.0, 14.0, 14.0, 14.0, 208.0, 7508.0, 5765.0, 7710.0, 1734.0, -500.0, -500.0, -500.0, 15.0, 15.0, 5202.0, 15.0, 15.0, 16.0, 16.0, 16.0, 14.0, 14.0, 15.0, 15.0, 15.0, 15.0, 15.0, 15.0, 853.0, 3450.0, -500.0, 1630.0, -500.0, 14.0, 14.0, 14.0, 14.0, 15.0, 15.0, 15.0, 3843.0, 7038.0, 8384.0, 17.0, 17.0, 17.0, 17.0, 17.0, 17.0, 17.0, 17.0, 17.0, 17.0, -500.0, 8179.0, 14.0, 14.0, 14.0, 14.0, 14.0, 14.0, 15.0, 15.0, 14.0, 14.0, 15.0, 15.0, 15.0, 15.0, 15.0, 15.0, 16.0, 5551.0, 16.0, 16.0, 16.0, 16.0, 17.0, 17.0, 6593.0, 7490.0, 2574.0, 1644.0, 14.0, 14.0, 14.0, 15.0, 15.0, 15.0, 15.0, 15.0, 15.0, 15.0, 15.0, 15.0, 15.0, 15.0, 15.0, 16.0, 111.0, 4975.0, 15.0, 15.0, 15.0, 15.0, 15.0, 15.0, 15.0, 15.0, 5478.0, -500.0, 15.0, 15.0, 15.0, 15.0, 15.0, 15.0, 1176.0, 15.0, -500.0, 14.0, 14.0, 14.0, 14.0, 14.0, 15.0, 15.0, 15.0, 1418.0, -500.0, 4679.0, 17.0, 17.0, 17.0, 17.0, 17.0, 17.0, 17.0, 17.0, -500.0, -500.0, 14.0, 14.0, 14.0, 14.0, 14.0, 14.0, 14.0, 5751.0, 2546.0, 3779.0, 6611.0, 325.0, 17.0, 17.0, 17.0, 17.0, 17.0, 17.0, 7879.0, 17.0, 6227.0, 6111.0, 14.0, 14.0, 14.0, 14.0, 14.0, 15.0, 15.0, 15.0, 573.0, 16.0, 16.0, 16.0, 17.0, 17.0, 17.0, 17.0, 17.0, 3726.0, 17.0, 17.0, 17.0, 17.0, 17.0, 17.0, -500.0, 6722.0, 15.0, 15.0, 15.0, 15.0, 15.0, 15.0, 15.0, 15.0, 4732.0, -500.0, -500.0, 1754.0, -500.0, 16.0, 16.0, 16.0, 16.0, 16.0, 16.0, 16.0, 16.0, 3966.0, 2437.0, -500.0, 14.0, 14.0, 14.0, 14.0, 14.0, 14.0, 14.0, 15.0, 2212.0, 8081.0, -500.0, -500.0, -500.0, 4194.0, 3119.0, 7549.0, 4583.0, 3452.0, 1908.0, 3988.0, 5621.0, 15.0, 16.0, 16.0, 16.0, 16.0, 16.0, 16.0, 16.0, -500.0, 14.0, 14.0, 14.0, 14.0, 14.0, 14.0, 15.0, 15.0, 7178.0, 5741.0, 4774.0, 16.0, 16.0, 16.0, 16.0, 16.0, 16.0, 16.0, 16.0, 5116.0, 14.0, 14.0, 14.0, 14.0, 14.0, 14.0, 15.0, 15.0, 3378.0, 8302.0, 7651.0, 15.0, 15.0, 15.0, 15.0, 15.0, 15.0, 15.0, 15.0, 404.0, -500.0, 16.0, 16.0, 16.0, 16.0, 16.0, 16.0, 17.0, 17.0, -500.0, 3023.0, 5032.0, 4787.0, 305.0, -500.0, 15.0, 15.0, 15.0, 15.0, 15.0, 15.0, 15.0, 16.0, -500.0, 4107.0, -500.0, 381.0, 8623.0, -500.0, 16.0, 16.0, 16.0, 16.0, 16.0, 16.0, 16.0, 16.0, -500.0, 6407.0, 3675.0, 15.0, 15.0, 15.0, 15.0, 16.0, 16.0, 16.0, 16.0, 1265.0, 15.0, 15.0, 15.0, 15.0, 15.0, 15.0, 15.0, 16.0, 17.0, 399.0, 2461.0, -500.0, 17.0, 6765.0, 2977.0, -500.0, -500.0, 3490.0, 438.0, 1328.0, 14.0, 15.0, 15.0, 15.0, 15.0, 15.0, 15.0, 15.0, 2037.0, -500.0, 1609.0, 7325.0, 8682.0, 4470.0, 899.0, 5532.0, -500.0, -500.0, 4083.0, 3096.0, 1971.0, 1094.0, 1294.0, 7736.0, 6366.0, 5287.0, -500.0, 15.0, 15.0, 15.0, 15.0, 16.0, 16.0, 16.0, 16.0, 14.0, 14.0, 14.0, 14.0, 14.0, 14.0, 14.0, 14.0, 4244.0, -500.0, 3853.0, 4214.0, 1402.0, 2672.0, 5008.0, -500.0, 2155.0, 2756.0, 4846.0, 7773.0, 17.0, 17.0, 17.0, 17.0, 17.0, 17.0, 17.0, 2182.0, 14.0, 15.0, 15.0, 15.0, 4687.0, 15.0, 15.0, 15.0, -500.0, -500.0, -500.0, 5994.0, 4980.0, 6301.0, -500.0, 17.0, 17.0, 3363.0, 17.0, 17.0, 8663.0, 1520.0, -500.0, 14.0, 15.0, 15.0, 15.0, 15.0, 15.0, 15.0, 15.0, 678.0, 4056.0, 7279.0, 15.0, 15.0, 15.0, 15.0, 15.0, 15.0, 16.0, 16.0, 828.0, 4076.0, 15.0, 15.0, 15.0, 16.0, 16.0, 16.0, 16.0, 16.0, 15.0, 15.0, 15.0, 15.0, 15.0, 15.0, 15.0, 15.0, 1491.0, 6697.0, 17.0, 17.0, 17.0, 17.0, 17.0, 5340.0, 813.0, 14.0, 14.0, 14.0, 15.0, 15.0, 15.0, 15.0, 15.0, 6001.0, -500.0, -500.0, 5288.0, 6197.0, -500.0, 5177.0, 15.0, 15.0, 15.0, 15.0, 15.0, 15.0, 15.0, 15.0, -500.0, 7014.0, 15.0, 15.0, 15.0, 15.0, 15.0, 15.0, 15.0, 15.0, 1686.0, 2382.0, 1378.0, 2650.0, -500.0, 3264.0, -500.0, 6006.0, 4736.0, 15.0, 15.0, 16.0, 16.0, 16.0, 16.0, 16.0, 16.0, 4213.0, 532.0, 506.0, -500.0, 16.0, 16.0, 16.0, 3276.0, 16.0, 16.0, -500.0, 17.0, 4525.0, 6653.0, 8306.0, 16.0, 16.0, 16.0, 17.0, 17.0, 17.0, 17.0, 17.0, 4177.0, 16.0, 16.0, 16.0, 16.0, 16.0, 16.0, 16.0, 16.0, 5117.0, 17.0, 17.0, 17.0, 17.0, 2048.0, 3701.0, 14.0, 15.0, 15.0, 15.0, 15.0, 15.0, 15.0, 15.0, 95.0, 1387.0, 6799.0, 15.0, 15.0, 15.0, 15.0, 15.0, 15.0, 15.0, 15.0, 267.0, 14.0, 15.0, 15.0, 15.0, 15.0, 15.0, 15.0, 15.0, -500.0, 1786.0, 14.0, 14.0, 14.0, 14.0, 14.0, 14.0, 14.0, 14.0, 14.0, 15.0, 15.0, 15.0, 15.0, 15.0, 15.0, 15.0, 16.0, 16.0, 16.0, 16.0, 16.0, 16.0, 16.0, 16.0, 1357.0, -500.0, 6799.0, 7787.0, 7797.0, -500.0, 2650.0, -500.0, 4590.0, 6378.0, 3369.0, -500.0, 15.0, 15.0, 15.0, 16.0, 16.0, 16.0, 16.0, 16.0, 5376.0, -500.0, 4542.0, -500.0, 1366.0, 540.0, 15.0, 15.0, 15.0, 15.0, 16.0, 16.0, 16.0, 16.0, 17.0, 17.0, 17.0, 17.0, 17.0, 17.0, 17.0, 17.0, 3899.0, 6770.0, 3967.0, 1497.0, 7377.0, 16.0, 16.0, 16.0, 16.0, 16.0, 16.0, 16.0, 16.0, 14.0, 14.0, 14.0, 14.0, 14.0, 14.0, 14.0, 15.0, 6550.0, -500.0, 5539.0, 14.0, 14.0, 14.0, 14.0, 14.0, 14.0, 15.0, 15.0, 7133.0, 16.0, 16.0, 16.0, 16.0, 5156.0, 16.0, 16.0, 16.0, -500.0, 15.0, 15.0, 15.0, 16.0, 16.0, 16.0, 16.0, 16.0, 5742.0, 17.0, 17.0, 17.0, 17.0, 17.0, 16.0, 16.0, 16.0, 17.0, 17.0, 17.0, 17.0, 17.0, 16.0, 16.0, 16.0, 16.0, 16.0, 16.0, 16.0, 17.0, -500.0, 14.0, 15.0, 15.0, 15.0, 15.0, 15.0, 15.0, 15.0, 1363.0, 1095.0, 1648.0, 5018.0, 14.0, 14.0, 14.0, 14.0, 14.0, 14.0, 14.0, 15.0, 1985.0, 4607.0, 993.0, -500.0, -500.0, 1330.0, 16.0, 16.0, 16.0, 16.0, 16.0, 16.0, 16.0, 16.0, 5066.0, 14.0, 14.0, 14.0, 14.0, 14.0, 14.0, 15.0, 15.0, 16.0, 16.0, 16.0, 16.0, 16.0, 16.0, 16.0, 16.0, 4307.0, -500.0, 6463.0, 6349.0, 14.0, 14.0, 14.0, 14.0, 14.0, 15.0, 2988.0, 15.0, -500.0, 15.0, 15.0, 15.0, 15.0, 15.0, 15.0, 15.0, 17.0, 6691.0, 3145.0, 793.0, -500.0, -500.0, 1119.0, -500.0, 8159.0, 8396.0, -500.0, -500.0, -500.0, 3193.0, 3085.0, 6971.0, -500.0, 5959.0, -500.0, 1843.0, 449.0, 17.0, 5377.0, 17.0, 17.0, 17.0, 17.0, 17.0, 17.0, -500.0, 4387.0, 5902.0, -500.0, -500.0, 620.0, 514.0, 14.0, 14.0, 14.0, 14.0, 14.0, 14.0, 15.0, 15.0, -500.0, 252.0, 6915.0, 3642.0, -500.0, -500.0, -500.0, -500.0, -500.0, -500.0, -500.0, 2974.0, -500.0, -500.0, 6381.0, 652.0, 1367.0, -500.0, 553.0, 16.0, 16.0, 16.0, 17.0, 17.0, 17.0, 17.0, 17.0, 1355.0, 4277.0, 16.0, 17.0, 17.0, 17.0, 17.0, 17.0, 17.0, 17.0, -500.0, 7713.0, 17.0, 17.0, 17.0, 17.0, 15.0, 15.0, 15.0, 16.0, 8291.0, 8154.0, 16.0, 16.0, 7933.0, -500.0, 15.0, 15.0, 15.0, 15.0, 15.0, 15.0, 15.0, 15.0, 2347.0, -500.0, -500.0, 17.0, 17.0, 17.0, 6098.0, 17.0, 17.0, -500.0, 2731.0, 3742.0, 2593.0, 4232.0, -500.0, 5909.0, -500.0, 15.0, 16.0, 16.0, 16.0, 16.0, 16.0, 16.0, 16.0, 5287.0, -500.0, -500.0, 2171.0, -500.0, 6704.0, -500.0, 4120.0, -500.0, 15.0, 15.0, 15.0, 15.0, 15.0, 15.0, 15.0, 15.0, -500.0, 2449.0, -500.0, -500.0, 4311.0, 8296.0, 7556.0, 1404.0, -500.0, -500.0, -500.0, 15.0, 15.0, 15.0, 15.0, 15.0, 15.0, 15.0, 16.0, 17.0, 17.0, 17.0, 17.0, 17.0, 17.0, 7856.0, 640.0, 14.0, 14.0, 14.0, 14.0, 14.0, 14.0, 14.0, 14.0, 2847.0, 2093.0, 14.0, 14.0, 15.0, 15.0, 15.0, 15.0, 15.0, 15.0, 16.0, 17.0, 17.0, 17.0, 17.0, 17.0, 17.0, 17.0, 5109.0, -500.0, -500.0, -500.0, -500.0, 1571.0, 14.0, 14.0, 14.0, 15.0, 15.0, 15.0, 15.0, -500.0, 846.0, 1435.0, 17.0, 17.0, 17.0, 17.0, 17.0, 17.0, 8333.0, -500.0, 16.0, 16.0, 16.0, 16.0, 16.0, 16.0, 17.0, 17.0, -500.0, -500.0, 15.0, 15.0, 15.0, 15.0, 15.0, 15.0, 15.0, 15.0, -500.0, -500.0, -500.0, -500.0, 6863.0, 655.0, 16.0, 16.0, 16.0, 16.0, 16.0, 17.0, 17.0, 17.0, 6262.0, 4914.0, -500.0, 1053.0, -500.0, -500.0, -500.0, 3747.0, 4931.0, 7315.0, 292.0, 2499.0, 4847.0, -500.0, -500.0, 736.0, 14.0, 14.0, 14.0, 14.0, 15.0, 15.0, 15.0, 15.0, -500.0, -500.0, 2858.0, -500.0, 6633.0, -500.0, 15.0, -500.0, 15.0, 15.0, 15.0, 15.0, 16.0, 16.0, 17.0, 17.0, 17.0, 17.0, 17.0, 17.0, 17.0, 17.0, -500.0, 7286.0, 16.0, 16.0, 16.0, 16.0, 16.0, 16.0, 16.0, 17.0, 14.0, 14.0, 14.0, 14.0, -500.0, 14.0, 14.0, 14.0, -500.0, 2989.0, 16.0, 16.0, 16.0, 16.0, 16.0, 16.0, 16.0, 16.0, 4135.0, 3639.0, -500.0, 4746.0, 1787.0, 16.0, 16.0, 16.0, 16.0, 16.0, 16.0, 16.0, -500.0, 14.0, 15.0, 15.0, 15.0, 15.0, 15.0, 15.0, 15.0, -500.0, 4298.0, -500.0, 2980.0, 3492.0, 8049.0, -500.0, -500.0, 2696.0, 6909.0, 7894.0, 17.0, 17.0, 15.0, 15.0, 15.0, 15.0, 15.0, 15.0, 15.0, 15.0, 8525.0, 4682.0, 16.0, 16.0, 16.0, 16.0, 16.0, 17.0, 17.0, 17.0, 1947.0, 7765.0, 8004.0, 8234.0, -500.0, 17.0, 17.0, 17.0, 17.0, 17.0, 17.0, 17.0, 17.0, 14.0, 14.0, 14.0, 14.0, 14.0, 14.0, 14.0, 14.0, -500.0, 6708.0, 2404.0, -500.0, 813.0, 6506.0, 1661.0, 8246.0, -500.0, 7923.0, 15.0, 15.0, 15.0, 15.0, 15.0, 16.0, 16.0, 16.0, 2047.0, 16.0, 17.0, 17.0, 17.0, 17.0, 17.0, 17.0, 17.0, 5714.0, 3365.0, -500.0, 14.0, 14.0, 14.0, 14.0, 14.0, 14.0, 14.0, 14.0, 4863.0, -500.0, 14.0, 14.0, 14.0, 14.0, 14.0, 14.0, 14.0, 14.0, -500.0, 701.0, 15.0, 15.0, 15.0, 15.0, 15.0, 15.0, 16.0, 16.0, 2184.0, 15.0, 15.0, 15.0, 15.0, 15.0, 15.0, 15.0, 15.0, 2451.0, 8450.0, -500.0, 17.0, 17.0, 17.0, 17.0, 17.0, 14.0, 14.0, 14.0, 14.0, 14.0, 14.0, 14.0, 14.0, 581.0, 502.0, 14.0, 14.0, 14.0, 14.0, 14.0, 14.0, 14.0, 14.0, 15.0, 15.0, 15.0, 15.0, 15.0, 15.0, 15.0, 15.0, 1618.0, 15.0, 15.0, 15.0, 15.0, 15.0, 16.0, 16.0, 16.0, 2077.0, 737.0, 8251.0, -500.0, 16.0, 16.0, 16.0, 16.0, 16.0, 16.0, 17.0, 17.0, 2305.0, 7298.0, 2461.0, 221.0, 14.0, 14.0, 14.0, 14.0, 14.0, 14.0, 14.0, 14.0, 6663.0, 6657.0, -500.0, 14.0, 14.0, 14.0, 14.0, 14.0, 14.0, 14.0, 6588.0, 3463.0, 6337.0, 6516.0, -500.0, -500.0, 14.0, 14.0, 14.0, 14.0, 14.0, 14.0, 15.0, 15.0, -500.0, 15.0, 15.0, 15.0, 15.0, 15.0, 15.0, 16.0, 16.0, -500.0, 3984.0, -500.0, 16.0, 16.0, 16.0, 16.0, 16.0, 16.0, 16.0, 16.0, 2076.0, -500.0, -500.0, 2513.0, -500.0, -500.0, 17.0, 17.0, 17.0, 17.0, 17.0, 17.0, 17.0, 17.0, 14.0, 14.0, 14.0, 14.0, -500.0, 15.0, 15.0, 15.0, -500.0, 5342.0, 6280.0, 3237.0, -500.0, 3454.0, 4622.0, 5712.0, -500.0, 275.0, 17.0, 17.0, 17.0, 17.0, 240.0, 17.0, 17.0, 17.0, 17.0, 5868.0, 568.0, 16.0, 16.0, 16.0, 16.0, 16.0, 16.0, 16.0, 17.0, -500.0, 2096.0, 2170.0, 14.0, 14.0, 14.0, 14.0, 14.0, 14.0, 14.0, 14.0, 8235.0, 986.0, 5471.0, 1785.0, -500.0, 1593.0, 2474.0, -500.0, 17.0, 17.0, 16.0, 17.0, 17.0, 17.0, 17.0, 17.0, 17.0, 17.0, -500.0, 2933.0, 17.0, 17.0, 17.0, 17.0, 17.0, 6731.0, -500.0, 7131.0, -500.0, 7444.0, 5046.0, 4133.0, 3258.0, 4407.0, -500.0, 14.0, 14.0, 14.0, 14.0, 14.0, 14.0, 14.0, 14.0, 7715.0, 1565.0, 6159.0, 14.0, 14.0, -500.0, 14.0, 14.0, 14.0, 14.0, 14.0, 14.0, 15.0, 15.0, 15.0, 15.0, 15.0, 15.0, 15.0, 2276.0, 7459.0, 17.0, 17.0, 17.0, 17.0, 17.0, 15.0, 15.0, 15.0, 15.0, 15.0, 16.0, 16.0, 16.0, 3891.0, 287.0, 3205.0, 2117.0, 7806.0, 16.0, 16.0, 16.0, 16.0, 17.0, 17.0, 17.0, 17.0, 6638.0, -500.0, 8271.0, 3920.0, 2843.0, 4881.0, 15.0, 15.0, 15.0, 16.0, 16.0, 16.0, 16.0, 16.0, 15.0, 15.0, 15.0, 16.0, 16.0, 16.0, 16.0, 16.0, 4909.0, 6283.0, -500.0, 4948.0, 17.0, 6894.0, 5579.0, -500.0, 5041.0, 7619.0, 1695.0, 7063.0, 3952.0, 15.0, 16.0, 16.0, 16.0, 16.0, 16.0, 16.0, 16.0, 14.0, 14.0, 15.0, 15.0, 15.0, 15.0, 15.0, 15.0, 2486.0, 5936.0, 6581.0, 15.0, 15.0, 15.0, 15.0, 15.0, 15.0, 15.0, 15.0, -500.0, 1384.0, 8260.0, 6286.0, -500.0, 5111.0, 4923.0, 2027.0, 14.0, 14.0, 14.0, 15.0, 15.0, 15.0, 15.0, 15.0, 7694.0, 1220.0, 6841.0, 1540.0, 2181.0, 4946.0, 2822.0, 4494.0, 7912.0, 17.0, 17.0, 17.0, 17.0, 17.0, 17.0, 17.0, -500.0, -500.0, -500.0, 14.0, 14.0, 14.0, 14.0, 14.0, 15.0, 15.0, 15.0, 1956.0, 3920.0, 17.0, 17.0, 17.0, 17.0, 17.0, 6427.0, -500.0, 5924.0, 8386.0, 17.0, 17.0, 17.0, 17.0, 17.0, 17.0, 1642.0, -500.0, 5981.0, 529.0, 4655.0, -500.0, 8371.0, 14.0, 14.0, 14.0, 14.0, 14.0, 14.0, 14.0, 15.0, 4663.0, 16.0, 16.0, 17.0, 17.0, 17.0, 17.0, 17.0, 17.0, 5818.0, 2895.0, 14.0, 14.0, 14.0, 14.0, 8389.0, 3930.0, 15.0, 15.0, 1429.0, 6652.0, 8442.0, 17.0, 17.0, 623.0, 3764.0, 8552.0, 4775.0, -500.0, 16.0, 16.0, 16.0, 5132.0, 16.0, 16.0, 16.0, 16.0, -500.0, 2654.0, 17.0, 17.0, 17.0, 2749.0, 15.0, 15.0, 15.0, 15.0, 15.0, 15.0, 15.0, 15.0, 7438.0, 3629.0, 5253.0, 2208.0, 14.0, 14.0, 14.0, 14.0, 14.0, 14.0, 14.0, 14.0, 2713.0, 885.0, 16.0, 16.0, 16.0, 16.0, 16.0, 16.0, 17.0, 17.0, 6425.0, 1512.0, 7690.0, 2329.0, -500.0, 6124.0, 2773.0, 293.0, -500.0, 3714.0, 17.0, 17.0, -500.0, 17.0, 17.0, 17.0, 17.0, 6694.0, 17.0, 17.0, 17.0, -500.0, -500.0, 3638.0, 5113.0, 7804.0, 5465.0, 2226.0, 2015.0, -500.0, 14.0, 14.0, 14.0, 14.0, 14.0, 14.0, 14.0, 15.0, 8480.0, -500.0, 4536.0, 15.0, 15.0, 15.0, 15.0, 15.0, 15.0, 15.0, 16.0, -500.0, 869.0, 3197.0, 15.0, 16.0, 16.0, 16.0, 16.0, 16.0, 16.0, 16.0, 2341.0, 5118.0, 2512.0, 2221.0, 6189.0, 4494.0, 1689.0, 6184.0, 15.0, 15.0, 15.0, 15.0, 15.0, 15.0, 15.0, 16.0, 1883.0, 3502.0, -500.0, 7962.0, 16.0, 17.0, 17.0, 17.0, 17.0, 17.0, 17.0, 17.0, 15.0, 15.0, 16.0, 16.0, 16.0, 16.0, 16.0, 16.0, 14.0, 14.0, 14.0, 14.0, 14.0, 14.0, 14.0, 14.0, 16.0, 16.0, 16.0, 16.0, 16.0, 16.0, 17.0, 17.0, -500.0, -500.0, -500.0, 15.0, 16.0, 16.0, 16.0, 16.0, 16.0, 16.0, 16.0, 6121.0, -500.0, -500.0, 7762.0, -500.0, 5438.0, 814.0, -500.0, -500.0, 15.0, 15.0, 15.0, 15.0, 15.0, 15.0, 16.0, 16.0, 17.0, 6953.0, -500.0, 4196.0, -500.0, 5173.0, 17.0, 17.0, 17.0, 17.0, 17.0, 17.0, 17.0, 17.0, 17.0, 17.0, 17.0, 17.0, 17.0, 17.0, 17.0, 17.0, 17.0, 17.0, 17.0, 17.0, 17.0, -500.0, 3337.0, 6256.0, 8455.0, 5627.0, 7618.0, 8228.0, 3634.0, 4000.0, 707.0, 2038.0, 1687.0, 15.0, 16.0, 16.0, 16.0, 16.0, 16.0, 16.0, 16.0, 4616.0, 4879.0, 4592.0, -500.0, 2512.0, -500.0, 17.0, -500.0, 3806.0, 3537.0, 17.0, 17.0, 17.0, 17.0, 17.0, 3718.0, 17.0, 17.0, 4501.0, 6091.0, 16.0, 16.0, 16.0, 17.0, 17.0, 17.0, 17.0, 17.0, -500.0, 17.0, 17.0, 17.0, 17.0, 17.0, -500.0, 109.0, -500.0, -500.0, 6015.0, 17.0, 2661.0, 17.0, 17.0, 17.0, 17.0, 17.0, 17.0, -500.0, -500.0, -500.0, 6210.0, 4034.0, 17.0, 4580.0, -500.0, 17.0, 17.0, 17.0, 17.0, 17.0, -500.0, 17.0, 17.0, 17.0, -500.0, 17.0, 17.0, 17.0, 17.0, 17.0, 17.0, 17.0, 17.0, 6288.0, -500.0, 17.0, 17.0, -500.0, -500.0, -500.0, 17.0, 17.0, 17.0, 17.0, 17.0, 3365.0, 7919.0, 4494.0, 5687.0, 8172.0, 6375.0, 5749.0, -500.0, 3814.0, -500.0, 17.0, 17.0, 17.0, 17.0, 17.0, 17.0, 17.0, 17.0, 3014.0, -500.0, -500.0, -500.0, 692.0, 7711.0, 15.0, 15.0, 15.0, 15.0, 15.0, 15.0, 15.0, -500.0, 8149.0, -500.0, 2540.0, -500.0, 819.0, 3507.0, 5514.0, 3766.0, 6754.0, 8279.0, 15.0, 15.0, 15.0, 15.0, 15.0, 15.0, 15.0, 15.0, 1525.0, 15.0, 15.0, 16.0, -500.0, 16.0, 16.0, 16.0, 16.0, 15.0, 15.0, 15.0, -500.0, 15.0, 15.0, 15.0, 15.0, 14.0, 14.0, 14.0, 14.0, 14.0, 14.0, 14.0, 14.0, 844.0, -500.0, 1310.0, -500.0, 4458.0, 2127.0, 16.0, 4946.0, 16.0, 16.0, 16.0, 17.0, 17.0, 17.0, -500.0, 4575.0, 4936.0, -500.0, 5938.0, -500.0, 5643.0, 6219.0, 14.0, 14.0, 14.0, 14.0, 14.0, 14.0, 14.0, 14.0, 3790.0, 17.0, 1990.0, 14.0, 14.0, 14.0, -500.0, 14.0, 14.0, 14.0, 14.0, 15.0, 15.0, 15.0, 15.0, 15.0, 15.0, 15.0, 15.0, 2580.0, 4860.0, 3413.0, -500.0, -500.0, 15.0, 15.0, 15.0, 16.0, 16.0, 16.0, 16.0, 16.0, 14.0, 14.0, 14.0, 14.0, 14.0, 14.0, 15.0, 15.0, 16.0, 16.0, 16.0, 16.0, 16.0, 16.0, 16.0, 16.0, 17.0, 17.0, 17.0, 17.0, 17.0, 17.0, 17.0, 17.0, 15.0, 15.0, 15.0, 15.0, 15.0, 15.0, 15.0, 15.0, 16.0, 16.0, 17.0, 17.0, 17.0, 17.0, 17.0, 17.0, -500.0, 6098.0, -500.0, -500.0, 2939.0, 17.0, 17.0, 17.0, 17.0, 17.0, 17.0, 17.0, 17.0, 15.0, 16.0, 16.0, 16.0, 16.0, 16.0, 16.0, 16.0, 14.0, 14.0, 14.0, 14.0, 14.0, 14.0, 14.0, 15.0, 2987.0, 2756.0, -500.0, 7922.0, 16.0, 16.0, 17.0, 17.0, 17.0, 17.0, 17.0, 17.0, 1496.0, 8229.0, 7386.0, 17.0, 17.0, 17.0, 17.0, 17.0, 17.0, 17.0, -500.0, 2733.0, 17.0, 17.0, 17.0, 17.0, -500.0, 169.0, 5995.0, 2037.0, 8035.0, 3385.0, 1925.0, 6456.0, -500.0, 1144.0, 2024.0, 15.0, 15.0, 15.0, 15.0, 15.0, 15.0, 15.0, 15.0, 1407.0, 2823.0, 7082.0, 16.0, 16.0, 16.0, 16.0, 16.0, 16.0, 17.0, 17.0, 4279.0, 5327.0, 15.0, 15.0, 15.0, 15.0, 15.0, 15.0, 15.0, 15.0, -500.0, -500.0, 8516.0, 15.0, 16.0, 16.0, 16.0, 16.0, 16.0, 16.0, 16.0, -500.0, 1133.0, 956.0, 1792.0, 14.0, 14.0, 14.0, 14.0, 14.0, 14.0, 14.0, 14.0, 1643.0, 8394.0, -500.0, -500.0, -500.0, 14.0, 14.0, 14.0, 14.0, 14.0, 14.0, 14.0, 14.0, -500.0, 5828.0, 8106.0, 1751.0, 14.0, 14.0, 14.0, 14.0, 14.0, 14.0, 14.0, 14.0, -500.0, -500.0, 14.0, 14.0, 14.0, 14.0, 14.0, 14.0, 14.0, 14.0, -500.0, 15.0, 15.0, 15.0, 15.0, 15.0, 15.0, 15.0, 15.0, 6563.0, -500.0, -500.0, 3920.0, -500.0, 5463.0, 6733.0, 17.0, 17.0, 17.0, 17.0, 17.0, 17.0, 17.0, 17.0, 8409.0, 16.0, 16.0, 16.0, 16.0, 16.0, 7527.0, 17.0, 3854.0, -500.0, 14.0, 14.0, 14.0, 14.0, 15.0, 15.0, 15.0, 15.0, 15.0, 15.0, 924.0, 15.0, 16.0, 16.0, 16.0, 16.0, 7065.0, -500.0, -500.0, 1441.0, 15.0, 15.0, 15.0, 15.0, 15.0, 16.0, 16.0, 16.0, -500.0, 7641.0, 1733.0, 14.0, 14.0, 15.0, 940.0, 15.0, 15.0, 15.0, 15.0, 502.0, 17.0, 17.0, 17.0, 17.0, 7651.0, 1435.0, 17.0, 17.0, 8015.0, 8566.0, -500.0, -500.0, 2360.0, -500.0, 5203.0, 5233.0, 14.0, 14.0, 14.0, 14.0, 14.0, 14.0, 14.0, 1814.0, 6248.0, -500.0, 5855.0, -500.0, 6674.0, 6713.0, 16.0, 16.0, 16.0, 16.0, 16.0, 16.0, 16.0, 16.0, 5069.0, 3402.0, -500.0, -500.0, -500.0, 1337.0, 14.0, 14.0, 6433.0, 15.0, 15.0, 15.0, 15.0, 15.0, 6778.0, 6909.0, 902.0, -500.0, -500.0, 17.0, 17.0, -500.0, 6660.0, 5579.0, 3417.0, 14.0, 14.0, 14.0, 14.0, 14.0, 14.0, 14.0, 14.0, 429.0, 8150.0, 7746.0, 1958.0, 16.0, 16.0, 16.0, 16.0, 16.0, 16.0, 16.0, 2309.0, 5413.0, 2113.0, 15.0, 15.0, 15.0, 15.0, 16.0, 16.0, 16.0, 16.0, 15.0, 15.0, 15.0, 15.0, 15.0, 15.0, 15.0, 15.0, -500.0, -500.0, 4706.0, 2116.0, 7776.0, 16.0, 16.0, 16.0, 17.0, 17.0, 17.0, 17.0, 17.0, 16.0, 16.0, -500.0, 16.0, 16.0, 16.0, 16.0, 16.0, 7240.0, 8090.0, -500.0, 751.0, -500.0, 7206.0, -500.0, -500.0, 2411.0, -500.0, -500.0, -500.0, 6175.0, -500.0, 5253.0, 14.0, 14.0, 15.0, 15.0, 15.0, 15.0, 15.0, 15.0, 2980.0, 1217.0, 3439.0, 17.0, 17.0, 17.0, 17.0, 17.0, 17.0, -500.0, 17.0, 16.0, 16.0, 16.0, 16.0, 16.0, 16.0, 17.0, 17.0, 14.0, 14.0, 14.0, 14.0, 14.0, 14.0, 14.0, 14.0, 16.0, 16.0, 16.0, 16.0, 16.0, 16.0, 16.0, 16.0, 715.0, 6786.0, 16.0, 16.0, 16.0, 17.0, 17.0, 17.0, 17.0, 17.0, 1817.0, 15.0, 15.0, 16.0, 16.0, 16.0, 16.0, 16.0, 16.0, 6321.0, 6799.0, 7524.0, 17.0, 17.0, 17.0, 17.0, 17.0, 17.0, 17.0, 8448.0, 6794.0, 3789.0, 6501.0, 7868.0, 933.0, 8467.0, 4841.0, 8523.0, -500.0, 642.0, 5929.0, -500.0, 1527.0, -500.0, 1087.0, -500.0, 8569.0, 347.0, -500.0, 17.0, 17.0, 8503.0, -500.0, 17.0, 17.0, 5301.0, -500.0, 16.0, 16.0, 16.0, 16.0, 16.0, 17.0, 17.0, 17.0, -500.0, -500.0, 7725.0, 8295.0, 5027.0, 15.0, 15.0, 15.0, 15.0, 16.0, 16.0, 16.0, 16.0, -500.0, -500.0, 3640.0, 14.0, 14.0, 14.0, 14.0, 14.0, 14.0, 14.0, 14.0, 15.0, 15.0, 15.0, 15.0, 15.0, 15.0, 15.0, 15.0, 7066.0, 4580.0, 5517.0, 14.0, 14.0, 14.0, 14.0, 14.0, 14.0, 14.0, 14.0, 15.0, 16.0, 16.0, 16.0, 16.0, 16.0, 16.0, 16.0, -500.0, -500.0, 4459.0, 7435.0, 17.0, -500.0, 17.0, 17.0, 17.0, 17.0, 17.0, 17.0, -500.0, 3992.0, 1324.0, -500.0, 17.0, 17.0, 6747.0, 17.0, 17.0, 17.0, 17.0, 17.0, 3596.0, 14.0, 14.0, 14.0, 14.0, 14.0, 14.0, 14.0, 14.0, 16.0, 17.0, 17.0, 17.0, 17.0, 17.0, 17.0, 17.0, 5957.0, 2604.0, 3998.0, 4510.0, 8125.0, 7392.0, 16.0, 16.0, 16.0, 17.0, 498.0, 17.0, 17.0, -500.0, -500.0, 3194.0, 95.0, 16.0, 16.0, 16.0, 16.0, 16.0, 16.0, 16.0, 16.0, 17.0, 17.0, 17.0, 17.0, 17.0, 17.0, 17.0, 17.0, 3681.0, -500.0, 17.0, 17.0, 17.0, 17.0, 15.0, 15.0, 15.0, 15.0, 15.0, 15.0, 15.0, 16.0, -500.0, 6991.0, 3712.0, 8037.0, 16.0, 16.0, 16.0, 17.0, 17.0, 17.0, 17.0, 17.0, 17.0, 17.0, 17.0, 17.0, 17.0, 17.0, 17.0, 17.0, 2097.0, -500.0, 3379.0, 14.0, 14.0, 14.0, 14.0, 14.0, 14.0, 14.0, 14.0, 7453.0, 17.0, 1149.0, -500.0, 8411.0, 8091.0, 6849.0, 1345.0, -500.0, 8348.0, -500.0, -500.0, 7900.0, 1388.0, 8306.0, -500.0, -500.0, 8127.0, -500.0, -500.0, 14.0, 14.0, 14.0, 14.0, 14.0, 14.0, 14.0, 15.0, -500.0, 3873.0, 8616.0, 5425.0, 2507.0, 3004.0, 14.0, 14.0, 14.0, 14.0, 14.0, 15.0, 15.0, 15.0, -500.0, 6579.0, 7157.0, -500.0, 1537.0, 17.0, 17.0, -500.0, 17.0, 17.0, 17.0, 17.0, 17.0, 6577.0, 3439.0, -500.0, -500.0, 5588.0, -500.0, 16.0, 16.0, 16.0, 17.0, 17.0, 17.0, 17.0, 17.0, -500.0, 17.0, 17.0, 17.0, 17.0, 17.0, 17.0, 17.0, 17.0, 17.0, 17.0, 17.0, 17.0, 17.0, 17.0, 17.0, 17.0, 3385.0, 17.0, 17.0, 17.0, 17.0, 17.0, 17.0, 17.0, 17.0, -500.0, 1996.0, -500.0, 5748.0, 8473.0, -500.0, 4926.0, 6113.0, 8370.0, 3103.0, -500.0, 3913.0, 2106.0, 1842.0, 15.0, 15.0, 15.0, 15.0, 15.0, 15.0, 15.0, 15.0, -500.0, 4287.0, 2558.0, 7255.0, 16.0, 16.0, 17.0, 17.0, 17.0, 17.0, 17.0, 17.0, 6632.0, 6763.0, 16.0, 16.0, 16.0, 16.0, 16.0, 16.0, 16.0, 16.0, 16.0, 16.0, -500.0, 16.0, 16.0, 16.0, 16.0, 16.0, -500.0, 6460.0, 189.0, 434.0, 5730.0, -500.0, 8485.0, -500.0, 4548.0, 8000.0, 15.0, 15.0, 15.0, 2821.0, 16.0, 16.0, 16.0, 16.0, 2437.0, 5793.0, -500.0, 8036.0, 6360.0, 16.0, 16.0, 16.0, 17.0, 17.0, 17.0, 17.0, 17.0, 15.0, 15.0, 15.0, 16.0, 16.0, 16.0, 16.0, 16.0, 15.0, 1136.0, 16.0, 16.0, 16.0, 16.0, 16.0, 16.0, 3765.0, -500.0, 2352.0, 16.0, 16.0, 16.0, 16.0, 16.0, 17.0, 17.0, 17.0, 2525.0, -500.0, -500.0, 5020.0, -500.0, 4566.0, 16.0, 16.0, 16.0, 16.0, 16.0, 17.0, 17.0, 7151.0, 17.0, 17.0, 17.0, 17.0, 17.0, 17.0, 17.0, 17.0, 15.0, 15.0, 15.0, 15.0, 15.0, 15.0, 15.0, 15.0, 7792.0, 6775.0, 7808.0, 15.0, 15.0, 15.0, 15.0, 15.0, 15.0, 15.0, 15.0, 15.0, 15.0, 15.0, 15.0, 15.0, 15.0, 15.0, 15.0, -500.0, 14.0, 15.0, 15.0, 15.0, 15.0, 5164.0, 15.0, 15.0, -500.0, 8286.0, 3326.0, 7663.0, -500.0, -500.0, -500.0, -500.0, 372.0, -500.0, 5907.0, 1235.0, 3439.0, 14.0, 14.0, 15.0, 15.0, 15.0, 15.0, 15.0, 15.0, 16.0, 16.0, 16.0, 16.0, 16.0, 17.0, 17.0, 17.0, 2712.0, 4556.0, 1004.0, 2175.0, 16.0, 16.0, 17.0, 17.0, 17.0, 17.0, 17.0, 17.0, 1040.0, 6435.0, -500.0, 16.0, 16.0, 16.0, 16.0, 16.0, 16.0, 16.0, 16.0, 4899.0, 3452.0, -500.0, -500.0, 16.0, 16.0, 17.0, 17.0, 17.0, 17.0, 17.0, 17.0, 17.0, 17.0, 17.0, 17.0, 7249.0, 17.0, 17.0, 17.0, 6221.0, 1923.0, 5940.0, -500.0, 4219.0, -500.0, 17.0, 17.0, 17.0, 17.0, 17.0, 17.0, 17.0, 17.0, 3944.0, 6125.0, 6525.0, 2343.0, 3818.0, -500.0, -500.0, -500.0, 7838.0, 4865.0, 5373.0, 15.0, 15.0, 15.0, 15.0, 15.0, 15.0, 15.0, 15.0, 16.0, 16.0, 17.0, 17.0, 17.0, 4988.0, 17.0, 17.0, 2386.0, 5222.0, 3291.0, 15.0, 15.0, 15.0, 15.0, 15.0, 15.0, 15.0, 15.0, -500.0, -500.0, -500.0, 3200.0, 15.0, 15.0, 16.0, 16.0, 16.0, 16.0, 16.0, 16.0, 8072.0, 7925.0, 7266.0, 2994.0, 4271.0, 3339.0, 2634.0, 6092.0, -500.0, 2812.0, 344.0, -500.0, 6902.0, 5975.0, 448.0, 4601.0, -500.0, -500.0, 3332.0, 8547.0, 2926.0, 194.0, 3394.0, -500.0, 7264.0, 14.0, 14.0, 14.0, 14.0, 14.0, 14.0, 14.0, -500.0, 8666.0, 5400.0, 2932.0, 14.0, 14.0, 14.0, 14.0, 15.0, 7323.0, 15.0, 15.0, -500.0, -500.0, 8698.0, 3578.0, -500.0, 3513.0, 7733.0, -500.0, 2360.0, 5419.0, 1461.0, 1405.0, 16.0, 16.0, 16.0, 16.0, 17.0, 17.0, 17.0, 17.0, 8199.0, 5603.0, -500.0, 14.0, 14.0, 14.0, 14.0, 14.0, 14.0, 14.0, 14.0, 2329.0, 4921.0, 4007.0, 6191.0, 2534.0, 16.0, 16.0, 16.0, 16.0, 16.0, 16.0, 16.0, 16.0, 16.0, 16.0, 16.0, 16.0, 16.0, 16.0, 5361.0, 17.0, 4189.0, 8381.0, 4568.0, -500.0, 15.0, 15.0, 15.0, 15.0, 15.0, 15.0, 15.0, 15.0, -500.0, 8100.0, 7967.0, 1289.0, -500.0, 17.0, 17.0, 17.0, 17.0, 17.0, 17.0, 17.0, 1443.0, -500.0, 14.0, 14.0, 14.0, 14.0, 14.0, 14.0, 14.0, 15.0, -500.0, 5121.0, 7579.0, 14.0, 14.0, 14.0, 14.0, 14.0, 14.0, -500.0, 14.0, -500.0, -500.0, -500.0, 4781.0, -500.0, 4190.0, 17.0, 17.0, 17.0, 17.0, 1664.0, 3564.0, 17.0, 17.0, 17.0, 17.0, 17.0, -500.0, 869.0, 6528.0, 17.0, 17.0, 17.0, 17.0, 17.0, 17.0, 17.0, 17.0, 3367.0, -500.0, -500.0, 7710.0, 7349.0, 535.0, 8422.0, 4318.0, 1306.0, 15.0, 15.0, 15.0, 15.0, 15.0, 16.0, 16.0, 16.0, 16.0, 17.0, 17.0, 17.0, 17.0, 17.0, 17.0, 17.0, -500.0, 14.0, 14.0, 14.0, 14.0, 14.0, 14.0, 14.0, 14.0, -500.0, 4959.0, 1362.0, -500.0, 824.0, 3278.0, 2952.0, 525.0, -500.0, 1608.0, -500.0, 8587.0, -500.0, 6172.0, -500.0, -500.0, 7223.0, 3703.0, 15.0, 15.0, 15.0, 15.0, 15.0, 15.0, 15.0, 15.0, 6947.0, 14.0, 14.0, 14.0, 15.0, 15.0, 15.0, 15.0, 15.0, 8113.0, 6634.0, 5767.0, 5568.0, 15.0, 15.0, 15.0, 16.0, 16.0, 16.0, 16.0, 16.0, 14.0, 14.0, 15.0, 15.0, 15.0, 15.0, 15.0, 15.0, 6918.0, 806.0, 17.0, 17.0, 17.0, 17.0, 17.0, 17.0, 17.0, 17.0, 7493.0, -500.0, -500.0, 5931.0, 16.0, 17.0, 17.0, 17.0, 17.0, 17.0, 17.0, 17.0, 2405.0, 6843.0, 2928.0, -500.0, -500.0, 979.0, 6381.0, 1131.0, -500.0, 14.0, 14.0, 14.0, 14.0, 14.0, 14.0, 15.0, 15.0, 14.0, 14.0, 14.0, 14.0, 14.0, 14.0, 14.0, 14.0, 15.0, 15.0, 15.0, 15.0, 15.0, 15.0, 15.0, 15.0, 2713.0, 17.0, -500.0, -500.0, 8403.0, 1794.0, 7849.0, 14.0, 14.0, 14.0, 14.0, 14.0, 14.0, 14.0, 14.0, 6736.0, 3853.0, 6696.0, -500.0, -500.0, 210.0, 7773.0, 4196.0, 6291.0, 4967.0, 5316.0, 2778.0, 17.0, 17.0, 17.0, 8040.0, -500.0, 2253.0, 2657.0, -500.0, 7615.0, 15.0, 15.0, 16.0, 16.0, 16.0, 16.0, 16.0, 2546.0, 7438.0, 2535.0, -500.0, 6121.0, 16.0, 16.0, 16.0, 16.0, 16.0, 16.0, 16.0, 16.0, 16.0, 16.0, 16.0, 16.0, 16.0, 16.0, 16.0, 16.0, 17.0, 17.0, 17.0, 17.0, -500.0, 5456.0, 2079.0, 6547.0, 5236.0, 5791.0, 16.0, 16.0, 16.0, 16.0, 16.0, 16.0, 16.0, 16.0, 1392.0, 5421.0, 3610.0, 4212.0, 15.0, 15.0, 15.0, -500.0, 15.0, 15.0, 15.0, 16.0, -500.0, 17.0, 17.0, 17.0, 17.0, 17.0, 1857.0, -500.0, 4408.0, 4862.0, 14.0, 14.0, 14.0, 15.0, 15.0, 15.0, 15.0, 15.0, 16.0, 16.0, 17.0, 17.0, 17.0, 17.0, -500.0, 17.0, -500.0, 5970.0, -500.0, 4552.0, 15.0, 15.0, 15.0, 15.0, 15.0, 16.0, 16.0, 16.0, 16.0, 16.0, 16.0, 17.0, 17.0, 17.0, 17.0, 17.0, 5742.0, -500.0, 7920.0, 6424.0, 15.0, 15.0, 15.0, 15.0, 15.0, 15.0, 15.0, 15.0, 8260.0, 737.0, 2209.0, -500.0, 4185.0, 15.0, 15.0, 15.0, 15.0, 15.0, 8466.0, 15.0, 15.0, 672.0, 3048.0, -500.0, 16.0, 16.0, 16.0, -500.0, 16.0, 16.0, 16.0, 16.0, 1172.0, 5247.0, 1696.0, 528.0, -500.0, 8470.0, 5629.0, -500.0, 4736.0, 7139.0, 15.0, 15.0, 15.0, 15.0, 15.0, 15.0, 15.0, 15.0, -500.0, 283.0, 17.0, 17.0, 17.0, 17.0, 17.0, 17.0, 17.0, 17.0, 6877.0, 5963.0, 1820.0, -500.0, 2484.0, 2109.0, 14.0, 14.0, 14.0, 14.0, 14.0, 14.0, 14.0, 14.0, 4301.0, 7610.0, -500.0, 5053.0, 8288.0, -500.0, 1202.0, 3167.0, 7286.0, -500.0, -500.0, -500.0, -500.0, -500.0, 15.0, 15.0, 15.0, 15.0, 15.0, 15.0, 15.0, 15.0, 2919.0, 6295.0, 15.0, 15.0, 15.0, 15.0, 15.0, 15.0, 15.0, 15.0, 1485.0, 2638.0, -500.0, 7223.0, 3720.0, 15.0, 15.0, 15.0, 15.0, 15.0, 16.0, 16.0, -500.0, 16.0, 16.0, 16.0, 16.0, 16.0, 16.0, 17.0, 17.0, 14.0, 14.0, 14.0, 3213.0, 14.0, 14.0, 14.0, 14.0, -500.0, 95.0, 5939.0, 16.0, 17.0, 17.0, 17.0, 17.0, 17.0, 17.0, 17.0, 5184.0, 15.0, 15.0, 15.0, 15.0, 15.0, 16.0, 16.0, 16.0, 1858.0, 15.0, 15.0, 15.0, 15.0, 15.0, 16.0, 16.0, 316.0, 14.0, 14.0, 14.0, 14.0, 14.0, 14.0, 14.0, 14.0, 2320.0, -500.0, 2109.0, -500.0, -500.0, -500.0, 6423.0, 16.0, 16.0, 16.0, 16.0, 16.0, 16.0, 16.0, 17.0, -500.0, 5730.0, 7574.0, 6803.0, 16.0, 16.0, 16.0, 16.0, -500.0, 17.0, 17.0, 17.0, 17.0, 17.0, 17.0, 17.0, 17.0, 17.0, 17.0, 17.0, 5261.0, 3581.0, 509.0, 7256.0, 2846.0, 7447.0, 4188.0, 7986.0, 1409.0, -500.0, 17.0, 17.0, 17.0, 17.0, 17.0, 17.0, 17.0, 17.0, 5426.0, 7171.0, -500.0, 2373.0, 17.0, 17.0, 14.0, 14.0, 14.0, 14.0, 14.0, 14.0, 14.0, 14.0, -500.0, 1335.0, 1188.0, 14.0, 1110.0, 14.0, -500.0, 15.0, 15.0, 15.0, 15.0, 4906.0, 2323.0, 1482.0, -500.0, -500.0, -500.0, -500.0, -500.0, 4518.0, 16.0, 16.0, 16.0, 16.0, 16.0, 16.0, 16.0, 16.0, -500.0, 1642.0, -500.0, 6684.0, 7558.0, -500.0, -500.0, 2756.0, 5587.0, 16.0, 16.0, 16.0, 16.0, 16.0, 16.0, 16.0, 16.0, 6493.0, 5270.0, -500.0, 14.0, 14.0, 15.0, 15.0, 15.0, 15.0, 15.0, 15.0, 4448.0, -500.0, 1542.0, -500.0, 17.0, 17.0, 17.0, 17.0, 17.0, 17.0, 17.0, 17.0, 17.0, 17.0, 5580.0, 7316.0, -500.0, 15.0, 15.0, 15.0, 15.0, 15.0, 15.0, 15.0, 16.0, 4607.0, 4186.0, -500.0, 14.0, 14.0, 14.0, 14.0, 15.0, 15.0, 15.0, 15.0, 3159.0, -500.0, 7230.0, 2115.0, 7762.0, -500.0, -500.0, 8207.0, 1515.0, -500.0, 3617.0, 14.0, 15.0, 15.0, 15.0, 15.0, 15.0, 15.0, 15.0, -500.0, 14.0, 14.0, 6392.0, 14.0, 14.0, 14.0, 15.0, 15.0, -500.0, 7271.0, 16.0, 16.0, 16.0, 16.0, 16.0, 16.0, 17.0, 17.0, -500.0, 115.0, 14.0, 14.0, 14.0, 14.0, 14.0, 14.0, 14.0, 14.0, -500.0, 4307.0, 960.0, 5909.0, 6167.0, 8031.0, 8198.0, 8200.0, -500.0, 6717.0, 3443.0, 6394.0, 3083.0, 1270.0, 14.0, 7890.0, 14.0, 14.0, 14.0, 14.0, 15.0, 15.0, 2313.0, 1651.0, 16.0, 16.0, 17.0, 17.0, 17.0, 17.0, 17.0, 17.0, 15.0, 15.0, 15.0, 15.0, 15.0, 15.0, 15.0, 15.0, 16.0, 16.0, 16.0, 16.0, 16.0, 16.0, 16.0, 17.0, 4661.0, -500.0, -500.0, 1782.0, 1683.0, 6040.0, 1459.0, 2954.0, 8678.0, -500.0, 488.0, 6140.0, -500.0, 16.0, 16.0, 17.0, 17.0, 17.0, 17.0, 17.0, 17.0, 15.0, 16.0, 16.0, 16.0, 16.0, 16.0, 16.0, 16.0, 6381.0, 4824.0, -500.0, 2334.0, 7388.0, 17.0, 17.0, 17.0, 17.0, 17.0, 17.0, 17.0, 17.0, -500.0, 8697.0, -500.0, 4279.0, 1220.0, 5827.0, -500.0, 1171.0, 3125.0, 2205.0, -500.0, 504.0, 14.0, 14.0, 14.0, 14.0, 14.0, 14.0, 14.0, 14.0, 2318.0, 17.0, 17.0, 17.0, 17.0, 17.0, 17.0, 17.0, 17.0, -500.0, -500.0, 2351.0, 4475.0, 2178.0, -500.0, -500.0, 16.0, 16.0, 16.0, 17.0, 17.0, 17.0, 17.0, 17.0, 16.0, 16.0, 16.0, 16.0, 16.0, 16.0, 17.0, 17.0, 2381.0, 3361.0, 2809.0, -500.0, 742.0, 16.0, 17.0, 17.0, 17.0, 17.0, 17.0, 17.0, -500.0, 17.0, 17.0, 17.0, 17.0, 17.0, 17.0, 17.0, 17.0, 15.0, 15.0, 15.0, 15.0, 15.0, 15.0, 15.0, 15.0, 16.0, 16.0, 16.0, 16.0, 16.0, 16.0, 16.0, 17.0, 16.0, 16.0, 17.0, 17.0, 17.0, 17.0, 17.0, 17.0, 1792.0, 448.0, 14.0, 14.0, 14.0, 14.0, 14.0, 14.0, 14.0, 14.0, 15.0, 15.0, 15.0, 15.0, 15.0, 15.0, 15.0, 15.0, 4083.0, 7201.0, 16.0, 17.0, 17.0, 17.0, -500.0, 17.0, 17.0, 17.0, 5988.0, 8616.0, 6799.0, 7342.0, 2659.0, 1591.0, -500.0, -500.0, 7327.0, -500.0, 15.0, 15.0, 15.0, 15.0, 16.0, 16.0, 16.0, 16.0, -500.0, 817.0, 1460.0, -500.0, 8640.0, 7681.0, 17.0, 17.0, 17.0, 17.0, -500.0, 2249.0, 2104.0, 3775.0, 16.0, 16.0, 16.0, 16.0, 16.0, 16.0, 16.0, 16.0, 4271.0, 7832.0, 15.0, 15.0, 15.0, 15.0, 15.0, 15.0, 15.0, 15.0, -500.0, 4464.0, 17.0, 17.0, 17.0, 7026.0, 17.0, 17.0, 17.0, 3713.0, 1695.0, 16.0, 16.0, 16.0, 16.0, 16.0, 16.0, 17.0, 17.0, 5487.0, 2717.0, 7986.0, 8379.0, 6410.0, -500.0, 16.0, 17.0, 17.0, 17.0, 17.0, 17.0, 17.0, 17.0, 15.0, 15.0, 15.0, 15.0, 15.0, 15.0, 16.0, 16.0, -500.0, -500.0, 15.0, 15.0, 15.0, 15.0, 15.0, 15.0, 15.0, 15.0, -500.0, 4121.0, 3910.0, 6430.0, 14.0, 14.0, 14.0, 15.0, 15.0, 4382.0, 15.0, 15.0, 8385.0, 7610.0, -500.0, 1028.0, 5970.0, 2598.0, 6835.0, -500.0, 1322.0, 4067.0, -500.0, -500.0, -500.0, 16.0, 16.0, 17.0, 17.0, 17.0, 3888.0, 17.0, 17.0, 1810.0, 4112.0, 15.0, 15.0, 15.0, 15.0, 15.0, 15.0, 15.0, 16.0, -500.0, 2318.0, 15.0, 15.0, 15.0, 15.0, 15.0, 15.0, 15.0, -500.0, 15.0, 15.0, 15.0, 16.0, 16.0, 16.0, 16.0, 16.0, 2525.0, 7776.0, 17.0, -500.0, 17.0, 17.0, 17.0, 17.0, 17.0, 17.0, -500.0, 7765.0, 2274.0, 6494.0, 14.0, 14.0, 14.0, 14.0, 15.0, 15.0, 15.0, 15.0, 16.0, 16.0, 16.0, 16.0, 16.0, 16.0, 17.0, 17.0, 2958.0, 15.0, 15.0, 15.0, 15.0, 15.0, 15.0, 15.0, 15.0, 17.0, 17.0, 17.0, 17.0, 17.0, 17.0, 17.0, 17.0, -500.0, 14.0, 14.0, 14.0, 14.0, 14.0, 14.0, 15.0, 15.0, 15.0, 16.0, 16.0, 16.0, 16.0, 16.0, 16.0, 16.0, 8052.0, 7880.0, 925.0, -500.0, -500.0, 6379.0, 17.0, 17.0, 17.0, 1753.0, 17.0, 17.0, 17.0, -500.0, 14.0, 14.0, 14.0, 14.0, 14.0, 14.0, 14.0, 15.0, 15.0, 15.0, 15.0, 15.0, 15.0, 15.0, 15.0, 15.0, 2471.0, 8212.0, -500.0, 3651.0, 17.0, 6341.0, 15.0, 15.0, 15.0, 15.0, 15.0, 15.0, 15.0, 15.0, -500.0, -500.0, -500.0, 725.0, 3146.0, 402.0, -500.0, 940.0, 8378.0, 2871.0, 146.0, 6463.0, -500.0, 17.0, 17.0, 17.0, 17.0, 17.0, 17.0, 17.0, 17.0, 16.0, 16.0, 16.0, 16.0, 16.0, 16.0, 16.0, 16.0, 2357.0, 16.0, 16.0, 16.0, 16.0, 16.0, 16.0, 17.0, 17.0, 17.0, 17.0, 17.0, 14.0, 14.0, 14.0, 14.0, 15.0, 15.0, 15.0, 15.0, 15.0, 15.0, 15.0, 15.0, 15.0, 15.0, 15.0, 15.0, 17.0, 17.0, 4089.0, 2160.0, 8069.0, 1022.0, 690.0, -500.0, 383.0, -500.0, -500.0, 17.0, 17.0, 17.0, 17.0, 17.0, 17.0, -500.0, -500.0, 992.0, 14.0, 15.0, 15.0, 15.0, 15.0, 15.0, 15.0, 15.0, 17.0, 17.0, 17.0, 7371.0, -500.0, -500.0, 5512.0, -500.0, 5656.0, 532.0, -500.0, 15.0, 15.0, 15.0, 15.0, 15.0, 15.0, 16.0, 16.0, 7705.0, 6564.0, 4574.0, 5153.0, 2543.0, 15.0, 15.0, 15.0, 15.0, 15.0, 16.0, 16.0, 16.0, 8015.0, -500.0, -500.0, 14.0, 14.0, 14.0, 14.0, 14.0, 15.0, 15.0, 15.0, -500.0, -500.0, 3640.0, 5101.0, 5840.0, 740.0, 14.0, 14.0, 14.0, 14.0, 14.0, 14.0, 14.0, 3441.0, 678.0, 17.0, 17.0, 17.0, 17.0, 17.0, 17.0, 6226.0, 14.0, 14.0, 14.0, 15.0, 15.0, 15.0, 15.0, 14.0, 14.0, 14.0, 14.0, 14.0, 15.0, 15.0, 15.0, 16.0, 16.0, 16.0, 16.0, 16.0, 16.0, 16.0, 16.0, 14.0, 14.0, 14.0, 14.0, 14.0, 5004.0, 15.0, 15.0, 8279.0, 1174.0, 681.0, 15.0, 15.0, 15.0, 15.0, 15.0, 15.0, 15.0, 16.0, 2880.0, 3988.0, 15.0, 15.0, 15.0, 15.0, 15.0, 15.0, 15.0, 15.0, 1900.0, 4252.0, 1154.0, 14.0, 14.0, 14.0, 14.0, 14.0, 14.0, 15.0, 15.0, 8481.0, 16.0, 16.0, 16.0, 16.0, 17.0, 2128.0, 17.0, 17.0, 16.0, 16.0, 16.0, 16.0, 16.0, 16.0, 16.0, 16.0, 941.0, 4894.0, 246.0, 820.0, 17.0, 17.0, 17.0, 8553.0, -500.0, 6032.0, -500.0, -500.0, -500.0, 16.0, 17.0, 17.0, 17.0, 17.0, 17.0, 17.0, 17.0, 14.0, 14.0, 14.0, 14.0, 14.0, 6683.0, 15.0, 15.0, 1364.0, 15.0, 15.0, 15.0, 15.0, 15.0, 15.0, 15.0, 15.0, 2957.0, -500.0, 16.0, 16.0, 16.0, 16.0, 16.0, 17.0, 17.0, 17.0, 7122.0, -500.0, -500.0, 17.0, 17.0, -500.0, 17.0, 17.0, 17.0, 17.0, 17.0, 17.0, 17.0, 17.0, 4913.0, 15.0, 15.0, 15.0, 15.0, 15.0, 15.0, 15.0, 16.0, 532.0, 6939.0, 17.0, 17.0, 17.0, 17.0, 17.0, 17.0, 6725.0, 1740.0, 17.0, 17.0, 17.0, 17.0, 17.0, 17.0, 17.0, 17.0, 4970.0, 15.0, 16.0, 16.0, 16.0, 16.0, 16.0, 16.0, 16.0, 16.0, 16.0, 16.0, 16.0, 16.0, 16.0, 16.0, 16.0, 4582.0, 594.0, -500.0, 6814.0, -500.0, -500.0, 16.0, 17.0, 17.0, 17.0, 17.0, 17.0, 17.0, 17.0, 4422.0, 6165.0, -500.0, -500.0, 7768.0, 6086.0, 5219.0, 14.0, 14.0, 2321.0, 14.0, 14.0, 14.0, 14.0, -500.0, 16.0, 16.0, 16.0, 16.0, 16.0, 16.0, -500.0, 17.0, 17.0, 17.0, 7489.0, 17.0, 17.0, 6287.0, 17.0, 17.0, 5509.0, 4774.0, 14.0, 14.0, 14.0, 14.0, 14.0, 14.0, 14.0, 14.0, 15.0, 15.0, 15.0, 15.0, 15.0, 15.0, 15.0, 15.0, 5697.0, 985.0, 16.0, 16.0, 16.0, 16.0, 16.0, 16.0, -500.0, 2626.0, 5422.0, 7992.0, -500.0, 2955.0, 14.0, 14.0, 7799.0, 14.0, 14.0, 14.0, 14.0, 14.0, 496.0, -500.0, -500.0, 14.0, 14.0, 14.0, 14.0, 14.0, 14.0, 14.0, 14.0, 16.0, 16.0, 16.0, 16.0, 16.0, 16.0, 16.0, 17.0, 15.0, 15.0, 15.0, 15.0, 15.0, 15.0, 15.0, 15.0, 1443.0, -500.0, 17.0, 17.0, 17.0, 4635.0, -500.0, -500.0, 1225.0, 2170.0, 1850.0, 14.0, 14.0, 14.0, 14.0, 14.0, 15.0, 15.0, 15.0, -500.0, -500.0, -500.0, 3953.0, 6043.0, 15.0, 15.0, 16.0, 16.0, 16.0, 16.0, 16.0, 16.0, -500.0, 2659.0, -500.0, -500.0, 2084.0, 16.0, 16.0, 16.0, 16.0, 17.0, 17.0, 17.0, 17.0, -500.0, 15.0, 15.0, 15.0, 15.0, 15.0, 15.0, 15.0, 16.0, 3124.0, 17.0, 17.0, 17.0, 17.0, 17.0, 17.0, 17.0, 17.0, 5955.0, 3274.0, 15.0, 15.0, 15.0, 15.0, 15.0, 15.0, 16.0, 16.0, 7753.0, 16.0, 16.0, 16.0, 16.0, 16.0, 16.0, 16.0, 16.0, 1437.0, 5052.0, 4050.0, 15.0, 15.0, 15.0, 15.0, 15.0, 15.0, 15.0, 15.0, 3450.0, 3843.0, -500.0, 8046.0, -500.0, -500.0, 14.0, 14.0, 14.0, 14.0, 14.0, 14.0, 14.0, 14.0, -500.0, 5778.0, 831.0, 7236.0, 16.0, 16.0, 6914.0, 16.0, 16.0, 16.0, 16.0, 16.0, 16.0, 16.0, 16.0, 16.0, 16.0, 17.0, 17.0, 5122.0, 4521.0, 6254.0, 1583.0, 4929.0, 1515.0, 1368.0, 7973.0, -500.0, 4041.0, -500.0, -500.0, 6212.0, 15.0, 15.0, 16.0, 2108.0, 16.0, 16.0, 16.0, 16.0, 6912.0, 17.0, 17.0, 17.0, 17.0, 17.0, 17.0, 17.0, 17.0, 5140.0, 7865.0, 15.0, 15.0, 15.0, 16.0, 16.0, 16.0, 16.0, 16.0, 3689.0, 14.0, 14.0, 15.0, 15.0, 15.0, 15.0, 15.0, 15.0, 1939.0, 14.0, 14.0, 14.0, 14.0, 14.0, 14.0, 14.0, 14.0, 3919.0, -500.0, 6190.0, 7523.0, 3855.0, 4227.0, 8015.0, 5541.0, 6596.0, 6199.0, 2620.0, 669.0, 2035.0, 15.0, 15.0, 15.0, 15.0, 15.0, 15.0, 15.0, 15.0, -500.0, -500.0, -500.0, 5615.0, 4445.0, -500.0, 16.0, 16.0, 16.0, -500.0, 16.0, 16.0, 16.0, 2090.0, 17.0, 17.0, 17.0, 17.0, 17.0, 17.0, 17.0, 17.0, -500.0, 17.0, 17.0, 17.0, 17.0, 17.0, 17.0, 17.0, 17.0, 1794.0, 3861.0, 419.0, 15.0, 15.0, 15.0, 15.0, 15.0, 15.0, 15.0, 15.0, 14.0, 14.0, 14.0, 14.0, 14.0, 14.0, 14.0, 15.0, -500.0, 3264.0, 14.0, 14.0, 14.0, 14.0, 14.0, 15.0, 15.0, 15.0, 16.0, 17.0, 17.0, 17.0, 17.0, 17.0, 17.0, 17.0, 6441.0, 1321.0, -500.0, 8643.0, 1439.0, -500.0, 14.0, 14.0, 14.0, 15.0, 15.0, 15.0, 15.0, 15.0, -500.0, 5735.0, 17.0, 17.0, 17.0, 17.0, 17.0, 17.0, 3555.0, -500.0, 3856.0, 14.0, 14.0, 14.0, 15.0, 15.0, 15.0, 15.0, 15.0, 15.0, 15.0, 15.0, 15.0, 15.0, 15.0, 15.0, 15.0, 17.0, 17.0, 17.0, 17.0, 17.0, 17.0, 462.0, 17.0, -500.0, -500.0, -500.0, 655.0, -500.0, 15.0, 15.0, 15.0, 15.0, 15.0, 15.0, 15.0, 15.0, 262.0, 6921.0, 4083.0, -500.0, 8088.0, -500.0, 6355.0, 17.0, 17.0, 17.0, 17.0, 17.0, 17.0, 17.0, 17.0, 15.0, 15.0, 15.0, 15.0, 15.0, 15.0, -500.0, 15.0, 6665.0, 17.0, 2174.0, 2630.0, 335.0, -500.0, -500.0, 6964.0, 6558.0, 6728.0, -500.0, -500.0, -500.0, 2679.0, 17.0, 17.0, 17.0, 17.0, 17.0, 17.0, 17.0, 17.0, 17.0, 7524.0, 16.0, 16.0, 16.0, 16.0, 16.0, 16.0, 16.0, 16.0, 15.0, 15.0, 15.0, 15.0, 15.0, 15.0, 15.0, 15.0, 3483.0, 8518.0, 1101.0, -500.0, 16.0, 16.0, 17.0, 17.0, 17.0, 17.0, 17.0, 17.0, -500.0, 7410.0, 1231.0, 4615.0, 6237.0, -500.0, 1033.0, 7417.0, 4944.0, 4592.0, 17.0, 6309.0, 17.0, 17.0, 17.0, 17.0, 17.0, 17.0, 1197.0, 6550.0, 14.0, 15.0, 15.0, 15.0, 15.0, 15.0, 15.0, 15.0, 16.0, 16.0, -500.0, 17.0, 962.0, 17.0, 17.0, 17.0, 15.0, 16.0, 16.0, 16.0, 16.0, 16.0, 16.0, 16.0, -500.0, -500.0, 6099.0, 17.0, 17.0, 17.0, 17.0, 17.0, 17.0, 17.0, 17.0, 6990.0, 14.0, 14.0, 14.0, 14.0, 14.0, 15.0, 15.0, 15.0, 6364.0, 16.0, 16.0, 16.0, 16.0, 16.0, 16.0, 16.0, 16.0, -500.0, 2074.0, 7476.0, 14.0, 14.0, 14.0, 14.0, 14.0, 14.0, 14.0, 15.0, 15.0, 15.0, 15.0, 16.0, 16.0, 16.0, 16.0, 16.0, 6117.0, -500.0, 727.0, -500.0, 3840.0, 15.0, 15.0, 15.0, 15.0, 15.0, 16.0, 16.0, 16.0, 7898.0, 7445.0, 16.0, 16.0, 16.0, 16.0, 16.0, 16.0, 16.0, 16.0, 8052.0, 17.0, 17.0, 6206.0, 16.0, 16.0, 16.0, 17.0, 17.0, 17.0, 17.0, 17.0, 5426.0, -500.0, 3262.0, 2204.0, 15.0, 15.0, 15.0, 15.0, 15.0, 15.0, 16.0, -500.0, -500.0, -500.0, 14.0, 14.0, 14.0, 14.0, 14.0, 14.0, 14.0, 14.0, 1234.0, 7517.0, -500.0, 4270.0, 3004.0, 2441.0, -500.0, -500.0, 2509.0, -500.0, 14.0, 14.0, 14.0, 14.0, 14.0, 14.0, 14.0, 14.0, 780.0, 262.0, 17.0, 17.0, 17.0, 17.0, 17.0, 17.0, 17.0, 17.0, -500.0, 952.0, -500.0, 17.0, 17.0, 17.0, 17.0, 1394.0, 17.0, 17.0, 17.0, -500.0, 395.0, 1200.0, 14.0, 14.0, 14.0, 14.0, 14.0, 14.0, 14.0, 14.0, 2765.0, 7886.0, 15.0, 15.0, 16.0, 16.0, 16.0, 16.0, 16.0, 16.0, -500.0, 15.0, 15.0, 6839.0, 15.0, 15.0, 15.0, 16.0, 16.0, 2840.0, 6007.0, 15.0, 15.0, 15.0, 15.0, 15.0, 15.0, 15.0, 15.0, 3904.0, -500.0, 16.0, 16.0, 16.0, 16.0, 17.0, 17.0, 17.0, 17.0, 333.0, -500.0, 14.0, 14.0, 14.0, 14.0, 14.0, 14.0, 14.0, 14.0, -500.0, 598.0, -500.0, 5602.0, 16.0, 16.0, 16.0, 16.0, 16.0, 17.0, 17.0, 17.0, 7462.0, 5973.0, 2855.0, 7481.0, -500.0, -500.0, 7638.0, 16.0, 16.0, 17.0, 17.0, 17.0, 17.0, 17.0, 17.0, 4347.0, 2875.0, 5063.0, -500.0, 3155.0, 16.0, 17.0, 17.0, 17.0, 17.0, 17.0, 17.0, 17.0, 6618.0, 8297.0, 3483.0, -500.0, 1953.0, -500.0, -500.0, 278.0, 1683.0, 8204.0, 7409.0, 5147.0, 17.0, 17.0, 17.0, 17.0, 17.0, 17.0, 17.0, 7901.0, 5642.0, 6135.0, 920.0, 4402.0, 1070.0, 16.0, 16.0, 16.0, 17.0, 17.0, 17.0, 17.0, 17.0, 8490.0, -500.0, -500.0, 5798.0, 7490.0, 2406.0, 8315.0, -500.0, 8425.0, 16.0, 16.0, 16.0, 17.0, 17.0, 17.0, 17.0, 17.0, 3891.0, 6476.0, 4808.0, 2263.0, -500.0, 1342.0, -500.0, 1753.0]\n"
          ]
        }
      ]
    },
    {
      "cell_type": "markdown",
      "source": [
        "Ages not between 18 and 65, will be replaced by 0"
      ],
      "metadata": {
        "id": "FxNDKfYPiAGj"
      }
    },
    {
      "cell_type": "code",
      "source": [
        "for i in credit_info['Age']:\n",
        "  if i in list1:\n",
        "    credit_info['Age'] = credit_info['Age'].replace(i, 0)"
      ],
      "metadata": {
        "id": "gBU0RswLS4oU"
      },
      "execution_count": 99,
      "outputs": []
    },
    {
      "cell_type": "code",
      "source": [
        "credit_info['Age'].describe()"
      ],
      "metadata": {
        "colab": {
          "base_uri": "https://localhost:8080/"
        },
        "id": "86CQmFRoTxSx",
        "outputId": "f5d6ee15-3355-47c5-c19a-4f5f8b036702"
      },
      "execution_count": 100,
      "outputs": [
        {
          "output_type": "execute_result",
          "data": {
            "text/plain": [
              "count    100000.000000\n",
              "mean         31.504640\n",
              "std          13.625486\n",
              "min           0.000000\n",
              "25%          24.000000\n",
              "50%          32.000000\n",
              "75%          41.000000\n",
              "max          56.000000\n",
              "Name: Age, dtype: float64"
            ]
          },
          "metadata": {},
          "execution_count": 100
        }
      ]
    },
    {
      "cell_type": "code",
      "source": [
        "#No Na\n",
        "credit_info['Age'].isna().sum()"
      ],
      "metadata": {
        "colab": {
          "base_uri": "https://localhost:8080/"
        },
        "id": "ZTzPrc-fT9e9",
        "outputId": "f059632b-8439-45b2-c589-0e693b787fbe"
      },
      "execution_count": 101,
      "outputs": [
        {
          "output_type": "execute_result",
          "data": {
            "text/plain": [
              "0"
            ]
          },
          "metadata": {},
          "execution_count": 101
        }
      ]
    },
    {
      "cell_type": "markdown",
      "source": [
        "Now, I will replace the 0s with the maximum age for each Customer_ID"
      ],
      "metadata": {
        "id": "ZauHkCyNh8Jb"
      }
    },
    {
      "cell_type": "code",
      "source": [
        "credit_info['Age'] = credit_info.groupby(by=['Customer_ID'])['Age'].transform('max')"
      ],
      "metadata": {
        "id": "wLYIJUBah5tu"
      },
      "execution_count": 102,
      "outputs": []
    },
    {
      "cell_type": "code",
      "source": [
        "credit_info[['Customer_ID','Age']].head(16)"
      ],
      "metadata": {
        "colab": {
          "base_uri": "https://localhost:8080/",
          "height": 582
        },
        "id": "BifRvPKxVUcD",
        "outputId": "26cd9831-50ce-4295-8368-54bc4b1e4ccd"
      },
      "execution_count": 103,
      "outputs": [
        {
          "output_type": "execute_result",
          "data": {
            "text/plain": [
              "       Customer_ID   Age\n",
              "ID                      \n",
              "0x1602   CUS_0xd40  23.0\n",
              "0x1603   CUS_0xd40  23.0\n",
              "0x1604   CUS_0xd40  23.0\n",
              "0x1605   CUS_0xd40  23.0\n",
              "0x1606   CUS_0xd40  23.0\n",
              "0x1607   CUS_0xd40  23.0\n",
              "0x1608   CUS_0xd40  23.0\n",
              "0x1609   CUS_0xd40  23.0\n",
              "0x160e  CUS_0x21b1  28.0\n",
              "0x160f  CUS_0x21b1  28.0\n",
              "0x1610  CUS_0x21b1  28.0\n",
              "0x1611  CUS_0x21b1  28.0\n",
              "0x1612  CUS_0x21b1  28.0\n",
              "0x1613  CUS_0x21b1  28.0\n",
              "0x1614  CUS_0x21b1  28.0\n",
              "0x1615  CUS_0x21b1  28.0"
            ],
            "text/html": [
              "\n",
              "  <div id=\"df-1e0eaa93-1653-4478-bdb3-7e60fff791d5\">\n",
              "    <div class=\"colab-df-container\">\n",
              "      <div>\n",
              "<style scoped>\n",
              "    .dataframe tbody tr th:only-of-type {\n",
              "        vertical-align: middle;\n",
              "    }\n",
              "\n",
              "    .dataframe tbody tr th {\n",
              "        vertical-align: top;\n",
              "    }\n",
              "\n",
              "    .dataframe thead th {\n",
              "        text-align: right;\n",
              "    }\n",
              "</style>\n",
              "<table border=\"1\" class=\"dataframe\">\n",
              "  <thead>\n",
              "    <tr style=\"text-align: right;\">\n",
              "      <th></th>\n",
              "      <th>Customer_ID</th>\n",
              "      <th>Age</th>\n",
              "    </tr>\n",
              "    <tr>\n",
              "      <th>ID</th>\n",
              "      <th></th>\n",
              "      <th></th>\n",
              "    </tr>\n",
              "  </thead>\n",
              "  <tbody>\n",
              "    <tr>\n",
              "      <th>0x1602</th>\n",
              "      <td>CUS_0xd40</td>\n",
              "      <td>23.0</td>\n",
              "    </tr>\n",
              "    <tr>\n",
              "      <th>0x1603</th>\n",
              "      <td>CUS_0xd40</td>\n",
              "      <td>23.0</td>\n",
              "    </tr>\n",
              "    <tr>\n",
              "      <th>0x1604</th>\n",
              "      <td>CUS_0xd40</td>\n",
              "      <td>23.0</td>\n",
              "    </tr>\n",
              "    <tr>\n",
              "      <th>0x1605</th>\n",
              "      <td>CUS_0xd40</td>\n",
              "      <td>23.0</td>\n",
              "    </tr>\n",
              "    <tr>\n",
              "      <th>0x1606</th>\n",
              "      <td>CUS_0xd40</td>\n",
              "      <td>23.0</td>\n",
              "    </tr>\n",
              "    <tr>\n",
              "      <th>0x1607</th>\n",
              "      <td>CUS_0xd40</td>\n",
              "      <td>23.0</td>\n",
              "    </tr>\n",
              "    <tr>\n",
              "      <th>0x1608</th>\n",
              "      <td>CUS_0xd40</td>\n",
              "      <td>23.0</td>\n",
              "    </tr>\n",
              "    <tr>\n",
              "      <th>0x1609</th>\n",
              "      <td>CUS_0xd40</td>\n",
              "      <td>23.0</td>\n",
              "    </tr>\n",
              "    <tr>\n",
              "      <th>0x160e</th>\n",
              "      <td>CUS_0x21b1</td>\n",
              "      <td>28.0</td>\n",
              "    </tr>\n",
              "    <tr>\n",
              "      <th>0x160f</th>\n",
              "      <td>CUS_0x21b1</td>\n",
              "      <td>28.0</td>\n",
              "    </tr>\n",
              "    <tr>\n",
              "      <th>0x1610</th>\n",
              "      <td>CUS_0x21b1</td>\n",
              "      <td>28.0</td>\n",
              "    </tr>\n",
              "    <tr>\n",
              "      <th>0x1611</th>\n",
              "      <td>CUS_0x21b1</td>\n",
              "      <td>28.0</td>\n",
              "    </tr>\n",
              "    <tr>\n",
              "      <th>0x1612</th>\n",
              "      <td>CUS_0x21b1</td>\n",
              "      <td>28.0</td>\n",
              "    </tr>\n",
              "    <tr>\n",
              "      <th>0x1613</th>\n",
              "      <td>CUS_0x21b1</td>\n",
              "      <td>28.0</td>\n",
              "    </tr>\n",
              "    <tr>\n",
              "      <th>0x1614</th>\n",
              "      <td>CUS_0x21b1</td>\n",
              "      <td>28.0</td>\n",
              "    </tr>\n",
              "    <tr>\n",
              "      <th>0x1615</th>\n",
              "      <td>CUS_0x21b1</td>\n",
              "      <td>28.0</td>\n",
              "    </tr>\n",
              "  </tbody>\n",
              "</table>\n",
              "</div>\n",
              "      <button class=\"colab-df-convert\" onclick=\"convertToInteractive('df-1e0eaa93-1653-4478-bdb3-7e60fff791d5')\"\n",
              "              title=\"Convert this dataframe to an interactive table.\"\n",
              "              style=\"display:none;\">\n",
              "        \n",
              "  <svg xmlns=\"http://www.w3.org/2000/svg\" height=\"24px\"viewBox=\"0 0 24 24\"\n",
              "       width=\"24px\">\n",
              "    <path d=\"M0 0h24v24H0V0z\" fill=\"none\"/>\n",
              "    <path d=\"M18.56 5.44l.94 2.06.94-2.06 2.06-.94-2.06-.94-.94-2.06-.94 2.06-2.06.94zm-11 1L8.5 8.5l.94-2.06 2.06-.94-2.06-.94L8.5 2.5l-.94 2.06-2.06.94zm10 10l.94 2.06.94-2.06 2.06-.94-2.06-.94-.94-2.06-.94 2.06-2.06.94z\"/><path d=\"M17.41 7.96l-1.37-1.37c-.4-.4-.92-.59-1.43-.59-.52 0-1.04.2-1.43.59L10.3 9.45l-7.72 7.72c-.78.78-.78 2.05 0 2.83L4 21.41c.39.39.9.59 1.41.59.51 0 1.02-.2 1.41-.59l7.78-7.78 2.81-2.81c.8-.78.8-2.07 0-2.86zM5.41 20L4 18.59l7.72-7.72 1.47 1.35L5.41 20z\"/>\n",
              "  </svg>\n",
              "      </button>\n",
              "      \n",
              "  <style>\n",
              "    .colab-df-container {\n",
              "      display:flex;\n",
              "      flex-wrap:wrap;\n",
              "      gap: 12px;\n",
              "    }\n",
              "\n",
              "    .colab-df-convert {\n",
              "      background-color: #E8F0FE;\n",
              "      border: none;\n",
              "      border-radius: 50%;\n",
              "      cursor: pointer;\n",
              "      display: none;\n",
              "      fill: #1967D2;\n",
              "      height: 32px;\n",
              "      padding: 0 0 0 0;\n",
              "      width: 32px;\n",
              "    }\n",
              "\n",
              "    .colab-df-convert:hover {\n",
              "      background-color: #E2EBFA;\n",
              "      box-shadow: 0px 1px 2px rgba(60, 64, 67, 0.3), 0px 1px 3px 1px rgba(60, 64, 67, 0.15);\n",
              "      fill: #174EA6;\n",
              "    }\n",
              "\n",
              "    [theme=dark] .colab-df-convert {\n",
              "      background-color: #3B4455;\n",
              "      fill: #D2E3FC;\n",
              "    }\n",
              "\n",
              "    [theme=dark] .colab-df-convert:hover {\n",
              "      background-color: #434B5C;\n",
              "      box-shadow: 0px 1px 3px 1px rgba(0, 0, 0, 0.15);\n",
              "      filter: drop-shadow(0px 1px 2px rgba(0, 0, 0, 0.3));\n",
              "      fill: #FFFFFF;\n",
              "    }\n",
              "  </style>\n",
              "\n",
              "      <script>\n",
              "        const buttonEl =\n",
              "          document.querySelector('#df-1e0eaa93-1653-4478-bdb3-7e60fff791d5 button.colab-df-convert');\n",
              "        buttonEl.style.display =\n",
              "          google.colab.kernel.accessAllowed ? 'block' : 'none';\n",
              "\n",
              "        async function convertToInteractive(key) {\n",
              "          const element = document.querySelector('#df-1e0eaa93-1653-4478-bdb3-7e60fff791d5');\n",
              "          const dataTable =\n",
              "            await google.colab.kernel.invokeFunction('convertToInteractive',\n",
              "                                                     [key], {});\n",
              "          if (!dataTable) return;\n",
              "\n",
              "          const docLinkHtml = 'Like what you see? Visit the ' +\n",
              "            '<a target=\"_blank\" href=https://colab.research.google.com/notebooks/data_table.ipynb>data table notebook</a>'\n",
              "            + ' to learn more about interactive tables.';\n",
              "          element.innerHTML = '';\n",
              "          dataTable['output_type'] = 'display_data';\n",
              "          await google.colab.output.renderOutput(dataTable, element);\n",
              "          const docLink = document.createElement('div');\n",
              "          docLink.innerHTML = docLinkHtml;\n",
              "          element.appendChild(docLink);\n",
              "        }\n",
              "      </script>\n",
              "    </div>\n",
              "  </div>\n",
              "  "
            ]
          },
          "metadata": {},
          "execution_count": 103
        }
      ]
    },
    {
      "cell_type": "markdown",
      "source": [
        "Check if Age is fixed"
      ],
      "metadata": {
        "id": "U38Ewbfgjiwp"
      }
    },
    {
      "cell_type": "code",
      "source": [
        "print(\"AGE:\")\n",
        "print(\"Number of NAs = \",credit_info['Age'].isna().value_counts())\n",
        "print(\"Number of Nulls = \",credit_info['Age'].isnull().value_counts())\n",
        "print(\"Number of 0s = \",credit_info['Age'][credit_info['Age']==0].value_counts())"
      ],
      "metadata": {
        "colab": {
          "base_uri": "https://localhost:8080/"
        },
        "id": "BK_ddomiiewk",
        "outputId": "9040b4e4-efec-4049-ce6a-ec70a8fed94d"
      },
      "execution_count": 104,
      "outputs": [
        {
          "output_type": "stream",
          "name": "stdout",
          "text": [
            "AGE:\n",
            "Number of NAs =  False    100000\n",
            "Name: Age, dtype: int64\n",
            "Number of Nulls =  False    100000\n",
            "Name: Age, dtype: int64\n",
            "Number of 0s =  0.0    5504\n",
            "Name: Age, dtype: int64\n"
          ]
        }
      ]
    },
    {
      "cell_type": "markdown",
      "source": [
        "Not fixed yet, there are 5504 values that are 0."
      ],
      "metadata": {
        "id": "Zn--VauPWs8z"
      }
    },
    {
      "cell_type": "code",
      "source": [
        "credit_info[credit_info['Customer_ID']=='CUS_0x4080']"
      ],
      "metadata": {
        "colab": {
          "base_uri": "https://localhost:8080/",
          "height": 546
        },
        "id": "atQdxR6sUovy",
        "outputId": "9e48a782-b930-420d-e1c2-181950baf7f7"
      },
      "execution_count": 105,
      "outputs": [
        {
          "output_type": "execute_result",
          "data": {
            "text/plain": [
              "       Customer_ID     Month  Age Occupation Annual_Income  \\\n",
              "ID                                                           \n",
              "0x17b2  CUS_0x4080   January  0.0   Mechanic      29469.98   \n",
              "0x17b3  CUS_0x4080  February  0.0   Mechanic      29469.98   \n",
              "0x17b4  CUS_0x4080     March  0.0   Mechanic      29469.98   \n",
              "0x17b5  CUS_0x4080     April  0.0   Mechanic      29469.98   \n",
              "0x17b6  CUS_0x4080       May  0.0   Mechanic      29469.98   \n",
              "0x17b7  CUS_0x4080      June  0.0   Mechanic     29469.98_   \n",
              "0x17b8  CUS_0x4080      July  0.0   Mechanic      29469.98   \n",
              "0x17b9  CUS_0x4080    August  0.0   Mechanic      29469.98   \n",
              "\n",
              "        Monthly_Inhand_Salary  Num_Bank_Accounts  Num_Credit_Card  \\\n",
              "ID                                                                  \n",
              "0x17b2            2227.831667               1231                7   \n",
              "0x17b3            2227.831667                  7                7   \n",
              "0x17b4            2227.831667                  7                7   \n",
              "0x17b5            2227.831667                  7                7   \n",
              "0x17b6            2227.831667                  7                7   \n",
              "0x17b7                    NaN                  7                7   \n",
              "0x17b8                    NaN                  7                7   \n",
              "0x17b9            2227.831667                  7                7   \n",
              "\n",
              "        Interest_Rate Num_of_Loan  ... Credit_Mix  Outstanding_Debt  \\\n",
              "ID                                 ...                                \n",
              "0x17b2             24           5  ...          _           3421.66   \n",
              "0x17b3             24           5  ...        Bad           3421.66   \n",
              "0x17b4             24        -100  ...          _           3421.66   \n",
              "0x17b5             24           5  ...        Bad           3421.66   \n",
              "0x17b6             24           5  ...        Bad           3421.66   \n",
              "0x17b7             24           5  ...        Bad           3421.66   \n",
              "0x17b8             24           5  ...        Bad           3421.66   \n",
              "0x17b9             24           5  ...        Bad           3421.66   \n",
              "\n",
              "       Credit_Utilization_Ratio     Credit_History_Age  Payment_of_Min_Amount  \\\n",
              "ID                                                                              \n",
              "0x17b2                24.639658                    NaN                    Yes   \n",
              "0x17b3                30.268411  13 Years and 3 Months                     NM   \n",
              "0x17b4                31.212269  13 Years and 4 Months                    Yes   \n",
              "0x17b5                33.298654  13 Years and 5 Months                    Yes   \n",
              "0x17b6                38.177311  13 Years and 6 Months                    Yes   \n",
              "0x17b7                30.986998  13 Years and 7 Months                    Yes   \n",
              "0x17b8                33.283061  13 Years and 8 Months                    Yes   \n",
              "0x17b9                32.962950  13 Years and 9 Months                    Yes   \n",
              "\n",
              "       Total_EMI_per_month Amount_invested_monthly  \\\n",
              "ID                                                   \n",
              "0x17b2           69.685459             59.82559612   \n",
              "0x17b3           69.685459             125.4917683   \n",
              "0x17b4           69.685459             32.70665182   \n",
              "0x17b5           69.685459             27.25079463   \n",
              "0x17b6           69.685459             71.26438577   \n",
              "0x17b7           69.685459             117.3103161   \n",
              "0x17b8           69.685459             115.4534157   \n",
              "0x17b9           69.685459             24.06613145   \n",
              "\n",
              "                       Payment_Behaviour Monthly_Balance Credit_Score  \n",
              "ID                                                                     \n",
              "0x17b2                            !@9#%8      363.272112     Standard  \n",
              "0x17b3   High_spent_Small_value_payments     287.6059398     Standard  \n",
              "0x17b4   High_spent_Large_value_payments     360.3910563     Standard  \n",
              "0x17b5  High_spent_Medium_value_payments     375.8469135         Poor  \n",
              "0x17b6   Low_spent_Medium_value_payments     361.8333223         Poor  \n",
              "0x17b7    Low_spent_Small_value_payments      325.787392         Poor  \n",
              "0x17b8    Low_spent_Small_value_payments     327.6442924         Poor  \n",
              "0x17b9  High_spent_Medium_value_payments     379.0315766         Poor  \n",
              "\n",
              "[8 rows x 25 columns]"
            ],
            "text/html": [
              "\n",
              "  <div id=\"df-6e9418f0-95aa-485d-8703-42d5c69dd281\">\n",
              "    <div class=\"colab-df-container\">\n",
              "      <div>\n",
              "<style scoped>\n",
              "    .dataframe tbody tr th:only-of-type {\n",
              "        vertical-align: middle;\n",
              "    }\n",
              "\n",
              "    .dataframe tbody tr th {\n",
              "        vertical-align: top;\n",
              "    }\n",
              "\n",
              "    .dataframe thead th {\n",
              "        text-align: right;\n",
              "    }\n",
              "</style>\n",
              "<table border=\"1\" class=\"dataframe\">\n",
              "  <thead>\n",
              "    <tr style=\"text-align: right;\">\n",
              "      <th></th>\n",
              "      <th>Customer_ID</th>\n",
              "      <th>Month</th>\n",
              "      <th>Age</th>\n",
              "      <th>Occupation</th>\n",
              "      <th>Annual_Income</th>\n",
              "      <th>Monthly_Inhand_Salary</th>\n",
              "      <th>Num_Bank_Accounts</th>\n",
              "      <th>Num_Credit_Card</th>\n",
              "      <th>Interest_Rate</th>\n",
              "      <th>Num_of_Loan</th>\n",
              "      <th>...</th>\n",
              "      <th>Credit_Mix</th>\n",
              "      <th>Outstanding_Debt</th>\n",
              "      <th>Credit_Utilization_Ratio</th>\n",
              "      <th>Credit_History_Age</th>\n",
              "      <th>Payment_of_Min_Amount</th>\n",
              "      <th>Total_EMI_per_month</th>\n",
              "      <th>Amount_invested_monthly</th>\n",
              "      <th>Payment_Behaviour</th>\n",
              "      <th>Monthly_Balance</th>\n",
              "      <th>Credit_Score</th>\n",
              "    </tr>\n",
              "    <tr>\n",
              "      <th>ID</th>\n",
              "      <th></th>\n",
              "      <th></th>\n",
              "      <th></th>\n",
              "      <th></th>\n",
              "      <th></th>\n",
              "      <th></th>\n",
              "      <th></th>\n",
              "      <th></th>\n",
              "      <th></th>\n",
              "      <th></th>\n",
              "      <th></th>\n",
              "      <th></th>\n",
              "      <th></th>\n",
              "      <th></th>\n",
              "      <th></th>\n",
              "      <th></th>\n",
              "      <th></th>\n",
              "      <th></th>\n",
              "      <th></th>\n",
              "      <th></th>\n",
              "      <th></th>\n",
              "    </tr>\n",
              "  </thead>\n",
              "  <tbody>\n",
              "    <tr>\n",
              "      <th>0x17b2</th>\n",
              "      <td>CUS_0x4080</td>\n",
              "      <td>January</td>\n",
              "      <td>0.0</td>\n",
              "      <td>Mechanic</td>\n",
              "      <td>29469.98</td>\n",
              "      <td>2227.831667</td>\n",
              "      <td>1231</td>\n",
              "      <td>7</td>\n",
              "      <td>24</td>\n",
              "      <td>5</td>\n",
              "      <td>...</td>\n",
              "      <td>_</td>\n",
              "      <td>3421.66</td>\n",
              "      <td>24.639658</td>\n",
              "      <td>NaN</td>\n",
              "      <td>Yes</td>\n",
              "      <td>69.685459</td>\n",
              "      <td>59.82559612</td>\n",
              "      <td>!@9#%8</td>\n",
              "      <td>363.272112</td>\n",
              "      <td>Standard</td>\n",
              "    </tr>\n",
              "    <tr>\n",
              "      <th>0x17b3</th>\n",
              "      <td>CUS_0x4080</td>\n",
              "      <td>February</td>\n",
              "      <td>0.0</td>\n",
              "      <td>Mechanic</td>\n",
              "      <td>29469.98</td>\n",
              "      <td>2227.831667</td>\n",
              "      <td>7</td>\n",
              "      <td>7</td>\n",
              "      <td>24</td>\n",
              "      <td>5</td>\n",
              "      <td>...</td>\n",
              "      <td>Bad</td>\n",
              "      <td>3421.66</td>\n",
              "      <td>30.268411</td>\n",
              "      <td>13 Years and 3 Months</td>\n",
              "      <td>NM</td>\n",
              "      <td>69.685459</td>\n",
              "      <td>125.4917683</td>\n",
              "      <td>High_spent_Small_value_payments</td>\n",
              "      <td>287.6059398</td>\n",
              "      <td>Standard</td>\n",
              "    </tr>\n",
              "    <tr>\n",
              "      <th>0x17b4</th>\n",
              "      <td>CUS_0x4080</td>\n",
              "      <td>March</td>\n",
              "      <td>0.0</td>\n",
              "      <td>Mechanic</td>\n",
              "      <td>29469.98</td>\n",
              "      <td>2227.831667</td>\n",
              "      <td>7</td>\n",
              "      <td>7</td>\n",
              "      <td>24</td>\n",
              "      <td>-100</td>\n",
              "      <td>...</td>\n",
              "      <td>_</td>\n",
              "      <td>3421.66</td>\n",
              "      <td>31.212269</td>\n",
              "      <td>13 Years and 4 Months</td>\n",
              "      <td>Yes</td>\n",
              "      <td>69.685459</td>\n",
              "      <td>32.70665182</td>\n",
              "      <td>High_spent_Large_value_payments</td>\n",
              "      <td>360.3910563</td>\n",
              "      <td>Standard</td>\n",
              "    </tr>\n",
              "    <tr>\n",
              "      <th>0x17b5</th>\n",
              "      <td>CUS_0x4080</td>\n",
              "      <td>April</td>\n",
              "      <td>0.0</td>\n",
              "      <td>Mechanic</td>\n",
              "      <td>29469.98</td>\n",
              "      <td>2227.831667</td>\n",
              "      <td>7</td>\n",
              "      <td>7</td>\n",
              "      <td>24</td>\n",
              "      <td>5</td>\n",
              "      <td>...</td>\n",
              "      <td>Bad</td>\n",
              "      <td>3421.66</td>\n",
              "      <td>33.298654</td>\n",
              "      <td>13 Years and 5 Months</td>\n",
              "      <td>Yes</td>\n",
              "      <td>69.685459</td>\n",
              "      <td>27.25079463</td>\n",
              "      <td>High_spent_Medium_value_payments</td>\n",
              "      <td>375.8469135</td>\n",
              "      <td>Poor</td>\n",
              "    </tr>\n",
              "    <tr>\n",
              "      <th>0x17b6</th>\n",
              "      <td>CUS_0x4080</td>\n",
              "      <td>May</td>\n",
              "      <td>0.0</td>\n",
              "      <td>Mechanic</td>\n",
              "      <td>29469.98</td>\n",
              "      <td>2227.831667</td>\n",
              "      <td>7</td>\n",
              "      <td>7</td>\n",
              "      <td>24</td>\n",
              "      <td>5</td>\n",
              "      <td>...</td>\n",
              "      <td>Bad</td>\n",
              "      <td>3421.66</td>\n",
              "      <td>38.177311</td>\n",
              "      <td>13 Years and 6 Months</td>\n",
              "      <td>Yes</td>\n",
              "      <td>69.685459</td>\n",
              "      <td>71.26438577</td>\n",
              "      <td>Low_spent_Medium_value_payments</td>\n",
              "      <td>361.8333223</td>\n",
              "      <td>Poor</td>\n",
              "    </tr>\n",
              "    <tr>\n",
              "      <th>0x17b7</th>\n",
              "      <td>CUS_0x4080</td>\n",
              "      <td>June</td>\n",
              "      <td>0.0</td>\n",
              "      <td>Mechanic</td>\n",
              "      <td>29469.98_</td>\n",
              "      <td>NaN</td>\n",
              "      <td>7</td>\n",
              "      <td>7</td>\n",
              "      <td>24</td>\n",
              "      <td>5</td>\n",
              "      <td>...</td>\n",
              "      <td>Bad</td>\n",
              "      <td>3421.66</td>\n",
              "      <td>30.986998</td>\n",
              "      <td>13 Years and 7 Months</td>\n",
              "      <td>Yes</td>\n",
              "      <td>69.685459</td>\n",
              "      <td>117.3103161</td>\n",
              "      <td>Low_spent_Small_value_payments</td>\n",
              "      <td>325.787392</td>\n",
              "      <td>Poor</td>\n",
              "    </tr>\n",
              "    <tr>\n",
              "      <th>0x17b8</th>\n",
              "      <td>CUS_0x4080</td>\n",
              "      <td>July</td>\n",
              "      <td>0.0</td>\n",
              "      <td>Mechanic</td>\n",
              "      <td>29469.98</td>\n",
              "      <td>NaN</td>\n",
              "      <td>7</td>\n",
              "      <td>7</td>\n",
              "      <td>24</td>\n",
              "      <td>5</td>\n",
              "      <td>...</td>\n",
              "      <td>Bad</td>\n",
              "      <td>3421.66</td>\n",
              "      <td>33.283061</td>\n",
              "      <td>13 Years and 8 Months</td>\n",
              "      <td>Yes</td>\n",
              "      <td>69.685459</td>\n",
              "      <td>115.4534157</td>\n",
              "      <td>Low_spent_Small_value_payments</td>\n",
              "      <td>327.6442924</td>\n",
              "      <td>Poor</td>\n",
              "    </tr>\n",
              "    <tr>\n",
              "      <th>0x17b9</th>\n",
              "      <td>CUS_0x4080</td>\n",
              "      <td>August</td>\n",
              "      <td>0.0</td>\n",
              "      <td>Mechanic</td>\n",
              "      <td>29469.98</td>\n",
              "      <td>2227.831667</td>\n",
              "      <td>7</td>\n",
              "      <td>7</td>\n",
              "      <td>24</td>\n",
              "      <td>5</td>\n",
              "      <td>...</td>\n",
              "      <td>Bad</td>\n",
              "      <td>3421.66</td>\n",
              "      <td>32.962950</td>\n",
              "      <td>13 Years and 9 Months</td>\n",
              "      <td>Yes</td>\n",
              "      <td>69.685459</td>\n",
              "      <td>24.06613145</td>\n",
              "      <td>High_spent_Medium_value_payments</td>\n",
              "      <td>379.0315766</td>\n",
              "      <td>Poor</td>\n",
              "    </tr>\n",
              "  </tbody>\n",
              "</table>\n",
              "<p>8 rows × 25 columns</p>\n",
              "</div>\n",
              "      <button class=\"colab-df-convert\" onclick=\"convertToInteractive('df-6e9418f0-95aa-485d-8703-42d5c69dd281')\"\n",
              "              title=\"Convert this dataframe to an interactive table.\"\n",
              "              style=\"display:none;\">\n",
              "        \n",
              "  <svg xmlns=\"http://www.w3.org/2000/svg\" height=\"24px\"viewBox=\"0 0 24 24\"\n",
              "       width=\"24px\">\n",
              "    <path d=\"M0 0h24v24H0V0z\" fill=\"none\"/>\n",
              "    <path d=\"M18.56 5.44l.94 2.06.94-2.06 2.06-.94-2.06-.94-.94-2.06-.94 2.06-2.06.94zm-11 1L8.5 8.5l.94-2.06 2.06-.94-2.06-.94L8.5 2.5l-.94 2.06-2.06.94zm10 10l.94 2.06.94-2.06 2.06-.94-2.06-.94-.94-2.06-.94 2.06-2.06.94z\"/><path d=\"M17.41 7.96l-1.37-1.37c-.4-.4-.92-.59-1.43-.59-.52 0-1.04.2-1.43.59L10.3 9.45l-7.72 7.72c-.78.78-.78 2.05 0 2.83L4 21.41c.39.39.9.59 1.41.59.51 0 1.02-.2 1.41-.59l7.78-7.78 2.81-2.81c.8-.78.8-2.07 0-2.86zM5.41 20L4 18.59l7.72-7.72 1.47 1.35L5.41 20z\"/>\n",
              "  </svg>\n",
              "      </button>\n",
              "      \n",
              "  <style>\n",
              "    .colab-df-container {\n",
              "      display:flex;\n",
              "      flex-wrap:wrap;\n",
              "      gap: 12px;\n",
              "    }\n",
              "\n",
              "    .colab-df-convert {\n",
              "      background-color: #E8F0FE;\n",
              "      border: none;\n",
              "      border-radius: 50%;\n",
              "      cursor: pointer;\n",
              "      display: none;\n",
              "      fill: #1967D2;\n",
              "      height: 32px;\n",
              "      padding: 0 0 0 0;\n",
              "      width: 32px;\n",
              "    }\n",
              "\n",
              "    .colab-df-convert:hover {\n",
              "      background-color: #E2EBFA;\n",
              "      box-shadow: 0px 1px 2px rgba(60, 64, 67, 0.3), 0px 1px 3px 1px rgba(60, 64, 67, 0.15);\n",
              "      fill: #174EA6;\n",
              "    }\n",
              "\n",
              "    [theme=dark] .colab-df-convert {\n",
              "      background-color: #3B4455;\n",
              "      fill: #D2E3FC;\n",
              "    }\n",
              "\n",
              "    [theme=dark] .colab-df-convert:hover {\n",
              "      background-color: #434B5C;\n",
              "      box-shadow: 0px 1px 3px 1px rgba(0, 0, 0, 0.15);\n",
              "      filter: drop-shadow(0px 1px 2px rgba(0, 0, 0, 0.3));\n",
              "      fill: #FFFFFF;\n",
              "    }\n",
              "  </style>\n",
              "\n",
              "      <script>\n",
              "        const buttonEl =\n",
              "          document.querySelector('#df-6e9418f0-95aa-485d-8703-42d5c69dd281 button.colab-df-convert');\n",
              "        buttonEl.style.display =\n",
              "          google.colab.kernel.accessAllowed ? 'block' : 'none';\n",
              "\n",
              "        async function convertToInteractive(key) {\n",
              "          const element = document.querySelector('#df-6e9418f0-95aa-485d-8703-42d5c69dd281');\n",
              "          const dataTable =\n",
              "            await google.colab.kernel.invokeFunction('convertToInteractive',\n",
              "                                                     [key], {});\n",
              "          if (!dataTable) return;\n",
              "\n",
              "          const docLinkHtml = 'Like what you see? Visit the ' +\n",
              "            '<a target=\"_blank\" href=https://colab.research.google.com/notebooks/data_table.ipynb>data table notebook</a>'\n",
              "            + ' to learn more about interactive tables.';\n",
              "          element.innerHTML = '';\n",
              "          dataTable['output_type'] = 'display_data';\n",
              "          await google.colab.output.renderOutput(dataTable, element);\n",
              "          const docLink = document.createElement('div');\n",
              "          docLink.innerHTML = docLinkHtml;\n",
              "          element.appendChild(docLink);\n",
              "        }\n",
              "      </script>\n",
              "    </div>\n",
              "  </div>\n",
              "  "
            ]
          },
          "metadata": {},
          "execution_count": 105
        }
      ]
    },
    {
      "cell_type": "code",
      "source": [
        "print(credit_info[['Customer_ID']][credit_info['Age'] == 0].count())\n",
        "print()\n",
        "credit_info[['Customer_ID']][credit_info['Age'] == 0].groupby('Customer_ID').Customer_ID.count()"
      ],
      "metadata": {
        "colab": {
          "base_uri": "https://localhost:8080/"
        },
        "id": "sGvUUgK_-qI-",
        "outputId": "09fe41f9-8485-4115-b473-689d27a407cf"
      },
      "execution_count": 106,
      "outputs": [
        {
          "output_type": "stream",
          "name": "stdout",
          "text": [
            "Customer_ID    5504\n",
            "dtype: int64\n",
            "\n"
          ]
        },
        {
          "output_type": "execute_result",
          "data": {
            "text/plain": [
              "Customer_ID\n",
              "CUS_0x1018    8\n",
              "CUS_0x1041    8\n",
              "CUS_0x107c    8\n",
              "CUS_0x107e    8\n",
              "CUS_0x1123    8\n",
              "             ..\n",
              "CUS_0xf60     8\n",
              "CUS_0xf95     8\n",
              "CUS_0xfaa     8\n",
              "CUS_0xfae     8\n",
              "CUS_0xfdd     8\n",
              "Name: Customer_ID, Length: 688, dtype: int64"
            ]
          },
          "metadata": {},
          "execution_count": 106
        }
      ]
    },
    {
      "cell_type": "markdown",
      "source": [
        "This is because there was no Age in those Customers\n",
        "\n",
        "Two solutions: delete them or assign them the average or median Age"
      ],
      "metadata": {
        "id": "qrwoyAULXGGT"
      }
    },
    {
      "cell_type": "code",
      "source": [
        "import statistics"
      ],
      "metadata": {
        "id": "t5FlvnC8XzAV"
      },
      "execution_count": 107,
      "outputs": []
    },
    {
      "cell_type": "code",
      "source": [
        "print(\"AGE:\")\n",
        "print(\"Average =\", round(statistics.mean(credit_info['Age']),0))\n",
        "print(\"Median =\", statistics.median(credit_info['Age']))"
      ],
      "metadata": {
        "colab": {
          "base_uri": "https://localhost:8080/"
        },
        "id": "7UEOPHmbYSD_",
        "outputId": "7f73f941-5b92-46a0-fb33-e50955dea897"
      },
      "execution_count": 108,
      "outputs": [
        {
          "output_type": "stream",
          "name": "stdout",
          "text": [
            "AGE:\n",
            "Average = 33.0\n",
            "Median = 33.0\n"
          ]
        }
      ]
    },
    {
      "cell_type": "markdown",
      "source": [
        "Solution 1:\n",
        "\n",
        "Average and Median are the same\n",
        "\n",
        "I will change the 0s for the average"
      ],
      "metadata": {
        "id": "-hR_4HcjZ0wS"
      }
    },
    {
      "cell_type": "code",
      "source": [
        "#for i in credit_info['Age']:\n",
        "#  if i == 0:\n",
        "#    credit_info['Age'] = credit_info['Age'].replace(i, round(statistics.mean(credit_info['Age']),0))"
      ],
      "metadata": {
        "id": "Y_2AVNrkkG3W"
      },
      "execution_count": 109,
      "outputs": []
    },
    {
      "cell_type": "markdown",
      "source": [
        "Solution 2:\n",
        "\n",
        "Delete all customers where Age is 0"
      ],
      "metadata": {
        "id": "qR-XUUjAaA0s"
      }
    },
    {
      "cell_type": "code",
      "source": [
        "#credit_info.drop(credit_info[credit_info['Age']==0].index, inplace=True) "
      ],
      "metadata": {
        "id": "omIfI3FvkG1R"
      },
      "execution_count": 110,
      "outputs": []
    },
    {
      "cell_type": "markdown",
      "source": [
        "All good for Age."
      ],
      "metadata": {
        "id": "TFivi7n9bPR_"
      }
    },
    {
      "cell_type": "markdown",
      "source": [
        "# Occupation"
      ],
      "metadata": {
        "id": "PxP8wBYpbQ2D"
      }
    },
    {
      "cell_type": "markdown",
      "source": [
        "Reviewing values"
      ],
      "metadata": {
        "id": "5txu_4xsb9Is"
      }
    },
    {
      "cell_type": "code",
      "source": [
        "credit_info['Occupation'].unique()"
      ],
      "metadata": {
        "colab": {
          "base_uri": "https://localhost:8080/"
        },
        "id": "cC_H4dTRb74v",
        "outputId": "7fb1861a-fca0-47ed-b96e-59daa113a034"
      },
      "execution_count": 111,
      "outputs": [
        {
          "output_type": "execute_result",
          "data": {
            "text/plain": [
              "array(['Scientist', '_______', 'Teacher', 'Engineer', 'Entrepreneur',\n",
              "       'Developer', 'Lawyer', 'Media_Manager', 'Doctor', 'Journalist',\n",
              "       'Manager', 'Accountant', 'Musician', 'Mechanic', 'Writer',\n",
              "       'Architect'], dtype=object)"
            ]
          },
          "metadata": {},
          "execution_count": 111
        }
      ]
    },
    {
      "cell_type": "markdown",
      "source": [
        "2 problems found:\n",
        "\n",
        "\n",
        "1.   Value '_______'\n",
        "2.   Value '_' in Media_Manager\n",
        "\n"
      ],
      "metadata": {
        "id": "DNMtIUPtcGan"
      }
    },
    {
      "cell_type": "markdown",
      "source": [
        "First, delete de '_' in Media Manager"
      ],
      "metadata": {
        "id": "zlGp-5ntcU8D"
      }
    },
    {
      "cell_type": "code",
      "source": [
        "for i in credit_info['Occupation']:\n",
        "  if i == 'Media_Manager':\n",
        "    credit_info['Occupation'] = credit_info['Occupation'].replace(i, 'Media Manager')"
      ],
      "metadata": {
        "id": "J_iXa_3ncZVr"
      },
      "execution_count": 112,
      "outputs": []
    },
    {
      "cell_type": "code",
      "source": [
        "credit_info['Occupation'].unique()"
      ],
      "metadata": {
        "colab": {
          "base_uri": "https://localhost:8080/"
        },
        "id": "L86SEsdjczVV",
        "outputId": "5cca1289-7eca-499c-8fa9-faf9875397f0"
      },
      "execution_count": 113,
      "outputs": [
        {
          "output_type": "execute_result",
          "data": {
            "text/plain": [
              "array(['Scientist', '_______', 'Teacher', 'Engineer', 'Entrepreneur',\n",
              "       'Developer', 'Lawyer', 'Media Manager', 'Doctor', 'Journalist',\n",
              "       'Manager', 'Accountant', 'Musician', 'Mechanic', 'Writer',\n",
              "       'Architect'], dtype=object)"
            ]
          },
          "metadata": {},
          "execution_count": 113
        }
      ]
    },
    {
      "cell_type": "markdown",
      "source": [
        "Second, fix the '_____' value"
      ],
      "metadata": {
        "id": "DTYRIySxc2Ql"
      }
    },
    {
      "cell_type": "markdown",
      "source": [
        "1. Change to Na"
      ],
      "metadata": {
        "id": "Sbzycx1Lku37"
      }
    },
    {
      "cell_type": "code",
      "source": [
        "for i in credit_info['Occupation']:\n",
        "  if i == '_______':\n",
        "    credit_info['Occupation'] = credit_info['Occupation'].replace(i, np.nan)"
      ],
      "metadata": {
        "id": "0akk4PbbhvrD"
      },
      "execution_count": 114,
      "outputs": []
    },
    {
      "cell_type": "code",
      "source": [
        "credit_info['Occupation'].unique()"
      ],
      "metadata": {
        "colab": {
          "base_uri": "https://localhost:8080/"
        },
        "id": "h7tl9ZhJiMKd",
        "outputId": "e6bcd1b7-2e89-4e96-9489-a5e94df5746e"
      },
      "execution_count": 115,
      "outputs": [
        {
          "output_type": "execute_result",
          "data": {
            "text/plain": [
              "array(['Scientist', nan, 'Teacher', 'Engineer', 'Entrepreneur',\n",
              "       'Developer', 'Lawyer', 'Media Manager', 'Doctor', 'Journalist',\n",
              "       'Manager', 'Accountant', 'Musician', 'Mechanic', 'Writer',\n",
              "       'Architect'], dtype=object)"
            ]
          },
          "metadata": {},
          "execution_count": 115
        }
      ]
    },
    {
      "cell_type": "markdown",
      "source": [
        "2. Fill Occupations NA's with the mode"
      ],
      "metadata": {
        "id": "RqRm4irvjgK7"
      }
    },
    {
      "cell_type": "code",
      "source": [
        "from scipy import stats"
      ],
      "metadata": {
        "id": "dGpcuL2rkltE"
      },
      "execution_count": 116,
      "outputs": []
    },
    {
      "cell_type": "code",
      "source": [
        "credit_info['Occupation'] = credit_info.groupby('Customer_ID')['Occupation'].transform(lambda x: x.fillna(stats.mode(x)[0][0]))"
      ],
      "metadata": {
        "id": "_S0vJuMTi6F1"
      },
      "execution_count": 117,
      "outputs": []
    },
    {
      "cell_type": "code",
      "source": [
        "credit_info['Occupation'].unique()"
      ],
      "metadata": {
        "colab": {
          "base_uri": "https://localhost:8080/"
        },
        "id": "YR_EExhbkoaW",
        "outputId": "7dde9495-bc61-48d1-c5b2-bfd75b56e7f0"
      },
      "execution_count": 118,
      "outputs": [
        {
          "output_type": "execute_result",
          "data": {
            "text/plain": [
              "array(['Scientist', 'Teacher', 'Engineer', 'Entrepreneur', 'Developer',\n",
              "       'Lawyer', 'Media Manager', 'Doctor', 'Journalist', 'Manager',\n",
              "       'Accountant', 'Musician', 'Mechanic', 'Writer', 'Architect'],\n",
              "      dtype=object)"
            ]
          },
          "metadata": {},
          "execution_count": 118
        }
      ]
    },
    {
      "cell_type": "markdown",
      "source": [
        "All done with Occupation"
      ],
      "metadata": {
        "id": "lPh4Ldq6lCtr"
      }
    },
    {
      "cell_type": "markdown",
      "source": [
        "# Annual Income"
      ],
      "metadata": {
        "id": "R4E28U4Qpf5E"
      }
    },
    {
      "cell_type": "code",
      "source": [
        "credit_info['Annual_Income'].unique()"
      ],
      "metadata": {
        "colab": {
          "base_uri": "https://localhost:8080/"
        },
        "id": "gi3LnC8HpUaC",
        "outputId": "578d58db-6356-4042-95a6-7c3f09ee0db8"
      },
      "execution_count": 119,
      "outputs": [
        {
          "output_type": "execute_result",
          "data": {
            "text/plain": [
              "array(['19114.12', '34847.84', '34847.84_', ..., '20002.88', '39628.99',\n",
              "       '39628.99_'], dtype=object)"
            ]
          },
          "metadata": {},
          "execution_count": 119
        }
      ]
    },
    {
      "cell_type": "markdown",
      "source": [
        "Erase '_' in some values"
      ],
      "metadata": {
        "id": "Dpfr3IO4kEqD"
      }
    },
    {
      "cell_type": "code",
      "source": [
        "credit_info['Annual_Income'] = credit_info['Annual_Income'].str.strip('_')"
      ],
      "metadata": {
        "id": "J3wF0py2qn3G"
      },
      "execution_count": 120,
      "outputs": []
    },
    {
      "cell_type": "markdown",
      "source": [
        "Change it to float"
      ],
      "metadata": {
        "id": "AAT9y2vHkNYx"
      }
    },
    {
      "cell_type": "code",
      "source": [
        "credit_info['Annual_Income'] = credit_info['Annual_Income'].astype('float')"
      ],
      "metadata": {
        "id": "ez3sCPnosBCd"
      },
      "execution_count": 121,
      "outputs": []
    },
    {
      "cell_type": "code",
      "source": [
        "credit_info['Annual_Income'].unique()"
      ],
      "metadata": {
        "colab": {
          "base_uri": "https://localhost:8080/"
        },
        "id": "Ze8bZ96gr0wd",
        "outputId": "9671ff11-99a7-42f4-9983-a048d5f7355d"
      },
      "execution_count": 122,
      "outputs": [
        {
          "output_type": "execute_result",
          "data": {
            "text/plain": [
              "array([ 19114.12,  34847.84, 143162.64, ...,  37188.1 ,  20002.88,\n",
              "        39628.99])"
            ]
          },
          "metadata": {},
          "execution_count": 122
        }
      ]
    },
    {
      "cell_type": "code",
      "source": [
        "credit_info['Annual_Income'].describe()"
      ],
      "metadata": {
        "colab": {
          "base_uri": "https://localhost:8080/"
        },
        "id": "zd71MvO5sHvQ",
        "outputId": "42aa4c06-1753-4e49-8df7-6f7e640e4d8c"
      },
      "execution_count": 123,
      "outputs": [
        {
          "output_type": "execute_result",
          "data": {
            "text/plain": [
              "count    1.000000e+05\n",
              "mean     1.764157e+05\n",
              "std      1.429618e+06\n",
              "min      7.005930e+03\n",
              "25%      1.945750e+04\n",
              "50%      3.757861e+04\n",
              "75%      7.279092e+04\n",
              "max      2.419806e+07\n",
              "Name: Annual_Income, dtype: float64"
            ]
          },
          "metadata": {},
          "execution_count": 123
        }
      ]
    },
    {
      "cell_type": "markdown",
      "source": [
        "All done with Annual Income"
      ],
      "metadata": {
        "id": "wzhLf138vDNt"
      }
    },
    {
      "cell_type": "markdown",
      "source": [
        "# Monthly Inhand Salary"
      ],
      "metadata": {
        "id": "17W67SHmlpYv"
      }
    },
    {
      "cell_type": "code",
      "source": [
        "credit_info['Monthly_Inhand_Salary'].describe()"
      ],
      "metadata": {
        "colab": {
          "base_uri": "https://localhost:8080/"
        },
        "id": "D5H34aDVl4wg",
        "outputId": "9c042af8-6bbe-4e09-8dd0-8e2ba5e60af5"
      },
      "execution_count": 124,
      "outputs": [
        {
          "output_type": "execute_result",
          "data": {
            "text/plain": [
              "count    84998.000000\n",
              "mean      4194.170850\n",
              "std       3183.686167\n",
              "min        303.645417\n",
              "25%       1625.568229\n",
              "50%       3093.745000\n",
              "75%       5957.448333\n",
              "max      15204.633330\n",
              "Name: Monthly_Inhand_Salary, dtype: float64"
            ]
          },
          "metadata": {},
          "execution_count": 124
        }
      ]
    },
    {
      "cell_type": "markdown",
      "source": [
        "It has less than 100000 values, so there might be some Na's"
      ],
      "metadata": {
        "id": "NjmUa0ROmgl9"
      }
    },
    {
      "cell_type": "code",
      "source": [
        "credit_info['Monthly_Inhand_Salary'].unique()"
      ],
      "metadata": {
        "colab": {
          "base_uri": "https://localhost:8080/"
        },
        "id": "ndZbafyPmxi0",
        "outputId": "795821d6-91f1-48c1-de26-827fd3e56a99"
      },
      "execution_count": 125,
      "outputs": [
        {
          "output_type": "execute_result",
          "data": {
            "text/plain": [
              "array([1824.843333,         nan, 3037.986667, ..., 3097.008333,\n",
              "       1929.906667, 3359.415833])"
            ]
          },
          "metadata": {},
          "execution_count": 125
        }
      ]
    },
    {
      "cell_type": "code",
      "source": [
        "credit_info['Monthly_Inhand_Salary'].isna().sum()"
      ],
      "metadata": {
        "colab": {
          "base_uri": "https://localhost:8080/"
        },
        "id": "WWePkXOSme-0",
        "outputId": "d4dfb1a6-fa48-4651-89c8-0edc7ecb612e"
      },
      "execution_count": 126,
      "outputs": [
        {
          "output_type": "execute_result",
          "data": {
            "text/plain": [
              "15002"
            ]
          },
          "metadata": {},
          "execution_count": 126
        }
      ]
    },
    {
      "cell_type": "markdown",
      "source": [
        "Check min, max, median, mean for each customer to see which is the best stats to change instead of the Na's"
      ],
      "metadata": {
        "id": "aFHSrfXmDrp5"
      }
    },
    {
      "cell_type": "code",
      "source": [
        "credit_info.groupby(['Customer_ID'])['Monthly_Inhand_Salary'].agg(['min','max','median','mean'])"
      ],
      "metadata": {
        "colab": {
          "base_uri": "https://localhost:8080/",
          "height": 455
        },
        "id": "s09RF8stpc79",
        "outputId": "a67f633e-a62c-4028-8810-39e5c7d14831"
      },
      "execution_count": 127,
      "outputs": [
        {
          "output_type": "execute_result",
          "data": {
            "text/plain": [
              "                     min          max       median         mean\n",
              "Customer_ID                                                    \n",
              "CUS_0x1000   2706.161667  2706.161667  2706.161667  2706.161667\n",
              "CUS_0x1009   4250.390000  4250.390000  4250.390000  4250.390000\n",
              "CUS_0x100b   9549.782500  9549.782500  9549.782500  9549.782500\n",
              "CUS_0x1011   5208.872500  5208.872500  5208.872500  5208.872500\n",
              "CUS_0x1013   7962.415000  7962.415000  7962.415000  7962.415000\n",
              "...                  ...          ...          ...          ...\n",
              "CUS_0xff3    1176.398750  1176.398750  1176.398750  1176.398750\n",
              "CUS_0xff4    2415.855000  2415.855000  2415.855000  2415.855000\n",
              "CUS_0xff6    9727.326667  9727.326667  9727.326667  9727.326667\n",
              "CUS_0xffc    5218.097500  5218.097500  5218.097500  5218.097500\n",
              "CUS_0xffd    3749.870000  3749.870000  3749.870000  3749.870000\n",
              "\n",
              "[12500 rows x 4 columns]"
            ],
            "text/html": [
              "\n",
              "  <div id=\"df-64004900-4f3f-4f3d-bc25-c51328504445\">\n",
              "    <div class=\"colab-df-container\">\n",
              "      <div>\n",
              "<style scoped>\n",
              "    .dataframe tbody tr th:only-of-type {\n",
              "        vertical-align: middle;\n",
              "    }\n",
              "\n",
              "    .dataframe tbody tr th {\n",
              "        vertical-align: top;\n",
              "    }\n",
              "\n",
              "    .dataframe thead th {\n",
              "        text-align: right;\n",
              "    }\n",
              "</style>\n",
              "<table border=\"1\" class=\"dataframe\">\n",
              "  <thead>\n",
              "    <tr style=\"text-align: right;\">\n",
              "      <th></th>\n",
              "      <th>min</th>\n",
              "      <th>max</th>\n",
              "      <th>median</th>\n",
              "      <th>mean</th>\n",
              "    </tr>\n",
              "    <tr>\n",
              "      <th>Customer_ID</th>\n",
              "      <th></th>\n",
              "      <th></th>\n",
              "      <th></th>\n",
              "      <th></th>\n",
              "    </tr>\n",
              "  </thead>\n",
              "  <tbody>\n",
              "    <tr>\n",
              "      <th>CUS_0x1000</th>\n",
              "      <td>2706.161667</td>\n",
              "      <td>2706.161667</td>\n",
              "      <td>2706.161667</td>\n",
              "      <td>2706.161667</td>\n",
              "    </tr>\n",
              "    <tr>\n",
              "      <th>CUS_0x1009</th>\n",
              "      <td>4250.390000</td>\n",
              "      <td>4250.390000</td>\n",
              "      <td>4250.390000</td>\n",
              "      <td>4250.390000</td>\n",
              "    </tr>\n",
              "    <tr>\n",
              "      <th>CUS_0x100b</th>\n",
              "      <td>9549.782500</td>\n",
              "      <td>9549.782500</td>\n",
              "      <td>9549.782500</td>\n",
              "      <td>9549.782500</td>\n",
              "    </tr>\n",
              "    <tr>\n",
              "      <th>CUS_0x1011</th>\n",
              "      <td>5208.872500</td>\n",
              "      <td>5208.872500</td>\n",
              "      <td>5208.872500</td>\n",
              "      <td>5208.872500</td>\n",
              "    </tr>\n",
              "    <tr>\n",
              "      <th>CUS_0x1013</th>\n",
              "      <td>7962.415000</td>\n",
              "      <td>7962.415000</td>\n",
              "      <td>7962.415000</td>\n",
              "      <td>7962.415000</td>\n",
              "    </tr>\n",
              "    <tr>\n",
              "      <th>...</th>\n",
              "      <td>...</td>\n",
              "      <td>...</td>\n",
              "      <td>...</td>\n",
              "      <td>...</td>\n",
              "    </tr>\n",
              "    <tr>\n",
              "      <th>CUS_0xff3</th>\n",
              "      <td>1176.398750</td>\n",
              "      <td>1176.398750</td>\n",
              "      <td>1176.398750</td>\n",
              "      <td>1176.398750</td>\n",
              "    </tr>\n",
              "    <tr>\n",
              "      <th>CUS_0xff4</th>\n",
              "      <td>2415.855000</td>\n",
              "      <td>2415.855000</td>\n",
              "      <td>2415.855000</td>\n",
              "      <td>2415.855000</td>\n",
              "    </tr>\n",
              "    <tr>\n",
              "      <th>CUS_0xff6</th>\n",
              "      <td>9727.326667</td>\n",
              "      <td>9727.326667</td>\n",
              "      <td>9727.326667</td>\n",
              "      <td>9727.326667</td>\n",
              "    </tr>\n",
              "    <tr>\n",
              "      <th>CUS_0xffc</th>\n",
              "      <td>5218.097500</td>\n",
              "      <td>5218.097500</td>\n",
              "      <td>5218.097500</td>\n",
              "      <td>5218.097500</td>\n",
              "    </tr>\n",
              "    <tr>\n",
              "      <th>CUS_0xffd</th>\n",
              "      <td>3749.870000</td>\n",
              "      <td>3749.870000</td>\n",
              "      <td>3749.870000</td>\n",
              "      <td>3749.870000</td>\n",
              "    </tr>\n",
              "  </tbody>\n",
              "</table>\n",
              "<p>12500 rows × 4 columns</p>\n",
              "</div>\n",
              "      <button class=\"colab-df-convert\" onclick=\"convertToInteractive('df-64004900-4f3f-4f3d-bc25-c51328504445')\"\n",
              "              title=\"Convert this dataframe to an interactive table.\"\n",
              "              style=\"display:none;\">\n",
              "        \n",
              "  <svg xmlns=\"http://www.w3.org/2000/svg\" height=\"24px\"viewBox=\"0 0 24 24\"\n",
              "       width=\"24px\">\n",
              "    <path d=\"M0 0h24v24H0V0z\" fill=\"none\"/>\n",
              "    <path d=\"M18.56 5.44l.94 2.06.94-2.06 2.06-.94-2.06-.94-.94-2.06-.94 2.06-2.06.94zm-11 1L8.5 8.5l.94-2.06 2.06-.94-2.06-.94L8.5 2.5l-.94 2.06-2.06.94zm10 10l.94 2.06.94-2.06 2.06-.94-2.06-.94-.94-2.06-.94 2.06-2.06.94z\"/><path d=\"M17.41 7.96l-1.37-1.37c-.4-.4-.92-.59-1.43-.59-.52 0-1.04.2-1.43.59L10.3 9.45l-7.72 7.72c-.78.78-.78 2.05 0 2.83L4 21.41c.39.39.9.59 1.41.59.51 0 1.02-.2 1.41-.59l7.78-7.78 2.81-2.81c.8-.78.8-2.07 0-2.86zM5.41 20L4 18.59l7.72-7.72 1.47 1.35L5.41 20z\"/>\n",
              "  </svg>\n",
              "      </button>\n",
              "      \n",
              "  <style>\n",
              "    .colab-df-container {\n",
              "      display:flex;\n",
              "      flex-wrap:wrap;\n",
              "      gap: 12px;\n",
              "    }\n",
              "\n",
              "    .colab-df-convert {\n",
              "      background-color: #E8F0FE;\n",
              "      border: none;\n",
              "      border-radius: 50%;\n",
              "      cursor: pointer;\n",
              "      display: none;\n",
              "      fill: #1967D2;\n",
              "      height: 32px;\n",
              "      padding: 0 0 0 0;\n",
              "      width: 32px;\n",
              "    }\n",
              "\n",
              "    .colab-df-convert:hover {\n",
              "      background-color: #E2EBFA;\n",
              "      box-shadow: 0px 1px 2px rgba(60, 64, 67, 0.3), 0px 1px 3px 1px rgba(60, 64, 67, 0.15);\n",
              "      fill: #174EA6;\n",
              "    }\n",
              "\n",
              "    [theme=dark] .colab-df-convert {\n",
              "      background-color: #3B4455;\n",
              "      fill: #D2E3FC;\n",
              "    }\n",
              "\n",
              "    [theme=dark] .colab-df-convert:hover {\n",
              "      background-color: #434B5C;\n",
              "      box-shadow: 0px 1px 3px 1px rgba(0, 0, 0, 0.15);\n",
              "      filter: drop-shadow(0px 1px 2px rgba(0, 0, 0, 0.3));\n",
              "      fill: #FFFFFF;\n",
              "    }\n",
              "  </style>\n",
              "\n",
              "      <script>\n",
              "        const buttonEl =\n",
              "          document.querySelector('#df-64004900-4f3f-4f3d-bc25-c51328504445 button.colab-df-convert');\n",
              "        buttonEl.style.display =\n",
              "          google.colab.kernel.accessAllowed ? 'block' : 'none';\n",
              "\n",
              "        async function convertToInteractive(key) {\n",
              "          const element = document.querySelector('#df-64004900-4f3f-4f3d-bc25-c51328504445');\n",
              "          const dataTable =\n",
              "            await google.colab.kernel.invokeFunction('convertToInteractive',\n",
              "                                                     [key], {});\n",
              "          if (!dataTable) return;\n",
              "\n",
              "          const docLinkHtml = 'Like what you see? Visit the ' +\n",
              "            '<a target=\"_blank\" href=https://colab.research.google.com/notebooks/data_table.ipynb>data table notebook</a>'\n",
              "            + ' to learn more about interactive tables.';\n",
              "          element.innerHTML = '';\n",
              "          dataTable['output_type'] = 'display_data';\n",
              "          await google.colab.output.renderOutput(dataTable, element);\n",
              "          const docLink = document.createElement('div');\n",
              "          docLink.innerHTML = docLinkHtml;\n",
              "          element.appendChild(docLink);\n",
              "        }\n",
              "      </script>\n",
              "    </div>\n",
              "  </div>\n",
              "  "
            ]
          },
          "metadata": {},
          "execution_count": 127
        }
      ]
    },
    {
      "cell_type": "markdown",
      "source": [
        "It seems that all are the same, so I will change the Nas for the Mode"
      ],
      "metadata": {
        "id": "FwSY8FB1FxJs"
      }
    },
    {
      "cell_type": "code",
      "source": [
        "credit_info['Monthly_Inhand_Salary'] = credit_info.groupby('Customer_ID')['Monthly_Inhand_Salary'].transform(lambda x: x.fillna(stats.mode(x)[0][0]))"
      ],
      "metadata": {
        "id": "aMDHX5PHmWch"
      },
      "execution_count": 128,
      "outputs": []
    },
    {
      "cell_type": "code",
      "source": [
        "credit_info['Monthly_Inhand_Salary'].describe()"
      ],
      "metadata": {
        "colab": {
          "base_uri": "https://localhost:8080/"
        },
        "id": "P6mINkcQnsNV",
        "outputId": "623cf0bf-703a-46b0-f2c4-746fa737ad77"
      },
      "execution_count": 129,
      "outputs": [
        {
          "output_type": "execute_result",
          "data": {
            "text/plain": [
              "count    99740.000000\n",
              "mean      4198.094667\n",
              "std       3186.506764\n",
              "min        303.645417\n",
              "25%       1626.047500\n",
              "50%       3097.008333\n",
              "75%       5957.715000\n",
              "max      15204.633330\n",
              "Name: Monthly_Inhand_Salary, dtype: float64"
            ]
          },
          "metadata": {},
          "execution_count": 129
        }
      ]
    },
    {
      "cell_type": "markdown",
      "source": [
        "All done with Monthly Inhand Salary"
      ],
      "metadata": {
        "id": "ULxstmQvHNF6"
      }
    },
    {
      "cell_type": "markdown",
      "source": [
        "# Num Bank Accounts"
      ],
      "metadata": {
        "id": "yepMSuYw4QGf"
      }
    },
    {
      "cell_type": "markdown",
      "source": [
        "Check values"
      ],
      "metadata": {
        "id": "Ihw4n89NMbgr"
      }
    },
    {
      "cell_type": "code",
      "source": [
        "credit_info['Num_Bank_Accounts'].describe()"
      ],
      "metadata": {
        "colab": {
          "base_uri": "https://localhost:8080/"
        },
        "id": "NDqQbqRJ4PRE",
        "outputId": "ba084105-f6a4-421d-93b7-77b9bc99fe5d"
      },
      "execution_count": 130,
      "outputs": [
        {
          "output_type": "execute_result",
          "data": {
            "text/plain": [
              "count    100000.000000\n",
              "mean         17.091280\n",
              "std         117.404834\n",
              "min          -1.000000\n",
              "25%           3.000000\n",
              "50%           6.000000\n",
              "75%           7.000000\n",
              "max        1798.000000\n",
              "Name: Num_Bank_Accounts, dtype: float64"
            ]
          },
          "metadata": {},
          "execution_count": 130
        }
      ]
    },
    {
      "cell_type": "markdown",
      "source": [
        "There are values that have to be fixed: negatives and thousands"
      ],
      "metadata": {
        "id": "RuDwByTdHdHk"
      }
    },
    {
      "cell_type": "markdown",
      "source": [
        "Check which stat method use to change those wrong values"
      ],
      "metadata": {
        "id": "JzkAuoWoHs7l"
      }
    },
    {
      "cell_type": "code",
      "source": [
        "from statistics import mode"
      ],
      "metadata": {
        "id": "SAcK0qDaDKnh"
      },
      "execution_count": 131,
      "outputs": []
    },
    {
      "cell_type": "code",
      "source": [
        "credit_info.groupby(['Customer_ID'])['Num_Bank_Accounts'].agg(['min','max','median','mean',pd.Series.mode])"
      ],
      "metadata": {
        "colab": {
          "base_uri": "https://localhost:8080/",
          "height": 455
        },
        "id": "msJnhNL4DIkn",
        "outputId": "93ecb977-96f4-4e11-d3ec-ac10afab88af"
      },
      "execution_count": 132,
      "outputs": [
        {
          "output_type": "execute_result",
          "data": {
            "text/plain": [
              "             min  max  median  mean mode\n",
              "Customer_ID                             \n",
              "CUS_0x1000     6    6     6.0   6.0    6\n",
              "CUS_0x1009     6    6     6.0   6.0    6\n",
              "CUS_0x100b     1    1     1.0   1.0    1\n",
              "CUS_0x1011     3    3     3.0   3.0    3\n",
              "CUS_0x1013     3    3     3.0   3.0    3\n",
              "...          ...  ...     ...   ...  ...\n",
              "CUS_0xff3      0    0     0.0   0.0    0\n",
              "CUS_0xff4      8    8     8.0   8.0    8\n",
              "CUS_0xff6      5    5     5.0   5.0    5\n",
              "CUS_0xffc      6    6     6.0   6.0    6\n",
              "CUS_0xffd      8    8     8.0   8.0    8\n",
              "\n",
              "[12500 rows x 5 columns]"
            ],
            "text/html": [
              "\n",
              "  <div id=\"df-edf8ab28-4e09-4ca1-8d54-012ca8f64ce8\">\n",
              "    <div class=\"colab-df-container\">\n",
              "      <div>\n",
              "<style scoped>\n",
              "    .dataframe tbody tr th:only-of-type {\n",
              "        vertical-align: middle;\n",
              "    }\n",
              "\n",
              "    .dataframe tbody tr th {\n",
              "        vertical-align: top;\n",
              "    }\n",
              "\n",
              "    .dataframe thead th {\n",
              "        text-align: right;\n",
              "    }\n",
              "</style>\n",
              "<table border=\"1\" class=\"dataframe\">\n",
              "  <thead>\n",
              "    <tr style=\"text-align: right;\">\n",
              "      <th></th>\n",
              "      <th>min</th>\n",
              "      <th>max</th>\n",
              "      <th>median</th>\n",
              "      <th>mean</th>\n",
              "      <th>mode</th>\n",
              "    </tr>\n",
              "    <tr>\n",
              "      <th>Customer_ID</th>\n",
              "      <th></th>\n",
              "      <th></th>\n",
              "      <th></th>\n",
              "      <th></th>\n",
              "      <th></th>\n",
              "    </tr>\n",
              "  </thead>\n",
              "  <tbody>\n",
              "    <tr>\n",
              "      <th>CUS_0x1000</th>\n",
              "      <td>6</td>\n",
              "      <td>6</td>\n",
              "      <td>6.0</td>\n",
              "      <td>6.0</td>\n",
              "      <td>6</td>\n",
              "    </tr>\n",
              "    <tr>\n",
              "      <th>CUS_0x1009</th>\n",
              "      <td>6</td>\n",
              "      <td>6</td>\n",
              "      <td>6.0</td>\n",
              "      <td>6.0</td>\n",
              "      <td>6</td>\n",
              "    </tr>\n",
              "    <tr>\n",
              "      <th>CUS_0x100b</th>\n",
              "      <td>1</td>\n",
              "      <td>1</td>\n",
              "      <td>1.0</td>\n",
              "      <td>1.0</td>\n",
              "      <td>1</td>\n",
              "    </tr>\n",
              "    <tr>\n",
              "      <th>CUS_0x1011</th>\n",
              "      <td>3</td>\n",
              "      <td>3</td>\n",
              "      <td>3.0</td>\n",
              "      <td>3.0</td>\n",
              "      <td>3</td>\n",
              "    </tr>\n",
              "    <tr>\n",
              "      <th>CUS_0x1013</th>\n",
              "      <td>3</td>\n",
              "      <td>3</td>\n",
              "      <td>3.0</td>\n",
              "      <td>3.0</td>\n",
              "      <td>3</td>\n",
              "    </tr>\n",
              "    <tr>\n",
              "      <th>...</th>\n",
              "      <td>...</td>\n",
              "      <td>...</td>\n",
              "      <td>...</td>\n",
              "      <td>...</td>\n",
              "      <td>...</td>\n",
              "    </tr>\n",
              "    <tr>\n",
              "      <th>CUS_0xff3</th>\n",
              "      <td>0</td>\n",
              "      <td>0</td>\n",
              "      <td>0.0</td>\n",
              "      <td>0.0</td>\n",
              "      <td>0</td>\n",
              "    </tr>\n",
              "    <tr>\n",
              "      <th>CUS_0xff4</th>\n",
              "      <td>8</td>\n",
              "      <td>8</td>\n",
              "      <td>8.0</td>\n",
              "      <td>8.0</td>\n",
              "      <td>8</td>\n",
              "    </tr>\n",
              "    <tr>\n",
              "      <th>CUS_0xff6</th>\n",
              "      <td>5</td>\n",
              "      <td>5</td>\n",
              "      <td>5.0</td>\n",
              "      <td>5.0</td>\n",
              "      <td>5</td>\n",
              "    </tr>\n",
              "    <tr>\n",
              "      <th>CUS_0xffc</th>\n",
              "      <td>6</td>\n",
              "      <td>6</td>\n",
              "      <td>6.0</td>\n",
              "      <td>6.0</td>\n",
              "      <td>6</td>\n",
              "    </tr>\n",
              "    <tr>\n",
              "      <th>CUS_0xffd</th>\n",
              "      <td>8</td>\n",
              "      <td>8</td>\n",
              "      <td>8.0</td>\n",
              "      <td>8.0</td>\n",
              "      <td>8</td>\n",
              "    </tr>\n",
              "  </tbody>\n",
              "</table>\n",
              "<p>12500 rows × 5 columns</p>\n",
              "</div>\n",
              "      <button class=\"colab-df-convert\" onclick=\"convertToInteractive('df-edf8ab28-4e09-4ca1-8d54-012ca8f64ce8')\"\n",
              "              title=\"Convert this dataframe to an interactive table.\"\n",
              "              style=\"display:none;\">\n",
              "        \n",
              "  <svg xmlns=\"http://www.w3.org/2000/svg\" height=\"24px\"viewBox=\"0 0 24 24\"\n",
              "       width=\"24px\">\n",
              "    <path d=\"M0 0h24v24H0V0z\" fill=\"none\"/>\n",
              "    <path d=\"M18.56 5.44l.94 2.06.94-2.06 2.06-.94-2.06-.94-.94-2.06-.94 2.06-2.06.94zm-11 1L8.5 8.5l.94-2.06 2.06-.94-2.06-.94L8.5 2.5l-.94 2.06-2.06.94zm10 10l.94 2.06.94-2.06 2.06-.94-2.06-.94-.94-2.06-.94 2.06-2.06.94z\"/><path d=\"M17.41 7.96l-1.37-1.37c-.4-.4-.92-.59-1.43-.59-.52 0-1.04.2-1.43.59L10.3 9.45l-7.72 7.72c-.78.78-.78 2.05 0 2.83L4 21.41c.39.39.9.59 1.41.59.51 0 1.02-.2 1.41-.59l7.78-7.78 2.81-2.81c.8-.78.8-2.07 0-2.86zM5.41 20L4 18.59l7.72-7.72 1.47 1.35L5.41 20z\"/>\n",
              "  </svg>\n",
              "      </button>\n",
              "      \n",
              "  <style>\n",
              "    .colab-df-container {\n",
              "      display:flex;\n",
              "      flex-wrap:wrap;\n",
              "      gap: 12px;\n",
              "    }\n",
              "\n",
              "    .colab-df-convert {\n",
              "      background-color: #E8F0FE;\n",
              "      border: none;\n",
              "      border-radius: 50%;\n",
              "      cursor: pointer;\n",
              "      display: none;\n",
              "      fill: #1967D2;\n",
              "      height: 32px;\n",
              "      padding: 0 0 0 0;\n",
              "      width: 32px;\n",
              "    }\n",
              "\n",
              "    .colab-df-convert:hover {\n",
              "      background-color: #E2EBFA;\n",
              "      box-shadow: 0px 1px 2px rgba(60, 64, 67, 0.3), 0px 1px 3px 1px rgba(60, 64, 67, 0.15);\n",
              "      fill: #174EA6;\n",
              "    }\n",
              "\n",
              "    [theme=dark] .colab-df-convert {\n",
              "      background-color: #3B4455;\n",
              "      fill: #D2E3FC;\n",
              "    }\n",
              "\n",
              "    [theme=dark] .colab-df-convert:hover {\n",
              "      background-color: #434B5C;\n",
              "      box-shadow: 0px 1px 3px 1px rgba(0, 0, 0, 0.15);\n",
              "      filter: drop-shadow(0px 1px 2px rgba(0, 0, 0, 0.3));\n",
              "      fill: #FFFFFF;\n",
              "    }\n",
              "  </style>\n",
              "\n",
              "      <script>\n",
              "        const buttonEl =\n",
              "          document.querySelector('#df-edf8ab28-4e09-4ca1-8d54-012ca8f64ce8 button.colab-df-convert');\n",
              "        buttonEl.style.display =\n",
              "          google.colab.kernel.accessAllowed ? 'block' : 'none';\n",
              "\n",
              "        async function convertToInteractive(key) {\n",
              "          const element = document.querySelector('#df-edf8ab28-4e09-4ca1-8d54-012ca8f64ce8');\n",
              "          const dataTable =\n",
              "            await google.colab.kernel.invokeFunction('convertToInteractive',\n",
              "                                                     [key], {});\n",
              "          if (!dataTable) return;\n",
              "\n",
              "          const docLinkHtml = 'Like what you see? Visit the ' +\n",
              "            '<a target=\"_blank\" href=https://colab.research.google.com/notebooks/data_table.ipynb>data table notebook</a>'\n",
              "            + ' to learn more about interactive tables.';\n",
              "          element.innerHTML = '';\n",
              "          dataTable['output_type'] = 'display_data';\n",
              "          await google.colab.output.renderOutput(dataTable, element);\n",
              "          const docLink = document.createElement('div');\n",
              "          docLink.innerHTML = docLinkHtml;\n",
              "          element.appendChild(docLink);\n",
              "        }\n",
              "      </script>\n",
              "    </div>\n",
              "  </div>\n",
              "  "
            ]
          },
          "metadata": {},
          "execution_count": 132
        }
      ]
    },
    {
      "cell_type": "markdown",
      "source": [
        "Can't use min because there are negatives values.\n",
        "\n",
        "Can't use max because the over thousands values.\n",
        "\n",
        "Median, Mean and Mode seem to be the same. I will use Median in this case."
      ],
      "metadata": {
        "id": "BIYWVO5iHoqh"
      }
    },
    {
      "cell_type": "code",
      "source": [
        "credit_info['Num_Bank_Accounts'] = credit_info.groupby(by=['Customer_ID'])['Num_Bank_Accounts'].transform('median')"
      ],
      "metadata": {
        "id": "fIwasd3GHnwY"
      },
      "execution_count": 133,
      "outputs": []
    },
    {
      "cell_type": "markdown",
      "source": [
        "Check if issues were solved"
      ],
      "metadata": {
        "id": "_vL1Kq4RnGw0"
      }
    },
    {
      "cell_type": "code",
      "source": [
        "credit_info['Num_Bank_Accounts'].describe()"
      ],
      "metadata": {
        "colab": {
          "base_uri": "https://localhost:8080/"
        },
        "id": "nka7iYacnJsn",
        "outputId": "96700dd0-d9e8-4720-f947-ae6bd24065f0"
      },
      "execution_count": 134,
      "outputs": [
        {
          "output_type": "execute_result",
          "data": {
            "text/plain": [
              "count    100000.000000\n",
              "mean          5.369600\n",
              "std           2.592987\n",
              "min          -1.000000\n",
              "25%           3.000000\n",
              "50%           5.000000\n",
              "75%           7.000000\n",
              "max          10.500000\n",
              "Name: Num_Bank_Accounts, dtype: float64"
            ]
          },
          "metadata": {},
          "execution_count": 134
        }
      ]
    },
    {
      "cell_type": "markdown",
      "source": [
        "Thousand values were corrected.\n",
        "\n",
        "Now, I will fix the negative ones."
      ],
      "metadata": {
        "id": "0wCn5BGXnOCn"
      }
    },
    {
      "cell_type": "markdown",
      "source": [
        "Change negatives for 0s because there are not negatives number of accounts"
      ],
      "metadata": {
        "id": "SirUJeKXL5Ah"
      }
    },
    {
      "cell_type": "code",
      "source": [
        "credit_info[['Customer_ID','Num_Bank_Accounts']][credit_info['Num_Bank_Accounts'] < 0]"
      ],
      "metadata": {
        "colab": {
          "base_uri": "https://localhost:8080/",
          "height": 1000
        },
        "id": "flTlkBPHLXwX",
        "outputId": "e70e5721-cfc8-4f92-eefe-3db1b133a5db"
      },
      "execution_count": 135,
      "outputs": [
        {
          "output_type": "execute_result",
          "data": {
            "text/plain": [
              "        Customer_ID  Num_Bank_Accounts\n",
              "ID                                    \n",
              "0xc7b6   CUS_0x4f2a               -1.0\n",
              "0xc7b7   CUS_0x4f2a               -1.0\n",
              "0xc7b8   CUS_0x4f2a               -1.0\n",
              "0xc7b9   CUS_0x4f2a               -1.0\n",
              "0xc7ba   CUS_0x4f2a               -1.0\n",
              "0xc7bb   CUS_0x4f2a               -1.0\n",
              "0xc7bc   CUS_0x4f2a               -1.0\n",
              "0xc7bd   CUS_0x4f2a               -1.0\n",
              "0x115fe  CUS_0xa878               -1.0\n",
              "0x115ff  CUS_0xa878               -1.0\n",
              "0x11600  CUS_0xa878               -1.0\n",
              "0x11601  CUS_0xa878               -1.0\n",
              "0x11602  CUS_0xa878               -1.0\n",
              "0x11603  CUS_0xa878               -1.0\n",
              "0x11604  CUS_0xa878               -1.0\n",
              "0x11605  CUS_0xa878               -1.0\n",
              "0x12a9e  CUS_0x43bc               -0.5\n",
              "0x12a9f  CUS_0x43bc               -0.5\n",
              "0x12aa0  CUS_0x43bc               -0.5\n",
              "0x12aa1  CUS_0x43bc               -0.5\n",
              "0x12aa2  CUS_0x43bc               -0.5\n",
              "0x12aa3  CUS_0x43bc               -0.5\n",
              "0x12aa4  CUS_0x43bc               -0.5\n",
              "0x12aa5  CUS_0x43bc               -0.5\n",
              "0x15bfa  CUS_0x5993               -0.5\n",
              "0x15bfb  CUS_0x5993               -0.5\n",
              "0x15bfc  CUS_0x5993               -0.5\n",
              "0x15bfd  CUS_0x5993               -0.5\n",
              "0x15bfe  CUS_0x5993               -0.5\n",
              "0x15bff  CUS_0x5993               -0.5\n",
              "0x15c00  CUS_0x5993               -0.5\n",
              "0x15c01  CUS_0x5993               -0.5"
            ],
            "text/html": [
              "\n",
              "  <div id=\"df-1ad31e28-eb35-4c3e-bb0c-3a21a6ed99a3\">\n",
              "    <div class=\"colab-df-container\">\n",
              "      <div>\n",
              "<style scoped>\n",
              "    .dataframe tbody tr th:only-of-type {\n",
              "        vertical-align: middle;\n",
              "    }\n",
              "\n",
              "    .dataframe tbody tr th {\n",
              "        vertical-align: top;\n",
              "    }\n",
              "\n",
              "    .dataframe thead th {\n",
              "        text-align: right;\n",
              "    }\n",
              "</style>\n",
              "<table border=\"1\" class=\"dataframe\">\n",
              "  <thead>\n",
              "    <tr style=\"text-align: right;\">\n",
              "      <th></th>\n",
              "      <th>Customer_ID</th>\n",
              "      <th>Num_Bank_Accounts</th>\n",
              "    </tr>\n",
              "    <tr>\n",
              "      <th>ID</th>\n",
              "      <th></th>\n",
              "      <th></th>\n",
              "    </tr>\n",
              "  </thead>\n",
              "  <tbody>\n",
              "    <tr>\n",
              "      <th>0xc7b6</th>\n",
              "      <td>CUS_0x4f2a</td>\n",
              "      <td>-1.0</td>\n",
              "    </tr>\n",
              "    <tr>\n",
              "      <th>0xc7b7</th>\n",
              "      <td>CUS_0x4f2a</td>\n",
              "      <td>-1.0</td>\n",
              "    </tr>\n",
              "    <tr>\n",
              "      <th>0xc7b8</th>\n",
              "      <td>CUS_0x4f2a</td>\n",
              "      <td>-1.0</td>\n",
              "    </tr>\n",
              "    <tr>\n",
              "      <th>0xc7b9</th>\n",
              "      <td>CUS_0x4f2a</td>\n",
              "      <td>-1.0</td>\n",
              "    </tr>\n",
              "    <tr>\n",
              "      <th>0xc7ba</th>\n",
              "      <td>CUS_0x4f2a</td>\n",
              "      <td>-1.0</td>\n",
              "    </tr>\n",
              "    <tr>\n",
              "      <th>0xc7bb</th>\n",
              "      <td>CUS_0x4f2a</td>\n",
              "      <td>-1.0</td>\n",
              "    </tr>\n",
              "    <tr>\n",
              "      <th>0xc7bc</th>\n",
              "      <td>CUS_0x4f2a</td>\n",
              "      <td>-1.0</td>\n",
              "    </tr>\n",
              "    <tr>\n",
              "      <th>0xc7bd</th>\n",
              "      <td>CUS_0x4f2a</td>\n",
              "      <td>-1.0</td>\n",
              "    </tr>\n",
              "    <tr>\n",
              "      <th>0x115fe</th>\n",
              "      <td>CUS_0xa878</td>\n",
              "      <td>-1.0</td>\n",
              "    </tr>\n",
              "    <tr>\n",
              "      <th>0x115ff</th>\n",
              "      <td>CUS_0xa878</td>\n",
              "      <td>-1.0</td>\n",
              "    </tr>\n",
              "    <tr>\n",
              "      <th>0x11600</th>\n",
              "      <td>CUS_0xa878</td>\n",
              "      <td>-1.0</td>\n",
              "    </tr>\n",
              "    <tr>\n",
              "      <th>0x11601</th>\n",
              "      <td>CUS_0xa878</td>\n",
              "      <td>-1.0</td>\n",
              "    </tr>\n",
              "    <tr>\n",
              "      <th>0x11602</th>\n",
              "      <td>CUS_0xa878</td>\n",
              "      <td>-1.0</td>\n",
              "    </tr>\n",
              "    <tr>\n",
              "      <th>0x11603</th>\n",
              "      <td>CUS_0xa878</td>\n",
              "      <td>-1.0</td>\n",
              "    </tr>\n",
              "    <tr>\n",
              "      <th>0x11604</th>\n",
              "      <td>CUS_0xa878</td>\n",
              "      <td>-1.0</td>\n",
              "    </tr>\n",
              "    <tr>\n",
              "      <th>0x11605</th>\n",
              "      <td>CUS_0xa878</td>\n",
              "      <td>-1.0</td>\n",
              "    </tr>\n",
              "    <tr>\n",
              "      <th>0x12a9e</th>\n",
              "      <td>CUS_0x43bc</td>\n",
              "      <td>-0.5</td>\n",
              "    </tr>\n",
              "    <tr>\n",
              "      <th>0x12a9f</th>\n",
              "      <td>CUS_0x43bc</td>\n",
              "      <td>-0.5</td>\n",
              "    </tr>\n",
              "    <tr>\n",
              "      <th>0x12aa0</th>\n",
              "      <td>CUS_0x43bc</td>\n",
              "      <td>-0.5</td>\n",
              "    </tr>\n",
              "    <tr>\n",
              "      <th>0x12aa1</th>\n",
              "      <td>CUS_0x43bc</td>\n",
              "      <td>-0.5</td>\n",
              "    </tr>\n",
              "    <tr>\n",
              "      <th>0x12aa2</th>\n",
              "      <td>CUS_0x43bc</td>\n",
              "      <td>-0.5</td>\n",
              "    </tr>\n",
              "    <tr>\n",
              "      <th>0x12aa3</th>\n",
              "      <td>CUS_0x43bc</td>\n",
              "      <td>-0.5</td>\n",
              "    </tr>\n",
              "    <tr>\n",
              "      <th>0x12aa4</th>\n",
              "      <td>CUS_0x43bc</td>\n",
              "      <td>-0.5</td>\n",
              "    </tr>\n",
              "    <tr>\n",
              "      <th>0x12aa5</th>\n",
              "      <td>CUS_0x43bc</td>\n",
              "      <td>-0.5</td>\n",
              "    </tr>\n",
              "    <tr>\n",
              "      <th>0x15bfa</th>\n",
              "      <td>CUS_0x5993</td>\n",
              "      <td>-0.5</td>\n",
              "    </tr>\n",
              "    <tr>\n",
              "      <th>0x15bfb</th>\n",
              "      <td>CUS_0x5993</td>\n",
              "      <td>-0.5</td>\n",
              "    </tr>\n",
              "    <tr>\n",
              "      <th>0x15bfc</th>\n",
              "      <td>CUS_0x5993</td>\n",
              "      <td>-0.5</td>\n",
              "    </tr>\n",
              "    <tr>\n",
              "      <th>0x15bfd</th>\n",
              "      <td>CUS_0x5993</td>\n",
              "      <td>-0.5</td>\n",
              "    </tr>\n",
              "    <tr>\n",
              "      <th>0x15bfe</th>\n",
              "      <td>CUS_0x5993</td>\n",
              "      <td>-0.5</td>\n",
              "    </tr>\n",
              "    <tr>\n",
              "      <th>0x15bff</th>\n",
              "      <td>CUS_0x5993</td>\n",
              "      <td>-0.5</td>\n",
              "    </tr>\n",
              "    <tr>\n",
              "      <th>0x15c00</th>\n",
              "      <td>CUS_0x5993</td>\n",
              "      <td>-0.5</td>\n",
              "    </tr>\n",
              "    <tr>\n",
              "      <th>0x15c01</th>\n",
              "      <td>CUS_0x5993</td>\n",
              "      <td>-0.5</td>\n",
              "    </tr>\n",
              "  </tbody>\n",
              "</table>\n",
              "</div>\n",
              "      <button class=\"colab-df-convert\" onclick=\"convertToInteractive('df-1ad31e28-eb35-4c3e-bb0c-3a21a6ed99a3')\"\n",
              "              title=\"Convert this dataframe to an interactive table.\"\n",
              "              style=\"display:none;\">\n",
              "        \n",
              "  <svg xmlns=\"http://www.w3.org/2000/svg\" height=\"24px\"viewBox=\"0 0 24 24\"\n",
              "       width=\"24px\">\n",
              "    <path d=\"M0 0h24v24H0V0z\" fill=\"none\"/>\n",
              "    <path d=\"M18.56 5.44l.94 2.06.94-2.06 2.06-.94-2.06-.94-.94-2.06-.94 2.06-2.06.94zm-11 1L8.5 8.5l.94-2.06 2.06-.94-2.06-.94L8.5 2.5l-.94 2.06-2.06.94zm10 10l.94 2.06.94-2.06 2.06-.94-2.06-.94-.94-2.06-.94 2.06-2.06.94z\"/><path d=\"M17.41 7.96l-1.37-1.37c-.4-.4-.92-.59-1.43-.59-.52 0-1.04.2-1.43.59L10.3 9.45l-7.72 7.72c-.78.78-.78 2.05 0 2.83L4 21.41c.39.39.9.59 1.41.59.51 0 1.02-.2 1.41-.59l7.78-7.78 2.81-2.81c.8-.78.8-2.07 0-2.86zM5.41 20L4 18.59l7.72-7.72 1.47 1.35L5.41 20z\"/>\n",
              "  </svg>\n",
              "      </button>\n",
              "      \n",
              "  <style>\n",
              "    .colab-df-container {\n",
              "      display:flex;\n",
              "      flex-wrap:wrap;\n",
              "      gap: 12px;\n",
              "    }\n",
              "\n",
              "    .colab-df-convert {\n",
              "      background-color: #E8F0FE;\n",
              "      border: none;\n",
              "      border-radius: 50%;\n",
              "      cursor: pointer;\n",
              "      display: none;\n",
              "      fill: #1967D2;\n",
              "      height: 32px;\n",
              "      padding: 0 0 0 0;\n",
              "      width: 32px;\n",
              "    }\n",
              "\n",
              "    .colab-df-convert:hover {\n",
              "      background-color: #E2EBFA;\n",
              "      box-shadow: 0px 1px 2px rgba(60, 64, 67, 0.3), 0px 1px 3px 1px rgba(60, 64, 67, 0.15);\n",
              "      fill: #174EA6;\n",
              "    }\n",
              "\n",
              "    [theme=dark] .colab-df-convert {\n",
              "      background-color: #3B4455;\n",
              "      fill: #D2E3FC;\n",
              "    }\n",
              "\n",
              "    [theme=dark] .colab-df-convert:hover {\n",
              "      background-color: #434B5C;\n",
              "      box-shadow: 0px 1px 3px 1px rgba(0, 0, 0, 0.15);\n",
              "      filter: drop-shadow(0px 1px 2px rgba(0, 0, 0, 0.3));\n",
              "      fill: #FFFFFF;\n",
              "    }\n",
              "  </style>\n",
              "\n",
              "      <script>\n",
              "        const buttonEl =\n",
              "          document.querySelector('#df-1ad31e28-eb35-4c3e-bb0c-3a21a6ed99a3 button.colab-df-convert');\n",
              "        buttonEl.style.display =\n",
              "          google.colab.kernel.accessAllowed ? 'block' : 'none';\n",
              "\n",
              "        async function convertToInteractive(key) {\n",
              "          const element = document.querySelector('#df-1ad31e28-eb35-4c3e-bb0c-3a21a6ed99a3');\n",
              "          const dataTable =\n",
              "            await google.colab.kernel.invokeFunction('convertToInteractive',\n",
              "                                                     [key], {});\n",
              "          if (!dataTable) return;\n",
              "\n",
              "          const docLinkHtml = 'Like what you see? Visit the ' +\n",
              "            '<a target=\"_blank\" href=https://colab.research.google.com/notebooks/data_table.ipynb>data table notebook</a>'\n",
              "            + ' to learn more about interactive tables.';\n",
              "          element.innerHTML = '';\n",
              "          dataTable['output_type'] = 'display_data';\n",
              "          await google.colab.output.renderOutput(dataTable, element);\n",
              "          const docLink = document.createElement('div');\n",
              "          docLink.innerHTML = docLinkHtml;\n",
              "          element.appendChild(docLink);\n",
              "        }\n",
              "      </script>\n",
              "    </div>\n",
              "  </div>\n",
              "  "
            ]
          },
          "metadata": {},
          "execution_count": 135
        }
      ]
    },
    {
      "cell_type": "code",
      "source": [
        "for i in credit_info['Num_Bank_Accounts']:\n",
        "  if i < 0:\n",
        "    credit_info['Num_Bank_Accounts'] = credit_info['Num_Bank_Accounts'].replace(i, 0)"
      ],
      "metadata": {
        "id": "u3ZycqMQL6-S"
      },
      "execution_count": 136,
      "outputs": []
    },
    {
      "cell_type": "markdown",
      "source": [
        "Check if changes were done correctly"
      ],
      "metadata": {
        "id": "bMzw3fsrRHpJ"
      }
    },
    {
      "cell_type": "code",
      "source": [
        "credit_info['Num_Bank_Accounts'].describe()"
      ],
      "metadata": {
        "colab": {
          "base_uri": "https://localhost:8080/"
        },
        "id": "dZ3ZWhu3MIoX",
        "outputId": "6df898f8-65dd-40f3-eb6f-209e2bdca814"
      },
      "execution_count": 137,
      "outputs": [
        {
          "output_type": "execute_result",
          "data": {
            "text/plain": [
              "count    100000.000000\n",
              "mean          5.369840\n",
              "std           2.592452\n",
              "min           0.000000\n",
              "25%           3.000000\n",
              "50%           5.000000\n",
              "75%           7.000000\n",
              "max          10.500000\n",
              "Name: Num_Bank_Accounts, dtype: float64"
            ]
          },
          "metadata": {},
          "execution_count": 137
        }
      ]
    },
    {
      "cell_type": "markdown",
      "source": [
        "All done for Num Bank Accounts"
      ],
      "metadata": {
        "id": "FPbvXyEUMT7M"
      }
    },
    {
      "cell_type": "markdown",
      "source": [
        "# Num Credit Card"
      ],
      "metadata": {
        "id": "oil-WxS5PDF6"
      }
    },
    {
      "cell_type": "code",
      "source": [
        "credit_info['Num_Credit_Card'].describe()"
      ],
      "metadata": {
        "colab": {
          "base_uri": "https://localhost:8080/"
        },
        "id": "magCkU7YO_ME",
        "outputId": "0f35c646-0e13-4ac5-f062-ce9374293d94"
      },
      "execution_count": 138,
      "outputs": [
        {
          "output_type": "execute_result",
          "data": {
            "text/plain": [
              "count    100000.00000\n",
              "mean         22.47443\n",
              "std         129.05741\n",
              "min           0.00000\n",
              "25%           4.00000\n",
              "50%           5.00000\n",
              "75%           7.00000\n",
              "max        1499.00000\n",
              "Name: Num_Credit_Card, dtype: float64"
            ]
          },
          "metadata": {},
          "execution_count": 138
        }
      ]
    },
    {
      "cell_type": "markdown",
      "source": [
        "There are thousands values that have to be fixed "
      ],
      "metadata": {
        "id": "V7tHD88URa00"
      }
    },
    {
      "cell_type": "markdown",
      "source": [
        "Check which stat method use to change those wrong values"
      ],
      "metadata": {
        "id": "ZHrtbHKrRbbP"
      }
    },
    {
      "cell_type": "code",
      "source": [
        "credit_info.groupby(['Customer_ID'])['Num_Credit_Card'].agg(['min','max','median','mean',pd.Series.mode])"
      ],
      "metadata": {
        "colab": {
          "base_uri": "https://localhost:8080/",
          "height": 455
        },
        "id": "dvMrXsWBPJBM",
        "outputId": "6a090cda-5013-46ae-8369-e6db583dab44"
      },
      "execution_count": 139,
      "outputs": [
        {
          "output_type": "execute_result",
          "data": {
            "text/plain": [
              "             min   max  median     mean mode\n",
              "Customer_ID                                 \n",
              "CUS_0x1000     5     5     5.0    5.000    5\n",
              "CUS_0x1009     5     5     5.0    5.000    5\n",
              "CUS_0x100b     4     4     4.0    4.000    4\n",
              "CUS_0x1011     3     3     3.0    3.000    3\n",
              "CUS_0x1013     3     3     3.0    3.000    3\n",
              "...          ...   ...     ...      ...  ...\n",
              "CUS_0xff3      6  1168     6.0  195.875    6\n",
              "CUS_0xff4      7     7     7.0    7.000    7\n",
              "CUS_0xff6      6     6     6.0    6.000    6\n",
              "CUS_0xffc      8     8     8.0    8.000    8\n",
              "CUS_0xffd      7     7     7.0    7.000    7\n",
              "\n",
              "[12500 rows x 5 columns]"
            ],
            "text/html": [
              "\n",
              "  <div id=\"df-38d67d41-bf73-42c8-b85e-6112a1bde2a1\">\n",
              "    <div class=\"colab-df-container\">\n",
              "      <div>\n",
              "<style scoped>\n",
              "    .dataframe tbody tr th:only-of-type {\n",
              "        vertical-align: middle;\n",
              "    }\n",
              "\n",
              "    .dataframe tbody tr th {\n",
              "        vertical-align: top;\n",
              "    }\n",
              "\n",
              "    .dataframe thead th {\n",
              "        text-align: right;\n",
              "    }\n",
              "</style>\n",
              "<table border=\"1\" class=\"dataframe\">\n",
              "  <thead>\n",
              "    <tr style=\"text-align: right;\">\n",
              "      <th></th>\n",
              "      <th>min</th>\n",
              "      <th>max</th>\n",
              "      <th>median</th>\n",
              "      <th>mean</th>\n",
              "      <th>mode</th>\n",
              "    </tr>\n",
              "    <tr>\n",
              "      <th>Customer_ID</th>\n",
              "      <th></th>\n",
              "      <th></th>\n",
              "      <th></th>\n",
              "      <th></th>\n",
              "      <th></th>\n",
              "    </tr>\n",
              "  </thead>\n",
              "  <tbody>\n",
              "    <tr>\n",
              "      <th>CUS_0x1000</th>\n",
              "      <td>5</td>\n",
              "      <td>5</td>\n",
              "      <td>5.0</td>\n",
              "      <td>5.000</td>\n",
              "      <td>5</td>\n",
              "    </tr>\n",
              "    <tr>\n",
              "      <th>CUS_0x1009</th>\n",
              "      <td>5</td>\n",
              "      <td>5</td>\n",
              "      <td>5.0</td>\n",
              "      <td>5.000</td>\n",
              "      <td>5</td>\n",
              "    </tr>\n",
              "    <tr>\n",
              "      <th>CUS_0x100b</th>\n",
              "      <td>4</td>\n",
              "      <td>4</td>\n",
              "      <td>4.0</td>\n",
              "      <td>4.000</td>\n",
              "      <td>4</td>\n",
              "    </tr>\n",
              "    <tr>\n",
              "      <th>CUS_0x1011</th>\n",
              "      <td>3</td>\n",
              "      <td>3</td>\n",
              "      <td>3.0</td>\n",
              "      <td>3.000</td>\n",
              "      <td>3</td>\n",
              "    </tr>\n",
              "    <tr>\n",
              "      <th>CUS_0x1013</th>\n",
              "      <td>3</td>\n",
              "      <td>3</td>\n",
              "      <td>3.0</td>\n",
              "      <td>3.000</td>\n",
              "      <td>3</td>\n",
              "    </tr>\n",
              "    <tr>\n",
              "      <th>...</th>\n",
              "      <td>...</td>\n",
              "      <td>...</td>\n",
              "      <td>...</td>\n",
              "      <td>...</td>\n",
              "      <td>...</td>\n",
              "    </tr>\n",
              "    <tr>\n",
              "      <th>CUS_0xff3</th>\n",
              "      <td>6</td>\n",
              "      <td>1168</td>\n",
              "      <td>6.0</td>\n",
              "      <td>195.875</td>\n",
              "      <td>6</td>\n",
              "    </tr>\n",
              "    <tr>\n",
              "      <th>CUS_0xff4</th>\n",
              "      <td>7</td>\n",
              "      <td>7</td>\n",
              "      <td>7.0</td>\n",
              "      <td>7.000</td>\n",
              "      <td>7</td>\n",
              "    </tr>\n",
              "    <tr>\n",
              "      <th>CUS_0xff6</th>\n",
              "      <td>6</td>\n",
              "      <td>6</td>\n",
              "      <td>6.0</td>\n",
              "      <td>6.000</td>\n",
              "      <td>6</td>\n",
              "    </tr>\n",
              "    <tr>\n",
              "      <th>CUS_0xffc</th>\n",
              "      <td>8</td>\n",
              "      <td>8</td>\n",
              "      <td>8.0</td>\n",
              "      <td>8.000</td>\n",
              "      <td>8</td>\n",
              "    </tr>\n",
              "    <tr>\n",
              "      <th>CUS_0xffd</th>\n",
              "      <td>7</td>\n",
              "      <td>7</td>\n",
              "      <td>7.0</td>\n",
              "      <td>7.000</td>\n",
              "      <td>7</td>\n",
              "    </tr>\n",
              "  </tbody>\n",
              "</table>\n",
              "<p>12500 rows × 5 columns</p>\n",
              "</div>\n",
              "      <button class=\"colab-df-convert\" onclick=\"convertToInteractive('df-38d67d41-bf73-42c8-b85e-6112a1bde2a1')\"\n",
              "              title=\"Convert this dataframe to an interactive table.\"\n",
              "              style=\"display:none;\">\n",
              "        \n",
              "  <svg xmlns=\"http://www.w3.org/2000/svg\" height=\"24px\"viewBox=\"0 0 24 24\"\n",
              "       width=\"24px\">\n",
              "    <path d=\"M0 0h24v24H0V0z\" fill=\"none\"/>\n",
              "    <path d=\"M18.56 5.44l.94 2.06.94-2.06 2.06-.94-2.06-.94-.94-2.06-.94 2.06-2.06.94zm-11 1L8.5 8.5l.94-2.06 2.06-.94-2.06-.94L8.5 2.5l-.94 2.06-2.06.94zm10 10l.94 2.06.94-2.06 2.06-.94-2.06-.94-.94-2.06-.94 2.06-2.06.94z\"/><path d=\"M17.41 7.96l-1.37-1.37c-.4-.4-.92-.59-1.43-.59-.52 0-1.04.2-1.43.59L10.3 9.45l-7.72 7.72c-.78.78-.78 2.05 0 2.83L4 21.41c.39.39.9.59 1.41.59.51 0 1.02-.2 1.41-.59l7.78-7.78 2.81-2.81c.8-.78.8-2.07 0-2.86zM5.41 20L4 18.59l7.72-7.72 1.47 1.35L5.41 20z\"/>\n",
              "  </svg>\n",
              "      </button>\n",
              "      \n",
              "  <style>\n",
              "    .colab-df-container {\n",
              "      display:flex;\n",
              "      flex-wrap:wrap;\n",
              "      gap: 12px;\n",
              "    }\n",
              "\n",
              "    .colab-df-convert {\n",
              "      background-color: #E8F0FE;\n",
              "      border: none;\n",
              "      border-radius: 50%;\n",
              "      cursor: pointer;\n",
              "      display: none;\n",
              "      fill: #1967D2;\n",
              "      height: 32px;\n",
              "      padding: 0 0 0 0;\n",
              "      width: 32px;\n",
              "    }\n",
              "\n",
              "    .colab-df-convert:hover {\n",
              "      background-color: #E2EBFA;\n",
              "      box-shadow: 0px 1px 2px rgba(60, 64, 67, 0.3), 0px 1px 3px 1px rgba(60, 64, 67, 0.15);\n",
              "      fill: #174EA6;\n",
              "    }\n",
              "\n",
              "    [theme=dark] .colab-df-convert {\n",
              "      background-color: #3B4455;\n",
              "      fill: #D2E3FC;\n",
              "    }\n",
              "\n",
              "    [theme=dark] .colab-df-convert:hover {\n",
              "      background-color: #434B5C;\n",
              "      box-shadow: 0px 1px 3px 1px rgba(0, 0, 0, 0.15);\n",
              "      filter: drop-shadow(0px 1px 2px rgba(0, 0, 0, 0.3));\n",
              "      fill: #FFFFFF;\n",
              "    }\n",
              "  </style>\n",
              "\n",
              "      <script>\n",
              "        const buttonEl =\n",
              "          document.querySelector('#df-38d67d41-bf73-42c8-b85e-6112a1bde2a1 button.colab-df-convert');\n",
              "        buttonEl.style.display =\n",
              "          google.colab.kernel.accessAllowed ? 'block' : 'none';\n",
              "\n",
              "        async function convertToInteractive(key) {\n",
              "          const element = document.querySelector('#df-38d67d41-bf73-42c8-b85e-6112a1bde2a1');\n",
              "          const dataTable =\n",
              "            await google.colab.kernel.invokeFunction('convertToInteractive',\n",
              "                                                     [key], {});\n",
              "          if (!dataTable) return;\n",
              "\n",
              "          const docLinkHtml = 'Like what you see? Visit the ' +\n",
              "            '<a target=\"_blank\" href=https://colab.research.google.com/notebooks/data_table.ipynb>data table notebook</a>'\n",
              "            + ' to learn more about interactive tables.';\n",
              "          element.innerHTML = '';\n",
              "          dataTable['output_type'] = 'display_data';\n",
              "          await google.colab.output.renderOutput(dataTable, element);\n",
              "          const docLink = document.createElement('div');\n",
              "          docLink.innerHTML = docLinkHtml;\n",
              "          element.appendChild(docLink);\n",
              "        }\n",
              "      </script>\n",
              "    </div>\n",
              "  </div>\n",
              "  "
            ]
          },
          "metadata": {},
          "execution_count": 139
        }
      ]
    },
    {
      "cell_type": "markdown",
      "source": [
        "Can't use min because there are some 0 values.\n",
        "\n",
        "Can't use max ore mean because there are over thousands values.\n",
        "\n",
        "\n",
        "Median and Mode seem to be the same. I will use Median in this case."
      ],
      "metadata": {
        "id": "l2IdbJRdRjto"
      }
    },
    {
      "cell_type": "code",
      "source": [
        "credit_info['Num_Credit_Card'] = credit_info.groupby(by=['Customer_ID'])['Num_Credit_Card'].transform('median')"
      ],
      "metadata": {
        "id": "MDph0X7gRLkc"
      },
      "execution_count": 140,
      "outputs": []
    },
    {
      "cell_type": "code",
      "source": [
        "credit_info['Num_Credit_Card'].describe()"
      ],
      "metadata": {
        "colab": {
          "base_uri": "https://localhost:8080/"
        },
        "id": "noqPys0OR2Vi",
        "outputId": "3dd14224-94cc-4889-ba77-9112e7680d5b"
      },
      "execution_count": 141,
      "outputs": [
        {
          "output_type": "execute_result",
          "data": {
            "text/plain": [
              "count    100000.000000\n",
              "mean          5.534640\n",
              "std           2.066834\n",
              "min           0.500000\n",
              "25%           4.000000\n",
              "50%           5.000000\n",
              "75%           7.000000\n",
              "max          11.000000\n",
              "Name: Num_Credit_Card, dtype: float64"
            ]
          },
          "metadata": {},
          "execution_count": 141
        }
      ]
    },
    {
      "cell_type": "markdown",
      "source": [
        "All done for Num Credit Card"
      ],
      "metadata": {
        "id": "t5ChQwgNR7mP"
      }
    },
    {
      "cell_type": "markdown",
      "source": [
        "# Interest Rate"
      ],
      "metadata": {
        "id": "S6pfoAZ3Shuc"
      }
    },
    {
      "cell_type": "code",
      "source": [
        "credit_info['Interest_Rate'].describe()"
      ],
      "metadata": {
        "colab": {
          "base_uri": "https://localhost:8080/"
        },
        "id": "IR3Ds3-1SjcP",
        "outputId": "dc258855-4625-4fa5-976f-bd1ee2b5ebb2"
      },
      "execution_count": 142,
      "outputs": [
        {
          "output_type": "execute_result",
          "data": {
            "text/plain": [
              "count    100000.000000\n",
              "mean         72.466040\n",
              "std         466.422621\n",
              "min           1.000000\n",
              "25%           8.000000\n",
              "50%          13.000000\n",
              "75%          20.000000\n",
              "max        5797.000000\n",
              "Name: Interest_Rate, dtype: float64"
            ]
          },
          "metadata": {},
          "execution_count": 142
        }
      ]
    },
    {
      "cell_type": "markdown",
      "source": [
        "There are values that have to be fixed: thousands\n",
        "\n",
        "Check which stat method use to change those wrong values"
      ],
      "metadata": {
        "id": "jbWUq-CeTiSb"
      }
    },
    {
      "cell_type": "code",
      "source": [
        "credit_info.groupby(['Customer_ID'])['Interest_Rate'].agg(['min','max','median','mean',pd.Series.mode])"
      ],
      "metadata": {
        "colab": {
          "base_uri": "https://localhost:8080/",
          "height": 455
        },
        "id": "1CLorgPFTH-M",
        "outputId": "b9d92bde-c87d-4f90-9f57-9768dd3d6384"
      },
      "execution_count": 143,
      "outputs": [
        {
          "output_type": "execute_result",
          "data": {
            "text/plain": [
              "             min   max  median    mean  mode\n",
              "Customer_ID                                 \n",
              "CUS_0x1000    27    27    27.0   27.00    27\n",
              "CUS_0x1009    17    17    17.0   17.00    17\n",
              "CUS_0x100b     1     1     1.0    1.00     1\n",
              "CUS_0x1011    17    17    17.0   17.00    17\n",
              "CUS_0x1013     6     6     6.0    6.00     6\n",
              "...          ...   ...     ...     ...   ...\n",
              "CUS_0xff3      2  3808     2.0  477.75     2\n",
              "CUS_0xff4     14    14    14.0   14.00    14\n",
              "CUS_0xff6      1     1     1.0    1.00     1\n",
              "CUS_0xffc     27    27    27.0   27.00    27\n",
              "CUS_0xffd     13    13    13.0   13.00    13\n",
              "\n",
              "[12500 rows x 5 columns]"
            ],
            "text/html": [
              "\n",
              "  <div id=\"df-5e7a1ca0-d373-41a2-afa5-890cd841e264\">\n",
              "    <div class=\"colab-df-container\">\n",
              "      <div>\n",
              "<style scoped>\n",
              "    .dataframe tbody tr th:only-of-type {\n",
              "        vertical-align: middle;\n",
              "    }\n",
              "\n",
              "    .dataframe tbody tr th {\n",
              "        vertical-align: top;\n",
              "    }\n",
              "\n",
              "    .dataframe thead th {\n",
              "        text-align: right;\n",
              "    }\n",
              "</style>\n",
              "<table border=\"1\" class=\"dataframe\">\n",
              "  <thead>\n",
              "    <tr style=\"text-align: right;\">\n",
              "      <th></th>\n",
              "      <th>min</th>\n",
              "      <th>max</th>\n",
              "      <th>median</th>\n",
              "      <th>mean</th>\n",
              "      <th>mode</th>\n",
              "    </tr>\n",
              "    <tr>\n",
              "      <th>Customer_ID</th>\n",
              "      <th></th>\n",
              "      <th></th>\n",
              "      <th></th>\n",
              "      <th></th>\n",
              "      <th></th>\n",
              "    </tr>\n",
              "  </thead>\n",
              "  <tbody>\n",
              "    <tr>\n",
              "      <th>CUS_0x1000</th>\n",
              "      <td>27</td>\n",
              "      <td>27</td>\n",
              "      <td>27.0</td>\n",
              "      <td>27.00</td>\n",
              "      <td>27</td>\n",
              "    </tr>\n",
              "    <tr>\n",
              "      <th>CUS_0x1009</th>\n",
              "      <td>17</td>\n",
              "      <td>17</td>\n",
              "      <td>17.0</td>\n",
              "      <td>17.00</td>\n",
              "      <td>17</td>\n",
              "    </tr>\n",
              "    <tr>\n",
              "      <th>CUS_0x100b</th>\n",
              "      <td>1</td>\n",
              "      <td>1</td>\n",
              "      <td>1.0</td>\n",
              "      <td>1.00</td>\n",
              "      <td>1</td>\n",
              "    </tr>\n",
              "    <tr>\n",
              "      <th>CUS_0x1011</th>\n",
              "      <td>17</td>\n",
              "      <td>17</td>\n",
              "      <td>17.0</td>\n",
              "      <td>17.00</td>\n",
              "      <td>17</td>\n",
              "    </tr>\n",
              "    <tr>\n",
              "      <th>CUS_0x1013</th>\n",
              "      <td>6</td>\n",
              "      <td>6</td>\n",
              "      <td>6.0</td>\n",
              "      <td>6.00</td>\n",
              "      <td>6</td>\n",
              "    </tr>\n",
              "    <tr>\n",
              "      <th>...</th>\n",
              "      <td>...</td>\n",
              "      <td>...</td>\n",
              "      <td>...</td>\n",
              "      <td>...</td>\n",
              "      <td>...</td>\n",
              "    </tr>\n",
              "    <tr>\n",
              "      <th>CUS_0xff3</th>\n",
              "      <td>2</td>\n",
              "      <td>3808</td>\n",
              "      <td>2.0</td>\n",
              "      <td>477.75</td>\n",
              "      <td>2</td>\n",
              "    </tr>\n",
              "    <tr>\n",
              "      <th>CUS_0xff4</th>\n",
              "      <td>14</td>\n",
              "      <td>14</td>\n",
              "      <td>14.0</td>\n",
              "      <td>14.00</td>\n",
              "      <td>14</td>\n",
              "    </tr>\n",
              "    <tr>\n",
              "      <th>CUS_0xff6</th>\n",
              "      <td>1</td>\n",
              "      <td>1</td>\n",
              "      <td>1.0</td>\n",
              "      <td>1.00</td>\n",
              "      <td>1</td>\n",
              "    </tr>\n",
              "    <tr>\n",
              "      <th>CUS_0xffc</th>\n",
              "      <td>27</td>\n",
              "      <td>27</td>\n",
              "      <td>27.0</td>\n",
              "      <td>27.00</td>\n",
              "      <td>27</td>\n",
              "    </tr>\n",
              "    <tr>\n",
              "      <th>CUS_0xffd</th>\n",
              "      <td>13</td>\n",
              "      <td>13</td>\n",
              "      <td>13.0</td>\n",
              "      <td>13.00</td>\n",
              "      <td>13</td>\n",
              "    </tr>\n",
              "  </tbody>\n",
              "</table>\n",
              "<p>12500 rows × 5 columns</p>\n",
              "</div>\n",
              "      <button class=\"colab-df-convert\" onclick=\"convertToInteractive('df-5e7a1ca0-d373-41a2-afa5-890cd841e264')\"\n",
              "              title=\"Convert this dataframe to an interactive table.\"\n",
              "              style=\"display:none;\">\n",
              "        \n",
              "  <svg xmlns=\"http://www.w3.org/2000/svg\" height=\"24px\"viewBox=\"0 0 24 24\"\n",
              "       width=\"24px\">\n",
              "    <path d=\"M0 0h24v24H0V0z\" fill=\"none\"/>\n",
              "    <path d=\"M18.56 5.44l.94 2.06.94-2.06 2.06-.94-2.06-.94-.94-2.06-.94 2.06-2.06.94zm-11 1L8.5 8.5l.94-2.06 2.06-.94-2.06-.94L8.5 2.5l-.94 2.06-2.06.94zm10 10l.94 2.06.94-2.06 2.06-.94-2.06-.94-.94-2.06-.94 2.06-2.06.94z\"/><path d=\"M17.41 7.96l-1.37-1.37c-.4-.4-.92-.59-1.43-.59-.52 0-1.04.2-1.43.59L10.3 9.45l-7.72 7.72c-.78.78-.78 2.05 0 2.83L4 21.41c.39.39.9.59 1.41.59.51 0 1.02-.2 1.41-.59l7.78-7.78 2.81-2.81c.8-.78.8-2.07 0-2.86zM5.41 20L4 18.59l7.72-7.72 1.47 1.35L5.41 20z\"/>\n",
              "  </svg>\n",
              "      </button>\n",
              "      \n",
              "  <style>\n",
              "    .colab-df-container {\n",
              "      display:flex;\n",
              "      flex-wrap:wrap;\n",
              "      gap: 12px;\n",
              "    }\n",
              "\n",
              "    .colab-df-convert {\n",
              "      background-color: #E8F0FE;\n",
              "      border: none;\n",
              "      border-radius: 50%;\n",
              "      cursor: pointer;\n",
              "      display: none;\n",
              "      fill: #1967D2;\n",
              "      height: 32px;\n",
              "      padding: 0 0 0 0;\n",
              "      width: 32px;\n",
              "    }\n",
              "\n",
              "    .colab-df-convert:hover {\n",
              "      background-color: #E2EBFA;\n",
              "      box-shadow: 0px 1px 2px rgba(60, 64, 67, 0.3), 0px 1px 3px 1px rgba(60, 64, 67, 0.15);\n",
              "      fill: #174EA6;\n",
              "    }\n",
              "\n",
              "    [theme=dark] .colab-df-convert {\n",
              "      background-color: #3B4455;\n",
              "      fill: #D2E3FC;\n",
              "    }\n",
              "\n",
              "    [theme=dark] .colab-df-convert:hover {\n",
              "      background-color: #434B5C;\n",
              "      box-shadow: 0px 1px 3px 1px rgba(0, 0, 0, 0.15);\n",
              "      filter: drop-shadow(0px 1px 2px rgba(0, 0, 0, 0.3));\n",
              "      fill: #FFFFFF;\n",
              "    }\n",
              "  </style>\n",
              "\n",
              "      <script>\n",
              "        const buttonEl =\n",
              "          document.querySelector('#df-5e7a1ca0-d373-41a2-afa5-890cd841e264 button.colab-df-convert');\n",
              "        buttonEl.style.display =\n",
              "          google.colab.kernel.accessAllowed ? 'block' : 'none';\n",
              "\n",
              "        async function convertToInteractive(key) {\n",
              "          const element = document.querySelector('#df-5e7a1ca0-d373-41a2-afa5-890cd841e264');\n",
              "          const dataTable =\n",
              "            await google.colab.kernel.invokeFunction('convertToInteractive',\n",
              "                                                     [key], {});\n",
              "          if (!dataTable) return;\n",
              "\n",
              "          const docLinkHtml = 'Like what you see? Visit the ' +\n",
              "            '<a target=\"_blank\" href=https://colab.research.google.com/notebooks/data_table.ipynb>data table notebook</a>'\n",
              "            + ' to learn more about interactive tables.';\n",
              "          element.innerHTML = '';\n",
              "          dataTable['output_type'] = 'display_data';\n",
              "          await google.colab.output.renderOutput(dataTable, element);\n",
              "          const docLink = document.createElement('div');\n",
              "          docLink.innerHTML = docLinkHtml;\n",
              "          element.appendChild(docLink);\n",
              "        }\n",
              "      </script>\n",
              "    </div>\n",
              "  </div>\n",
              "  "
            ]
          },
          "metadata": {},
          "execution_count": 143
        }
      ]
    },
    {
      "cell_type": "markdown",
      "source": [
        "Can't use min because the Interest Rate could increased on the following month.\n",
        "\n",
        "Can't use max ore mean because there are over thousands values.\n",
        "\n",
        "Median and Mode seem to be the same. I will use Median in this case."
      ],
      "metadata": {
        "id": "wowwHpd5TSkj"
      }
    },
    {
      "cell_type": "code",
      "source": [
        "credit_info['Interest_Rate'] = credit_info.groupby(by=['Customer_ID'])['Interest_Rate'].transform('median')"
      ],
      "metadata": {
        "id": "bCWHwmEXTJYs"
      },
      "execution_count": 144,
      "outputs": []
    },
    {
      "cell_type": "code",
      "source": [
        "credit_info['Interest_Rate'].describe()"
      ],
      "metadata": {
        "colab": {
          "base_uri": "https://localhost:8080/"
        },
        "id": "iUqUFfIKTq-l",
        "outputId": "09bcda96-8e10-443c-c61f-a7ea46201a5c"
      },
      "execution_count": 145,
      "outputs": [
        {
          "output_type": "execute_result",
          "data": {
            "text/plain": [
              "count    100000.00000\n",
              "mean         14.53208\n",
              "std           8.74133\n",
              "min           1.00000\n",
              "25%           7.00000\n",
              "50%          13.00000\n",
              "75%          20.00000\n",
              "max          34.00000\n",
              "Name: Interest_Rate, dtype: float64"
            ]
          },
          "metadata": {},
          "execution_count": 145
        }
      ]
    },
    {
      "cell_type": "markdown",
      "source": [
        "All done for Interest Rate"
      ],
      "metadata": {
        "id": "OzcjXV9-Tujf"
      }
    },
    {
      "cell_type": "markdown",
      "source": [
        "# Num of Loan"
      ],
      "metadata": {
        "id": "PJc5wy48PN2X"
      }
    },
    {
      "cell_type": "code",
      "source": [
        "credit_info['Num_of_Loan'].describe()"
      ],
      "metadata": {
        "colab": {
          "base_uri": "https://localhost:8080/"
        },
        "id": "SeD2s1GEPJ8o",
        "outputId": "1d8b0085-91d0-492b-da7d-51a173a41053"
      },
      "execution_count": 146,
      "outputs": [
        {
          "output_type": "execute_result",
          "data": {
            "text/plain": [
              "count     100000\n",
              "unique       434\n",
              "top            3\n",
              "freq       14386\n",
              "Name: Num_of_Loan, dtype: object"
            ]
          },
          "metadata": {},
          "execution_count": 146
        }
      ]
    },
    {
      "cell_type": "code",
      "source": [
        "credit_info['Num_of_Loan'].unique()"
      ],
      "metadata": {
        "colab": {
          "base_uri": "https://localhost:8080/"
        },
        "id": "WohRJB7tPR9S",
        "outputId": "700a02a7-9e2e-469b-91a3-e03658315021"
      },
      "execution_count": 147,
      "outputs": [
        {
          "output_type": "execute_result",
          "data": {
            "text/plain": [
              "array(['4', '1', '3', '967', '-100', '0', '0_', '2', '3_', '2_', '7', '5',\n",
              "       '5_', '6', '8', '8_', '9', '9_', '4_', '7_', '1_', '1464', '6_',\n",
              "       '622', '352', '472', '1017', '945', '146', '563', '341', '444',\n",
              "       '720', '1485', '49', '737', '1106', '466', '728', '313', '843',\n",
              "       '597_', '617', '119', '663', '640', '92_', '1019', '501', '1302',\n",
              "       '39', '716', '848', '931', '1214', '186', '424', '1001', '1110',\n",
              "       '1152', '457', '1433', '1187', '52', '1480', '1047', '1035',\n",
              "       '1347_', '33', '193', '699', '329', '1451', '484', '132', '649',\n",
              "       '995', '545', '684', '1135', '1094', '1204', '654', '58', '348',\n",
              "       '614', '1363', '323', '1406', '1348', '430', '153', '1461', '905',\n",
              "       '1312', '1424', '1154', '95', '1353', '1228', '819', '1006', '795',\n",
              "       '359', '1209', '590', '696', '1185_', '1465', '911', '1181', '70',\n",
              "       '816', '1369', '143', '1416', '455', '55', '1096', '1474', '420',\n",
              "       '1131', '904', '89', '1259', '527', '1241', '449', '983', '418',\n",
              "       '319', '23', '238', '638', '138', '235_', '280', '1070', '1484',\n",
              "       '274', '494', '1459_', '404', '1354', '1495', '1391', '601',\n",
              "       '1313', '1319', '898', '231', '752', '174', '961', '1046', '834',\n",
              "       '284', '438', '288', '1463', '1151', '719', '198', '1015', '855',\n",
              "       '841', '392', '1444', '103', '1320_', '745', '172', '252', '630_',\n",
              "       '241', '31', '405', '1217', '1030', '1257', '137', '157', '164',\n",
              "       '1088', '1236', '777', '1048', '613', '330', '1439', '321', '661',\n",
              "       '952', '939', '562', '1202', '302', '943', '394', '955', '1318',\n",
              "       '936', '781', '100', '1329', '1365', '860', '217', '191', '32',\n",
              "       '282', '351', '1387', '757', '416', '833', '359_', '292', '1225_',\n",
              "       '1227', '639', '859', '243', '267', '510', '332', '996', '597',\n",
              "       '311', '492', '820', '336', '123', '540', '131_', '1311_', '1441',\n",
              "       '895', '891', '50', '940', '935', '596', '29', '1182', '1129_',\n",
              "       '1014', '251', '365', '291', '1447', '742', '1085', '148', '462',\n",
              "       '832', '881', '1225', '1412', '785_', '1127', '910', '538', '999',\n",
              "       '733', '101', '237', '87', '659', '633', '387', '447', '629',\n",
              "       '831', '1384', '773', '621', '1419', '289', '143_', '285', '1393',\n",
              "       '1131_', '27_', '1359', '1482', '1189', '1294', '201', '579',\n",
              "       '814', '141', '1320', '581', '1171_', '295', '290', '433', '679',\n",
              "       '1040', '1054', '1430', '1023', '1077', '1457', '1150', '701',\n",
              "       '1382', '889', '437', '372', '1222', '126', '1159', '868', '19',\n",
              "       '1297', '227_', '190', '809', '1216', '1074', '571', '520', '1274',\n",
              "       '1340', '991', '316', '697', '926', '873', '1002', '378_', '65',\n",
              "       '875', '867', '548', '652', '1372', '606', '1036', '1300', '17',\n",
              "       '1178', '802', '1219_', '1271', '1137', '1496', '439', '196',\n",
              "       '636', '192', '228', '1053', '229', '753', '1296', '1371', '254',\n",
              "       '863', '464', '515', '838', '1160', '1289', '1298', '799', '182',\n",
              "       '574', '527_', '242', '415', '869', '958', '54', '1265', '656',\n",
              "       '275', '778', '208', '147', '350', '507', '463', '497', '1129',\n",
              "       '927', '653', '662', '529', '635', '1027_', '897', '1039', '227',\n",
              "       '1345', '924', '696_', '1279', '546', '1112', '1210', '526', '300',\n",
              "       '1103', '504', '136', '1400', '78', '686', '1091', '344', '215',\n",
              "       '84', '628', '1470', '968', '1478', '83', '1196', '1307', '1132_',\n",
              "       '1008', '917', '657', '56', '18', '41', '801', '978', '216', '349',\n",
              "       '966'], dtype=object)"
            ]
          },
          "metadata": {},
          "execution_count": 147
        }
      ]
    },
    {
      "cell_type": "markdown",
      "source": [
        "Fix the values that have \"_\""
      ],
      "metadata": {
        "id": "--v1mLygPosH"
      }
    },
    {
      "cell_type": "code",
      "source": [
        "credit_info['Num_of_Loan'] = credit_info['Num_of_Loan'].str.strip('_')"
      ],
      "metadata": {
        "id": "p9keRzsMPoAt"
      },
      "execution_count": 148,
      "outputs": []
    },
    {
      "cell_type": "markdown",
      "source": [
        "Convert to float"
      ],
      "metadata": {
        "id": "LG5LZqg5QKHP"
      }
    },
    {
      "cell_type": "code",
      "source": [
        "credit_info['Num_of_Loan'] = credit_info['Num_of_Loan'].astype('float')"
      ],
      "metadata": {
        "id": "4GLQ7LC8QD2y"
      },
      "execution_count": 149,
      "outputs": []
    },
    {
      "cell_type": "code",
      "source": [
        "credit_info['Num_of_Loan'].describe()"
      ],
      "metadata": {
        "colab": {
          "base_uri": "https://localhost:8080/"
        },
        "id": "PkZgRvY8QFyK",
        "outputId": "18a74995-351e-468a-b7ff-e52fd037b518"
      },
      "execution_count": 150,
      "outputs": [
        {
          "output_type": "execute_result",
          "data": {
            "text/plain": [
              "count    100000.000000\n",
              "mean          3.009960\n",
              "std          62.647879\n",
              "min        -100.000000\n",
              "25%           1.000000\n",
              "50%           3.000000\n",
              "75%           5.000000\n",
              "max        1496.000000\n",
              "Name: Num_of_Loan, dtype: float64"
            ]
          },
          "metadata": {},
          "execution_count": 150
        }
      ]
    },
    {
      "cell_type": "markdown",
      "source": [
        "Convert negatives to Na"
      ],
      "metadata": {
        "id": "NH-NtgSpQSys"
      }
    },
    {
      "cell_type": "code",
      "source": [
        "for i in credit_info['Num_of_Loan']:\n",
        "  if i < 0:\n",
        "    credit_info['Num_of_Loan'] = credit_info['Num_of_Loan'].replace(i, np.nan)"
      ],
      "metadata": {
        "id": "duplIQofVL6E"
      },
      "execution_count": 151,
      "outputs": []
    },
    {
      "cell_type": "markdown",
      "source": [
        "Check min, max, median, mean, mode for each customer to see which is the best stats to change Na's and 0s"
      ],
      "metadata": {
        "id": "ak7Eud1iXsHD"
      }
    },
    {
      "cell_type": "code",
      "source": [
        "credit_info.groupby(['Customer_ID'])['Num_of_Loan'].agg(['min','max','median','mean',pd.Series.mode])"
      ],
      "metadata": {
        "colab": {
          "base_uri": "https://localhost:8080/",
          "height": 455
        },
        "id": "SLZojay0VUAv",
        "outputId": "46c5c46a-b5cc-4dd5-9d3c-4111822d4f5d"
      },
      "execution_count": 152,
      "outputs": [
        {
          "output_type": "execute_result",
          "data": {
            "text/plain": [
              "             min     max  median    mean  mode\n",
              "Customer_ID                                   \n",
              "CUS_0x1000   2.0     2.0     2.0    2.00   2.0\n",
              "CUS_0x1009   4.0  1094.0     4.0  140.25   4.0\n",
              "CUS_0x100b   0.0     0.0     0.0    0.00   0.0\n",
              "CUS_0x1011   3.0     3.0     3.0    3.00   3.0\n",
              "CUS_0x1013   3.0     3.0     3.0    3.00   3.0\n",
              "...          ...     ...     ...     ...   ...\n",
              "CUS_0xff3    3.0     3.0     3.0    3.00   3.0\n",
              "CUS_0xff4    5.0     5.0     5.0    5.00   5.0\n",
              "CUS_0xff6    2.0     2.0     2.0    2.00   2.0\n",
              "CUS_0xffc    8.0     8.0     8.0    8.00   8.0\n",
              "CUS_0xffd    6.0     6.0     6.0    6.00   6.0\n",
              "\n",
              "[12500 rows x 5 columns]"
            ],
            "text/html": [
              "\n",
              "  <div id=\"df-b1ab662a-9e7c-4c9a-8fac-e9f392c43abb\">\n",
              "    <div class=\"colab-df-container\">\n",
              "      <div>\n",
              "<style scoped>\n",
              "    .dataframe tbody tr th:only-of-type {\n",
              "        vertical-align: middle;\n",
              "    }\n",
              "\n",
              "    .dataframe tbody tr th {\n",
              "        vertical-align: top;\n",
              "    }\n",
              "\n",
              "    .dataframe thead th {\n",
              "        text-align: right;\n",
              "    }\n",
              "</style>\n",
              "<table border=\"1\" class=\"dataframe\">\n",
              "  <thead>\n",
              "    <tr style=\"text-align: right;\">\n",
              "      <th></th>\n",
              "      <th>min</th>\n",
              "      <th>max</th>\n",
              "      <th>median</th>\n",
              "      <th>mean</th>\n",
              "      <th>mode</th>\n",
              "    </tr>\n",
              "    <tr>\n",
              "      <th>Customer_ID</th>\n",
              "      <th></th>\n",
              "      <th></th>\n",
              "      <th></th>\n",
              "      <th></th>\n",
              "      <th></th>\n",
              "    </tr>\n",
              "  </thead>\n",
              "  <tbody>\n",
              "    <tr>\n",
              "      <th>CUS_0x1000</th>\n",
              "      <td>2.0</td>\n",
              "      <td>2.0</td>\n",
              "      <td>2.0</td>\n",
              "      <td>2.00</td>\n",
              "      <td>2.0</td>\n",
              "    </tr>\n",
              "    <tr>\n",
              "      <th>CUS_0x1009</th>\n",
              "      <td>4.0</td>\n",
              "      <td>1094.0</td>\n",
              "      <td>4.0</td>\n",
              "      <td>140.25</td>\n",
              "      <td>4.0</td>\n",
              "    </tr>\n",
              "    <tr>\n",
              "      <th>CUS_0x100b</th>\n",
              "      <td>0.0</td>\n",
              "      <td>0.0</td>\n",
              "      <td>0.0</td>\n",
              "      <td>0.00</td>\n",
              "      <td>0.0</td>\n",
              "    </tr>\n",
              "    <tr>\n",
              "      <th>CUS_0x1011</th>\n",
              "      <td>3.0</td>\n",
              "      <td>3.0</td>\n",
              "      <td>3.0</td>\n",
              "      <td>3.00</td>\n",
              "      <td>3.0</td>\n",
              "    </tr>\n",
              "    <tr>\n",
              "      <th>CUS_0x1013</th>\n",
              "      <td>3.0</td>\n",
              "      <td>3.0</td>\n",
              "      <td>3.0</td>\n",
              "      <td>3.00</td>\n",
              "      <td>3.0</td>\n",
              "    </tr>\n",
              "    <tr>\n",
              "      <th>...</th>\n",
              "      <td>...</td>\n",
              "      <td>...</td>\n",
              "      <td>...</td>\n",
              "      <td>...</td>\n",
              "      <td>...</td>\n",
              "    </tr>\n",
              "    <tr>\n",
              "      <th>CUS_0xff3</th>\n",
              "      <td>3.0</td>\n",
              "      <td>3.0</td>\n",
              "      <td>3.0</td>\n",
              "      <td>3.00</td>\n",
              "      <td>3.0</td>\n",
              "    </tr>\n",
              "    <tr>\n",
              "      <th>CUS_0xff4</th>\n",
              "      <td>5.0</td>\n",
              "      <td>5.0</td>\n",
              "      <td>5.0</td>\n",
              "      <td>5.00</td>\n",
              "      <td>5.0</td>\n",
              "    </tr>\n",
              "    <tr>\n",
              "      <th>CUS_0xff6</th>\n",
              "      <td>2.0</td>\n",
              "      <td>2.0</td>\n",
              "      <td>2.0</td>\n",
              "      <td>2.00</td>\n",
              "      <td>2.0</td>\n",
              "    </tr>\n",
              "    <tr>\n",
              "      <th>CUS_0xffc</th>\n",
              "      <td>8.0</td>\n",
              "      <td>8.0</td>\n",
              "      <td>8.0</td>\n",
              "      <td>8.00</td>\n",
              "      <td>8.0</td>\n",
              "    </tr>\n",
              "    <tr>\n",
              "      <th>CUS_0xffd</th>\n",
              "      <td>6.0</td>\n",
              "      <td>6.0</td>\n",
              "      <td>6.0</td>\n",
              "      <td>6.00</td>\n",
              "      <td>6.0</td>\n",
              "    </tr>\n",
              "  </tbody>\n",
              "</table>\n",
              "<p>12500 rows × 5 columns</p>\n",
              "</div>\n",
              "      <button class=\"colab-df-convert\" onclick=\"convertToInteractive('df-b1ab662a-9e7c-4c9a-8fac-e9f392c43abb')\"\n",
              "              title=\"Convert this dataframe to an interactive table.\"\n",
              "              style=\"display:none;\">\n",
              "        \n",
              "  <svg xmlns=\"http://www.w3.org/2000/svg\" height=\"24px\"viewBox=\"0 0 24 24\"\n",
              "       width=\"24px\">\n",
              "    <path d=\"M0 0h24v24H0V0z\" fill=\"none\"/>\n",
              "    <path d=\"M18.56 5.44l.94 2.06.94-2.06 2.06-.94-2.06-.94-.94-2.06-.94 2.06-2.06.94zm-11 1L8.5 8.5l.94-2.06 2.06-.94-2.06-.94L8.5 2.5l-.94 2.06-2.06.94zm10 10l.94 2.06.94-2.06 2.06-.94-2.06-.94-.94-2.06-.94 2.06-2.06.94z\"/><path d=\"M17.41 7.96l-1.37-1.37c-.4-.4-.92-.59-1.43-.59-.52 0-1.04.2-1.43.59L10.3 9.45l-7.72 7.72c-.78.78-.78 2.05 0 2.83L4 21.41c.39.39.9.59 1.41.59.51 0 1.02-.2 1.41-.59l7.78-7.78 2.81-2.81c.8-.78.8-2.07 0-2.86zM5.41 20L4 18.59l7.72-7.72 1.47 1.35L5.41 20z\"/>\n",
              "  </svg>\n",
              "      </button>\n",
              "      \n",
              "  <style>\n",
              "    .colab-df-container {\n",
              "      display:flex;\n",
              "      flex-wrap:wrap;\n",
              "      gap: 12px;\n",
              "    }\n",
              "\n",
              "    .colab-df-convert {\n",
              "      background-color: #E8F0FE;\n",
              "      border: none;\n",
              "      border-radius: 50%;\n",
              "      cursor: pointer;\n",
              "      display: none;\n",
              "      fill: #1967D2;\n",
              "      height: 32px;\n",
              "      padding: 0 0 0 0;\n",
              "      width: 32px;\n",
              "    }\n",
              "\n",
              "    .colab-df-convert:hover {\n",
              "      background-color: #E2EBFA;\n",
              "      box-shadow: 0px 1px 2px rgba(60, 64, 67, 0.3), 0px 1px 3px 1px rgba(60, 64, 67, 0.15);\n",
              "      fill: #174EA6;\n",
              "    }\n",
              "\n",
              "    [theme=dark] .colab-df-convert {\n",
              "      background-color: #3B4455;\n",
              "      fill: #D2E3FC;\n",
              "    }\n",
              "\n",
              "    [theme=dark] .colab-df-convert:hover {\n",
              "      background-color: #434B5C;\n",
              "      box-shadow: 0px 1px 3px 1px rgba(0, 0, 0, 0.15);\n",
              "      filter: drop-shadow(0px 1px 2px rgba(0, 0, 0, 0.3));\n",
              "      fill: #FFFFFF;\n",
              "    }\n",
              "  </style>\n",
              "\n",
              "      <script>\n",
              "        const buttonEl =\n",
              "          document.querySelector('#df-b1ab662a-9e7c-4c9a-8fac-e9f392c43abb button.colab-df-convert');\n",
              "        buttonEl.style.display =\n",
              "          google.colab.kernel.accessAllowed ? 'block' : 'none';\n",
              "\n",
              "        async function convertToInteractive(key) {\n",
              "          const element = document.querySelector('#df-b1ab662a-9e7c-4c9a-8fac-e9f392c43abb');\n",
              "          const dataTable =\n",
              "            await google.colab.kernel.invokeFunction('convertToInteractive',\n",
              "                                                     [key], {});\n",
              "          if (!dataTable) return;\n",
              "\n",
              "          const docLinkHtml = 'Like what you see? Visit the ' +\n",
              "            '<a target=\"_blank\" href=https://colab.research.google.com/notebooks/data_table.ipynb>data table notebook</a>'\n",
              "            + ' to learn more about interactive tables.';\n",
              "          element.innerHTML = '';\n",
              "          dataTable['output_type'] = 'display_data';\n",
              "          await google.colab.output.renderOutput(dataTable, element);\n",
              "          const docLink = document.createElement('div');\n",
              "          docLink.innerHTML = docLinkHtml;\n",
              "          element.appendChild(docLink);\n",
              "        }\n",
              "      </script>\n",
              "    </div>\n",
              "  </div>\n",
              "  "
            ]
          },
          "metadata": {},
          "execution_count": 152
        }
      ]
    },
    {
      "cell_type": "markdown",
      "source": [
        "I will use Mode for Na's and Median for the thousands values"
      ],
      "metadata": {
        "id": "dAnm3UnJX5Fu"
      }
    },
    {
      "cell_type": "code",
      "source": [
        "credit_info['Num_of_Loan'] = credit_info.groupby('Customer_ID')['Num_of_Loan'].transform(lambda x: x.fillna(stats.mode(x)[0][0]))"
      ],
      "metadata": {
        "id": "PofRv_NacGJX"
      },
      "execution_count": 153,
      "outputs": []
    },
    {
      "cell_type": "code",
      "source": [
        "credit_info['Num_of_Loan'] = credit_info.groupby(by=['Customer_ID'])['Num_of_Loan'].transform('median')"
      ],
      "metadata": {
        "id": "FxXefAHFX7Y_"
      },
      "execution_count": 154,
      "outputs": []
    },
    {
      "cell_type": "code",
      "source": [
        "credit_info['Num_of_Loan'].describe()"
      ],
      "metadata": {
        "colab": {
          "base_uri": "https://localhost:8080/"
        },
        "id": "5eorNJQcYOS2",
        "outputId": "8007d33d-2d02-4985-f94d-57737a7c5495"
      },
      "execution_count": 155,
      "outputs": [
        {
          "output_type": "execute_result",
          "data": {
            "text/plain": [
              "count    100000.000000\n",
              "mean          3.532880\n",
              "std           2.446356\n",
              "min           0.000000\n",
              "25%           2.000000\n",
              "50%           3.000000\n",
              "75%           5.000000\n",
              "max           9.000000\n",
              "Name: Num_of_Loan, dtype: float64"
            ]
          },
          "metadata": {},
          "execution_count": 155
        }
      ]
    },
    {
      "cell_type": "markdown",
      "source": [
        "All done with Num_of_Loan"
      ],
      "metadata": {
        "id": "Vrhe7SiMcagN"
      }
    },
    {
      "cell_type": "markdown",
      "source": [
        "# Type of Loan"
      ],
      "metadata": {
        "id": "rdFxlhsdftFH"
      }
    },
    {
      "cell_type": "code",
      "source": [
        "credit_info['Type_of_Loan'].describe()"
      ],
      "metadata": {
        "colab": {
          "base_uri": "https://localhost:8080/"
        },
        "id": "1chr1xcofu1T",
        "outputId": "7d7b12cc-a795-4eae-eecc-f80cfb6bfb70"
      },
      "execution_count": 156,
      "outputs": [
        {
          "output_type": "execute_result",
          "data": {
            "text/plain": [
              "count             88592\n",
              "unique             6260\n",
              "top       Not Specified\n",
              "freq               1408\n",
              "Name: Type_of_Loan, dtype: object"
            ]
          },
          "metadata": {},
          "execution_count": 156
        }
      ]
    },
    {
      "cell_type": "code",
      "source": [
        "credit_info['Type_of_Loan'].unique()"
      ],
      "metadata": {
        "colab": {
          "base_uri": "https://localhost:8080/"
        },
        "id": "QBGtnIjVf1Rp",
        "outputId": "0b38d43c-af46-4dad-b3a2-6077b7aa9c20"
      },
      "execution_count": 157,
      "outputs": [
        {
          "output_type": "execute_result",
          "data": {
            "text/plain": [
              "array(['Auto Loan, Credit-Builder Loan, Personal Loan, and Home Equity Loan',\n",
              "       'Credit-Builder Loan', 'Auto Loan, Auto Loan, and Not Specified',\n",
              "       ..., 'Home Equity Loan, Auto Loan, Auto Loan, and Auto Loan',\n",
              "       'Payday Loan, Student Loan, Mortgage Loan, and Not Specified',\n",
              "       'Personal Loan, Auto Loan, Mortgage Loan, Student Loan, and Student Loan'],\n",
              "      dtype=object)"
            ]
          },
          "metadata": {},
          "execution_count": 157
        }
      ]
    },
    {
      "cell_type": "code",
      "source": [
        "credit_info['Type_of_Loan'].isna().sum()"
      ],
      "metadata": {
        "colab": {
          "base_uri": "https://localhost:8080/"
        },
        "id": "DL9n5MQfod6_",
        "outputId": "f1441725-48be-4d36-8d20-68944eb2f4d8"
      },
      "execution_count": 158,
      "outputs": [
        {
          "output_type": "execute_result",
          "data": {
            "text/plain": [
              "11408"
            ]
          },
          "metadata": {},
          "execution_count": 158
        }
      ]
    },
    {
      "cell_type": "markdown",
      "source": [
        "Fill Na's with 'Not Specified'"
      ],
      "metadata": {
        "id": "S9o99Mj43Xs_"
      }
    },
    {
      "cell_type": "code",
      "source": [
        "credit_info['Type_of_Loan'] = credit_info['Type_of_Loan'].fillna('Not Specified')"
      ],
      "metadata": {
        "id": "ni4qukI83XS8"
      },
      "execution_count": 159,
      "outputs": []
    },
    {
      "cell_type": "code",
      "source": [
        "credit_info['Type_of_Loan'].isna().sum()"
      ],
      "metadata": {
        "colab": {
          "base_uri": "https://localhost:8080/"
        },
        "id": "qt6KfPhW3lcj",
        "outputId": "a3aa8e78-54e3-4dc6-e68b-6ce171898162"
      },
      "execution_count": 160,
      "outputs": [
        {
          "output_type": "execute_result",
          "data": {
            "text/plain": [
              "0"
            ]
          },
          "metadata": {},
          "execution_count": 160
        }
      ]
    },
    {
      "cell_type": "markdown",
      "source": [
        "Convert to list values"
      ],
      "metadata": {
        "id": "jN2HeBzS3orR"
      }
    },
    {
      "cell_type": "code",
      "source": [
        "credit_info_test = credit_info"
      ],
      "metadata": {
        "id": "nS4ir7dv4gpX"
      },
      "execution_count": 161,
      "outputs": []
    },
    {
      "cell_type": "code",
      "source": [
        "#for i in credit_info_test['Type_of_Loan']:\n",
        " # replacement = map(lambda x:x.strip(), i.replace('and','').split(','))\n",
        "  #credit_info_test['Type_of_Loan'] = credit_info_test['Type_of_Loan'].replace(i, replacement)"
      ],
      "metadata": {
        "id": "12WFaQFtf55j"
      },
      "execution_count": 162,
      "outputs": []
    },
    {
      "cell_type": "code",
      "source": [
        "# Not sure how to change each value to list value"
      ],
      "metadata": {
        "id": "C890tq2e4mTE"
      },
      "execution_count": 163,
      "outputs": []
    },
    {
      "cell_type": "markdown",
      "source": [
        "# Delay from due date"
      ],
      "metadata": {
        "id": "LClShqbkDydg"
      }
    },
    {
      "cell_type": "code",
      "source": [
        "credit_info['Delay_from_due_date'].describe()"
      ],
      "metadata": {
        "colab": {
          "base_uri": "https://localhost:8080/"
        },
        "id": "2OayBxNxD0L-",
        "outputId": "e976c5f9-9a56-4717-d145-8ae281ca21f6"
      },
      "execution_count": 164,
      "outputs": [
        {
          "output_type": "execute_result",
          "data": {
            "text/plain": [
              "count    100000.000000\n",
              "mean         21.068780\n",
              "std          14.860104\n",
              "min          -5.000000\n",
              "25%          10.000000\n",
              "50%          18.000000\n",
              "75%          28.000000\n",
              "max          67.000000\n",
              "Name: Delay_from_due_date, dtype: float64"
            ]
          },
          "metadata": {},
          "execution_count": 164
        }
      ]
    },
    {
      "cell_type": "code",
      "source": [
        "# Negatives values could mean as number of days paid in advance\n",
        "# Not sure if I have to delete them"
      ],
      "metadata": {
        "id": "AIQZATEMvqs2"
      },
      "execution_count": 165,
      "outputs": []
    },
    {
      "cell_type": "code",
      "source": [
        "credit_info.groupby(['Customer_ID'])['Delay_from_due_date'].agg(['min','max','median','mean',pd.Series.mode])"
      ],
      "metadata": {
        "colab": {
          "base_uri": "https://localhost:8080/",
          "height": 455
        },
        "id": "Jh_WbYsgE-Gl",
        "outputId": "9f550ab0-1ca1-4986-f7db-cf58dbac9116"
      },
      "execution_count": 166,
      "outputs": [
        {
          "output_type": "execute_result",
          "data": {
            "text/plain": [
              "             min  max  median    mean mode\n",
              "Customer_ID                               \n",
              "CUS_0x1000    57   67    62.0  62.250   62\n",
              "CUS_0x1009     3   10     8.0   7.250    8\n",
              "CUS_0x100b     9   19    14.0  13.500   14\n",
              "CUS_0x1011    27   29    27.0  27.250   27\n",
              "CUS_0x1013    12   16    12.0  12.500   12\n",
              "...          ...  ...     ...     ...  ...\n",
              "CUS_0xff3      9   14    13.0  12.250   13\n",
              "CUS_0xff4     15   16    16.0  15.875   16\n",
              "CUS_0xff6     -4    1     1.0  -0.125    1\n",
              "CUS_0xffc     41   46    46.0  45.375   46\n",
              "CUS_0xffd     19   25    23.0  23.000   23\n",
              "\n",
              "[12500 rows x 5 columns]"
            ],
            "text/html": [
              "\n",
              "  <div id=\"df-8652098c-7138-4e5f-8d2c-2031c1506014\">\n",
              "    <div class=\"colab-df-container\">\n",
              "      <div>\n",
              "<style scoped>\n",
              "    .dataframe tbody tr th:only-of-type {\n",
              "        vertical-align: middle;\n",
              "    }\n",
              "\n",
              "    .dataframe tbody tr th {\n",
              "        vertical-align: top;\n",
              "    }\n",
              "\n",
              "    .dataframe thead th {\n",
              "        text-align: right;\n",
              "    }\n",
              "</style>\n",
              "<table border=\"1\" class=\"dataframe\">\n",
              "  <thead>\n",
              "    <tr style=\"text-align: right;\">\n",
              "      <th></th>\n",
              "      <th>min</th>\n",
              "      <th>max</th>\n",
              "      <th>median</th>\n",
              "      <th>mean</th>\n",
              "      <th>mode</th>\n",
              "    </tr>\n",
              "    <tr>\n",
              "      <th>Customer_ID</th>\n",
              "      <th></th>\n",
              "      <th></th>\n",
              "      <th></th>\n",
              "      <th></th>\n",
              "      <th></th>\n",
              "    </tr>\n",
              "  </thead>\n",
              "  <tbody>\n",
              "    <tr>\n",
              "      <th>CUS_0x1000</th>\n",
              "      <td>57</td>\n",
              "      <td>67</td>\n",
              "      <td>62.0</td>\n",
              "      <td>62.250</td>\n",
              "      <td>62</td>\n",
              "    </tr>\n",
              "    <tr>\n",
              "      <th>CUS_0x1009</th>\n",
              "      <td>3</td>\n",
              "      <td>10</td>\n",
              "      <td>8.0</td>\n",
              "      <td>7.250</td>\n",
              "      <td>8</td>\n",
              "    </tr>\n",
              "    <tr>\n",
              "      <th>CUS_0x100b</th>\n",
              "      <td>9</td>\n",
              "      <td>19</td>\n",
              "      <td>14.0</td>\n",
              "      <td>13.500</td>\n",
              "      <td>14</td>\n",
              "    </tr>\n",
              "    <tr>\n",
              "      <th>CUS_0x1011</th>\n",
              "      <td>27</td>\n",
              "      <td>29</td>\n",
              "      <td>27.0</td>\n",
              "      <td>27.250</td>\n",
              "      <td>27</td>\n",
              "    </tr>\n",
              "    <tr>\n",
              "      <th>CUS_0x1013</th>\n",
              "      <td>12</td>\n",
              "      <td>16</td>\n",
              "      <td>12.0</td>\n",
              "      <td>12.500</td>\n",
              "      <td>12</td>\n",
              "    </tr>\n",
              "    <tr>\n",
              "      <th>...</th>\n",
              "      <td>...</td>\n",
              "      <td>...</td>\n",
              "      <td>...</td>\n",
              "      <td>...</td>\n",
              "      <td>...</td>\n",
              "    </tr>\n",
              "    <tr>\n",
              "      <th>CUS_0xff3</th>\n",
              "      <td>9</td>\n",
              "      <td>14</td>\n",
              "      <td>13.0</td>\n",
              "      <td>12.250</td>\n",
              "      <td>13</td>\n",
              "    </tr>\n",
              "    <tr>\n",
              "      <th>CUS_0xff4</th>\n",
              "      <td>15</td>\n",
              "      <td>16</td>\n",
              "      <td>16.0</td>\n",
              "      <td>15.875</td>\n",
              "      <td>16</td>\n",
              "    </tr>\n",
              "    <tr>\n",
              "      <th>CUS_0xff6</th>\n",
              "      <td>-4</td>\n",
              "      <td>1</td>\n",
              "      <td>1.0</td>\n",
              "      <td>-0.125</td>\n",
              "      <td>1</td>\n",
              "    </tr>\n",
              "    <tr>\n",
              "      <th>CUS_0xffc</th>\n",
              "      <td>41</td>\n",
              "      <td>46</td>\n",
              "      <td>46.0</td>\n",
              "      <td>45.375</td>\n",
              "      <td>46</td>\n",
              "    </tr>\n",
              "    <tr>\n",
              "      <th>CUS_0xffd</th>\n",
              "      <td>19</td>\n",
              "      <td>25</td>\n",
              "      <td>23.0</td>\n",
              "      <td>23.000</td>\n",
              "      <td>23</td>\n",
              "    </tr>\n",
              "  </tbody>\n",
              "</table>\n",
              "<p>12500 rows × 5 columns</p>\n",
              "</div>\n",
              "      <button class=\"colab-df-convert\" onclick=\"convertToInteractive('df-8652098c-7138-4e5f-8d2c-2031c1506014')\"\n",
              "              title=\"Convert this dataframe to an interactive table.\"\n",
              "              style=\"display:none;\">\n",
              "        \n",
              "  <svg xmlns=\"http://www.w3.org/2000/svg\" height=\"24px\"viewBox=\"0 0 24 24\"\n",
              "       width=\"24px\">\n",
              "    <path d=\"M0 0h24v24H0V0z\" fill=\"none\"/>\n",
              "    <path d=\"M18.56 5.44l.94 2.06.94-2.06 2.06-.94-2.06-.94-.94-2.06-.94 2.06-2.06.94zm-11 1L8.5 8.5l.94-2.06 2.06-.94-2.06-.94L8.5 2.5l-.94 2.06-2.06.94zm10 10l.94 2.06.94-2.06 2.06-.94-2.06-.94-.94-2.06-.94 2.06-2.06.94z\"/><path d=\"M17.41 7.96l-1.37-1.37c-.4-.4-.92-.59-1.43-.59-.52 0-1.04.2-1.43.59L10.3 9.45l-7.72 7.72c-.78.78-.78 2.05 0 2.83L4 21.41c.39.39.9.59 1.41.59.51 0 1.02-.2 1.41-.59l7.78-7.78 2.81-2.81c.8-.78.8-2.07 0-2.86zM5.41 20L4 18.59l7.72-7.72 1.47 1.35L5.41 20z\"/>\n",
              "  </svg>\n",
              "      </button>\n",
              "      \n",
              "  <style>\n",
              "    .colab-df-container {\n",
              "      display:flex;\n",
              "      flex-wrap:wrap;\n",
              "      gap: 12px;\n",
              "    }\n",
              "\n",
              "    .colab-df-convert {\n",
              "      background-color: #E8F0FE;\n",
              "      border: none;\n",
              "      border-radius: 50%;\n",
              "      cursor: pointer;\n",
              "      display: none;\n",
              "      fill: #1967D2;\n",
              "      height: 32px;\n",
              "      padding: 0 0 0 0;\n",
              "      width: 32px;\n",
              "    }\n",
              "\n",
              "    .colab-df-convert:hover {\n",
              "      background-color: #E2EBFA;\n",
              "      box-shadow: 0px 1px 2px rgba(60, 64, 67, 0.3), 0px 1px 3px 1px rgba(60, 64, 67, 0.15);\n",
              "      fill: #174EA6;\n",
              "    }\n",
              "\n",
              "    [theme=dark] .colab-df-convert {\n",
              "      background-color: #3B4455;\n",
              "      fill: #D2E3FC;\n",
              "    }\n",
              "\n",
              "    [theme=dark] .colab-df-convert:hover {\n",
              "      background-color: #434B5C;\n",
              "      box-shadow: 0px 1px 3px 1px rgba(0, 0, 0, 0.15);\n",
              "      filter: drop-shadow(0px 1px 2px rgba(0, 0, 0, 0.3));\n",
              "      fill: #FFFFFF;\n",
              "    }\n",
              "  </style>\n",
              "\n",
              "      <script>\n",
              "        const buttonEl =\n",
              "          document.querySelector('#df-8652098c-7138-4e5f-8d2c-2031c1506014 button.colab-df-convert');\n",
              "        buttonEl.style.display =\n",
              "          google.colab.kernel.accessAllowed ? 'block' : 'none';\n",
              "\n",
              "        async function convertToInteractive(key) {\n",
              "          const element = document.querySelector('#df-8652098c-7138-4e5f-8d2c-2031c1506014');\n",
              "          const dataTable =\n",
              "            await google.colab.kernel.invokeFunction('convertToInteractive',\n",
              "                                                     [key], {});\n",
              "          if (!dataTable) return;\n",
              "\n",
              "          const docLinkHtml = 'Like what you see? Visit the ' +\n",
              "            '<a target=\"_blank\" href=https://colab.research.google.com/notebooks/data_table.ipynb>data table notebook</a>'\n",
              "            + ' to learn more about interactive tables.';\n",
              "          element.innerHTML = '';\n",
              "          dataTable['output_type'] = 'display_data';\n",
              "          await google.colab.output.renderOutput(dataTable, element);\n",
              "          const docLink = document.createElement('div');\n",
              "          docLink.innerHTML = docLinkHtml;\n",
              "          element.appendChild(docLink);\n",
              "        }\n",
              "      </script>\n",
              "    </div>\n",
              "  </div>\n",
              "  "
            ]
          },
          "metadata": {},
          "execution_count": 166
        }
      ]
    },
    {
      "cell_type": "code",
      "source": [
        "# Diferent values for each customer\n",
        "# Change the values to the median or leave it because each entry of each customer is in a different month?"
      ],
      "metadata": {
        "id": "uQcAiVIpv4Dk"
      },
      "execution_count": 167,
      "outputs": []
    },
    {
      "cell_type": "markdown",
      "source": [
        "There are different values for each customer. \n",
        "\n",
        "I will use the median to change the values. "
      ],
      "metadata": {
        "id": "czZ8ZwLuiXfr"
      }
    },
    {
      "cell_type": "code",
      "source": [
        "# credit_info['Delay_from_due_date'] = credit_info.groupby(by=['Customer_ID'])['Delay_from_due_date'].transform('median')"
      ],
      "metadata": {
        "id": "cruKXuiYUIsr"
      },
      "execution_count": 168,
      "outputs": []
    },
    {
      "cell_type": "code",
      "source": [
        "# credit_info[['Customer_ID','Delay_from_due_date']][credit_info['Delay_from_due_date'] < 0]"
      ],
      "metadata": {
        "id": "Zw1ZtN7Qxqn3"
      },
      "execution_count": 169,
      "outputs": []
    },
    {
      "cell_type": "code",
      "source": [
        "# print(credit_info[['Customer_ID']][credit_info['Delay_from_due_date'] < 0].count())\n",
        "# print()\n",
        "# credit_info[['Customer_ID']][credit_info['Delay_from_due_date'] < 0].groupby('Customer_ID').Customer_ID.count() "
      ],
      "metadata": {
        "id": "a9OnzRVp0XFS"
      },
      "execution_count": 170,
      "outputs": []
    },
    {
      "cell_type": "markdown",
      "source": [
        "# Num of Delayed Payment"
      ],
      "metadata": {
        "id": "c0F0iu6YlTlJ"
      }
    },
    {
      "cell_type": "code",
      "source": [
        "credit_info['Num_of_Delayed_Payment'].describe()"
      ],
      "metadata": {
        "colab": {
          "base_uri": "https://localhost:8080/"
        },
        "id": "WG9OATgzl4oU",
        "outputId": "97336296-4c7c-4264-f89b-29de177fdc4b"
      },
      "execution_count": 171,
      "outputs": [
        {
          "output_type": "execute_result",
          "data": {
            "text/plain": [
              "count     92998\n",
              "unique      749\n",
              "top          19\n",
              "freq       5327\n",
              "Name: Num_of_Delayed_Payment, dtype: object"
            ]
          },
          "metadata": {},
          "execution_count": 171
        }
      ]
    },
    {
      "cell_type": "code",
      "source": [
        "credit_info['Num_of_Delayed_Payment'].unique()"
      ],
      "metadata": {
        "colab": {
          "base_uri": "https://localhost:8080/"
        },
        "id": "GM7Je6JbmKND",
        "outputId": "6dcbf520-c96b-47dd-f842-8de2ddecd6a3"
      },
      "execution_count": 172,
      "outputs": [
        {
          "output_type": "execute_result",
          "data": {
            "text/plain": [
              "array(['7', nan, '4', '8_', '6', '1', '-1', '3_', '0', '8', '5', '3', '9',\n",
              "       '12', '15', '17', '10', '2', '2_', '11', '14', '20', '22', '13',\n",
              "       '13_', '14_', '16', '12_', '18', '19', '23', '24', '21', '3318',\n",
              "       '3083', '22_', '1338', '4_', '26', '11_', '3104', '21_', '25',\n",
              "       '10_', '183_', '9_', '1106', '834', '19_', '24_', '17_', '23_',\n",
              "       '2672', '20_', '2008', '-3', '538', '6_', '1_', '16_', '27', '-2',\n",
              "       '3478', '2420', '15_', '707', '708', '26_', '18_', '3815', '28',\n",
              "       '5_', '1867', '2250', '1463', '25_', '7_', '4126', '2882', '1941',\n",
              "       '2655', '2628', '132', '3069', '306', '0_', '3539', '3684', '1823',\n",
              "       '4128', '1946', '827', '2297', '2566', '904', '182', '929', '3568',\n",
              "       '2503', '1552', '2812', '1697', '3764', '851', '3905', '923', '88',\n",
              "       '1668', '3253', '808', '2689', '3858', '642', '3457', '1402',\n",
              "       '1732', '3154', '847', '3037', '2204', '3103', '1063', '2056',\n",
              "       '1282', '1841', '2569_', '211', '793', '3484', '411', '3491',\n",
              "       '2072', '3050', '1049', '2162', '3402', '2753', '27_', '1718',\n",
              "       '1014', '3260', '3855', '84', '2311', '3251', '1832', '4069',\n",
              "       '3010', '733', '4241', '166', '2461', '1749', '3200', '663_',\n",
              "       '2185', '4161', '3009', '359', '2015', '1523', '594', '1079',\n",
              "       '1199', '186', '1015', '1989', '281', '559', '2165', '1509',\n",
              "       '3545', '779', '192', '4311', '-2_', '2323', '1471', '1538',\n",
              "       '3529', '439', '3456', '3040', '2697', '3179', '1332', '3175',\n",
              "       '3112', '829', '4022', '3870', '4023', '531', '1511', '3092',\n",
              "       '3191', '2400', '3621', '3536', '544', '1864', '28_', '142',\n",
              "       '2300', '264', '72', '497', '398', '2222', '3960', '1473', '3043',\n",
              "       '4216', '2903', '2658', '-1_', '4042', '1323_', '2184', '921',\n",
              "       '1328', '3404', '2438', '809', '47', '1996', '4164', '1370',\n",
              "       '1204', '2167', '4011', '2590', '2594', '2533', '1663', '1018',\n",
              "       '2919', '3458', '3316', '2589', '2801', '3355', '2529', '2488',\n",
              "       '4266', '1243', '739', '845', '4107', '1884', '337', '2660', '290',\n",
              "       '674', '2450', '3738', '1792', '2823', '2570', '775', '960', '482',\n",
              "       '1706', '2493', '3623', '3031', '2794_', '2219_', '758_', '1849',\n",
              "       '3559', '4096', '3726', '1953', '2657', '4043', '2938', '4384',\n",
              "       '1647', '2694', '3533', '519', '2677', '2413', '-3_', '4139',\n",
              "       '2609', '4326', '4211', '823', '3011', '1608', '2860', '4219',\n",
              "       '4047', '1531', '742', '52', '4024', '1673', '49', '2243', '1685',\n",
              "       '1869', '2587', '3489', '749', '1164', '2616', '848_', '4134',\n",
              "       '1530', '1502', '4075', '3845', '1060', '2573', '2128', '328',\n",
              "       '640', '2585', '2230', '1795', '1180', '1534', '3739', '3313',\n",
              "       '4191', '996', '372', '3340', '3177', '602', '787', '4135', '3878',\n",
              "       '4059', '1218', '4051', '1766', '1359', '3107', '585', '1263',\n",
              "       '2511', '709', '3632', '4077', '2943', '2793', '3245', '2317',\n",
              "       '1640', '2237_', '3819', '252', '3978', '1498', '1833', '2737',\n",
              "       '1192', '1481', '700', '271', '2286', '273', '1215', '3944',\n",
              "       '2070', '1478', '3749', '871', '2508', '2959', '130', '294',\n",
              "       '3097_', '3511', '415', '2196', '2138', '2149', '1874', '1553',\n",
              "       '3847', '3222', '1222', '2907', '3051', '98', '1598', '416',\n",
              "       '2314', '2955', '1691', '1450', '2021', '1636', '80', '3708',\n",
              "       '195', '320', '2945', '1911', '3416', '3796', '4159', '2255',\n",
              "       '938', '4397', '3776', '2148', '1994', '853', '1178', '1633',\n",
              "       '196', '3864', '714', '1687', '1034', '468', '1337', '2044',\n",
              "       '1541', '3661', '1211', '2645', '2007', '102', '1891', '3162',\n",
              "       '3142', '2566_', '2766', '3881', '2728', '2671', '1952', '3580',\n",
              "       '2705', '4251', '3840_', '972', '3119', '3502', '4185', '2954',\n",
              "       '683', '1614', '1572', '4302', '3447', '1852', '2131', '1900',\n",
              "       '1699', '133', '2018', '2127', '508', '210', '577', '1664', '2604',\n",
              "       '1411', '2351', '867', '1371', '2352', '1191', '905', '4053',\n",
              "       '3869', '933', '3660', '3300', '3629', '3208', '2142', '2521',\n",
              "       '450', '583', '876', '121', '3919', '2560', '2578', '2060', '813',\n",
              "       '1236', '1489', '4360', '1154', '2544', '4172', '2924', '426',\n",
              "       '4270', '2768', '3909', '3951', '2712', '2498', '3171', '1750',\n",
              "       '197', '2569', '265', '4293', '887', '2707', '2397', '4337',\n",
              "       '4249', '2751', '2950', '1859', '107', '2348', '2506', '2810',\n",
              "       '2873', '1301', '2262', '1890', '3078', '3865', '3268', '2777',\n",
              "       '3105', '1278', '3793', '2276', '2879', '4298', '2141', '223',\n",
              "       '2239', '846', '1862', '2756', '1181', '1184', '2617', '3972',\n",
              "       '2334', '3900', '2759', '4169', '2280', '2492', '2729', '3750',\n",
              "       '1825', '309', '2431', '3099', '2080', '2279', '2666', '3722',\n",
              "       '1976', '529', '1985', '3060', '4278', '3212', '46', '3148',\n",
              "       '3467', '4231', '3790', '473', '1536', '3955', '2324', '2381',\n",
              "       '1177', '371', '2896', '3880', '2991', '4319', '1061', '662',\n",
              "       '4144', '693', '2006', '3115', '2278_', '3751', '1861', '4262',\n",
              "       '2913', '2615', '3492', '800', '3766', '384', '3407', '1087',\n",
              "       '3329', '1086', '2216', '1087_', '2457', '3522', '3274', '3488',\n",
              "       '2854', '238', '351', '3706', '4280', '4095', '2926', '1329',\n",
              "       '3370', '283', '1392', '1743', '2429', '974', '3156', '1133',\n",
              "       '4388', '3243', '4282', '2523', '4281', '3415', '2001', '441',\n",
              "       '94', '3499', '969', '3368', '106', '1004', '2638', '3946', '2956',\n",
              "       '4324', '85', '4113', '819', '615', '1172', '2553', '1765', '3495',\n",
              "       '2820', '4239', '4340', '1295_', '2636', '4295', '1653', '1325',\n",
              "       '1879', '1096', '1735', '3584', '1073', '1975', '3827', '2552',\n",
              "       '3754', '2378', '532', '926', '2376', '3636', '3763', '778',\n",
              "       '2621', '804', '754', '2418', '4019', '3926', '3861_', '3574',\n",
              "       '175', '162', '2834', '3765', '2354', '523', '2274', '1606',\n",
              "       '1443', '1354', '2142_', '1422', '2278', '1045', '4106', '3155',\n",
              "       '666', '659', '3229', '1216', '2076', '1473_', '2384', '1954',\n",
              "       '719', '2534', '4002', '541', '2875', '4344', '2081', '3894',\n",
              "       '1256', '676', '4178', '399', '86', '1571', '4037', '1967', '4005',\n",
              "       '3216', '1150', '2591', '1801', '3721', '1775', '2260', '3707',\n",
              "       '4292', '1820', '145', '1480', '1850', '430', '217', '3920_',\n",
              "       '1389', '1579', '3391', '2385', '3336', '3392', '3688', '221',\n",
              "       '2047'], dtype=object)"
            ]
          },
          "metadata": {},
          "execution_count": 172
        }
      ]
    },
    {
      "cell_type": "code",
      "source": [
        "credit_info[['Customer_ID','Num_of_Delayed_Payment']].head(24)"
      ],
      "metadata": {
        "colab": {
          "base_uri": "https://localhost:8080/",
          "height": 833
        },
        "id": "pxiiqEZnmDn0",
        "outputId": "4bfb6452-8741-4543-9ae6-e518abfa7a4b"
      },
      "execution_count": 173,
      "outputs": [
        {
          "output_type": "execute_result",
          "data": {
            "text/plain": [
              "       Customer_ID Num_of_Delayed_Payment\n",
              "ID                                       \n",
              "0x1602   CUS_0xd40                      7\n",
              "0x1603   CUS_0xd40                    NaN\n",
              "0x1604   CUS_0xd40                      7\n",
              "0x1605   CUS_0xd40                      4\n",
              "0x1606   CUS_0xd40                    NaN\n",
              "0x1607   CUS_0xd40                      4\n",
              "0x1608   CUS_0xd40                     8_\n",
              "0x1609   CUS_0xd40                      6\n",
              "0x160e  CUS_0x21b1                      4\n",
              "0x160f  CUS_0x21b1                      1\n",
              "0x1610  CUS_0x21b1                     -1\n",
              "0x1611  CUS_0x21b1                     3_\n",
              "0x1612  CUS_0x21b1                      1\n",
              "0x1613  CUS_0x21b1                      0\n",
              "0x1614  CUS_0x21b1                      4\n",
              "0x1615  CUS_0x21b1                      4\n",
              "0x161a  CUS_0x2dbc                      8\n",
              "0x161b  CUS_0x2dbc                      6\n",
              "0x161c  CUS_0x2dbc                      7\n",
              "0x161d  CUS_0x2dbc                      5\n",
              "0x161e  CUS_0x2dbc                      5\n",
              "0x161f  CUS_0x2dbc                      6\n",
              "0x1620  CUS_0x2dbc                      6\n",
              "0x1621  CUS_0x2dbc                      6"
            ],
            "text/html": [
              "\n",
              "  <div id=\"df-03133ff4-3f75-47d1-af38-311e93f84a3f\">\n",
              "    <div class=\"colab-df-container\">\n",
              "      <div>\n",
              "<style scoped>\n",
              "    .dataframe tbody tr th:only-of-type {\n",
              "        vertical-align: middle;\n",
              "    }\n",
              "\n",
              "    .dataframe tbody tr th {\n",
              "        vertical-align: top;\n",
              "    }\n",
              "\n",
              "    .dataframe thead th {\n",
              "        text-align: right;\n",
              "    }\n",
              "</style>\n",
              "<table border=\"1\" class=\"dataframe\">\n",
              "  <thead>\n",
              "    <tr style=\"text-align: right;\">\n",
              "      <th></th>\n",
              "      <th>Customer_ID</th>\n",
              "      <th>Num_of_Delayed_Payment</th>\n",
              "    </tr>\n",
              "    <tr>\n",
              "      <th>ID</th>\n",
              "      <th></th>\n",
              "      <th></th>\n",
              "    </tr>\n",
              "  </thead>\n",
              "  <tbody>\n",
              "    <tr>\n",
              "      <th>0x1602</th>\n",
              "      <td>CUS_0xd40</td>\n",
              "      <td>7</td>\n",
              "    </tr>\n",
              "    <tr>\n",
              "      <th>0x1603</th>\n",
              "      <td>CUS_0xd40</td>\n",
              "      <td>NaN</td>\n",
              "    </tr>\n",
              "    <tr>\n",
              "      <th>0x1604</th>\n",
              "      <td>CUS_0xd40</td>\n",
              "      <td>7</td>\n",
              "    </tr>\n",
              "    <tr>\n",
              "      <th>0x1605</th>\n",
              "      <td>CUS_0xd40</td>\n",
              "      <td>4</td>\n",
              "    </tr>\n",
              "    <tr>\n",
              "      <th>0x1606</th>\n",
              "      <td>CUS_0xd40</td>\n",
              "      <td>NaN</td>\n",
              "    </tr>\n",
              "    <tr>\n",
              "      <th>0x1607</th>\n",
              "      <td>CUS_0xd40</td>\n",
              "      <td>4</td>\n",
              "    </tr>\n",
              "    <tr>\n",
              "      <th>0x1608</th>\n",
              "      <td>CUS_0xd40</td>\n",
              "      <td>8_</td>\n",
              "    </tr>\n",
              "    <tr>\n",
              "      <th>0x1609</th>\n",
              "      <td>CUS_0xd40</td>\n",
              "      <td>6</td>\n",
              "    </tr>\n",
              "    <tr>\n",
              "      <th>0x160e</th>\n",
              "      <td>CUS_0x21b1</td>\n",
              "      <td>4</td>\n",
              "    </tr>\n",
              "    <tr>\n",
              "      <th>0x160f</th>\n",
              "      <td>CUS_0x21b1</td>\n",
              "      <td>1</td>\n",
              "    </tr>\n",
              "    <tr>\n",
              "      <th>0x1610</th>\n",
              "      <td>CUS_0x21b1</td>\n",
              "      <td>-1</td>\n",
              "    </tr>\n",
              "    <tr>\n",
              "      <th>0x1611</th>\n",
              "      <td>CUS_0x21b1</td>\n",
              "      <td>3_</td>\n",
              "    </tr>\n",
              "    <tr>\n",
              "      <th>0x1612</th>\n",
              "      <td>CUS_0x21b1</td>\n",
              "      <td>1</td>\n",
              "    </tr>\n",
              "    <tr>\n",
              "      <th>0x1613</th>\n",
              "      <td>CUS_0x21b1</td>\n",
              "      <td>0</td>\n",
              "    </tr>\n",
              "    <tr>\n",
              "      <th>0x1614</th>\n",
              "      <td>CUS_0x21b1</td>\n",
              "      <td>4</td>\n",
              "    </tr>\n",
              "    <tr>\n",
              "      <th>0x1615</th>\n",
              "      <td>CUS_0x21b1</td>\n",
              "      <td>4</td>\n",
              "    </tr>\n",
              "    <tr>\n",
              "      <th>0x161a</th>\n",
              "      <td>CUS_0x2dbc</td>\n",
              "      <td>8</td>\n",
              "    </tr>\n",
              "    <tr>\n",
              "      <th>0x161b</th>\n",
              "      <td>CUS_0x2dbc</td>\n",
              "      <td>6</td>\n",
              "    </tr>\n",
              "    <tr>\n",
              "      <th>0x161c</th>\n",
              "      <td>CUS_0x2dbc</td>\n",
              "      <td>7</td>\n",
              "    </tr>\n",
              "    <tr>\n",
              "      <th>0x161d</th>\n",
              "      <td>CUS_0x2dbc</td>\n",
              "      <td>5</td>\n",
              "    </tr>\n",
              "    <tr>\n",
              "      <th>0x161e</th>\n",
              "      <td>CUS_0x2dbc</td>\n",
              "      <td>5</td>\n",
              "    </tr>\n",
              "    <tr>\n",
              "      <th>0x161f</th>\n",
              "      <td>CUS_0x2dbc</td>\n",
              "      <td>6</td>\n",
              "    </tr>\n",
              "    <tr>\n",
              "      <th>0x1620</th>\n",
              "      <td>CUS_0x2dbc</td>\n",
              "      <td>6</td>\n",
              "    </tr>\n",
              "    <tr>\n",
              "      <th>0x1621</th>\n",
              "      <td>CUS_0x2dbc</td>\n",
              "      <td>6</td>\n",
              "    </tr>\n",
              "  </tbody>\n",
              "</table>\n",
              "</div>\n",
              "      <button class=\"colab-df-convert\" onclick=\"convertToInteractive('df-03133ff4-3f75-47d1-af38-311e93f84a3f')\"\n",
              "              title=\"Convert this dataframe to an interactive table.\"\n",
              "              style=\"display:none;\">\n",
              "        \n",
              "  <svg xmlns=\"http://www.w3.org/2000/svg\" height=\"24px\"viewBox=\"0 0 24 24\"\n",
              "       width=\"24px\">\n",
              "    <path d=\"M0 0h24v24H0V0z\" fill=\"none\"/>\n",
              "    <path d=\"M18.56 5.44l.94 2.06.94-2.06 2.06-.94-2.06-.94-.94-2.06-.94 2.06-2.06.94zm-11 1L8.5 8.5l.94-2.06 2.06-.94-2.06-.94L8.5 2.5l-.94 2.06-2.06.94zm10 10l.94 2.06.94-2.06 2.06-.94-2.06-.94-.94-2.06-.94 2.06-2.06.94z\"/><path d=\"M17.41 7.96l-1.37-1.37c-.4-.4-.92-.59-1.43-.59-.52 0-1.04.2-1.43.59L10.3 9.45l-7.72 7.72c-.78.78-.78 2.05 0 2.83L4 21.41c.39.39.9.59 1.41.59.51 0 1.02-.2 1.41-.59l7.78-7.78 2.81-2.81c.8-.78.8-2.07 0-2.86zM5.41 20L4 18.59l7.72-7.72 1.47 1.35L5.41 20z\"/>\n",
              "  </svg>\n",
              "      </button>\n",
              "      \n",
              "  <style>\n",
              "    .colab-df-container {\n",
              "      display:flex;\n",
              "      flex-wrap:wrap;\n",
              "      gap: 12px;\n",
              "    }\n",
              "\n",
              "    .colab-df-convert {\n",
              "      background-color: #E8F0FE;\n",
              "      border: none;\n",
              "      border-radius: 50%;\n",
              "      cursor: pointer;\n",
              "      display: none;\n",
              "      fill: #1967D2;\n",
              "      height: 32px;\n",
              "      padding: 0 0 0 0;\n",
              "      width: 32px;\n",
              "    }\n",
              "\n",
              "    .colab-df-convert:hover {\n",
              "      background-color: #E2EBFA;\n",
              "      box-shadow: 0px 1px 2px rgba(60, 64, 67, 0.3), 0px 1px 3px 1px rgba(60, 64, 67, 0.15);\n",
              "      fill: #174EA6;\n",
              "    }\n",
              "\n",
              "    [theme=dark] .colab-df-convert {\n",
              "      background-color: #3B4455;\n",
              "      fill: #D2E3FC;\n",
              "    }\n",
              "\n",
              "    [theme=dark] .colab-df-convert:hover {\n",
              "      background-color: #434B5C;\n",
              "      box-shadow: 0px 1px 3px 1px rgba(0, 0, 0, 0.15);\n",
              "      filter: drop-shadow(0px 1px 2px rgba(0, 0, 0, 0.3));\n",
              "      fill: #FFFFFF;\n",
              "    }\n",
              "  </style>\n",
              "\n",
              "      <script>\n",
              "        const buttonEl =\n",
              "          document.querySelector('#df-03133ff4-3f75-47d1-af38-311e93f84a3f button.colab-df-convert');\n",
              "        buttonEl.style.display =\n",
              "          google.colab.kernel.accessAllowed ? 'block' : 'none';\n",
              "\n",
              "        async function convertToInteractive(key) {\n",
              "          const element = document.querySelector('#df-03133ff4-3f75-47d1-af38-311e93f84a3f');\n",
              "          const dataTable =\n",
              "            await google.colab.kernel.invokeFunction('convertToInteractive',\n",
              "                                                     [key], {});\n",
              "          if (!dataTable) return;\n",
              "\n",
              "          const docLinkHtml = 'Like what you see? Visit the ' +\n",
              "            '<a target=\"_blank\" href=https://colab.research.google.com/notebooks/data_table.ipynb>data table notebook</a>'\n",
              "            + ' to learn more about interactive tables.';\n",
              "          element.innerHTML = '';\n",
              "          dataTable['output_type'] = 'display_data';\n",
              "          await google.colab.output.renderOutput(dataTable, element);\n",
              "          const docLink = document.createElement('div');\n",
              "          docLink.innerHTML = docLinkHtml;\n",
              "          element.appendChild(docLink);\n",
              "        }\n",
              "      </script>\n",
              "    </div>\n",
              "  </div>\n",
              "  "
            ]
          },
          "metadata": {},
          "execution_count": 173
        }
      ]
    },
    {
      "cell_type": "markdown",
      "source": [
        "There are \"_\",  negatives, and Na values"
      ],
      "metadata": {
        "id": "p9XkR0oymR2x"
      }
    },
    {
      "cell_type": "markdown",
      "source": [
        "First: fix the values that have \"_\""
      ],
      "metadata": {
        "id": "NoZeR8JcmngG"
      }
    },
    {
      "cell_type": "code",
      "source": [
        "credit_info['Num_of_Delayed_Payment'] = credit_info['Num_of_Delayed_Payment'].str.strip('_')"
      ],
      "metadata": {
        "id": "fSXbD7-amwLz"
      },
      "execution_count": 174,
      "outputs": []
    },
    {
      "cell_type": "markdown",
      "source": [
        "Second: change negatives values to Na's"
      ],
      "metadata": {
        "id": "hoe7y5h-xKr7"
      }
    },
    {
      "cell_type": "code",
      "source": [
        "credit_info['Num_of_Delayed_Payment'] = credit_info['Num_of_Delayed_Payment'].astype('float')"
      ],
      "metadata": {
        "id": "5ln1Hktwm_EL"
      },
      "execution_count": 176,
      "outputs": []
    },
    {
      "cell_type": "code",
      "source": [
        "for i in credit_info['Num_of_Delayed_Payment']:\n",
        "  if i < 0:\n",
        "    credit_info['Num_of_Delayed_Payment'] = credit_info['Num_of_Delayed_Payment'].replace(i, np.nan)"
      ],
      "metadata": {
        "id": "iT6veU9yxKVY"
      },
      "execution_count": 177,
      "outputs": []
    },
    {
      "cell_type": "markdown",
      "source": [
        "Third: change Na values"
      ],
      "metadata": {
        "id": "rR2zEeTvmza6"
      }
    },
    {
      "cell_type": "code",
      "source": [
        "credit_info.groupby(['Customer_ID'])['Num_of_Delayed_Payment'].agg(['min','max','median','mean',pd.Series.mode])"
      ],
      "metadata": {
        "colab": {
          "base_uri": "https://localhost:8080/",
          "height": 455
        },
        "id": "QJPaHO5cmy37",
        "outputId": "a0e3c7f4-ff2a-4b4a-f314-c21ab0952ed2"
      },
      "execution_count": 178,
      "outputs": [
        {
          "output_type": "execute_result",
          "data": {
            "text/plain": [
              "              min     max  median        mean          mode\n",
              "Customer_ID                                                \n",
              "CUS_0x1000   23.0    28.0    25.0   25.000000          25.0\n",
              "CUS_0x1009   16.0  1749.0    18.0  234.250000          18.0\n",
              "CUS_0x100b    7.0     9.0     7.0    7.375000           7.0\n",
              "CUS_0x1011   12.0    17.0    15.0   14.500000          15.0\n",
              "CUS_0x1013    7.0     9.0     9.0    8.428571           9.0\n",
              "...           ...     ...     ...         ...           ...\n",
              "CUS_0xff3     6.0    11.0     9.0    8.625000           9.0\n",
              "CUS_0xff4    10.0    14.0    13.0   12.125000  [10.0, 13.0]\n",
              "CUS_0xff6     2.0     7.0     4.0    4.000000           4.0\n",
              "CUS_0xffc    14.0    19.0    16.0   16.250000          16.0\n",
              "CUS_0xffd     9.0    12.0    12.0   11.428571          12.0\n",
              "\n",
              "[12500 rows x 5 columns]"
            ],
            "text/html": [
              "\n",
              "  <div id=\"df-0ac1b47b-f4c5-411b-a799-db34d7ce60ff\">\n",
              "    <div class=\"colab-df-container\">\n",
              "      <div>\n",
              "<style scoped>\n",
              "    .dataframe tbody tr th:only-of-type {\n",
              "        vertical-align: middle;\n",
              "    }\n",
              "\n",
              "    .dataframe tbody tr th {\n",
              "        vertical-align: top;\n",
              "    }\n",
              "\n",
              "    .dataframe thead th {\n",
              "        text-align: right;\n",
              "    }\n",
              "</style>\n",
              "<table border=\"1\" class=\"dataframe\">\n",
              "  <thead>\n",
              "    <tr style=\"text-align: right;\">\n",
              "      <th></th>\n",
              "      <th>min</th>\n",
              "      <th>max</th>\n",
              "      <th>median</th>\n",
              "      <th>mean</th>\n",
              "      <th>mode</th>\n",
              "    </tr>\n",
              "    <tr>\n",
              "      <th>Customer_ID</th>\n",
              "      <th></th>\n",
              "      <th></th>\n",
              "      <th></th>\n",
              "      <th></th>\n",
              "      <th></th>\n",
              "    </tr>\n",
              "  </thead>\n",
              "  <tbody>\n",
              "    <tr>\n",
              "      <th>CUS_0x1000</th>\n",
              "      <td>23.0</td>\n",
              "      <td>28.0</td>\n",
              "      <td>25.0</td>\n",
              "      <td>25.000000</td>\n",
              "      <td>25.0</td>\n",
              "    </tr>\n",
              "    <tr>\n",
              "      <th>CUS_0x1009</th>\n",
              "      <td>16.0</td>\n",
              "      <td>1749.0</td>\n",
              "      <td>18.0</td>\n",
              "      <td>234.250000</td>\n",
              "      <td>18.0</td>\n",
              "    </tr>\n",
              "    <tr>\n",
              "      <th>CUS_0x100b</th>\n",
              "      <td>7.0</td>\n",
              "      <td>9.0</td>\n",
              "      <td>7.0</td>\n",
              "      <td>7.375000</td>\n",
              "      <td>7.0</td>\n",
              "    </tr>\n",
              "    <tr>\n",
              "      <th>CUS_0x1011</th>\n",
              "      <td>12.0</td>\n",
              "      <td>17.0</td>\n",
              "      <td>15.0</td>\n",
              "      <td>14.500000</td>\n",
              "      <td>15.0</td>\n",
              "    </tr>\n",
              "    <tr>\n",
              "      <th>CUS_0x1013</th>\n",
              "      <td>7.0</td>\n",
              "      <td>9.0</td>\n",
              "      <td>9.0</td>\n",
              "      <td>8.428571</td>\n",
              "      <td>9.0</td>\n",
              "    </tr>\n",
              "    <tr>\n",
              "      <th>...</th>\n",
              "      <td>...</td>\n",
              "      <td>...</td>\n",
              "      <td>...</td>\n",
              "      <td>...</td>\n",
              "      <td>...</td>\n",
              "    </tr>\n",
              "    <tr>\n",
              "      <th>CUS_0xff3</th>\n",
              "      <td>6.0</td>\n",
              "      <td>11.0</td>\n",
              "      <td>9.0</td>\n",
              "      <td>8.625000</td>\n",
              "      <td>9.0</td>\n",
              "    </tr>\n",
              "    <tr>\n",
              "      <th>CUS_0xff4</th>\n",
              "      <td>10.0</td>\n",
              "      <td>14.0</td>\n",
              "      <td>13.0</td>\n",
              "      <td>12.125000</td>\n",
              "      <td>[10.0, 13.0]</td>\n",
              "    </tr>\n",
              "    <tr>\n",
              "      <th>CUS_0xff6</th>\n",
              "      <td>2.0</td>\n",
              "      <td>7.0</td>\n",
              "      <td>4.0</td>\n",
              "      <td>4.000000</td>\n",
              "      <td>4.0</td>\n",
              "    </tr>\n",
              "    <tr>\n",
              "      <th>CUS_0xffc</th>\n",
              "      <td>14.0</td>\n",
              "      <td>19.0</td>\n",
              "      <td>16.0</td>\n",
              "      <td>16.250000</td>\n",
              "      <td>16.0</td>\n",
              "    </tr>\n",
              "    <tr>\n",
              "      <th>CUS_0xffd</th>\n",
              "      <td>9.0</td>\n",
              "      <td>12.0</td>\n",
              "      <td>12.0</td>\n",
              "      <td>11.428571</td>\n",
              "      <td>12.0</td>\n",
              "    </tr>\n",
              "  </tbody>\n",
              "</table>\n",
              "<p>12500 rows × 5 columns</p>\n",
              "</div>\n",
              "      <button class=\"colab-df-convert\" onclick=\"convertToInteractive('df-0ac1b47b-f4c5-411b-a799-db34d7ce60ff')\"\n",
              "              title=\"Convert this dataframe to an interactive table.\"\n",
              "              style=\"display:none;\">\n",
              "        \n",
              "  <svg xmlns=\"http://www.w3.org/2000/svg\" height=\"24px\"viewBox=\"0 0 24 24\"\n",
              "       width=\"24px\">\n",
              "    <path d=\"M0 0h24v24H0V0z\" fill=\"none\"/>\n",
              "    <path d=\"M18.56 5.44l.94 2.06.94-2.06 2.06-.94-2.06-.94-.94-2.06-.94 2.06-2.06.94zm-11 1L8.5 8.5l.94-2.06 2.06-.94-2.06-.94L8.5 2.5l-.94 2.06-2.06.94zm10 10l.94 2.06.94-2.06 2.06-.94-2.06-.94-.94-2.06-.94 2.06-2.06.94z\"/><path d=\"M17.41 7.96l-1.37-1.37c-.4-.4-.92-.59-1.43-.59-.52 0-1.04.2-1.43.59L10.3 9.45l-7.72 7.72c-.78.78-.78 2.05 0 2.83L4 21.41c.39.39.9.59 1.41.59.51 0 1.02-.2 1.41-.59l7.78-7.78 2.81-2.81c.8-.78.8-2.07 0-2.86zM5.41 20L4 18.59l7.72-7.72 1.47 1.35L5.41 20z\"/>\n",
              "  </svg>\n",
              "      </button>\n",
              "      \n",
              "  <style>\n",
              "    .colab-df-container {\n",
              "      display:flex;\n",
              "      flex-wrap:wrap;\n",
              "      gap: 12px;\n",
              "    }\n",
              "\n",
              "    .colab-df-convert {\n",
              "      background-color: #E8F0FE;\n",
              "      border: none;\n",
              "      border-radius: 50%;\n",
              "      cursor: pointer;\n",
              "      display: none;\n",
              "      fill: #1967D2;\n",
              "      height: 32px;\n",
              "      padding: 0 0 0 0;\n",
              "      width: 32px;\n",
              "    }\n",
              "\n",
              "    .colab-df-convert:hover {\n",
              "      background-color: #E2EBFA;\n",
              "      box-shadow: 0px 1px 2px rgba(60, 64, 67, 0.3), 0px 1px 3px 1px rgba(60, 64, 67, 0.15);\n",
              "      fill: #174EA6;\n",
              "    }\n",
              "\n",
              "    [theme=dark] .colab-df-convert {\n",
              "      background-color: #3B4455;\n",
              "      fill: #D2E3FC;\n",
              "    }\n",
              "\n",
              "    [theme=dark] .colab-df-convert:hover {\n",
              "      background-color: #434B5C;\n",
              "      box-shadow: 0px 1px 3px 1px rgba(0, 0, 0, 0.15);\n",
              "      filter: drop-shadow(0px 1px 2px rgba(0, 0, 0, 0.3));\n",
              "      fill: #FFFFFF;\n",
              "    }\n",
              "  </style>\n",
              "\n",
              "      <script>\n",
              "        const buttonEl =\n",
              "          document.querySelector('#df-0ac1b47b-f4c5-411b-a799-db34d7ce60ff button.colab-df-convert');\n",
              "        buttonEl.style.display =\n",
              "          google.colab.kernel.accessAllowed ? 'block' : 'none';\n",
              "\n",
              "        async function convertToInteractive(key) {\n",
              "          const element = document.querySelector('#df-0ac1b47b-f4c5-411b-a799-db34d7ce60ff');\n",
              "          const dataTable =\n",
              "            await google.colab.kernel.invokeFunction('convertToInteractive',\n",
              "                                                     [key], {});\n",
              "          if (!dataTable) return;\n",
              "\n",
              "          const docLinkHtml = 'Like what you see? Visit the ' +\n",
              "            '<a target=\"_blank\" href=https://colab.research.google.com/notebooks/data_table.ipynb>data table notebook</a>'\n",
              "            + ' to learn more about interactive tables.';\n",
              "          element.innerHTML = '';\n",
              "          dataTable['output_type'] = 'display_data';\n",
              "          await google.colab.output.renderOutput(dataTable, element);\n",
              "          const docLink = document.createElement('div');\n",
              "          docLink.innerHTML = docLinkHtml;\n",
              "          element.appendChild(docLink);\n",
              "        }\n",
              "      </script>\n",
              "    </div>\n",
              "  </div>\n",
              "  "
            ]
          },
          "metadata": {},
          "execution_count": 178
        }
      ]
    },
    {
      "cell_type": "markdown",
      "source": [
        "I will use Median. There are Mode values that are lists."
      ],
      "metadata": {
        "id": "cP6ieuLInjuC"
      }
    },
    {
      "cell_type": "code",
      "source": [
        "credit_info['Num_of_Delayed_Payment'] = credit_info.groupby(by=['Customer_ID'])['Num_of_Delayed_Payment'].transform('median')"
      ],
      "metadata": {
        "id": "INXfhvbMnjTW"
      },
      "execution_count": 179,
      "outputs": []
    },
    {
      "cell_type": "code",
      "source": [
        "credit_info['Num_of_Delayed_Payment'].describe()"
      ],
      "metadata": {
        "colab": {
          "base_uri": "https://localhost:8080/"
        },
        "id": "lulsrZIQnvWM",
        "outputId": "f55488e6-becd-4ce4-d268-f0c680921647"
      },
      "execution_count": 180,
      "outputs": [
        {
          "output_type": "execute_result",
          "data": {
            "text/plain": [
              "count    100000.000000\n",
              "mean         13.320960\n",
              "std           6.182172\n",
              "min           0.000000\n",
              "25%           9.000000\n",
              "50%          14.000000\n",
              "75%          18.000000\n",
              "max          26.500000\n",
              "Name: Num_of_Delayed_Payment, dtype: float64"
            ]
          },
          "metadata": {},
          "execution_count": 180
        }
      ]
    },
    {
      "cell_type": "markdown",
      "source": [
        "All done with Num of Delayed Payment"
      ],
      "metadata": {
        "id": "6Nbs0eMoxnrN"
      }
    },
    {
      "cell_type": "markdown",
      "source": [
        "# Changed Credit Limit"
      ],
      "metadata": {
        "id": "kV7aH2I6G8CX"
      }
    },
    {
      "cell_type": "code",
      "source": [
        "credit_info['Changed_Credit_Limit'].describe()"
      ],
      "metadata": {
        "colab": {
          "base_uri": "https://localhost:8080/"
        },
        "id": "N8BpAHvkHDM0",
        "outputId": "34770dde-b1db-4ea5-b655-acd152880b98"
      },
      "execution_count": 181,
      "outputs": [
        {
          "output_type": "execute_result",
          "data": {
            "text/plain": [
              "count     100000\n",
              "unique      3635\n",
              "top            _\n",
              "freq        2091\n",
              "Name: Changed_Credit_Limit, dtype: object"
            ]
          },
          "metadata": {},
          "execution_count": 181
        }
      ]
    },
    {
      "cell_type": "code",
      "source": [
        "credit_info['Changed_Credit_Limit'].unique()"
      ],
      "metadata": {
        "colab": {
          "base_uri": "https://localhost:8080/"
        },
        "id": "t5ennSquHI0l",
        "outputId": "9b756246-88c3-4d7b-ac0c-00e48f8ad626"
      },
      "execution_count": 182,
      "outputs": [
        {
          "output_type": "execute_result",
          "data": {
            "text/plain": [
              "array(['11.27', '_', '6.27', ..., '27.38', '25.16', '21.17'], dtype=object)"
            ]
          },
          "metadata": {},
          "execution_count": 182
        }
      ]
    },
    {
      "cell_type": "markdown",
      "source": [
        "Delete \"_\" values"
      ],
      "metadata": {
        "id": "6kAeHbg2Hz2g"
      }
    },
    {
      "cell_type": "code",
      "source": [
        "credit_info['Changed_Credit_Limit'] = credit_info['Changed_Credit_Limit'].str.strip('_')"
      ],
      "metadata": {
        "id": "A8-GlnSxH5qY"
      },
      "execution_count": 183,
      "outputs": []
    },
    {
      "cell_type": "code",
      "source": [
        "credit_info['Changed_Credit_Limit'].unique()"
      ],
      "metadata": {
        "colab": {
          "base_uri": "https://localhost:8080/"
        },
        "id": "6JPAlZEeH6oT",
        "outputId": "0fb46cf6-8a36-49ab-eff8-9069c412e905"
      },
      "execution_count": 184,
      "outputs": [
        {
          "output_type": "execute_result",
          "data": {
            "text/plain": [
              "array(['11.27', '', '6.27', ..., '27.38', '25.16', '21.17'], dtype=object)"
            ]
          },
          "metadata": {},
          "execution_count": 184
        }
      ]
    },
    {
      "cell_type": "markdown",
      "source": [
        "Change empty values for Nas"
      ],
      "metadata": {
        "id": "W8nzAdOeIklB"
      }
    },
    {
      "cell_type": "code",
      "source": [
        "for i in credit_info['Changed_Credit_Limit']:\n",
        "  if i == '':\n",
        "    credit_info['Changed_Credit_Limit'] = credit_info['Changed_Credit_Limit'].replace(i, np.nan)"
      ],
      "metadata": {
        "id": "gP_lRZ5yIK3M"
      },
      "execution_count": 185,
      "outputs": []
    },
    {
      "cell_type": "markdown",
      "source": [
        "Convert Changed_Credit_Limit type to float"
      ],
      "metadata": {
        "id": "XsIVg2HyInbu"
      }
    },
    {
      "cell_type": "code",
      "source": [
        "credit_info['Changed_Credit_Limit'] = credit_info['Changed_Credit_Limit'].astype('float')"
      ],
      "metadata": {
        "id": "xqXx7XPEIGx3"
      },
      "execution_count": 186,
      "outputs": []
    },
    {
      "cell_type": "code",
      "source": [
        "credit_info['Changed_Credit_Limit'].describe()"
      ],
      "metadata": {
        "colab": {
          "base_uri": "https://localhost:8080/"
        },
        "id": "1ZMJi5GwIZ-C",
        "outputId": "54f9e48a-3003-46c6-8546-046b35bbea5f"
      },
      "execution_count": 187,
      "outputs": [
        {
          "output_type": "execute_result",
          "data": {
            "text/plain": [
              "count    97909.000000\n",
              "mean        10.389025\n",
              "std          6.789496\n",
              "min         -6.490000\n",
              "25%          5.320000\n",
              "50%          9.400000\n",
              "75%         14.870000\n",
              "max         36.970000\n",
              "Name: Changed_Credit_Limit, dtype: float64"
            ]
          },
          "metadata": {},
          "execution_count": 187
        }
      ]
    },
    {
      "cell_type": "markdown",
      "source": [
        "Change negatives for Nas"
      ],
      "metadata": {
        "id": "0lKooBHYyV62"
      }
    },
    {
      "cell_type": "code",
      "source": [
        "for i in credit_info['Changed_Credit_Limit']:\n",
        "  if i < 0:\n",
        "    credit_info['Changed_Credit_Limit'] = credit_info['Changed_Credit_Limit'].replace(i, np.nan)"
      ],
      "metadata": {
        "id": "DD3rjHXyyYGn"
      },
      "execution_count": 188,
      "outputs": []
    },
    {
      "cell_type": "markdown",
      "source": [
        "Check which stat use to replace the Nas"
      ],
      "metadata": {
        "id": "vuyZTeTnyjfN"
      }
    },
    {
      "cell_type": "code",
      "source": [
        "credit_info.groupby(['Customer_ID'])['Changed_Credit_Limit'].agg(['min','max','median','mean',pd.Series.mode])"
      ],
      "metadata": {
        "colab": {
          "base_uri": "https://localhost:8080/",
          "height": 455
        },
        "id": "UqjpgCrdygk7",
        "outputId": "c83b7017-49dc-4115-fd7f-e0b72b9c0e79"
      },
      "execution_count": 189,
      "outputs": [
        {
          "output_type": "execute_result",
          "data": {
            "text/plain": [
              "               min    max  median       mean   mode\n",
              "Customer_ID                                        \n",
              "CUS_0x1000    1.63   2.63    1.63   1.880000   1.63\n",
              "CUS_0x1009    9.73   9.73    9.73   9.730000   9.73\n",
              "CUS_0x100b    8.34  11.34   11.34  10.911429  11.34\n",
              "CUS_0x1011   13.42  14.42   14.42  14.170000  14.42\n",
              "CUS_0x1013    1.33   4.33    1.33   1.705000   1.33\n",
              "...            ...    ...     ...        ...    ...\n",
              "CUS_0xff3     6.86  13.86    6.86   8.485000   6.86\n",
              "CUS_0xff4     7.83  10.83    7.83   8.205000   7.83\n",
              "CUS_0xff6    10.40  16.40   10.40  11.900000   10.4\n",
              "CUS_0xffc     5.82  12.82    8.82   8.820000   8.82\n",
              "CUS_0xffd    10.07  12.07   10.07  10.320000  10.07\n",
              "\n",
              "[12500 rows x 5 columns]"
            ],
            "text/html": [
              "\n",
              "  <div id=\"df-1e90abc7-f257-49a4-afdb-29e09954efb4\">\n",
              "    <div class=\"colab-df-container\">\n",
              "      <div>\n",
              "<style scoped>\n",
              "    .dataframe tbody tr th:only-of-type {\n",
              "        vertical-align: middle;\n",
              "    }\n",
              "\n",
              "    .dataframe tbody tr th {\n",
              "        vertical-align: top;\n",
              "    }\n",
              "\n",
              "    .dataframe thead th {\n",
              "        text-align: right;\n",
              "    }\n",
              "</style>\n",
              "<table border=\"1\" class=\"dataframe\">\n",
              "  <thead>\n",
              "    <tr style=\"text-align: right;\">\n",
              "      <th></th>\n",
              "      <th>min</th>\n",
              "      <th>max</th>\n",
              "      <th>median</th>\n",
              "      <th>mean</th>\n",
              "      <th>mode</th>\n",
              "    </tr>\n",
              "    <tr>\n",
              "      <th>Customer_ID</th>\n",
              "      <th></th>\n",
              "      <th></th>\n",
              "      <th></th>\n",
              "      <th></th>\n",
              "      <th></th>\n",
              "    </tr>\n",
              "  </thead>\n",
              "  <tbody>\n",
              "    <tr>\n",
              "      <th>CUS_0x1000</th>\n",
              "      <td>1.63</td>\n",
              "      <td>2.63</td>\n",
              "      <td>1.63</td>\n",
              "      <td>1.880000</td>\n",
              "      <td>1.63</td>\n",
              "    </tr>\n",
              "    <tr>\n",
              "      <th>CUS_0x1009</th>\n",
              "      <td>9.73</td>\n",
              "      <td>9.73</td>\n",
              "      <td>9.73</td>\n",
              "      <td>9.730000</td>\n",
              "      <td>9.73</td>\n",
              "    </tr>\n",
              "    <tr>\n",
              "      <th>CUS_0x100b</th>\n",
              "      <td>8.34</td>\n",
              "      <td>11.34</td>\n",
              "      <td>11.34</td>\n",
              "      <td>10.911429</td>\n",
              "      <td>11.34</td>\n",
              "    </tr>\n",
              "    <tr>\n",
              "      <th>CUS_0x1011</th>\n",
              "      <td>13.42</td>\n",
              "      <td>14.42</td>\n",
              "      <td>14.42</td>\n",
              "      <td>14.170000</td>\n",
              "      <td>14.42</td>\n",
              "    </tr>\n",
              "    <tr>\n",
              "      <th>CUS_0x1013</th>\n",
              "      <td>1.33</td>\n",
              "      <td>4.33</td>\n",
              "      <td>1.33</td>\n",
              "      <td>1.705000</td>\n",
              "      <td>1.33</td>\n",
              "    </tr>\n",
              "    <tr>\n",
              "      <th>...</th>\n",
              "      <td>...</td>\n",
              "      <td>...</td>\n",
              "      <td>...</td>\n",
              "      <td>...</td>\n",
              "      <td>...</td>\n",
              "    </tr>\n",
              "    <tr>\n",
              "      <th>CUS_0xff3</th>\n",
              "      <td>6.86</td>\n",
              "      <td>13.86</td>\n",
              "      <td>6.86</td>\n",
              "      <td>8.485000</td>\n",
              "      <td>6.86</td>\n",
              "    </tr>\n",
              "    <tr>\n",
              "      <th>CUS_0xff4</th>\n",
              "      <td>7.83</td>\n",
              "      <td>10.83</td>\n",
              "      <td>7.83</td>\n",
              "      <td>8.205000</td>\n",
              "      <td>7.83</td>\n",
              "    </tr>\n",
              "    <tr>\n",
              "      <th>CUS_0xff6</th>\n",
              "      <td>10.40</td>\n",
              "      <td>16.40</td>\n",
              "      <td>10.40</td>\n",
              "      <td>11.900000</td>\n",
              "      <td>10.4</td>\n",
              "    </tr>\n",
              "    <tr>\n",
              "      <th>CUS_0xffc</th>\n",
              "      <td>5.82</td>\n",
              "      <td>12.82</td>\n",
              "      <td>8.82</td>\n",
              "      <td>8.820000</td>\n",
              "      <td>8.82</td>\n",
              "    </tr>\n",
              "    <tr>\n",
              "      <th>CUS_0xffd</th>\n",
              "      <td>10.07</td>\n",
              "      <td>12.07</td>\n",
              "      <td>10.07</td>\n",
              "      <td>10.320000</td>\n",
              "      <td>10.07</td>\n",
              "    </tr>\n",
              "  </tbody>\n",
              "</table>\n",
              "<p>12500 rows × 5 columns</p>\n",
              "</div>\n",
              "      <button class=\"colab-df-convert\" onclick=\"convertToInteractive('df-1e90abc7-f257-49a4-afdb-29e09954efb4')\"\n",
              "              title=\"Convert this dataframe to an interactive table.\"\n",
              "              style=\"display:none;\">\n",
              "        \n",
              "  <svg xmlns=\"http://www.w3.org/2000/svg\" height=\"24px\"viewBox=\"0 0 24 24\"\n",
              "       width=\"24px\">\n",
              "    <path d=\"M0 0h24v24H0V0z\" fill=\"none\"/>\n",
              "    <path d=\"M18.56 5.44l.94 2.06.94-2.06 2.06-.94-2.06-.94-.94-2.06-.94 2.06-2.06.94zm-11 1L8.5 8.5l.94-2.06 2.06-.94-2.06-.94L8.5 2.5l-.94 2.06-2.06.94zm10 10l.94 2.06.94-2.06 2.06-.94-2.06-.94-.94-2.06-.94 2.06-2.06.94z\"/><path d=\"M17.41 7.96l-1.37-1.37c-.4-.4-.92-.59-1.43-.59-.52 0-1.04.2-1.43.59L10.3 9.45l-7.72 7.72c-.78.78-.78 2.05 0 2.83L4 21.41c.39.39.9.59 1.41.59.51 0 1.02-.2 1.41-.59l7.78-7.78 2.81-2.81c.8-.78.8-2.07 0-2.86zM5.41 20L4 18.59l7.72-7.72 1.47 1.35L5.41 20z\"/>\n",
              "  </svg>\n",
              "      </button>\n",
              "      \n",
              "  <style>\n",
              "    .colab-df-container {\n",
              "      display:flex;\n",
              "      flex-wrap:wrap;\n",
              "      gap: 12px;\n",
              "    }\n",
              "\n",
              "    .colab-df-convert {\n",
              "      background-color: #E8F0FE;\n",
              "      border: none;\n",
              "      border-radius: 50%;\n",
              "      cursor: pointer;\n",
              "      display: none;\n",
              "      fill: #1967D2;\n",
              "      height: 32px;\n",
              "      padding: 0 0 0 0;\n",
              "      width: 32px;\n",
              "    }\n",
              "\n",
              "    .colab-df-convert:hover {\n",
              "      background-color: #E2EBFA;\n",
              "      box-shadow: 0px 1px 2px rgba(60, 64, 67, 0.3), 0px 1px 3px 1px rgba(60, 64, 67, 0.15);\n",
              "      fill: #174EA6;\n",
              "    }\n",
              "\n",
              "    [theme=dark] .colab-df-convert {\n",
              "      background-color: #3B4455;\n",
              "      fill: #D2E3FC;\n",
              "    }\n",
              "\n",
              "    [theme=dark] .colab-df-convert:hover {\n",
              "      background-color: #434B5C;\n",
              "      box-shadow: 0px 1px 3px 1px rgba(0, 0, 0, 0.15);\n",
              "      filter: drop-shadow(0px 1px 2px rgba(0, 0, 0, 0.3));\n",
              "      fill: #FFFFFF;\n",
              "    }\n",
              "  </style>\n",
              "\n",
              "      <script>\n",
              "        const buttonEl =\n",
              "          document.querySelector('#df-1e90abc7-f257-49a4-afdb-29e09954efb4 button.colab-df-convert');\n",
              "        buttonEl.style.display =\n",
              "          google.colab.kernel.accessAllowed ? 'block' : 'none';\n",
              "\n",
              "        async function convertToInteractive(key) {\n",
              "          const element = document.querySelector('#df-1e90abc7-f257-49a4-afdb-29e09954efb4');\n",
              "          const dataTable =\n",
              "            await google.colab.kernel.invokeFunction('convertToInteractive',\n",
              "                                                     [key], {});\n",
              "          if (!dataTable) return;\n",
              "\n",
              "          const docLinkHtml = 'Like what you see? Visit the ' +\n",
              "            '<a target=\"_blank\" href=https://colab.research.google.com/notebooks/data_table.ipynb>data table notebook</a>'\n",
              "            + ' to learn more about interactive tables.';\n",
              "          element.innerHTML = '';\n",
              "          dataTable['output_type'] = 'display_data';\n",
              "          await google.colab.output.renderOutput(dataTable, element);\n",
              "          const docLink = document.createElement('div');\n",
              "          docLink.innerHTML = docLinkHtml;\n",
              "          element.appendChild(docLink);\n",
              "        }\n",
              "      </script>\n",
              "    </div>\n",
              "  </div>\n",
              "  "
            ]
          },
          "metadata": {},
          "execution_count": 189
        }
      ]
    },
    {
      "cell_type": "markdown",
      "source": [
        "Change Nas with Mode"
      ],
      "metadata": {
        "id": "X9DwDnE2yGSb"
      }
    },
    {
      "cell_type": "code",
      "source": [
        "credit_info['Changed_Credit_Limit'] = credit_info.groupby('Customer_ID')['Changed_Credit_Limit'].transform(lambda x: x.fillna(stats.mode(x)[0][0]))"
      ],
      "metadata": {
        "id": "trb7cxEeyF_6"
      },
      "execution_count": 190,
      "outputs": []
    },
    {
      "cell_type": "markdown",
      "source": [
        "Check if all Nas where fixed"
      ],
      "metadata": {
        "id": "-lnNtddTyzL2"
      }
    },
    {
      "cell_type": "code",
      "source": [
        "credit_info['Changed_Credit_Limit'].describe()"
      ],
      "metadata": {
        "colab": {
          "base_uri": "https://localhost:8080/"
        },
        "id": "vOiON-q9ysdV",
        "outputId": "c3592391-4294-4471-82ac-0b9f7b79ba25"
      },
      "execution_count": 191,
      "outputs": [
        {
          "output_type": "execute_result",
          "data": {
            "text/plain": [
              "count    99982.000000\n",
              "mean        10.473497\n",
              "std          6.657536\n",
              "min          0.000000\n",
              "25%          5.370000\n",
              "50%          9.400000\n",
              "75%         14.850000\n",
              "max         36.970000\n",
              "Name: Changed_Credit_Limit, dtype: float64"
            ]
          },
          "metadata": {},
          "execution_count": 191
        }
      ]
    },
    {
      "cell_type": "code",
      "source": [
        "credit_info['Changed_Credit_Limit'].isna().sum()"
      ],
      "metadata": {
        "colab": {
          "base_uri": "https://localhost:8080/"
        },
        "id": "leRVP10Gy2OR",
        "outputId": "096da1fc-76df-4d1a-c0b1-eaacc110a4a5"
      },
      "execution_count": 192,
      "outputs": [
        {
          "output_type": "execute_result",
          "data": {
            "text/plain": [
              "18"
            ]
          },
          "metadata": {},
          "execution_count": 192
        }
      ]
    },
    {
      "cell_type": "markdown",
      "source": [
        "There 18 that have not been fixed because all their values were negatives before converting them to Na.\n",
        "\n",
        "I will change them to 0"
      ],
      "metadata": {
        "id": "Bs35kWbKy6ga"
      }
    },
    {
      "cell_type": "code",
      "source": [
        "credit_info['Changed_Credit_Limit'] = credit_info['Changed_Credit_Limit'].fillna(0)"
      ],
      "metadata": {
        "id": "ltzLcv2ay48D"
      },
      "execution_count": 193,
      "outputs": []
    },
    {
      "cell_type": "markdown",
      "source": [
        "Check if all Nas where fixed"
      ],
      "metadata": {
        "id": "HwznzBYWzj75"
      }
    },
    {
      "cell_type": "code",
      "source": [
        "credit_info['Changed_Credit_Limit'].describe()"
      ],
      "metadata": {
        "colab": {
          "base_uri": "https://localhost:8080/"
        },
        "id": "YCMDxu44ysUZ",
        "outputId": "ea03dc5d-5b70-4406-ddd1-0b9582a92859"
      },
      "execution_count": 194,
      "outputs": [
        {
          "output_type": "execute_result",
          "data": {
            "text/plain": [
              "count    100000.000000\n",
              "mean         10.471612\n",
              "std           6.658419\n",
              "min           0.000000\n",
              "25%           5.370000\n",
              "50%           9.400000\n",
              "75%          14.850000\n",
              "max          36.970000\n",
              "Name: Changed_Credit_Limit, dtype: float64"
            ]
          },
          "metadata": {},
          "execution_count": 194
        }
      ]
    },
    {
      "cell_type": "markdown",
      "source": [
        "All done with Changed Credit Limit"
      ],
      "metadata": {
        "id": "uh4mD71Kzk2i"
      }
    },
    {
      "cell_type": "markdown",
      "source": [
        "# Num Credit Inquiries"
      ],
      "metadata": {
        "id": "aziVUFmj4SgA"
      }
    },
    {
      "cell_type": "code",
      "source": [
        "credit_info['Num_Credit_Inquiries'].describe()"
      ],
      "metadata": {
        "colab": {
          "base_uri": "https://localhost:8080/"
        },
        "id": "fKy46pwE4MpS",
        "outputId": "835daade-e743-45ae-ea67-a42e264bbb64"
      },
      "execution_count": 195,
      "outputs": [
        {
          "output_type": "execute_result",
          "data": {
            "text/plain": [
              "count    98035.000000\n",
              "mean        27.754251\n",
              "std        193.177339\n",
              "min          0.000000\n",
              "25%          3.000000\n",
              "50%          6.000000\n",
              "75%          9.000000\n",
              "max       2597.000000\n",
              "Name: Num_Credit_Inquiries, dtype: float64"
            ]
          },
          "metadata": {},
          "execution_count": 195
        }
      ]
    },
    {
      "cell_type": "markdown",
      "source": [
        "There are outliers"
      ],
      "metadata": {
        "id": "EzFbYo0F4j1-"
      }
    },
    {
      "cell_type": "markdown",
      "source": [
        "Check which stat use to replace the outliers"
      ],
      "metadata": {
        "id": "BiIe1dIH4sdY"
      }
    },
    {
      "cell_type": "code",
      "source": [
        "credit_info.groupby(['Customer_ID'])['Num_Credit_Inquiries'].agg(['min','max','median','mean',pd.Series.mode])"
      ],
      "metadata": {
        "colab": {
          "base_uri": "https://localhost:8080/",
          "height": 455
        },
        "id": "2FWrJrGr4Mmy",
        "outputId": "875a2af4-7d9b-4159-8d36-139874634456"
      },
      "execution_count": 196,
      "outputs": [
        {
          "output_type": "execute_result",
          "data": {
            "text/plain": [
              "              min     max  median        mean        mode\n",
              "Customer_ID                                              \n",
              "CUS_0x1000   10.0    11.0    11.0   10.875000        11.0\n",
              "CUS_0x1009    2.0     4.0     3.0    3.000000  [2.0, 4.0]\n",
              "CUS_0x100b    1.0  2271.0     1.0  285.500000         1.0\n",
              "CUS_0x1011    7.0  1965.0     7.0  251.750000         7.0\n",
              "CUS_0x1013    3.0     3.0     3.0    3.000000         3.0\n",
              "...           ...     ...     ...         ...         ...\n",
              "CUS_0xff3     3.0     5.0     5.0    4.250000         5.0\n",
              "CUS_0xff4     5.0     5.0     5.0    5.000000         5.0\n",
              "CUS_0xff6     2.0     2.0     2.0    2.000000         2.0\n",
              "CUS_0xffc     8.0    13.0    13.0   12.375000        13.0\n",
              "CUS_0xffd     7.0  1801.0     7.0  263.285714         7.0\n",
              "\n",
              "[12500 rows x 5 columns]"
            ],
            "text/html": [
              "\n",
              "  <div id=\"df-77dd4591-ff88-4a8d-9d98-9602ee4c207e\">\n",
              "    <div class=\"colab-df-container\">\n",
              "      <div>\n",
              "<style scoped>\n",
              "    .dataframe tbody tr th:only-of-type {\n",
              "        vertical-align: middle;\n",
              "    }\n",
              "\n",
              "    .dataframe tbody tr th {\n",
              "        vertical-align: top;\n",
              "    }\n",
              "\n",
              "    .dataframe thead th {\n",
              "        text-align: right;\n",
              "    }\n",
              "</style>\n",
              "<table border=\"1\" class=\"dataframe\">\n",
              "  <thead>\n",
              "    <tr style=\"text-align: right;\">\n",
              "      <th></th>\n",
              "      <th>min</th>\n",
              "      <th>max</th>\n",
              "      <th>median</th>\n",
              "      <th>mean</th>\n",
              "      <th>mode</th>\n",
              "    </tr>\n",
              "    <tr>\n",
              "      <th>Customer_ID</th>\n",
              "      <th></th>\n",
              "      <th></th>\n",
              "      <th></th>\n",
              "      <th></th>\n",
              "      <th></th>\n",
              "    </tr>\n",
              "  </thead>\n",
              "  <tbody>\n",
              "    <tr>\n",
              "      <th>CUS_0x1000</th>\n",
              "      <td>10.0</td>\n",
              "      <td>11.0</td>\n",
              "      <td>11.0</td>\n",
              "      <td>10.875000</td>\n",
              "      <td>11.0</td>\n",
              "    </tr>\n",
              "    <tr>\n",
              "      <th>CUS_0x1009</th>\n",
              "      <td>2.0</td>\n",
              "      <td>4.0</td>\n",
              "      <td>3.0</td>\n",
              "      <td>3.000000</td>\n",
              "      <td>[2.0, 4.0]</td>\n",
              "    </tr>\n",
              "    <tr>\n",
              "      <th>CUS_0x100b</th>\n",
              "      <td>1.0</td>\n",
              "      <td>2271.0</td>\n",
              "      <td>1.0</td>\n",
              "      <td>285.500000</td>\n",
              "      <td>1.0</td>\n",
              "    </tr>\n",
              "    <tr>\n",
              "      <th>CUS_0x1011</th>\n",
              "      <td>7.0</td>\n",
              "      <td>1965.0</td>\n",
              "      <td>7.0</td>\n",
              "      <td>251.750000</td>\n",
              "      <td>7.0</td>\n",
              "    </tr>\n",
              "    <tr>\n",
              "      <th>CUS_0x1013</th>\n",
              "      <td>3.0</td>\n",
              "      <td>3.0</td>\n",
              "      <td>3.0</td>\n",
              "      <td>3.000000</td>\n",
              "      <td>3.0</td>\n",
              "    </tr>\n",
              "    <tr>\n",
              "      <th>...</th>\n",
              "      <td>...</td>\n",
              "      <td>...</td>\n",
              "      <td>...</td>\n",
              "      <td>...</td>\n",
              "      <td>...</td>\n",
              "    </tr>\n",
              "    <tr>\n",
              "      <th>CUS_0xff3</th>\n",
              "      <td>3.0</td>\n",
              "      <td>5.0</td>\n",
              "      <td>5.0</td>\n",
              "      <td>4.250000</td>\n",
              "      <td>5.0</td>\n",
              "    </tr>\n",
              "    <tr>\n",
              "      <th>CUS_0xff4</th>\n",
              "      <td>5.0</td>\n",
              "      <td>5.0</td>\n",
              "      <td>5.0</td>\n",
              "      <td>5.000000</td>\n",
              "      <td>5.0</td>\n",
              "    </tr>\n",
              "    <tr>\n",
              "      <th>CUS_0xff6</th>\n",
              "      <td>2.0</td>\n",
              "      <td>2.0</td>\n",
              "      <td>2.0</td>\n",
              "      <td>2.000000</td>\n",
              "      <td>2.0</td>\n",
              "    </tr>\n",
              "    <tr>\n",
              "      <th>CUS_0xffc</th>\n",
              "      <td>8.0</td>\n",
              "      <td>13.0</td>\n",
              "      <td>13.0</td>\n",
              "      <td>12.375000</td>\n",
              "      <td>13.0</td>\n",
              "    </tr>\n",
              "    <tr>\n",
              "      <th>CUS_0xffd</th>\n",
              "      <td>7.0</td>\n",
              "      <td>1801.0</td>\n",
              "      <td>7.0</td>\n",
              "      <td>263.285714</td>\n",
              "      <td>7.0</td>\n",
              "    </tr>\n",
              "  </tbody>\n",
              "</table>\n",
              "<p>12500 rows × 5 columns</p>\n",
              "</div>\n",
              "      <button class=\"colab-df-convert\" onclick=\"convertToInteractive('df-77dd4591-ff88-4a8d-9d98-9602ee4c207e')\"\n",
              "              title=\"Convert this dataframe to an interactive table.\"\n",
              "              style=\"display:none;\">\n",
              "        \n",
              "  <svg xmlns=\"http://www.w3.org/2000/svg\" height=\"24px\"viewBox=\"0 0 24 24\"\n",
              "       width=\"24px\">\n",
              "    <path d=\"M0 0h24v24H0V0z\" fill=\"none\"/>\n",
              "    <path d=\"M18.56 5.44l.94 2.06.94-2.06 2.06-.94-2.06-.94-.94-2.06-.94 2.06-2.06.94zm-11 1L8.5 8.5l.94-2.06 2.06-.94-2.06-.94L8.5 2.5l-.94 2.06-2.06.94zm10 10l.94 2.06.94-2.06 2.06-.94-2.06-.94-.94-2.06-.94 2.06-2.06.94z\"/><path d=\"M17.41 7.96l-1.37-1.37c-.4-.4-.92-.59-1.43-.59-.52 0-1.04.2-1.43.59L10.3 9.45l-7.72 7.72c-.78.78-.78 2.05 0 2.83L4 21.41c.39.39.9.59 1.41.59.51 0 1.02-.2 1.41-.59l7.78-7.78 2.81-2.81c.8-.78.8-2.07 0-2.86zM5.41 20L4 18.59l7.72-7.72 1.47 1.35L5.41 20z\"/>\n",
              "  </svg>\n",
              "      </button>\n",
              "      \n",
              "  <style>\n",
              "    .colab-df-container {\n",
              "      display:flex;\n",
              "      flex-wrap:wrap;\n",
              "      gap: 12px;\n",
              "    }\n",
              "\n",
              "    .colab-df-convert {\n",
              "      background-color: #E8F0FE;\n",
              "      border: none;\n",
              "      border-radius: 50%;\n",
              "      cursor: pointer;\n",
              "      display: none;\n",
              "      fill: #1967D2;\n",
              "      height: 32px;\n",
              "      padding: 0 0 0 0;\n",
              "      width: 32px;\n",
              "    }\n",
              "\n",
              "    .colab-df-convert:hover {\n",
              "      background-color: #E2EBFA;\n",
              "      box-shadow: 0px 1px 2px rgba(60, 64, 67, 0.3), 0px 1px 3px 1px rgba(60, 64, 67, 0.15);\n",
              "      fill: #174EA6;\n",
              "    }\n",
              "\n",
              "    [theme=dark] .colab-df-convert {\n",
              "      background-color: #3B4455;\n",
              "      fill: #D2E3FC;\n",
              "    }\n",
              "\n",
              "    [theme=dark] .colab-df-convert:hover {\n",
              "      background-color: #434B5C;\n",
              "      box-shadow: 0px 1px 3px 1px rgba(0, 0, 0, 0.15);\n",
              "      filter: drop-shadow(0px 1px 2px rgba(0, 0, 0, 0.3));\n",
              "      fill: #FFFFFF;\n",
              "    }\n",
              "  </style>\n",
              "\n",
              "      <script>\n",
              "        const buttonEl =\n",
              "          document.querySelector('#df-77dd4591-ff88-4a8d-9d98-9602ee4c207e button.colab-df-convert');\n",
              "        buttonEl.style.display =\n",
              "          google.colab.kernel.accessAllowed ? 'block' : 'none';\n",
              "\n",
              "        async function convertToInteractive(key) {\n",
              "          const element = document.querySelector('#df-77dd4591-ff88-4a8d-9d98-9602ee4c207e');\n",
              "          const dataTable =\n",
              "            await google.colab.kernel.invokeFunction('convertToInteractive',\n",
              "                                                     [key], {});\n",
              "          if (!dataTable) return;\n",
              "\n",
              "          const docLinkHtml = 'Like what you see? Visit the ' +\n",
              "            '<a target=\"_blank\" href=https://colab.research.google.com/notebooks/data_table.ipynb>data table notebook</a>'\n",
              "            + ' to learn more about interactive tables.';\n",
              "          element.innerHTML = '';\n",
              "          dataTable['output_type'] = 'display_data';\n",
              "          await google.colab.output.renderOutput(dataTable, element);\n",
              "          const docLink = document.createElement('div');\n",
              "          docLink.innerHTML = docLinkHtml;\n",
              "          element.appendChild(docLink);\n",
              "        }\n",
              "      </script>\n",
              "    </div>\n",
              "  </div>\n",
              "  "
            ]
          },
          "metadata": {},
          "execution_count": 196
        }
      ]
    },
    {
      "cell_type": "markdown",
      "source": [
        "I will use Median"
      ],
      "metadata": {
        "id": "OrWh7mro48oC"
      }
    },
    {
      "cell_type": "code",
      "source": [
        "credit_info['Num_Credit_Inquiries'] = credit_info.groupby('Customer_ID')['Num_Credit_Inquiries'].transform('median')"
      ],
      "metadata": {
        "id": "0H7exw6Q4xem"
      },
      "execution_count": 197,
      "outputs": []
    },
    {
      "cell_type": "markdown",
      "source": [
        "Check if issues were fixed"
      ],
      "metadata": {
        "id": "Hfy-iG6S5OKq"
      }
    },
    {
      "cell_type": "code",
      "source": [
        "credit_info['Num_Credit_Inquiries'].describe()"
      ],
      "metadata": {
        "colab": {
          "base_uri": "https://localhost:8080/"
        },
        "id": "IHUrLQBH5Lnc",
        "outputId": "4a13b96e-6d01-46be-adbb-7b6182771e86"
      },
      "execution_count": 198,
      "outputs": [
        {
          "output_type": "execute_result",
          "data": {
            "text/plain": [
              "count    100000.000000\n",
              "mean          5.794600\n",
              "std           3.831618\n",
              "min           0.000000\n",
              "25%           3.000000\n",
              "50%           5.000000\n",
              "75%           8.500000\n",
              "max          17.000000\n",
              "Name: Num_Credit_Inquiries, dtype: float64"
            ]
          },
          "metadata": {},
          "execution_count": 198
        }
      ]
    },
    {
      "cell_type": "markdown",
      "source": [
        "All done with Num Credit Inquiries"
      ],
      "metadata": {
        "id": "rwO0EDpL5am4"
      }
    },
    {
      "cell_type": "markdown",
      "source": [
        "# Credit Mix"
      ],
      "metadata": {
        "id": "EyTjEfSL5jRC"
      }
    },
    {
      "cell_type": "code",
      "source": [
        "credit_info['Credit_Mix'].describe()"
      ],
      "metadata": {
        "colab": {
          "base_uri": "https://localhost:8080/"
        },
        "id": "pGzmuIa84xcC",
        "outputId": "8e8aaf76-6d51-4ba0-dc66-1793d21ae66d"
      },
      "execution_count": 199,
      "outputs": [
        {
          "output_type": "execute_result",
          "data": {
            "text/plain": [
              "count       100000\n",
              "unique           4\n",
              "top       Standard\n",
              "freq         36479\n",
              "Name: Credit_Mix, dtype: object"
            ]
          },
          "metadata": {},
          "execution_count": 199
        }
      ]
    },
    {
      "cell_type": "code",
      "source": [
        "credit_info['Credit_Mix'].unique()"
      ],
      "metadata": {
        "colab": {
          "base_uri": "https://localhost:8080/"
        },
        "id": "gM2IkBww4xZf",
        "outputId": "2ea69427-46fd-440a-9682-8f0381dae969"
      },
      "execution_count": 200,
      "outputs": [
        {
          "output_type": "execute_result",
          "data": {
            "text/plain": [
              "array(['_', 'Good', 'Standard', 'Bad'], dtype=object)"
            ]
          },
          "metadata": {},
          "execution_count": 200
        }
      ]
    },
    {
      "cell_type": "code",
      "source": [
        "credit_info['Credit_Mix'][credit_info['Credit_Mix'] == '_'].count()"
      ],
      "metadata": {
        "colab": {
          "base_uri": "https://localhost:8080/"
        },
        "id": "FxisfY9Y5qhl",
        "outputId": "91e4860e-3de4-46fb-da12-8bf207bffb0e"
      },
      "execution_count": 201,
      "outputs": [
        {
          "output_type": "execute_result",
          "data": {
            "text/plain": [
              "20195"
            ]
          },
          "metadata": {},
          "execution_count": 201
        }
      ]
    },
    {
      "cell_type": "markdown",
      "source": [
        "There a incorrect value '_'"
      ],
      "metadata": {
        "id": "6Ev3Hd6vEQB-"
      }
    },
    {
      "cell_type": "markdown",
      "source": [
        "I am going to change it to Na"
      ],
      "metadata": {
        "id": "115_JuRDEVRe"
      }
    },
    {
      "cell_type": "code",
      "source": [
        "for i in credit_info['Credit_Mix']:\n",
        "  if i == '_':\n",
        "    credit_info['Credit_Mix'] = credit_info['Credit_Mix'].replace(i, np.nan)"
      ],
      "metadata": {
        "id": "Y0eDinnpEKzE"
      },
      "execution_count": 202,
      "outputs": []
    },
    {
      "cell_type": "markdown",
      "source": [
        "Now I will replace it for the Mode"
      ],
      "metadata": {
        "id": "NfY8UrU7EvpV"
      }
    },
    {
      "cell_type": "code",
      "source": [
        "credit_info_test['Credit_Mix'] = credit_info_test.groupby('Customer_ID')['Credit_Mix'].transform(lambda x: x.fillna(stats.mode(x)[0][0]))"
      ],
      "metadata": {
        "id": "odxYWdyh-_M_"
      },
      "execution_count": 203,
      "outputs": []
    },
    {
      "cell_type": "code",
      "source": [
        "credit_info['Credit_Mix'].unique()"
      ],
      "metadata": {
        "colab": {
          "base_uri": "https://localhost:8080/"
        },
        "id": "935A2etFE2YZ",
        "outputId": "80554ba3-a325-4ce2-9609-eeeaf302bfb2"
      },
      "execution_count": 204,
      "outputs": [
        {
          "output_type": "execute_result",
          "data": {
            "text/plain": [
              "array(['Good', 'Standard', 'Bad'], dtype=object)"
            ]
          },
          "metadata": {},
          "execution_count": 204
        }
      ]
    },
    {
      "cell_type": "code",
      "source": [
        "credit_info['Credit_Mix'].isna().sum()"
      ],
      "metadata": {
        "colab": {
          "base_uri": "https://localhost:8080/"
        },
        "id": "0aNfLp3gE6AB",
        "outputId": "3a1620f2-6e66-49e0-9d53-90107427e41f"
      },
      "execution_count": 205,
      "outputs": [
        {
          "output_type": "execute_result",
          "data": {
            "text/plain": [
              "0"
            ]
          },
          "metadata": {},
          "execution_count": 205
        }
      ]
    },
    {
      "cell_type": "markdown",
      "source": [
        "All done with Credit Mix"
      ],
      "metadata": {
        "id": "gA3Y61i41M0z"
      }
    }
  ]
}