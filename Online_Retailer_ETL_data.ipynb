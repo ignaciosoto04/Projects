{
  "cells": [
    {
      "cell_type": "markdown",
      "source": [
        "# Scenario\n",
        "\n",
        "I work for an online reatailer that sells a wide variety of different items to consumers. Each sale through the online storefront is recorded in a database with various characteristics, including invoice number, product stock code, quantity purchased, sale price, description, etc. As part of my data science business project, my team has been tasked with creating models that can give the business more insights into its customers' behaviour, and even predict future purchasing decisions.\n",
        "\n",
        "Before I can do that, however, I need to go through the priliminary ETL process to make sure the data is in an acceptable state.\n"
      ],
      "metadata": {
        "id": "gLVuUDq-htwd"
      }
    },
    {
      "cell_type": "markdown",
      "metadata": {
        "id": "KmwRePMmhHxj"
      },
      "source": [
        "# Import software libraries"
      ]
    },
    {
      "cell_type": "code",
      "execution_count": null,
      "metadata": {
        "id": "b7XYDfdhhHxn",
        "outputId": "8226f953-b853-4701-f660-1f157516de60"
      },
      "outputs": [
        {
          "name": "stdout",
          "output_type": "stream",
          "text": [
            "Libraries used in this project:\n",
            "- Python 3.7.6 | packaged by conda-forge | (default, Mar 23 2020, 23:03:20) \n",
            "[GCC 7.3.0]\n",
            "- pandas 1.1.3\n",
            "- sqlite3 3.30.1\n"
          ]
        }
      ],
      "source": [
        "# Import required libraries.\n",
        "import sys           # Read system parameters.\n",
        "import pandas as pd  # Manipulate and analyze data.\n",
        "import sqlite3       # Manage SQL databases.\n",
        "\n",
        "# Summarize software libraries used.\n",
        "print('Libraries used in this project:')\n",
        "print('- Python {}'.format(sys.version))\n",
        "print('- pandas {}'.format(pd.__version__))\n",
        "print('- sqlite3 {}'.format(sqlite3.sqlite_version))"
      ]
    },
    {
      "cell_type": "markdown",
      "metadata": {
        "id": "NkeXEoaahHxs"
      },
      "source": [
        "# Examine the database"
      ]
    },
    {
      "cell_type": "code",
      "execution_count": null,
      "metadata": {
        "id": "yWcCY5C-hHxt",
        "outputId": "1868bcff-091c-47a9-eb80-f501ca7fb643"
      },
      "outputs": [
        {
          "data": {
            "text/plain": [
              "<sqlite3.Connection at 0x7f11fff0ec70>"
            ]
          },
          "execution_count": 12,
          "metadata": {},
          "output_type": "execute_result"
        }
      ],
      "source": [
        "# Connect to SQLite database.\n",
        "\n",
        "conn = sqlite3.connect('data/prod_sample.db')\n",
        "conn"
      ]
    },
    {
      "cell_type": "code",
      "execution_count": null,
      "metadata": {
        "id": "BnF8QX8GhHxu",
        "outputId": "6d635fbe-16a1-4639-d89c-05671d98e8ff"
      },
      "outputs": [
        {
          "name": "stdout",
          "output_type": "stream",
          "text": [
            "[('stock_description',), ('online_retail_history',)]\n"
          ]
        }
      ],
      "source": [
        "# List all the tables in the database.\n",
        "def sql_fetch(conn):\n",
        "\n",
        "    cursorObj = conn.cursor()\n",
        "\n",
        "    cursorObj.execute('SELECT name from sqlite_master where type= \"table\"')\n",
        "\n",
        "    print(cursorObj.fetchall())\n",
        "\n",
        "sql_fetch(conn)"
      ]
    },
    {
      "cell_type": "markdown",
      "metadata": {
        "id": "jYTi5UO9hHxv"
      },
      "source": [
        "# Read data from the `online_retail_history` table"
      ]
    },
    {
      "cell_type": "code",
      "execution_count": null,
      "metadata": {
        "id": "bjykTiYQhHxw",
        "outputId": "4e53c3c0-9238-4fea-d0a6-5769b46ec447"
      },
      "outputs": [
        {
          "data": {
            "text/html": [
              "<div>\n",
              "<style scoped>\n",
              "    .dataframe tbody tr th:only-of-type {\n",
              "        vertical-align: middle;\n",
              "    }\n",
              "\n",
              "    .dataframe tbody tr th {\n",
              "        vertical-align: top;\n",
              "    }\n",
              "\n",
              "    .dataframe thead th {\n",
              "        text-align: right;\n",
              "    }\n",
              "</style>\n",
              "<table border=\"1\" class=\"dataframe\">\n",
              "  <thead>\n",
              "    <tr style=\"text-align: right;\">\n",
              "      <th></th>\n",
              "      <th>Invoice</th>\n",
              "      <th>StockCode</th>\n",
              "      <th>Quantity</th>\n",
              "      <th>InvoiceDate</th>\n",
              "      <th>Price</th>\n",
              "      <th>CustomerID</th>\n",
              "      <th>Country</th>\n",
              "      <th>TotalAmount</th>\n",
              "    </tr>\n",
              "  </thead>\n",
              "  <tbody>\n",
              "    <tr>\n",
              "      <th>0</th>\n",
              "      <td>536365</td>\n",
              "      <td>85123A</td>\n",
              "      <td>6</td>\n",
              "      <td>2010-12-01 08:26:00</td>\n",
              "      <td>2.55</td>\n",
              "      <td>u1785</td>\n",
              "      <td>United Kingdom</td>\n",
              "      <td>15.30</td>\n",
              "    </tr>\n",
              "    <tr>\n",
              "      <th>1</th>\n",
              "      <td>536367</td>\n",
              "      <td>84879</td>\n",
              "      <td>32</td>\n",
              "      <td>2010-12-01 08:34:00</td>\n",
              "      <td>1.69</td>\n",
              "      <td>u13047</td>\n",
              "      <td>United Kingdom</td>\n",
              "      <td>54.08</td>\n",
              "    </tr>\n",
              "    <tr>\n",
              "      <th>2</th>\n",
              "      <td>536373</td>\n",
              "      <td>85123A</td>\n",
              "      <td>6</td>\n",
              "      <td>2010-12-01 09:02:00</td>\n",
              "      <td>2.55</td>\n",
              "      <td>u1785</td>\n",
              "      <td>United Kingdom</td>\n",
              "      <td>15.30</td>\n",
              "    </tr>\n",
              "    <tr>\n",
              "      <th>3</th>\n",
              "      <td>536375</td>\n",
              "      <td>85123A</td>\n",
              "      <td>6</td>\n",
              "      <td>2010-12-01 09:32:00</td>\n",
              "      <td>2.55</td>\n",
              "      <td>u1785</td>\n",
              "      <td>United Kingdom</td>\n",
              "      <td>15.30</td>\n",
              "    </tr>\n",
              "    <tr>\n",
              "      <th>4</th>\n",
              "      <td>536378</td>\n",
              "      <td>20725</td>\n",
              "      <td>10</td>\n",
              "      <td>2010-12-01 09:37:00</td>\n",
              "      <td>1.65</td>\n",
              "      <td>u14688</td>\n",
              "      <td>United Kingdom</td>\n",
              "      <td>16.50</td>\n",
              "    </tr>\n",
              "  </tbody>\n",
              "</table>\n",
              "</div>"
            ],
            "text/plain": [
              "  Invoice StockCode  Quantity          InvoiceDate  Price CustomerID  \\\n",
              "0  536365    85123A         6  2010-12-01 08:26:00   2.55      u1785   \n",
              "1  536367     84879        32  2010-12-01 08:34:00   1.69     u13047   \n",
              "2  536373    85123A         6  2010-12-01 09:02:00   2.55      u1785   \n",
              "3  536375    85123A         6  2010-12-01 09:32:00   2.55      u1785   \n",
              "4  536378     20725        10  2010-12-01 09:37:00   1.65     u14688   \n",
              "\n",
              "          Country  TotalAmount  \n",
              "0  United Kingdom        15.30  \n",
              "1  United Kingdom        54.08  \n",
              "2  United Kingdom        15.30  \n",
              "3  United Kingdom        15.30  \n",
              "4  United Kingdom        16.50  "
            ]
          },
          "execution_count": 32,
          "metadata": {},
          "output_type": "execute_result"
        }
      ],
      "source": [
        "# Select everything from the online_retail_history table.\n",
        "\n",
        "query = 'SELECT * FROM online_retail_history'\n",
        "\n",
        "# Use the read_sql function in pandas to read a query into a DataFrame.\n",
        "\n",
        "retail_table = pd.read_sql(query,conn)\n",
        "\n",
        "# Preview the first five rows of the data.\n",
        "\n",
        "retail_table.head()"
      ]
    },
    {
      "cell_type": "code",
      "execution_count": null,
      "metadata": {
        "id": "btrAWvrAhHxx",
        "outputId": "ca7ffda1-1b73-4f29-f341-091b718cf1f3"
      },
      "outputs": [
        {
          "data": {
            "text/plain": [
              "(15321, 8)"
            ]
          },
          "execution_count": 33,
          "metadata": {},
          "output_type": "execute_result"
        }
      ],
      "source": [
        "# Get the shape of the data.\n",
        "\n",
        "retail_table.shape"
      ]
    },
    {
      "cell_type": "markdown",
      "metadata": {
        "id": "VhBhl7YKhHxy"
      },
      "source": [
        "# Read data from the `stock_description` table"
      ]
    },
    {
      "cell_type": "code",
      "execution_count": null,
      "metadata": {
        "id": "VC-QnFTxhHxz",
        "outputId": "79b9f2b0-58e6-4d24-e684-cc5c933102e7"
      },
      "outputs": [
        {
          "data": {
            "text/html": [
              "<div>\n",
              "<style scoped>\n",
              "    .dataframe tbody tr th:only-of-type {\n",
              "        vertical-align: middle;\n",
              "    }\n",
              "\n",
              "    .dataframe tbody tr th {\n",
              "        vertical-align: top;\n",
              "    }\n",
              "\n",
              "    .dataframe thead th {\n",
              "        text-align: right;\n",
              "    }\n",
              "</style>\n",
              "<table border=\"1\" class=\"dataframe\">\n",
              "  <thead>\n",
              "    <tr style=\"text-align: right;\">\n",
              "      <th></th>\n",
              "      <th>StockCode</th>\n",
              "      <th>Description</th>\n",
              "    </tr>\n",
              "  </thead>\n",
              "  <tbody>\n",
              "    <tr>\n",
              "      <th>0</th>\n",
              "      <td>10002</td>\n",
              "      <td>INFLATABLE POLITICAL GLOBE</td>\n",
              "    </tr>\n",
              "    <tr>\n",
              "      <th>1</th>\n",
              "      <td>10080</td>\n",
              "      <td>GROOVY CACTUS INFLATABLE</td>\n",
              "    </tr>\n",
              "    <tr>\n",
              "      <th>2</th>\n",
              "      <td>10120</td>\n",
              "      <td>DOGGY RUBBER</td>\n",
              "    </tr>\n",
              "    <tr>\n",
              "      <th>3</th>\n",
              "      <td>10123C</td>\n",
              "      <td>HEARTS WRAPPING TAPE</td>\n",
              "    </tr>\n",
              "    <tr>\n",
              "      <th>4</th>\n",
              "      <td>10124A</td>\n",
              "      <td>SPOTS ON RED BOOKCOVER TAPE</td>\n",
              "    </tr>\n",
              "  </tbody>\n",
              "</table>\n",
              "</div>"
            ],
            "text/plain": [
              "  StockCode                  Description\n",
              "0     10002  INFLATABLE POLITICAL GLOBE \n",
              "1     10080     GROOVY CACTUS INFLATABLE\n",
              "2     10120                 DOGGY RUBBER\n",
              "3    10123C        HEARTS WRAPPING TAPE \n",
              "4    10124A  SPOTS ON RED BOOKCOVER TAPE"
            ]
          },
          "execution_count": 34,
          "metadata": {},
          "output_type": "execute_result"
        }
      ],
      "source": [
        "# Select everything from the stock_description table.\n",
        "\n",
        "query = 'SELECT * FROM stock_description'\n",
        "\n",
        "# Read a query into a DataFrame\n",
        "\n",
        "stock_table = pd.read_sql(query,conn)\n",
        "\n",
        "# First five rows of the data.\n",
        "\n",
        "stock_table.head()"
      ]
    },
    {
      "cell_type": "code",
      "execution_count": null,
      "metadata": {
        "id": "XXtKijGVhHx0",
        "outputId": "f267f05d-bb86-4508-9ffe-c36988152d26"
      },
      "outputs": [
        {
          "data": {
            "text/plain": [
              "(15321, 8)"
            ]
          },
          "execution_count": 29,
          "metadata": {},
          "output_type": "execute_result"
        }
      ],
      "source": [
        "# Get the shape of the data.\n",
        "\n",
        "stock_table.shape"
      ]
    },
    {
      "cell_type": "markdown",
      "metadata": {
        "id": "7TRmdqFlhHx1"
      },
      "source": [
        "# Aggregate the `online_retail_history` and `stock_description` datasets"
      ]
    },
    {
      "cell_type": "code",
      "execution_count": null,
      "metadata": {
        "id": "ntVflBwOhHx2",
        "outputId": "0f99fc31-b264-4f34-aa42-a0c1b1063fa9"
      },
      "outputs": [
        {
          "data": {
            "text/html": [
              "<div>\n",
              "<style scoped>\n",
              "    .dataframe tbody tr th:only-of-type {\n",
              "        vertical-align: middle;\n",
              "    }\n",
              "\n",
              "    .dataframe tbody tr th {\n",
              "        vertical-align: top;\n",
              "    }\n",
              "\n",
              "    .dataframe thead th {\n",
              "        text-align: right;\n",
              "    }\n",
              "</style>\n",
              "<table border=\"1\" class=\"dataframe\">\n",
              "  <thead>\n",
              "    <tr style=\"text-align: right;\">\n",
              "      <th></th>\n",
              "      <th>Invoice</th>\n",
              "      <th>StockCode</th>\n",
              "      <th>Quantity</th>\n",
              "      <th>InvoiceDate</th>\n",
              "      <th>Price</th>\n",
              "      <th>CustomerID</th>\n",
              "      <th>Country</th>\n",
              "      <th>TotalAmount</th>\n",
              "      <th>Description</th>\n",
              "    </tr>\n",
              "  </thead>\n",
              "  <tbody>\n",
              "    <tr>\n",
              "      <th>0</th>\n",
              "      <td>536365</td>\n",
              "      <td>85123A</td>\n",
              "      <td>6</td>\n",
              "      <td>2010-12-01 08:26:00</td>\n",
              "      <td>2.55</td>\n",
              "      <td>u1785</td>\n",
              "      <td>United Kingdom</td>\n",
              "      <td>15.30</td>\n",
              "      <td>CREAM HANGING HEART T-LIGHT HOLDER</td>\n",
              "    </tr>\n",
              "    <tr>\n",
              "      <th>1</th>\n",
              "      <td>536367</td>\n",
              "      <td>84879</td>\n",
              "      <td>32</td>\n",
              "      <td>2010-12-01 08:34:00</td>\n",
              "      <td>1.69</td>\n",
              "      <td>u13047</td>\n",
              "      <td>United Kingdom</td>\n",
              "      <td>54.08</td>\n",
              "      <td>ASSORTED COLOUR BIRD ORNAMENT</td>\n",
              "    </tr>\n",
              "    <tr>\n",
              "      <th>2</th>\n",
              "      <td>536373</td>\n",
              "      <td>85123A</td>\n",
              "      <td>6</td>\n",
              "      <td>2010-12-01 09:02:00</td>\n",
              "      <td>2.55</td>\n",
              "      <td>u1785</td>\n",
              "      <td>United Kingdom</td>\n",
              "      <td>15.30</td>\n",
              "      <td>CREAM HANGING HEART T-LIGHT HOLDER</td>\n",
              "    </tr>\n",
              "    <tr>\n",
              "      <th>3</th>\n",
              "      <td>536375</td>\n",
              "      <td>85123A</td>\n",
              "      <td>6</td>\n",
              "      <td>2010-12-01 09:32:00</td>\n",
              "      <td>2.55</td>\n",
              "      <td>u1785</td>\n",
              "      <td>United Kingdom</td>\n",
              "      <td>15.30</td>\n",
              "      <td>CREAM HANGING HEART T-LIGHT HOLDER</td>\n",
              "    </tr>\n",
              "    <tr>\n",
              "      <th>4</th>\n",
              "      <td>536378</td>\n",
              "      <td>20725</td>\n",
              "      <td>10</td>\n",
              "      <td>2010-12-01 09:37:00</td>\n",
              "      <td>1.65</td>\n",
              "      <td>u14688</td>\n",
              "      <td>United Kingdom</td>\n",
              "      <td>16.50</td>\n",
              "      <td>LUNCH BAG RED RETROSPOT</td>\n",
              "    </tr>\n",
              "  </tbody>\n",
              "</table>\n",
              "</div>"
            ],
            "text/plain": [
              "  Invoice StockCode  Quantity          InvoiceDate  Price CustomerID  \\\n",
              "0  536365    85123A         6  2010-12-01 08:26:00   2.55      u1785   \n",
              "1  536367     84879        32  2010-12-01 08:34:00   1.69     u13047   \n",
              "2  536373    85123A         6  2010-12-01 09:02:00   2.55      u1785   \n",
              "3  536375    85123A         6  2010-12-01 09:32:00   2.55      u1785   \n",
              "4  536378     20725        10  2010-12-01 09:37:00   1.65     u14688   \n",
              "\n",
              "          Country  TotalAmount                         Description  \n",
              "0  United Kingdom        15.30  CREAM HANGING HEART T-LIGHT HOLDER  \n",
              "1  United Kingdom        54.08       ASSORTED COLOUR BIRD ORNAMENT  \n",
              "2  United Kingdom        15.30  CREAM HANGING HEART T-LIGHT HOLDER  \n",
              "3  United Kingdom        15.30  CREAM HANGING HEART T-LIGHT HOLDER  \n",
              "4  United Kingdom        16.50             LUNCH BAG RED RETROSPOT  "
            ]
          },
          "execution_count": 48,
          "metadata": {},
          "output_type": "execute_result"
        }
      ],
      "source": [
        "# Query that aggregate the two datasets so that I have the stock descriptions as well as the stock code.\n",
        "\n",
        "query = ''' SELECT r.*, s.Description\n",
        "            FROM online_retail_history r\n",
        "                LEFT JOIN stock_description s\n",
        "                    ON r.StockCode = s.StockCode\n",
        "        '''\n",
        "\n",
        "# Read a query into a DataFrame.\n",
        "\n",
        "retail_agg = pd.read_sql(query, conn)\n",
        "\n",
        "# First five rows of the data.\n",
        "\n",
        "retail_agg.head()"
      ]
    },
    {
      "cell_type": "code",
      "execution_count": null,
      "metadata": {
        "id": "lTJejdD0hHx3",
        "outputId": "7f377054-e321-46d2-87c4-a85d87640653"
      },
      "outputs": [
        {
          "data": {
            "text/plain": [
              "(17032, 9)"
            ]
          },
          "execution_count": 49,
          "metadata": {},
          "output_type": "execute_result"
        }
      ],
      "source": [
        "# Get the shape of the data.\n",
        "\n",
        "retail_agg.shape"
      ]
    },
    {
      "cell_type": "markdown",
      "metadata": {
        "id": "mEqgDSpQhHx4"
      },
      "source": [
        "# Identify and fix corrupt or unusable data"
      ]
    },
    {
      "cell_type": "code",
      "execution_count": null,
      "metadata": {
        "id": "aj0KzGSRhHx5",
        "outputId": "b218e3f2-2629-4bba-b543-db56f2bae5c8"
      },
      "outputs": [
        {
          "data": {
            "text/plain": [
              "CREAM HANGING HEART T-LIGHT HOLDER    2174\n",
              "JUMBO BAG RED RETROSPOT               1960\n",
              "REGENCY CAKESTAND 3 TIER              1711\n",
              "?                                     1711\n",
              "PARTY BUNTING                         1615\n",
              "LUNCH BAG RED RETROSPOT               1421\n",
              "ASSORTED COLOUR BIRD ORNAMENT         1405\n",
              "POPCORN HOLDER                        1329\n",
              "LUNCH BAG  BLACK SKULL.               1271\n",
              "SET OF 3 CAKE TINS PANTRY DESIGN      1257\n",
              "PACK OF 72 RETROSPOT CAKE CASES       1178\n",
              "Name: Description, dtype: int64"
            ]
          },
          "execution_count": 50,
          "metadata": {},
          "output_type": "execute_result"
        }
      ],
      "source": [
        "# Check the value counts of the \"Description\" field.\n",
        "\n",
        "retail_agg.Description.value_counts()"
      ]
    },
    {
      "cell_type": "code",
      "execution_count": null,
      "metadata": {
        "id": "sre2MSdphHx6",
        "outputId": "750d4f02-588a-490b-f3c4-9e02169aee2e"
      },
      "outputs": [
        {
          "name": "stdout",
          "output_type": "stream",
          "text": [
            "(15321, 9)\n",
            "(15321, 8)\n"
          ]
        },
        {
          "data": {
            "text/html": [
              "<div>\n",
              "<style scoped>\n",
              "    .dataframe tbody tr th:only-of-type {\n",
              "        vertical-align: middle;\n",
              "    }\n",
              "\n",
              "    .dataframe tbody tr th {\n",
              "        vertical-align: top;\n",
              "    }\n",
              "\n",
              "    .dataframe thead th {\n",
              "        text-align: right;\n",
              "    }\n",
              "</style>\n",
              "<table border=\"1\" class=\"dataframe\">\n",
              "  <thead>\n",
              "    <tr style=\"text-align: right;\">\n",
              "      <th></th>\n",
              "      <th>Invoice</th>\n",
              "      <th>StockCode</th>\n",
              "      <th>Quantity</th>\n",
              "      <th>InvoiceDate</th>\n",
              "      <th>Price</th>\n",
              "      <th>CustomerID</th>\n",
              "      <th>Country</th>\n",
              "      <th>TotalAmount</th>\n",
              "      <th>Description</th>\n",
              "    </tr>\n",
              "  </thead>\n",
              "  <tbody>\n",
              "    <tr>\n",
              "      <th>0</th>\n",
              "      <td>536365</td>\n",
              "      <td>85123A</td>\n",
              "      <td>6</td>\n",
              "      <td>2010-12-01 08:26:00</td>\n",
              "      <td>2.55</td>\n",
              "      <td>u1785</td>\n",
              "      <td>United Kingdom</td>\n",
              "      <td>15.30</td>\n",
              "      <td>CREAM HANGING HEART T-LIGHT HOLDER</td>\n",
              "    </tr>\n",
              "    <tr>\n",
              "      <th>1</th>\n",
              "      <td>536367</td>\n",
              "      <td>84879</td>\n",
              "      <td>32</td>\n",
              "      <td>2010-12-01 08:34:00</td>\n",
              "      <td>1.69</td>\n",
              "      <td>u13047</td>\n",
              "      <td>United Kingdom</td>\n",
              "      <td>54.08</td>\n",
              "      <td>ASSORTED COLOUR BIRD ORNAMENT</td>\n",
              "    </tr>\n",
              "    <tr>\n",
              "      <th>2</th>\n",
              "      <td>536373</td>\n",
              "      <td>85123A</td>\n",
              "      <td>6</td>\n",
              "      <td>2010-12-01 09:02:00</td>\n",
              "      <td>2.55</td>\n",
              "      <td>u1785</td>\n",
              "      <td>United Kingdom</td>\n",
              "      <td>15.30</td>\n",
              "      <td>CREAM HANGING HEART T-LIGHT HOLDER</td>\n",
              "    </tr>\n",
              "    <tr>\n",
              "      <th>3</th>\n",
              "      <td>536375</td>\n",
              "      <td>85123A</td>\n",
              "      <td>6</td>\n",
              "      <td>2010-12-01 09:32:00</td>\n",
              "      <td>2.55</td>\n",
              "      <td>u1785</td>\n",
              "      <td>United Kingdom</td>\n",
              "      <td>15.30</td>\n",
              "      <td>CREAM HANGING HEART T-LIGHT HOLDER</td>\n",
              "    </tr>\n",
              "    <tr>\n",
              "      <th>4</th>\n",
              "      <td>536378</td>\n",
              "      <td>20725</td>\n",
              "      <td>10</td>\n",
              "      <td>2010-12-01 09:37:00</td>\n",
              "      <td>1.65</td>\n",
              "      <td>u14688</td>\n",
              "      <td>United Kingdom</td>\n",
              "      <td>16.50</td>\n",
              "      <td>LUNCH BAG RED RETROSPOT</td>\n",
              "    </tr>\n",
              "  </tbody>\n",
              "</table>\n",
              "</div>"
            ],
            "text/plain": [
              "  Invoice StockCode  Quantity          InvoiceDate  Price CustomerID  \\\n",
              "0  536365    85123A         6  2010-12-01 08:26:00   2.55      u1785   \n",
              "1  536367     84879        32  2010-12-01 08:34:00   1.69     u13047   \n",
              "2  536373    85123A         6  2010-12-01 09:02:00   2.55      u1785   \n",
              "3  536375    85123A         6  2010-12-01 09:32:00   2.55      u1785   \n",
              "4  536378     20725        10  2010-12-01 09:37:00   1.65     u14688   \n",
              "\n",
              "          Country  TotalAmount                         Description  \n",
              "0  United Kingdom        15.30  CREAM HANGING HEART T-LIGHT HOLDER  \n",
              "1  United Kingdom        54.08       ASSORTED COLOUR BIRD ORNAMENT  \n",
              "2  United Kingdom        15.30  CREAM HANGING HEART T-LIGHT HOLDER  \n",
              "3  United Kingdom        15.30  CREAM HANGING HEART T-LIGHT HOLDER  \n",
              "4  United Kingdom        16.50             LUNCH BAG RED RETROSPOT  "
            ]
          },
          "execution_count": 51,
          "metadata": {},
          "output_type": "execute_result"
        }
      ],
      "source": [
        "# Remove rows where \"Description\" is just a question mark (?).\n",
        "\n",
        "retail_cleaned = \\\n",
        "retail_agg[retail_agg.Description != '?']\n",
        "\n",
        "\n",
        "# First five rows of the data.\n",
        "print(retail_cleaned.shape)\n",
        "print(retail_table.shape)\n",
        "retail_cleaned.head()"
      ]
    },
    {
      "cell_type": "markdown",
      "metadata": {
        "id": "JieU83lwhHx7"
      },
      "source": [
        "# Identify and remove duplicates"
      ]
    },
    {
      "cell_type": "code",
      "execution_count": null,
      "metadata": {
        "id": "i9g7_975hHx8",
        "outputId": "1139559f-1382-498c-c0dd-f3e27b2c932a"
      },
      "outputs": [
        {
          "name": "stdout",
          "output_type": "stream",
          "text": [
            "Number of rows with duplcated data:  223\n"
          ]
        }
      ],
      "source": [
        "# Identify all duplicated data.\n",
        "\n",
        "duplicated_data = \\\n",
        "retail_cleaned[retail_cleaned.duplicated(keep = False)]\n",
        "\n",
        "print('Number of rows with duplcated data: ',\n",
        "     duplicated_data.shape[0])"
      ]
    },
    {
      "cell_type": "code",
      "execution_count": null,
      "metadata": {
        "id": "tL6mt-YMhHx-",
        "outputId": "26f63a1b-a7e9-4773-b573-28b8d80d4490"
      },
      "outputs": [
        {
          "data": {
            "text/html": [
              "<div>\n",
              "<style scoped>\n",
              "    .dataframe tbody tr th:only-of-type {\n",
              "        vertical-align: middle;\n",
              "    }\n",
              "\n",
              "    .dataframe tbody tr th {\n",
              "        vertical-align: top;\n",
              "    }\n",
              "\n",
              "    .dataframe thead th {\n",
              "        text-align: right;\n",
              "    }\n",
              "</style>\n",
              "<table border=\"1\" class=\"dataframe\">\n",
              "  <thead>\n",
              "    <tr style=\"text-align: right;\">\n",
              "      <th></th>\n",
              "      <th>Invoice</th>\n",
              "      <th>StockCode</th>\n",
              "      <th>Quantity</th>\n",
              "      <th>InvoiceDate</th>\n",
              "      <th>Price</th>\n",
              "      <th>CustomerID</th>\n",
              "      <th>Country</th>\n",
              "      <th>TotalAmount</th>\n",
              "      <th>Description</th>\n",
              "    </tr>\n",
              "  </thead>\n",
              "  <tbody>\n",
              "    <tr>\n",
              "      <th>176</th>\n",
              "      <td>536863</td>\n",
              "      <td>20727</td>\n",
              "      <td>1</td>\n",
              "      <td>2010-12-03 11:19:00</td>\n",
              "      <td>1.65</td>\n",
              "      <td>u17967</td>\n",
              "      <td>United Kingdom</td>\n",
              "      <td>1.65</td>\n",
              "      <td>LUNCH BAG  BLACK SKULL.</td>\n",
              "    </tr>\n",
              "    <tr>\n",
              "      <th>178</th>\n",
              "      <td>536863</td>\n",
              "      <td>20727</td>\n",
              "      <td>1</td>\n",
              "      <td>2010-12-03 11:19:00</td>\n",
              "      <td>1.65</td>\n",
              "      <td>u17967</td>\n",
              "      <td>United Kingdom</td>\n",
              "      <td>1.65</td>\n",
              "      <td>LUNCH BAG  BLACK SKULL.</td>\n",
              "    </tr>\n",
              "    <tr>\n",
              "      <th>496</th>\n",
              "      <td>537781</td>\n",
              "      <td>84879</td>\n",
              "      <td>8</td>\n",
              "      <td>2010-12-08 12:46:00</td>\n",
              "      <td>1.69</td>\n",
              "      <td>u17341</td>\n",
              "      <td>United Kingdom</td>\n",
              "      <td>13.52</td>\n",
              "      <td>ASSORTED COLOUR BIRD ORNAMENT</td>\n",
              "    </tr>\n",
              "    <tr>\n",
              "      <th>497</th>\n",
              "      <td>537781</td>\n",
              "      <td>84879</td>\n",
              "      <td>8</td>\n",
              "      <td>2010-12-08 12:46:00</td>\n",
              "      <td>1.69</td>\n",
              "      <td>u17341</td>\n",
              "      <td>United Kingdom</td>\n",
              "      <td>13.52</td>\n",
              "      <td>ASSORTED COLOUR BIRD ORNAMENT</td>\n",
              "    </tr>\n",
              "    <tr>\n",
              "      <th>569</th>\n",
              "      <td>537955</td>\n",
              "      <td>20725</td>\n",
              "      <td>1</td>\n",
              "      <td>2010-12-09 11:28:00</td>\n",
              "      <td>1.65</td>\n",
              "      <td>u16782</td>\n",
              "      <td>United Kingdom</td>\n",
              "      <td>1.65</td>\n",
              "      <td>LUNCH BAG RED RETROSPOT</td>\n",
              "    </tr>\n",
              "  </tbody>\n",
              "</table>\n",
              "</div>"
            ],
            "text/plain": [
              "    Invoice StockCode  Quantity          InvoiceDate  Price CustomerID  \\\n",
              "176  536863     20727         1  2010-12-03 11:19:00   1.65     u17967   \n",
              "178  536863     20727         1  2010-12-03 11:19:00   1.65     u17967   \n",
              "496  537781     84879         8  2010-12-08 12:46:00   1.69     u17341   \n",
              "497  537781     84879         8  2010-12-08 12:46:00   1.69     u17341   \n",
              "569  537955     20725         1  2010-12-09 11:28:00   1.65     u16782   \n",
              "\n",
              "            Country  TotalAmount                    Description  \n",
              "176  United Kingdom         1.65        LUNCH BAG  BLACK SKULL.  \n",
              "178  United Kingdom         1.65        LUNCH BAG  BLACK SKULL.  \n",
              "496  United Kingdom        13.52  ASSORTED COLOUR BIRD ORNAMENT  \n",
              "497  United Kingdom        13.52  ASSORTED COLOUR BIRD ORNAMENT  \n",
              "569  United Kingdom         1.65        LUNCH BAG RED RETROSPOT  "
            ]
          },
          "execution_count": 53,
          "metadata": {},
          "output_type": "execute_result"
        }
      ],
      "source": [
        "# Print the duplicated data.\n",
        "\n",
        "duplicated_data.head()"
      ]
    },
    {
      "cell_type": "code",
      "execution_count": null,
      "metadata": {
        "id": "mXMAWp7MhHx_",
        "outputId": "18f0dd6d-f798-4ffd-ad5e-0287f4e18715"
      },
      "outputs": [
        {
          "data": {
            "text/html": [
              "<div>\n",
              "<style scoped>\n",
              "    .dataframe tbody tr th:only-of-type {\n",
              "        vertical-align: middle;\n",
              "    }\n",
              "\n",
              "    .dataframe tbody tr th {\n",
              "        vertical-align: top;\n",
              "    }\n",
              "\n",
              "    .dataframe thead th {\n",
              "        text-align: right;\n",
              "    }\n",
              "</style>\n",
              "<table border=\"1\" class=\"dataframe\">\n",
              "  <thead>\n",
              "    <tr style=\"text-align: right;\">\n",
              "      <th></th>\n",
              "      <th>Invoice</th>\n",
              "      <th>StockCode</th>\n",
              "      <th>Quantity</th>\n",
              "      <th>InvoiceDate</th>\n",
              "      <th>Price</th>\n",
              "      <th>CustomerID</th>\n",
              "      <th>Country</th>\n",
              "      <th>TotalAmount</th>\n",
              "      <th>Description</th>\n",
              "    </tr>\n",
              "  </thead>\n",
              "  <tbody>\n",
              "    <tr>\n",
              "      <th>0</th>\n",
              "      <td>536365</td>\n",
              "      <td>85123A</td>\n",
              "      <td>6</td>\n",
              "      <td>2010-12-01 08:26:00</td>\n",
              "      <td>2.55</td>\n",
              "      <td>u1785</td>\n",
              "      <td>United Kingdom</td>\n",
              "      <td>15.30</td>\n",
              "      <td>CREAM HANGING HEART T-LIGHT HOLDER</td>\n",
              "    </tr>\n",
              "    <tr>\n",
              "      <th>1</th>\n",
              "      <td>536367</td>\n",
              "      <td>84879</td>\n",
              "      <td>32</td>\n",
              "      <td>2010-12-01 08:34:00</td>\n",
              "      <td>1.69</td>\n",
              "      <td>u13047</td>\n",
              "      <td>United Kingdom</td>\n",
              "      <td>54.08</td>\n",
              "      <td>ASSORTED COLOUR BIRD ORNAMENT</td>\n",
              "    </tr>\n",
              "    <tr>\n",
              "      <th>2</th>\n",
              "      <td>536373</td>\n",
              "      <td>85123A</td>\n",
              "      <td>6</td>\n",
              "      <td>2010-12-01 09:02:00</td>\n",
              "      <td>2.55</td>\n",
              "      <td>u1785</td>\n",
              "      <td>United Kingdom</td>\n",
              "      <td>15.30</td>\n",
              "      <td>CREAM HANGING HEART T-LIGHT HOLDER</td>\n",
              "    </tr>\n",
              "    <tr>\n",
              "      <th>3</th>\n",
              "      <td>536375</td>\n",
              "      <td>85123A</td>\n",
              "      <td>6</td>\n",
              "      <td>2010-12-01 09:32:00</td>\n",
              "      <td>2.55</td>\n",
              "      <td>u1785</td>\n",
              "      <td>United Kingdom</td>\n",
              "      <td>15.30</td>\n",
              "      <td>CREAM HANGING HEART T-LIGHT HOLDER</td>\n",
              "    </tr>\n",
              "    <tr>\n",
              "      <th>4</th>\n",
              "      <td>536378</td>\n",
              "      <td>20725</td>\n",
              "      <td>10</td>\n",
              "      <td>2010-12-01 09:37:00</td>\n",
              "      <td>1.65</td>\n",
              "      <td>u14688</td>\n",
              "      <td>United Kingdom</td>\n",
              "      <td>16.50</td>\n",
              "      <td>LUNCH BAG RED RETROSPOT</td>\n",
              "    </tr>\n",
              "  </tbody>\n",
              "</table>\n",
              "</div>"
            ],
            "text/plain": [
              "  Invoice StockCode  Quantity          InvoiceDate  Price CustomerID  \\\n",
              "0  536365    85123A         6  2010-12-01 08:26:00   2.55      u1785   \n",
              "1  536367     84879        32  2010-12-01 08:34:00   1.69     u13047   \n",
              "2  536373    85123A         6  2010-12-01 09:02:00   2.55      u1785   \n",
              "3  536375    85123A         6  2010-12-01 09:32:00   2.55      u1785   \n",
              "4  536378     20725        10  2010-12-01 09:37:00   1.65     u14688   \n",
              "\n",
              "          Country  TotalAmount                         Description  \n",
              "0  United Kingdom        15.30  CREAM HANGING HEART T-LIGHT HOLDER  \n",
              "1  United Kingdom        54.08       ASSORTED COLOUR BIRD ORNAMENT  \n",
              "2  United Kingdom        15.30  CREAM HANGING HEART T-LIGHT HOLDER  \n",
              "3  United Kingdom        15.30  CREAM HANGING HEART T-LIGHT HOLDER  \n",
              "4  United Kingdom        16.50             LUNCH BAG RED RETROSPOT  "
            ]
          },
          "execution_count": 56,
          "metadata": {},
          "output_type": "execute_result"
        }
      ],
      "source": [
        "# Remove the duplicated data.\n",
        "\n",
        "retail_cleaned_final = \\\n",
        "retail_cleaned[~retail_cleaned.duplicated()]\n",
        "\n",
        "# First five rows of the data.\n",
        "retail_cleaned_final.head()"
      ]
    },
    {
      "cell_type": "markdown",
      "metadata": {
        "id": "0CM8qHK6hHyA"
      },
      "source": [
        "# Correct date formats"
      ]
    },
    {
      "cell_type": "code",
      "execution_count": null,
      "metadata": {
        "id": "Zz5GIafVhHyB",
        "outputId": "99f14d16-ba53-4c66-f5db-daa6d470c673"
      },
      "outputs": [
        {
          "name": "stdout",
          "output_type": "stream",
          "text": [
            "<class 'pandas.core.frame.DataFrame'>\n",
            "Int64Index: 15206 entries, 0 to 17031\n",
            "Data columns (total 9 columns):\n",
            " #   Column       Non-Null Count  Dtype  \n",
            "---  ------       --------------  -----  \n",
            " 0   Invoice      15206 non-null  object \n",
            " 1   StockCode    15206 non-null  object \n",
            " 2   Quantity     15206 non-null  int64  \n",
            " 3   InvoiceDate  15206 non-null  object \n",
            " 4   Price        15194 non-null  float64\n",
            " 5   CustomerID   12435 non-null  object \n",
            " 6   Country      15206 non-null  object \n",
            " 7   TotalAmount  15194 non-null  float64\n",
            " 8   Description  15206 non-null  object \n",
            "dtypes: float64(2), int64(1), object(6)\n",
            "memory usage: 1.2+ MB\n"
          ]
        }
      ],
      "source": [
        "# Get the data types for every column in the DataFrame.\n",
        "\n",
        "retail_cleaned_final.info()"
      ]
    },
    {
      "cell_type": "code",
      "execution_count": null,
      "metadata": {
        "id": "Sc03ngVPhHyB"
      },
      "outputs": [],
      "source": [
        "# Convert \"InvoiceDate\" to a \"%Y-%m-%d\" datetime format.\n",
        "\n",
        "retail_cleaned_final_2 = retail_cleaned_final.copy()  # Work with a new object.\n",
        "\n",
        "retail_cleaned_final_2['InvoiceDate'] = \\\n",
        "pd.to_datetime(retail_cleaned_final_2['InvoiceDate'],\n",
        "               format = '%Y-%m-%d')"
      ]
    },
    {
      "cell_type": "code",
      "execution_count": null,
      "metadata": {
        "id": "uf0JhavthHyB",
        "outputId": "9ab31376-1162-46a6-e35e-3691a313865b"
      },
      "outputs": [
        {
          "name": "stdout",
          "output_type": "stream",
          "text": [
            "<class 'pandas.core.frame.DataFrame'>\n",
            "Int64Index: 15206 entries, 0 to 17031\n",
            "Data columns (total 9 columns):\n",
            " #   Column       Non-Null Count  Dtype         \n",
            "---  ------       --------------  -----         \n",
            " 0   Invoice      15206 non-null  object        \n",
            " 1   StockCode    15206 non-null  object        \n",
            " 2   Quantity     15206 non-null  int64         \n",
            " 3   InvoiceDate  15206 non-null  datetime64[ns]\n",
            " 4   Price        15194 non-null  float64       \n",
            " 5   CustomerID   12435 non-null  object        \n",
            " 6   Country      15206 non-null  object        \n",
            " 7   TotalAmount  15194 non-null  float64       \n",
            " 8   Description  15206 non-null  object        \n",
            "dtypes: datetime64[ns](1), float64(2), int64(1), object(5)\n",
            "memory usage: 1.2+ MB\n"
          ]
        }
      ],
      "source": [
        "# Get the data types for every column in the converted DataFrame.\n",
        "\n",
        "retail_cleaned_final_2.info()"
      ]
    },
    {
      "cell_type": "markdown",
      "metadata": {
        "id": "qFf7BsXHhHyC"
      },
      "source": [
        "# Examine the table before finishing"
      ]
    },
    {
      "cell_type": "code",
      "execution_count": null,
      "metadata": {
        "id": "e_Gdj4BOhHyC",
        "outputId": "0e4f2312-2287-4864-a86b-8d157018bccd"
      },
      "outputs": [
        {
          "data": {
            "text/html": [
              "<div>\n",
              "<style scoped>\n",
              "    .dataframe tbody tr th:only-of-type {\n",
              "        vertical-align: middle;\n",
              "    }\n",
              "\n",
              "    .dataframe tbody tr th {\n",
              "        vertical-align: top;\n",
              "    }\n",
              "\n",
              "    .dataframe thead th {\n",
              "        text-align: right;\n",
              "    }\n",
              "</style>\n",
              "<table border=\"1\" class=\"dataframe\">\n",
              "  <thead>\n",
              "    <tr style=\"text-align: right;\">\n",
              "      <th></th>\n",
              "      <th>Invoice</th>\n",
              "      <th>StockCode</th>\n",
              "      <th>Quantity</th>\n",
              "      <th>InvoiceDate</th>\n",
              "      <th>Price</th>\n",
              "      <th>CustomerID</th>\n",
              "      <th>Country</th>\n",
              "      <th>TotalAmount</th>\n",
              "      <th>Description</th>\n",
              "    </tr>\n",
              "  </thead>\n",
              "  <tbody>\n",
              "    <tr>\n",
              "      <th>0</th>\n",
              "      <td>536365</td>\n",
              "      <td>85123A</td>\n",
              "      <td>6</td>\n",
              "      <td>2010-12-01 08:26:00</td>\n",
              "      <td>2.55</td>\n",
              "      <td>u1785</td>\n",
              "      <td>United Kingdom</td>\n",
              "      <td>15.30</td>\n",
              "      <td>CREAM HANGING HEART T-LIGHT HOLDER</td>\n",
              "    </tr>\n",
              "    <tr>\n",
              "      <th>1</th>\n",
              "      <td>536367</td>\n",
              "      <td>84879</td>\n",
              "      <td>32</td>\n",
              "      <td>2010-12-01 08:34:00</td>\n",
              "      <td>1.69</td>\n",
              "      <td>u13047</td>\n",
              "      <td>United Kingdom</td>\n",
              "      <td>54.08</td>\n",
              "      <td>ASSORTED COLOUR BIRD ORNAMENT</td>\n",
              "    </tr>\n",
              "    <tr>\n",
              "      <th>2</th>\n",
              "      <td>536373</td>\n",
              "      <td>85123A</td>\n",
              "      <td>6</td>\n",
              "      <td>2010-12-01 09:02:00</td>\n",
              "      <td>2.55</td>\n",
              "      <td>u1785</td>\n",
              "      <td>United Kingdom</td>\n",
              "      <td>15.30</td>\n",
              "      <td>CREAM HANGING HEART T-LIGHT HOLDER</td>\n",
              "    </tr>\n",
              "    <tr>\n",
              "      <th>3</th>\n",
              "      <td>536375</td>\n",
              "      <td>85123A</td>\n",
              "      <td>6</td>\n",
              "      <td>2010-12-01 09:32:00</td>\n",
              "      <td>2.55</td>\n",
              "      <td>u1785</td>\n",
              "      <td>United Kingdom</td>\n",
              "      <td>15.30</td>\n",
              "      <td>CREAM HANGING HEART T-LIGHT HOLDER</td>\n",
              "    </tr>\n",
              "    <tr>\n",
              "      <th>4</th>\n",
              "      <td>536378</td>\n",
              "      <td>20725</td>\n",
              "      <td>10</td>\n",
              "      <td>2010-12-01 09:37:00</td>\n",
              "      <td>1.65</td>\n",
              "      <td>u14688</td>\n",
              "      <td>United Kingdom</td>\n",
              "      <td>16.50</td>\n",
              "      <td>LUNCH BAG RED RETROSPOT</td>\n",
              "    </tr>\n",
              "  </tbody>\n",
              "</table>\n",
              "</div>"
            ],
            "text/plain": [
              "  Invoice StockCode  Quantity         InvoiceDate  Price CustomerID  \\\n",
              "0  536365    85123A         6 2010-12-01 08:26:00   2.55      u1785   \n",
              "1  536367     84879        32 2010-12-01 08:34:00   1.69     u13047   \n",
              "2  536373    85123A         6 2010-12-01 09:02:00   2.55      u1785   \n",
              "3  536375    85123A         6 2010-12-01 09:32:00   2.55      u1785   \n",
              "4  536378     20725        10 2010-12-01 09:37:00   1.65     u14688   \n",
              "\n",
              "          Country  TotalAmount                         Description  \n",
              "0  United Kingdom        15.30  CREAM HANGING HEART T-LIGHT HOLDER  \n",
              "1  United Kingdom        54.08       ASSORTED COLOUR BIRD ORNAMENT  \n",
              "2  United Kingdom        15.30  CREAM HANGING HEART T-LIGHT HOLDER  \n",
              "3  United Kingdom        15.30  CREAM HANGING HEART T-LIGHT HOLDER  \n",
              "4  United Kingdom        16.50             LUNCH BAG RED RETROSPOT  "
            ]
          },
          "execution_count": 60,
          "metadata": {},
          "output_type": "execute_result"
        }
      ],
      "source": [
        "# Preview the first five rows of the data.\n",
        "\n",
        "retail_cleaned_final_2.head()"
      ]
    },
    {
      "cell_type": "markdown",
      "metadata": {
        "id": "OGodDourhHyC"
      },
      "source": [
        "# Load the dataset into a pickle file"
      ]
    },
    {
      "cell_type": "code",
      "execution_count": null,
      "metadata": {
        "id": "WDJtqNyuhHyD"
      },
      "outputs": [],
      "source": [
        "# Save the dataset as a pickle file named online_history_cleaned.pickle.\n",
        "\n",
        "retail_cleaned_final_2.to_pickle('retail_cleaned_final_2.pickle')"
      ]
    },
    {
      "cell_type": "code",
      "execution_count": null,
      "metadata": {
        "id": "n8hrtK4zhHyD"
      },
      "outputs": [],
      "source": [
        "# Close any connections to the database.\n",
        "\n",
        "conn.close()"
      ]
    }
  ],
  "metadata": {
    "kernelspec": {
      "display_name": "Python 3",
      "language": "python",
      "name": "python3"
    },
    "language_info": {
      "codemirror_mode": {
        "name": "ipython",
        "version": 3
      },
      "file_extension": ".py",
      "mimetype": "text/x-python",
      "name": "python",
      "nbconvert_exporter": "python",
      "pygments_lexer": "ipython3",
      "version": "3.7.6"
    },
    "colab": {
      "name": "Online Retailer: ETL data.ipynb",
      "provenance": [],
      "collapsed_sections": []
    }
  },
  "nbformat": 4,
  "nbformat_minor": 0
}